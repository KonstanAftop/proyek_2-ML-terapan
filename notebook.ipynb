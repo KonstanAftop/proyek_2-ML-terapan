{
 "cells": [
  {
   "cell_type": "code",
   "execution_count": 1,
   "id": "b79c9abc",
   "metadata": {},
   "outputs": [],
   "source": [
    "import pandas as pd\n",
    "import matplotlib.pyplot as plt\n",
    "import numpy as np\n",
    "from sklearn.metrics import mean_squared_error\n",
    "from sklearn.feature_extraction.text import TfidfVectorizer\n",
    "from sklearn.metrics.pairwise import cosine_similarity\n",
    "import tensorflow as tf\n",
    "# Reproducibility\n",
    "import random\n",
    "SEED = 42\n",
    "np.random.seed(SEED)\n",
    "random.seed(SEED)\n",
    "tf.random.set_seed(SEED)"
   ]
  },
  {
   "cell_type": "markdown",
   "id": "0cdbbfb8",
   "metadata": {},
   "source": [
    "# Data Understanding"
   ]
  },
  {
   "cell_type": "code",
   "execution_count": 2,
   "id": "6d2dda59",
   "metadata": {},
   "outputs": [],
   "source": [
    "df_ratings = pd.read_csv('dataset/ml-latest-small/ratings.csv')\n",
    "df_tags = pd.read_csv('dataset/ml-latest-small/tags.csv')\n",
    "df_movies = pd.read_csv('dataset/ml-latest-small/movies.csv')"
   ]
  },
  {
   "cell_type": "code",
   "execution_count": 3,
   "id": "ce2fc4b2",
   "metadata": {},
   "outputs": [
    {
     "data": {
      "text/html": [
       "<div>\n",
       "<style scoped>\n",
       "    .dataframe tbody tr th:only-of-type {\n",
       "        vertical-align: middle;\n",
       "    }\n",
       "\n",
       "    .dataframe tbody tr th {\n",
       "        vertical-align: top;\n",
       "    }\n",
       "\n",
       "    .dataframe thead th {\n",
       "        text-align: right;\n",
       "    }\n",
       "</style>\n",
       "<table border=\"1\" class=\"dataframe\">\n",
       "  <thead>\n",
       "    <tr style=\"text-align: right;\">\n",
       "      <th></th>\n",
       "      <th>userId</th>\n",
       "      <th>movieId</th>\n",
       "      <th>rating</th>\n",
       "      <th>timestamp</th>\n",
       "    </tr>\n",
       "  </thead>\n",
       "  <tbody>\n",
       "    <tr>\n",
       "      <th>0</th>\n",
       "      <td>1</td>\n",
       "      <td>1</td>\n",
       "      <td>4.0</td>\n",
       "      <td>964982703</td>\n",
       "    </tr>\n",
       "    <tr>\n",
       "      <th>1</th>\n",
       "      <td>1</td>\n",
       "      <td>3</td>\n",
       "      <td>4.0</td>\n",
       "      <td>964981247</td>\n",
       "    </tr>\n",
       "    <tr>\n",
       "      <th>2</th>\n",
       "      <td>1</td>\n",
       "      <td>6</td>\n",
       "      <td>4.0</td>\n",
       "      <td>964982224</td>\n",
       "    </tr>\n",
       "  </tbody>\n",
       "</table>\n",
       "</div>"
      ],
      "text/plain": [
       "   userId  movieId  rating  timestamp\n",
       "0       1        1     4.0  964982703\n",
       "1       1        3     4.0  964981247\n",
       "2       1        6     4.0  964982224"
      ]
     },
     "execution_count": 3,
     "metadata": {},
     "output_type": "execute_result"
    }
   ],
   "source": [
    "df_ratings.head(3)"
   ]
  },
  {
   "cell_type": "markdown",
   "id": "80b59fb7",
   "metadata": {},
   "source": [
    "Pada data ratings, terdapat 4 variabel :\n",
    "- userId : nomor unik user\n",
    "- movieId : nomor unik film\n",
    "- rating : rating yang diberikan user untuk film\n",
    "- timestamp :  merepresentasikan jumlah detik sejak tengah malam Waktu Universal Terkoordinasi (UTC) pada tanggal 1 Januari 1970."
   ]
  },
  {
   "cell_type": "code",
   "execution_count": 4,
   "id": "1f0864c2",
   "metadata": {},
   "outputs": [
    {
     "data": {
      "text/html": [
       "<div>\n",
       "<style scoped>\n",
       "    .dataframe tbody tr th:only-of-type {\n",
       "        vertical-align: middle;\n",
       "    }\n",
       "\n",
       "    .dataframe tbody tr th {\n",
       "        vertical-align: top;\n",
       "    }\n",
       "\n",
       "    .dataframe thead th {\n",
       "        text-align: right;\n",
       "    }\n",
       "</style>\n",
       "<table border=\"1\" class=\"dataframe\">\n",
       "  <thead>\n",
       "    <tr style=\"text-align: right;\">\n",
       "      <th></th>\n",
       "      <th>movieId</th>\n",
       "      <th>title</th>\n",
       "      <th>genres</th>\n",
       "    </tr>\n",
       "  </thead>\n",
       "  <tbody>\n",
       "    <tr>\n",
       "      <th>0</th>\n",
       "      <td>1</td>\n",
       "      <td>Toy Story (1995)</td>\n",
       "      <td>Adventure|Animation|Children|Comedy|Fantasy</td>\n",
       "    </tr>\n",
       "    <tr>\n",
       "      <th>1</th>\n",
       "      <td>2</td>\n",
       "      <td>Jumanji (1995)</td>\n",
       "      <td>Adventure|Children|Fantasy</td>\n",
       "    </tr>\n",
       "    <tr>\n",
       "      <th>2</th>\n",
       "      <td>3</td>\n",
       "      <td>Grumpier Old Men (1995)</td>\n",
       "      <td>Comedy|Romance</td>\n",
       "    </tr>\n",
       "  </tbody>\n",
       "</table>\n",
       "</div>"
      ],
      "text/plain": [
       "   movieId                    title  \\\n",
       "0        1         Toy Story (1995)   \n",
       "1        2           Jumanji (1995)   \n",
       "2        3  Grumpier Old Men (1995)   \n",
       "\n",
       "                                        genres  \n",
       "0  Adventure|Animation|Children|Comedy|Fantasy  \n",
       "1                   Adventure|Children|Fantasy  \n",
       "2                               Comedy|Romance  "
      ]
     },
     "execution_count": 4,
     "metadata": {},
     "output_type": "execute_result"
    }
   ],
   "source": [
    "df_movies.head(3)"
   ]
  },
  {
   "cell_type": "markdown",
   "id": "c1f7e536",
   "metadata": {},
   "source": [
    "Pada data movies, terdapat 3 variabel :\n",
    "- movieId : nomor unik film\n",
    "- title : judul film dengan nomor unik movieId\n",
    "- genres : genre dari film"
   ]
  },
  {
   "cell_type": "code",
   "execution_count": 5,
   "id": "58a6f4f1",
   "metadata": {},
   "outputs": [
    {
     "data": {
      "text/html": [
       "<div>\n",
       "<style scoped>\n",
       "    .dataframe tbody tr th:only-of-type {\n",
       "        vertical-align: middle;\n",
       "    }\n",
       "\n",
       "    .dataframe tbody tr th {\n",
       "        vertical-align: top;\n",
       "    }\n",
       "\n",
       "    .dataframe thead th {\n",
       "        text-align: right;\n",
       "    }\n",
       "</style>\n",
       "<table border=\"1\" class=\"dataframe\">\n",
       "  <thead>\n",
       "    <tr style=\"text-align: right;\">\n",
       "      <th></th>\n",
       "      <th>userId</th>\n",
       "      <th>movieId</th>\n",
       "      <th>tag</th>\n",
       "      <th>timestamp</th>\n",
       "    </tr>\n",
       "  </thead>\n",
       "  <tbody>\n",
       "    <tr>\n",
       "      <th>0</th>\n",
       "      <td>2</td>\n",
       "      <td>60756</td>\n",
       "      <td>funny</td>\n",
       "      <td>1445714994</td>\n",
       "    </tr>\n",
       "    <tr>\n",
       "      <th>1</th>\n",
       "      <td>2</td>\n",
       "      <td>60756</td>\n",
       "      <td>Highly quotable</td>\n",
       "      <td>1445714996</td>\n",
       "    </tr>\n",
       "    <tr>\n",
       "      <th>2</th>\n",
       "      <td>2</td>\n",
       "      <td>60756</td>\n",
       "      <td>will ferrell</td>\n",
       "      <td>1445714992</td>\n",
       "    </tr>\n",
       "  </tbody>\n",
       "</table>\n",
       "</div>"
      ],
      "text/plain": [
       "   userId  movieId              tag   timestamp\n",
       "0       2    60756            funny  1445714994\n",
       "1       2    60756  Highly quotable  1445714996\n",
       "2       2    60756     will ferrell  1445714992"
      ]
     },
     "execution_count": 5,
     "metadata": {},
     "output_type": "execute_result"
    }
   ],
   "source": [
    "df_tags.head(3)"
   ]
  },
  {
   "cell_type": "markdown",
   "id": "73a0c4c6",
   "metadata": {},
   "source": [
    "Pada data tags, terdapat 4 variabel :\n",
    "- userId : nomor unik user\n",
    "- movieId : nomor unik film\n",
    "- tag : tag yang diberikan user untuk film\n",
    "- timestamp : merepresentasikan jumlah detik sejak tengah malam Waktu Universal Terkoordinasi (UTC) pada tanggal 1 Januari 1970."
   ]
  },
  {
   "cell_type": "code",
   "execution_count": 6,
   "id": "55de8ad1",
   "metadata": {},
   "outputs": [
    {
     "name": "stdout",
     "output_type": "stream",
     "text": [
      "Banyak data ratings film yang dimiliki : 100836\n",
      "Banyak data film film yang dimiliki : 9742\n",
      "Banyak data tags film yang dimiliki : 3683\n"
     ]
    }
   ],
   "source": [
    "# Banyak Data\n",
    "print(f'Banyak data ratings film yang dimiliki : {len(df_ratings)}')\n",
    "print(f'Banyak data film film yang dimiliki : {len(df_movies)}')\n",
    "print(f'Banyak data tags film yang dimiliki : {len(df_tags)}')"
   ]
  },
  {
   "cell_type": "markdown",
   "id": "710c6f8b",
   "metadata": {},
   "source": [
    "# Exploratory Data Analysis"
   ]
  },
  {
   "cell_type": "code",
   "execution_count": 7,
   "id": "c054ad60",
   "metadata": {},
   "outputs": [
    {
     "name": "stdout",
     "output_type": "stream",
     "text": [
      "<class 'pandas.core.frame.DataFrame'>\n",
      "RangeIndex: 3683 entries, 0 to 3682\n",
      "Data columns (total 4 columns):\n",
      " #   Column     Non-Null Count  Dtype \n",
      "---  ------     --------------  ----- \n",
      " 0   userId     3683 non-null   int64 \n",
      " 1   movieId    3683 non-null   int64 \n",
      " 2   tag        3683 non-null   object\n",
      " 3   timestamp  3683 non-null   int64 \n",
      "dtypes: int64(3), object(1)\n",
      "memory usage: 115.2+ KB\n"
     ]
    }
   ],
   "source": [
    "df_tags.info()"
   ]
  },
  {
   "cell_type": "code",
   "execution_count": 8,
   "id": "3808372b",
   "metadata": {},
   "outputs": [
    {
     "data": {
      "text/plain": [
       "userId       0\n",
       "movieId      0\n",
       "tag          0\n",
       "timestamp    0\n",
       "dtype: int64"
      ]
     },
     "execution_count": 8,
     "metadata": {},
     "output_type": "execute_result"
    }
   ],
   "source": [
    "df_tags.isnull().sum()"
   ]
  },
  {
   "cell_type": "code",
   "execution_count": 9,
   "id": "9efbc0a6",
   "metadata": {},
   "outputs": [
    {
     "data": {
      "text/html": [
       "<div>\n",
       "<style scoped>\n",
       "    .dataframe tbody tr th:only-of-type {\n",
       "        vertical-align: middle;\n",
       "    }\n",
       "\n",
       "    .dataframe tbody tr th {\n",
       "        vertical-align: top;\n",
       "    }\n",
       "\n",
       "    .dataframe thead th {\n",
       "        text-align: right;\n",
       "    }\n",
       "</style>\n",
       "<table border=\"1\" class=\"dataframe\">\n",
       "  <thead>\n",
       "    <tr style=\"text-align: right;\">\n",
       "      <th></th>\n",
       "      <th>userId</th>\n",
       "      <th>movieId</th>\n",
       "      <th>tag</th>\n",
       "      <th>timestamp</th>\n",
       "    </tr>\n",
       "  </thead>\n",
       "  <tbody>\n",
       "    <tr>\n",
       "      <th>0</th>\n",
       "      <td>2</td>\n",
       "      <td>60756</td>\n",
       "      <td>funny</td>\n",
       "      <td>1445714994</td>\n",
       "    </tr>\n",
       "    <tr>\n",
       "      <th>1</th>\n",
       "      <td>2</td>\n",
       "      <td>60756</td>\n",
       "      <td>Highly quotable</td>\n",
       "      <td>1445714996</td>\n",
       "    </tr>\n",
       "    <tr>\n",
       "      <th>2</th>\n",
       "      <td>2</td>\n",
       "      <td>60756</td>\n",
       "      <td>will ferrell</td>\n",
       "      <td>1445714992</td>\n",
       "    </tr>\n",
       "    <tr>\n",
       "      <th>3</th>\n",
       "      <td>2</td>\n",
       "      <td>89774</td>\n",
       "      <td>Boxing story</td>\n",
       "      <td>1445715207</td>\n",
       "    </tr>\n",
       "    <tr>\n",
       "      <th>4</th>\n",
       "      <td>2</td>\n",
       "      <td>89774</td>\n",
       "      <td>MMA</td>\n",
       "      <td>1445715200</td>\n",
       "    </tr>\n",
       "    <tr>\n",
       "      <th>...</th>\n",
       "      <td>...</td>\n",
       "      <td>...</td>\n",
       "      <td>...</td>\n",
       "      <td>...</td>\n",
       "    </tr>\n",
       "    <tr>\n",
       "      <th>3669</th>\n",
       "      <td>599</td>\n",
       "      <td>2959</td>\n",
       "      <td>twist ending</td>\n",
       "      <td>1498456888</td>\n",
       "    </tr>\n",
       "    <tr>\n",
       "      <th>3670</th>\n",
       "      <td>599</td>\n",
       "      <td>2959</td>\n",
       "      <td>violence</td>\n",
       "      <td>1498456904</td>\n",
       "    </tr>\n",
       "    <tr>\n",
       "      <th>3671</th>\n",
       "      <td>599</td>\n",
       "      <td>2959</td>\n",
       "      <td>violent</td>\n",
       "      <td>1498456914</td>\n",
       "    </tr>\n",
       "    <tr>\n",
       "      <th>3680</th>\n",
       "      <td>610</td>\n",
       "      <td>3265</td>\n",
       "      <td>gun fu</td>\n",
       "      <td>1493843984</td>\n",
       "    </tr>\n",
       "    <tr>\n",
       "      <th>3681</th>\n",
       "      <td>610</td>\n",
       "      <td>3265</td>\n",
       "      <td>heroic bloodshed</td>\n",
       "      <td>1493843978</td>\n",
       "    </tr>\n",
       "  </tbody>\n",
       "</table>\n",
       "<p>2510 rows × 4 columns</p>\n",
       "</div>"
      ],
      "text/plain": [
       "      userId  movieId               tag   timestamp\n",
       "0          2    60756             funny  1445714994\n",
       "1          2    60756   Highly quotable  1445714996\n",
       "2          2    60756      will ferrell  1445714992\n",
       "3          2    89774      Boxing story  1445715207\n",
       "4          2    89774               MMA  1445715200\n",
       "...      ...      ...               ...         ...\n",
       "3669     599     2959      twist ending  1498456888\n",
       "3670     599     2959          violence  1498456904\n",
       "3671     599     2959           violent  1498456914\n",
       "3680     610     3265            gun fu  1493843984\n",
       "3681     610     3265  heroic bloodshed  1493843978\n",
       "\n",
       "[2510 rows x 4 columns]"
      ]
     },
     "execution_count": 9,
     "metadata": {},
     "output_type": "execute_result"
    }
   ],
   "source": [
    "df_tags[df_tags.duplicated(subset=['userId','movieId'], keep=False)]"
   ]
  },
  {
   "cell_type": "markdown",
   "id": "cc6e22b6",
   "metadata": {},
   "source": [
    "Pada data tags, terdapat tag yang terpisah untuk userId dan movieId yang sama."
   ]
  },
  {
   "cell_type": "code",
   "execution_count": 10,
   "id": "b5c98940",
   "metadata": {},
   "outputs": [
    {
     "name": "stdout",
     "output_type": "stream",
     "text": [
      "<class 'pandas.core.frame.DataFrame'>\n",
      "RangeIndex: 9742 entries, 0 to 9741\n",
      "Data columns (total 3 columns):\n",
      " #   Column   Non-Null Count  Dtype \n",
      "---  ------   --------------  ----- \n",
      " 0   movieId  9742 non-null   int64 \n",
      " 1   title    9742 non-null   object\n",
      " 2   genres   9742 non-null   object\n",
      "dtypes: int64(1), object(2)\n",
      "memory usage: 228.5+ KB\n"
     ]
    }
   ],
   "source": [
    "df_movies.info()"
   ]
  },
  {
   "cell_type": "code",
   "execution_count": 11,
   "id": "c041e3a4",
   "metadata": {},
   "outputs": [
    {
     "data": {
      "text/plain": [
       "movieId    0\n",
       "title      0\n",
       "genres     0\n",
       "dtype: int64"
      ]
     },
     "execution_count": 11,
     "metadata": {},
     "output_type": "execute_result"
    }
   ],
   "source": [
    "df_movies.isnull().sum()"
   ]
  },
  {
   "cell_type": "code",
   "execution_count": 12,
   "id": "035bfad6",
   "metadata": {},
   "outputs": [
    {
     "data": {
      "text/html": [
       "<div>\n",
       "<style scoped>\n",
       "    .dataframe tbody tr th:only-of-type {\n",
       "        vertical-align: middle;\n",
       "    }\n",
       "\n",
       "    .dataframe tbody tr th {\n",
       "        vertical-align: top;\n",
       "    }\n",
       "\n",
       "    .dataframe thead th {\n",
       "        text-align: right;\n",
       "    }\n",
       "</style>\n",
       "<table border=\"1\" class=\"dataframe\">\n",
       "  <thead>\n",
       "    <tr style=\"text-align: right;\">\n",
       "      <th></th>\n",
       "      <th>movieId</th>\n",
       "      <th>title</th>\n",
       "      <th>genres</th>\n",
       "    </tr>\n",
       "  </thead>\n",
       "  <tbody>\n",
       "    <tr>\n",
       "      <th>650</th>\n",
       "      <td>838</td>\n",
       "      <td>Emma (1996)</td>\n",
       "      <td>Comedy|Drama|Romance</td>\n",
       "    </tr>\n",
       "    <tr>\n",
       "      <th>2141</th>\n",
       "      <td>2851</td>\n",
       "      <td>Saturn 3 (1980)</td>\n",
       "      <td>Adventure|Sci-Fi|Thriller</td>\n",
       "    </tr>\n",
       "    <tr>\n",
       "      <th>4169</th>\n",
       "      <td>6003</td>\n",
       "      <td>Confessions of a Dangerous Mind (2002)</td>\n",
       "      <td>Comedy|Crime|Drama|Thriller</td>\n",
       "    </tr>\n",
       "    <tr>\n",
       "      <th>5601</th>\n",
       "      <td>26958</td>\n",
       "      <td>Emma (1996)</td>\n",
       "      <td>Romance</td>\n",
       "    </tr>\n",
       "    <tr>\n",
       "      <th>5854</th>\n",
       "      <td>32600</td>\n",
       "      <td>Eros (2004)</td>\n",
       "      <td>Drama</td>\n",
       "    </tr>\n",
       "    <tr>\n",
       "      <th>5931</th>\n",
       "      <td>34048</td>\n",
       "      <td>War of the Worlds (2005)</td>\n",
       "      <td>Action|Adventure|Sci-Fi|Thriller</td>\n",
       "    </tr>\n",
       "    <tr>\n",
       "      <th>6932</th>\n",
       "      <td>64997</td>\n",
       "      <td>War of the Worlds (2005)</td>\n",
       "      <td>Action|Sci-Fi</td>\n",
       "    </tr>\n",
       "    <tr>\n",
       "      <th>9106</th>\n",
       "      <td>144606</td>\n",
       "      <td>Confessions of a Dangerous Mind (2002)</td>\n",
       "      <td>Comedy|Crime|Drama|Romance|Thriller</td>\n",
       "    </tr>\n",
       "    <tr>\n",
       "      <th>9135</th>\n",
       "      <td>147002</td>\n",
       "      <td>Eros (2004)</td>\n",
       "      <td>Drama|Romance</td>\n",
       "    </tr>\n",
       "    <tr>\n",
       "      <th>9468</th>\n",
       "      <td>168358</td>\n",
       "      <td>Saturn 3 (1980)</td>\n",
       "      <td>Sci-Fi|Thriller</td>\n",
       "    </tr>\n",
       "  </tbody>\n",
       "</table>\n",
       "</div>"
      ],
      "text/plain": [
       "      movieId                                   title  \\\n",
       "650       838                             Emma (1996)   \n",
       "2141     2851                         Saturn 3 (1980)   \n",
       "4169     6003  Confessions of a Dangerous Mind (2002)   \n",
       "5601    26958                             Emma (1996)   \n",
       "5854    32600                             Eros (2004)   \n",
       "5931    34048                War of the Worlds (2005)   \n",
       "6932    64997                War of the Worlds (2005)   \n",
       "9106   144606  Confessions of a Dangerous Mind (2002)   \n",
       "9135   147002                             Eros (2004)   \n",
       "9468   168358                         Saturn 3 (1980)   \n",
       "\n",
       "                                   genres  \n",
       "650                  Comedy|Drama|Romance  \n",
       "2141            Adventure|Sci-Fi|Thriller  \n",
       "4169          Comedy|Crime|Drama|Thriller  \n",
       "5601                              Romance  \n",
       "5854                                Drama  \n",
       "5931     Action|Adventure|Sci-Fi|Thriller  \n",
       "6932                        Action|Sci-Fi  \n",
       "9106  Comedy|Crime|Drama|Romance|Thriller  \n",
       "9135                        Drama|Romance  \n",
       "9468                      Sci-Fi|Thriller  "
      ]
     },
     "execution_count": 12,
     "metadata": {},
     "output_type": "execute_result"
    }
   ],
   "source": [
    "df_movies[df_movies.duplicated(subset=['title'], keep=False)]"
   ]
  },
  {
   "cell_type": "markdown",
   "id": "3fc920bf",
   "metadata": {},
   "source": [
    "Pada data movies, terdapat film yang ditandai dengan nomor unik yang berbeda."
   ]
  },
  {
   "cell_type": "code",
   "execution_count": 13,
   "id": "edc816ec",
   "metadata": {},
   "outputs": [
    {
     "name": "stdout",
     "output_type": "stream",
     "text": [
      "Banyaknya film yang tersedia : 9737\n"
     ]
    }
   ],
   "source": [
    "print(f'Banyaknya film yang tersedia : {df_movies.title.nunique()}')"
   ]
  },
  {
   "cell_type": "code",
   "execution_count": 14,
   "id": "36ad04ed",
   "metadata": {},
   "outputs": [
    {
     "name": "stdout",
     "output_type": "stream",
     "text": [
      "<class 'pandas.core.frame.DataFrame'>\n",
      "RangeIndex: 100836 entries, 0 to 100835\n",
      "Data columns (total 4 columns):\n",
      " #   Column     Non-Null Count   Dtype  \n",
      "---  ------     --------------   -----  \n",
      " 0   userId     100836 non-null  int64  \n",
      " 1   movieId    100836 non-null  int64  \n",
      " 2   rating     100836 non-null  float64\n",
      " 3   timestamp  100836 non-null  int64  \n",
      "dtypes: float64(1), int64(3)\n",
      "memory usage: 3.1 MB\n"
     ]
    }
   ],
   "source": [
    "df_ratings.info()"
   ]
  },
  {
   "cell_type": "code",
   "execution_count": 15,
   "id": "60f792ec",
   "metadata": {},
   "outputs": [
    {
     "data": {
      "text/plain": [
       "userId       0\n",
       "movieId      0\n",
       "rating       0\n",
       "timestamp    0\n",
       "dtype: int64"
      ]
     },
     "execution_count": 15,
     "metadata": {},
     "output_type": "execute_result"
    }
   ],
   "source": [
    "df_ratings.isnull().sum()"
   ]
  },
  {
   "cell_type": "code",
   "execution_count": 16,
   "id": "358a86a8",
   "metadata": {},
   "outputs": [
    {
     "data": {
      "text/html": [
       "<div>\n",
       "<style scoped>\n",
       "    .dataframe tbody tr th:only-of-type {\n",
       "        vertical-align: middle;\n",
       "    }\n",
       "\n",
       "    .dataframe tbody tr th {\n",
       "        vertical-align: top;\n",
       "    }\n",
       "\n",
       "    .dataframe thead th {\n",
       "        text-align: right;\n",
       "    }\n",
       "</style>\n",
       "<table border=\"1\" class=\"dataframe\">\n",
       "  <thead>\n",
       "    <tr style=\"text-align: right;\">\n",
       "      <th></th>\n",
       "      <th>userId</th>\n",
       "      <th>movieId</th>\n",
       "      <th>rating</th>\n",
       "      <th>timestamp</th>\n",
       "    </tr>\n",
       "  </thead>\n",
       "  <tbody>\n",
       "  </tbody>\n",
       "</table>\n",
       "</div>"
      ],
      "text/plain": [
       "Empty DataFrame\n",
       "Columns: [userId, movieId, rating, timestamp]\n",
       "Index: []"
      ]
     },
     "execution_count": 16,
     "metadata": {},
     "output_type": "execute_result"
    }
   ],
   "source": [
    "df_ratings[df_ratings.duplicated(subset=['userId', 'movieId'], keep=False)]"
   ]
  },
  {
   "cell_type": "markdown",
   "id": "655bd572",
   "metadata": {},
   "source": [
    "Tidak terdapat data missing pada ketiga dataframe. Namun terdapat beberapa nilai yang duplikat."
   ]
  },
  {
   "cell_type": "markdown",
   "id": "83a436ba",
   "metadata": {},
   "source": [
    "# Data Preparation"
   ]
  },
  {
   "cell_type": "code",
   "execution_count": null,
   "id": "4cb9b927",
   "metadata": {},
   "outputs": [],
   "source": [
    "# Membuang fitur yang tidak relevan/tidak digunakan\n",
    "df_ratings = df_ratings.drop(columns='timestamp')\n",
    "df_tags = df_tags.drop(columns='timestamp')"
   ]
  },
  {
   "cell_type": "markdown",
   "id": "c95623f5",
   "metadata": {},
   "source": [
    "Berdasarkan permasalahan yang kita temukan di EDA, terdapat duplikasi tag pada userId dan movieId yang sama. Maka, kita perlu menggabungkannya."
   ]
  },
  {
   "cell_type": "code",
   "execution_count": 18,
   "id": "107497b2",
   "metadata": {},
   "outputs": [],
   "source": [
    "df_tags_cleaned = df_tags.groupby(['movieId','userId']).agg({\n",
    "    'tag' : lambda x: ' '.join(set(x))\n",
    "}).reset_index()"
   ]
  },
  {
   "cell_type": "code",
   "execution_count": 19,
   "id": "2bbcae51",
   "metadata": {},
   "outputs": [
    {
     "data": {
      "text/html": [
       "<div>\n",
       "<style scoped>\n",
       "    .dataframe tbody tr th:only-of-type {\n",
       "        vertical-align: middle;\n",
       "    }\n",
       "\n",
       "    .dataframe tbody tr th {\n",
       "        vertical-align: top;\n",
       "    }\n",
       "\n",
       "    .dataframe thead th {\n",
       "        text-align: right;\n",
       "    }\n",
       "</style>\n",
       "<table border=\"1\" class=\"dataframe\">\n",
       "  <thead>\n",
       "    <tr style=\"text-align: right;\">\n",
       "      <th></th>\n",
       "      <th>movieId</th>\n",
       "      <th>userId</th>\n",
       "      <th>tag</th>\n",
       "    </tr>\n",
       "  </thead>\n",
       "  <tbody>\n",
       "    <tr>\n",
       "      <th>0</th>\n",
       "      <td>1</td>\n",
       "      <td>336</td>\n",
       "      <td>pixar</td>\n",
       "    </tr>\n",
       "    <tr>\n",
       "      <th>1</th>\n",
       "      <td>1</td>\n",
       "      <td>474</td>\n",
       "      <td>pixar</td>\n",
       "    </tr>\n",
       "    <tr>\n",
       "      <th>2</th>\n",
       "      <td>1</td>\n",
       "      <td>567</td>\n",
       "      <td>fun</td>\n",
       "    </tr>\n",
       "    <tr>\n",
       "      <th>3</th>\n",
       "      <td>2</td>\n",
       "      <td>62</td>\n",
       "      <td>magic board game fantasy Robin Williams</td>\n",
       "    </tr>\n",
       "    <tr>\n",
       "      <th>4</th>\n",
       "      <td>2</td>\n",
       "      <td>474</td>\n",
       "      <td>game</td>\n",
       "    </tr>\n",
       "  </tbody>\n",
       "</table>\n",
       "</div>"
      ],
      "text/plain": [
       "   movieId  userId                                      tag\n",
       "0        1     336                                    pixar\n",
       "1        1     474                                    pixar\n",
       "2        1     567                                      fun\n",
       "3        2      62  magic board game fantasy Robin Williams\n",
       "4        2     474                                     game"
      ]
     },
     "execution_count": 19,
     "metadata": {},
     "output_type": "execute_result"
    }
   ],
   "source": [
    "df_tags_cleaned.head(5)"
   ]
  },
  {
   "cell_type": "markdown",
   "id": "e3961ba6",
   "metadata": {},
   "source": [
    "Kemudian, kita atasi masalah movie dengan nomor unik yang berbeda."
   ]
  },
  {
   "cell_type": "code",
   "execution_count": 20,
   "id": "5b992ae9",
   "metadata": {},
   "outputs": [],
   "source": [
    "df_movies_cleaned=df_movies.drop_duplicates(subset='title', keep='first')"
   ]
  },
  {
   "cell_type": "code",
   "execution_count": 21,
   "id": "cfa8dd10",
   "metadata": {},
   "outputs": [
    {
     "data": {
      "text/html": [
       "<div>\n",
       "<style scoped>\n",
       "    .dataframe tbody tr th:only-of-type {\n",
       "        vertical-align: middle;\n",
       "    }\n",
       "\n",
       "    .dataframe tbody tr th {\n",
       "        vertical-align: top;\n",
       "    }\n",
       "\n",
       "    .dataframe thead th {\n",
       "        text-align: right;\n",
       "    }\n",
       "</style>\n",
       "<table border=\"1\" class=\"dataframe\">\n",
       "  <thead>\n",
       "    <tr style=\"text-align: right;\">\n",
       "      <th></th>\n",
       "      <th>movieId</th>\n",
       "      <th>title</th>\n",
       "      <th>genres</th>\n",
       "    </tr>\n",
       "  </thead>\n",
       "  <tbody>\n",
       "    <tr>\n",
       "      <th>0</th>\n",
       "      <td>1</td>\n",
       "      <td>Toy Story (1995)</td>\n",
       "      <td>Adventure|Animation|Children|Comedy|Fantasy</td>\n",
       "    </tr>\n",
       "    <tr>\n",
       "      <th>1</th>\n",
       "      <td>2</td>\n",
       "      <td>Jumanji (1995)</td>\n",
       "      <td>Adventure|Children|Fantasy</td>\n",
       "    </tr>\n",
       "    <tr>\n",
       "      <th>2</th>\n",
       "      <td>3</td>\n",
       "      <td>Grumpier Old Men (1995)</td>\n",
       "      <td>Comedy|Romance</td>\n",
       "    </tr>\n",
       "    <tr>\n",
       "      <th>3</th>\n",
       "      <td>4</td>\n",
       "      <td>Waiting to Exhale (1995)</td>\n",
       "      <td>Comedy|Drama|Romance</td>\n",
       "    </tr>\n",
       "    <tr>\n",
       "      <th>4</th>\n",
       "      <td>5</td>\n",
       "      <td>Father of the Bride Part II (1995)</td>\n",
       "      <td>Comedy</td>\n",
       "    </tr>\n",
       "  </tbody>\n",
       "</table>\n",
       "</div>"
      ],
      "text/plain": [
       "   movieId                               title  \\\n",
       "0        1                    Toy Story (1995)   \n",
       "1        2                      Jumanji (1995)   \n",
       "2        3             Grumpier Old Men (1995)   \n",
       "3        4            Waiting to Exhale (1995)   \n",
       "4        5  Father of the Bride Part II (1995)   \n",
       "\n",
       "                                        genres  \n",
       "0  Adventure|Animation|Children|Comedy|Fantasy  \n",
       "1                   Adventure|Children|Fantasy  \n",
       "2                               Comedy|Romance  \n",
       "3                         Comedy|Drama|Romance  \n",
       "4                                       Comedy  "
      ]
     },
     "execution_count": 21,
     "metadata": {},
     "output_type": "execute_result"
    }
   ],
   "source": [
    "df_movies_cleaned.head(5)"
   ]
  },
  {
   "cell_type": "code",
   "execution_count": 22,
   "id": "f0ef424b",
   "metadata": {},
   "outputs": [],
   "source": [
    "df_rating_tags = pd.merge(df_ratings, df_tags_cleaned, on=['userId', 'movieId'], how='inner')\n",
    "df_final = pd.merge(df_rating_tags, df_movies_cleaned, on=['movieId'], how='inner')"
   ]
  },
  {
   "cell_type": "code",
   "execution_count": 23,
   "id": "c8354ee3",
   "metadata": {},
   "outputs": [
    {
     "data": {
      "text/html": [
       "<div>\n",
       "<style scoped>\n",
       "    .dataframe tbody tr th:only-of-type {\n",
       "        vertical-align: middle;\n",
       "    }\n",
       "\n",
       "    .dataframe tbody tr th {\n",
       "        vertical-align: top;\n",
       "    }\n",
       "\n",
       "    .dataframe thead th {\n",
       "        text-align: right;\n",
       "    }\n",
       "</style>\n",
       "<table border=\"1\" class=\"dataframe\">\n",
       "  <thead>\n",
       "    <tr style=\"text-align: right;\">\n",
       "      <th></th>\n",
       "      <th>userId</th>\n",
       "      <th>movieId</th>\n",
       "      <th>rating</th>\n",
       "      <th>tag</th>\n",
       "      <th>title</th>\n",
       "      <th>genres</th>\n",
       "    </tr>\n",
       "  </thead>\n",
       "  <tbody>\n",
       "    <tr>\n",
       "      <th>0</th>\n",
       "      <td>2</td>\n",
       "      <td>60756</td>\n",
       "      <td>5.0</td>\n",
       "      <td>funny Highly quotable will ferrell</td>\n",
       "      <td>Step Brothers (2008)</td>\n",
       "      <td>Comedy</td>\n",
       "    </tr>\n",
       "    <tr>\n",
       "      <th>1</th>\n",
       "      <td>2</td>\n",
       "      <td>89774</td>\n",
       "      <td>5.0</td>\n",
       "      <td>MMA Tom Hardy Boxing story</td>\n",
       "      <td>Warrior (2011)</td>\n",
       "      <td>Drama</td>\n",
       "    </tr>\n",
       "    <tr>\n",
       "      <th>2</th>\n",
       "      <td>2</td>\n",
       "      <td>106782</td>\n",
       "      <td>5.0</td>\n",
       "      <td>drugs Leonardo DiCaprio Martin Scorsese</td>\n",
       "      <td>Wolf of Wall Street, The (2013)</td>\n",
       "      <td>Comedy|Crime|Drama</td>\n",
       "    </tr>\n",
       "    <tr>\n",
       "      <th>3</th>\n",
       "      <td>7</td>\n",
       "      <td>48516</td>\n",
       "      <td>1.0</td>\n",
       "      <td>way too long</td>\n",
       "      <td>Departed, The (2006)</td>\n",
       "      <td>Crime|Drama|Thriller</td>\n",
       "    </tr>\n",
       "    <tr>\n",
       "      <th>4</th>\n",
       "      <td>18</td>\n",
       "      <td>431</td>\n",
       "      <td>4.0</td>\n",
       "      <td>mafia gangster Al Pacino</td>\n",
       "      <td>Carlito's Way (1993)</td>\n",
       "      <td>Crime|Drama</td>\n",
       "    </tr>\n",
       "  </tbody>\n",
       "</table>\n",
       "</div>"
      ],
      "text/plain": [
       "   userId  movieId  rating                                      tag  \\\n",
       "0       2    60756     5.0       funny Highly quotable will ferrell   \n",
       "1       2    89774     5.0               MMA Tom Hardy Boxing story   \n",
       "2       2   106782     5.0  drugs Leonardo DiCaprio Martin Scorsese   \n",
       "3       7    48516     1.0                             way too long   \n",
       "4      18      431     4.0                 mafia gangster Al Pacino   \n",
       "\n",
       "                             title                genres  \n",
       "0             Step Brothers (2008)                Comedy  \n",
       "1                   Warrior (2011)                 Drama  \n",
       "2  Wolf of Wall Street, The (2013)    Comedy|Crime|Drama  \n",
       "3             Departed, The (2006)  Crime|Drama|Thriller  \n",
       "4             Carlito's Way (1993)           Crime|Drama  "
      ]
     },
     "execution_count": 23,
     "metadata": {},
     "output_type": "execute_result"
    }
   ],
   "source": [
    "df_final.head(5)"
   ]
  },
  {
   "cell_type": "markdown",
   "id": "711116c2",
   "metadata": {},
   "source": [
    "## Data Preparation for Content-Based Filtering"
   ]
  },
  {
   "cell_type": "code",
   "execution_count": 24,
   "id": "7fd1ca2d",
   "metadata": {},
   "outputs": [],
   "source": [
    "df_final_content_based = df_final.copy()"
   ]
  },
  {
   "cell_type": "code",
   "execution_count": 25,
   "id": "14563ef9",
   "metadata": {},
   "outputs": [],
   "source": [
    "df_final_content_based['genres'] = df_final_content_based['genres'].str.replace('|', ' ', regex=False)"
   ]
  },
  {
   "cell_type": "code",
   "execution_count": 26,
   "id": "b1abcf47",
   "metadata": {},
   "outputs": [],
   "source": [
    "df_final_content_based['extracted_features'] = df_final_content_based['genres'].str.lower() + ' ' + df_final_content_based['tag'].str.lower()"
   ]
  },
  {
   "cell_type": "code",
   "execution_count": 27,
   "id": "7442de96",
   "metadata": {},
   "outputs": [
    {
     "data": {
      "text/html": [
       "<div>\n",
       "<style scoped>\n",
       "    .dataframe tbody tr th:only-of-type {\n",
       "        vertical-align: middle;\n",
       "    }\n",
       "\n",
       "    .dataframe tbody tr th {\n",
       "        vertical-align: top;\n",
       "    }\n",
       "\n",
       "    .dataframe thead th {\n",
       "        text-align: right;\n",
       "    }\n",
       "</style>\n",
       "<table border=\"1\" class=\"dataframe\">\n",
       "  <thead>\n",
       "    <tr style=\"text-align: right;\">\n",
       "      <th></th>\n",
       "      <th>userId</th>\n",
       "      <th>movieId</th>\n",
       "      <th>rating</th>\n",
       "      <th>tag</th>\n",
       "      <th>title</th>\n",
       "      <th>genres</th>\n",
       "      <th>extracted_features</th>\n",
       "    </tr>\n",
       "  </thead>\n",
       "  <tbody>\n",
       "    <tr>\n",
       "      <th>0</th>\n",
       "      <td>2</td>\n",
       "      <td>60756</td>\n",
       "      <td>5.0</td>\n",
       "      <td>funny Highly quotable will ferrell</td>\n",
       "      <td>Step Brothers (2008)</td>\n",
       "      <td>Comedy</td>\n",
       "      <td>comedy funny highly quotable will ferrell</td>\n",
       "    </tr>\n",
       "    <tr>\n",
       "      <th>1</th>\n",
       "      <td>2</td>\n",
       "      <td>89774</td>\n",
       "      <td>5.0</td>\n",
       "      <td>MMA Tom Hardy Boxing story</td>\n",
       "      <td>Warrior (2011)</td>\n",
       "      <td>Drama</td>\n",
       "      <td>drama mma tom hardy boxing story</td>\n",
       "    </tr>\n",
       "    <tr>\n",
       "      <th>2</th>\n",
       "      <td>2</td>\n",
       "      <td>106782</td>\n",
       "      <td>5.0</td>\n",
       "      <td>drugs Leonardo DiCaprio Martin Scorsese</td>\n",
       "      <td>Wolf of Wall Street, The (2013)</td>\n",
       "      <td>Comedy Crime Drama</td>\n",
       "      <td>comedy crime drama drugs leonardo dicaprio mar...</td>\n",
       "    </tr>\n",
       "    <tr>\n",
       "      <th>3</th>\n",
       "      <td>7</td>\n",
       "      <td>48516</td>\n",
       "      <td>1.0</td>\n",
       "      <td>way too long</td>\n",
       "      <td>Departed, The (2006)</td>\n",
       "      <td>Crime Drama Thriller</td>\n",
       "      <td>crime drama thriller way too long</td>\n",
       "    </tr>\n",
       "    <tr>\n",
       "      <th>4</th>\n",
       "      <td>18</td>\n",
       "      <td>431</td>\n",
       "      <td>4.0</td>\n",
       "      <td>mafia gangster Al Pacino</td>\n",
       "      <td>Carlito's Way (1993)</td>\n",
       "      <td>Crime Drama</td>\n",
       "      <td>crime drama mafia gangster al pacino</td>\n",
       "    </tr>\n",
       "    <tr>\n",
       "      <th>...</th>\n",
       "      <td>...</td>\n",
       "      <td>...</td>\n",
       "      <td>...</td>\n",
       "      <td>...</td>\n",
       "      <td>...</td>\n",
       "      <td>...</td>\n",
       "      <td>...</td>\n",
       "    </tr>\n",
       "    <tr>\n",
       "      <th>1630</th>\n",
       "      <td>606</td>\n",
       "      <td>5694</td>\n",
       "      <td>3.0</td>\n",
       "      <td>70mm</td>\n",
       "      <td>Staying Alive (1983)</td>\n",
       "      <td>Comedy Drama Musical</td>\n",
       "      <td>comedy drama musical 70mm</td>\n",
       "    </tr>\n",
       "    <tr>\n",
       "      <th>1631</th>\n",
       "      <td>606</td>\n",
       "      <td>6107</td>\n",
       "      <td>4.0</td>\n",
       "      <td>World War II</td>\n",
       "      <td>Night of the Shooting Stars (Notte di San Lore...</td>\n",
       "      <td>Drama War</td>\n",
       "      <td>drama war world war ii</td>\n",
       "    </tr>\n",
       "    <tr>\n",
       "      <th>1632</th>\n",
       "      <td>606</td>\n",
       "      <td>7382</td>\n",
       "      <td>4.5</td>\n",
       "      <td>for katie</td>\n",
       "      <td>I'm Not Scared (Io non ho paura) (2003)</td>\n",
       "      <td>Drama Mystery Thriller</td>\n",
       "      <td>drama mystery thriller for katie</td>\n",
       "    </tr>\n",
       "    <tr>\n",
       "      <th>1633</th>\n",
       "      <td>610</td>\n",
       "      <td>3265</td>\n",
       "      <td>5.0</td>\n",
       "      <td>gun fu heroic bloodshed</td>\n",
       "      <td>Hard-Boiled (Lat sau san taam) (1992)</td>\n",
       "      <td>Action Crime Drama Thriller</td>\n",
       "      <td>action crime drama thriller gun fu heroic bloo...</td>\n",
       "    </tr>\n",
       "    <tr>\n",
       "      <th>1634</th>\n",
       "      <td>610</td>\n",
       "      <td>168248</td>\n",
       "      <td>5.0</td>\n",
       "      <td>Heroic Bloodshed</td>\n",
       "      <td>John Wick: Chapter Two (2017)</td>\n",
       "      <td>Action Crime Thriller</td>\n",
       "      <td>action crime thriller heroic bloodshed</td>\n",
       "    </tr>\n",
       "  </tbody>\n",
       "</table>\n",
       "<p>1635 rows × 7 columns</p>\n",
       "</div>"
      ],
      "text/plain": [
       "      userId  movieId  rating                                      tag  \\\n",
       "0          2    60756     5.0       funny Highly quotable will ferrell   \n",
       "1          2    89774     5.0               MMA Tom Hardy Boxing story   \n",
       "2          2   106782     5.0  drugs Leonardo DiCaprio Martin Scorsese   \n",
       "3          7    48516     1.0                             way too long   \n",
       "4         18      431     4.0                 mafia gangster Al Pacino   \n",
       "...      ...      ...     ...                                      ...   \n",
       "1630     606     5694     3.0                                     70mm   \n",
       "1631     606     6107     4.0                             World War II   \n",
       "1632     606     7382     4.5                                for katie   \n",
       "1633     610     3265     5.0                  gun fu heroic bloodshed   \n",
       "1634     610   168248     5.0                         Heroic Bloodshed   \n",
       "\n",
       "                                                  title  \\\n",
       "0                                  Step Brothers (2008)   \n",
       "1                                        Warrior (2011)   \n",
       "2                       Wolf of Wall Street, The (2013)   \n",
       "3                                  Departed, The (2006)   \n",
       "4                                  Carlito's Way (1993)   \n",
       "...                                                 ...   \n",
       "1630                               Staying Alive (1983)   \n",
       "1631  Night of the Shooting Stars (Notte di San Lore...   \n",
       "1632            I'm Not Scared (Io non ho paura) (2003)   \n",
       "1633              Hard-Boiled (Lat sau san taam) (1992)   \n",
       "1634                      John Wick: Chapter Two (2017)   \n",
       "\n",
       "                           genres  \\\n",
       "0                          Comedy   \n",
       "1                           Drama   \n",
       "2              Comedy Crime Drama   \n",
       "3            Crime Drama Thriller   \n",
       "4                     Crime Drama   \n",
       "...                           ...   \n",
       "1630         Comedy Drama Musical   \n",
       "1631                    Drama War   \n",
       "1632       Drama Mystery Thriller   \n",
       "1633  Action Crime Drama Thriller   \n",
       "1634        Action Crime Thriller   \n",
       "\n",
       "                                     extracted_features  \n",
       "0             comedy funny highly quotable will ferrell  \n",
       "1                      drama mma tom hardy boxing story  \n",
       "2     comedy crime drama drugs leonardo dicaprio mar...  \n",
       "3                     crime drama thriller way too long  \n",
       "4                  crime drama mafia gangster al pacino  \n",
       "...                                                 ...  \n",
       "1630                          comedy drama musical 70mm  \n",
       "1631                             drama war world war ii  \n",
       "1632                   drama mystery thriller for katie  \n",
       "1633  action crime drama thriller gun fu heroic bloo...  \n",
       "1634             action crime thriller heroic bloodshed  \n",
       "\n",
       "[1635 rows x 7 columns]"
      ]
     },
     "execution_count": 27,
     "metadata": {},
     "output_type": "execute_result"
    }
   ],
   "source": [
    "df_final_content_based"
   ]
  },
  {
   "cell_type": "code",
   "execution_count": 28,
   "id": "163051f3",
   "metadata": {},
   "outputs": [
    {
     "data": {
      "text/plain": [
       "array(['06', '1900s', '1920s', ..., 'zombie', 'zombies', 'zooey'],\n",
       "      dtype=object)"
      ]
     },
     "execution_count": 28,
     "metadata": {},
     "output_type": "execute_result"
    }
   ],
   "source": [
    "tf = TfidfVectorizer(analyzer='word',min_df=0.0, stop_words='english')\n",
    "\n",
    "tf.fit(df_final_content_based['extracted_features'])\n",
    "\n",
    "tf.get_feature_names_out()"
   ]
  },
  {
   "cell_type": "code",
   "execution_count": 29,
   "id": "70e26b1e",
   "metadata": {},
   "outputs": [],
   "source": [
    "content_based_tfidf_matrix = tf.fit_transform(df_final_content_based['extracted_features'])"
   ]
  },
  {
   "cell_type": "markdown",
   "id": "3a1e84fd",
   "metadata": {},
   "source": [
    "## Data Preparation for Collaborative Filtering Model Based Deep Learning"
   ]
  },
  {
   "cell_type": "code",
   "execution_count": 30,
   "id": "7e891cfb",
   "metadata": {},
   "outputs": [],
   "source": [
    "df_final_collaborative = df_final.copy()"
   ]
  },
  {
   "cell_type": "code",
   "execution_count": 31,
   "id": "3766f29c",
   "metadata": {},
   "outputs": [
    {
     "data": {
      "text/html": [
       "<div>\n",
       "<style scoped>\n",
       "    .dataframe tbody tr th:only-of-type {\n",
       "        vertical-align: middle;\n",
       "    }\n",
       "\n",
       "    .dataframe tbody tr th {\n",
       "        vertical-align: top;\n",
       "    }\n",
       "\n",
       "    .dataframe thead th {\n",
       "        text-align: right;\n",
       "    }\n",
       "</style>\n",
       "<table border=\"1\" class=\"dataframe\">\n",
       "  <thead>\n",
       "    <tr style=\"text-align: right;\">\n",
       "      <th></th>\n",
       "      <th>userId</th>\n",
       "      <th>movieId</th>\n",
       "      <th>rating</th>\n",
       "      <th>tag</th>\n",
       "      <th>title</th>\n",
       "      <th>genres</th>\n",
       "    </tr>\n",
       "  </thead>\n",
       "  <tbody>\n",
       "    <tr>\n",
       "      <th>0</th>\n",
       "      <td>2</td>\n",
       "      <td>60756</td>\n",
       "      <td>5.0</td>\n",
       "      <td>funny Highly quotable will ferrell</td>\n",
       "      <td>Step Brothers (2008)</td>\n",
       "      <td>Comedy</td>\n",
       "    </tr>\n",
       "    <tr>\n",
       "      <th>1</th>\n",
       "      <td>2</td>\n",
       "      <td>89774</td>\n",
       "      <td>5.0</td>\n",
       "      <td>MMA Tom Hardy Boxing story</td>\n",
       "      <td>Warrior (2011)</td>\n",
       "      <td>Drama</td>\n",
       "    </tr>\n",
       "    <tr>\n",
       "      <th>2</th>\n",
       "      <td>2</td>\n",
       "      <td>106782</td>\n",
       "      <td>5.0</td>\n",
       "      <td>drugs Leonardo DiCaprio Martin Scorsese</td>\n",
       "      <td>Wolf of Wall Street, The (2013)</td>\n",
       "      <td>Comedy|Crime|Drama</td>\n",
       "    </tr>\n",
       "    <tr>\n",
       "      <th>3</th>\n",
       "      <td>7</td>\n",
       "      <td>48516</td>\n",
       "      <td>1.0</td>\n",
       "      <td>way too long</td>\n",
       "      <td>Departed, The (2006)</td>\n",
       "      <td>Crime|Drama|Thriller</td>\n",
       "    </tr>\n",
       "    <tr>\n",
       "      <th>4</th>\n",
       "      <td>18</td>\n",
       "      <td>431</td>\n",
       "      <td>4.0</td>\n",
       "      <td>mafia gangster Al Pacino</td>\n",
       "      <td>Carlito's Way (1993)</td>\n",
       "      <td>Crime|Drama</td>\n",
       "    </tr>\n",
       "    <tr>\n",
       "      <th>...</th>\n",
       "      <td>...</td>\n",
       "      <td>...</td>\n",
       "      <td>...</td>\n",
       "      <td>...</td>\n",
       "      <td>...</td>\n",
       "      <td>...</td>\n",
       "    </tr>\n",
       "    <tr>\n",
       "      <th>1630</th>\n",
       "      <td>606</td>\n",
       "      <td>5694</td>\n",
       "      <td>3.0</td>\n",
       "      <td>70mm</td>\n",
       "      <td>Staying Alive (1983)</td>\n",
       "      <td>Comedy|Drama|Musical</td>\n",
       "    </tr>\n",
       "    <tr>\n",
       "      <th>1631</th>\n",
       "      <td>606</td>\n",
       "      <td>6107</td>\n",
       "      <td>4.0</td>\n",
       "      <td>World War II</td>\n",
       "      <td>Night of the Shooting Stars (Notte di San Lore...</td>\n",
       "      <td>Drama|War</td>\n",
       "    </tr>\n",
       "    <tr>\n",
       "      <th>1632</th>\n",
       "      <td>606</td>\n",
       "      <td>7382</td>\n",
       "      <td>4.5</td>\n",
       "      <td>for katie</td>\n",
       "      <td>I'm Not Scared (Io non ho paura) (2003)</td>\n",
       "      <td>Drama|Mystery|Thriller</td>\n",
       "    </tr>\n",
       "    <tr>\n",
       "      <th>1633</th>\n",
       "      <td>610</td>\n",
       "      <td>3265</td>\n",
       "      <td>5.0</td>\n",
       "      <td>gun fu heroic bloodshed</td>\n",
       "      <td>Hard-Boiled (Lat sau san taam) (1992)</td>\n",
       "      <td>Action|Crime|Drama|Thriller</td>\n",
       "    </tr>\n",
       "    <tr>\n",
       "      <th>1634</th>\n",
       "      <td>610</td>\n",
       "      <td>168248</td>\n",
       "      <td>5.0</td>\n",
       "      <td>Heroic Bloodshed</td>\n",
       "      <td>John Wick: Chapter Two (2017)</td>\n",
       "      <td>Action|Crime|Thriller</td>\n",
       "    </tr>\n",
       "  </tbody>\n",
       "</table>\n",
       "<p>1635 rows × 6 columns</p>\n",
       "</div>"
      ],
      "text/plain": [
       "      userId  movieId  rating                                      tag  \\\n",
       "0          2    60756     5.0       funny Highly quotable will ferrell   \n",
       "1          2    89774     5.0               MMA Tom Hardy Boxing story   \n",
       "2          2   106782     5.0  drugs Leonardo DiCaprio Martin Scorsese   \n",
       "3          7    48516     1.0                             way too long   \n",
       "4         18      431     4.0                 mafia gangster Al Pacino   \n",
       "...      ...      ...     ...                                      ...   \n",
       "1630     606     5694     3.0                                     70mm   \n",
       "1631     606     6107     4.0                             World War II   \n",
       "1632     606     7382     4.5                                for katie   \n",
       "1633     610     3265     5.0                  gun fu heroic bloodshed   \n",
       "1634     610   168248     5.0                         Heroic Bloodshed   \n",
       "\n",
       "                                                  title  \\\n",
       "0                                  Step Brothers (2008)   \n",
       "1                                        Warrior (2011)   \n",
       "2                       Wolf of Wall Street, The (2013)   \n",
       "3                                  Departed, The (2006)   \n",
       "4                                  Carlito's Way (1993)   \n",
       "...                                                 ...   \n",
       "1630                               Staying Alive (1983)   \n",
       "1631  Night of the Shooting Stars (Notte di San Lore...   \n",
       "1632            I'm Not Scared (Io non ho paura) (2003)   \n",
       "1633              Hard-Boiled (Lat sau san taam) (1992)   \n",
       "1634                      John Wick: Chapter Two (2017)   \n",
       "\n",
       "                           genres  \n",
       "0                          Comedy  \n",
       "1                           Drama  \n",
       "2              Comedy|Crime|Drama  \n",
       "3            Crime|Drama|Thriller  \n",
       "4                     Crime|Drama  \n",
       "...                           ...  \n",
       "1630         Comedy|Drama|Musical  \n",
       "1631                    Drama|War  \n",
       "1632       Drama|Mystery|Thriller  \n",
       "1633  Action|Crime|Drama|Thriller  \n",
       "1634        Action|Crime|Thriller  \n",
       "\n",
       "[1635 rows x 6 columns]"
      ]
     },
     "execution_count": 31,
     "metadata": {},
     "output_type": "execute_result"
    }
   ],
   "source": [
    "df_final_collaborative"
   ]
  },
  {
   "cell_type": "code",
   "execution_count": 32,
   "id": "f19eca03",
   "metadata": {},
   "outputs": [
    {
     "name": "stdout",
     "output_type": "stream",
     "text": [
      "list userID:  [2, 7, 18, 21, 49, 62, 63, 76, 103, 106, 112, 119, 125, 132, 138, 161, 166, 167, 177, 184, 193, 205, 226, 256, 274, 289, 291, 300, 305, 318, 319, 327, 336, 356, 357, 419, 424, 435, 439, 462, 474, 477, 487, 506, 509, 513, 520, 533, 537, 567, 573, 599, 606, 610]\n",
      "encoded userID :  {2: 0, 7: 1, 18: 2, 21: 3, 49: 4, 62: 5, 63: 6, 76: 7, 103: 8, 106: 9, 112: 10, 119: 11, 125: 12, 132: 13, 138: 14, 161: 15, 166: 16, 167: 17, 177: 18, 184: 19, 193: 20, 205: 21, 226: 22, 256: 23, 274: 24, 289: 25, 291: 26, 300: 27, 305: 28, 318: 29, 319: 30, 327: 31, 336: 32, 356: 33, 357: 34, 419: 35, 424: 36, 435: 37, 439: 38, 462: 39, 474: 40, 477: 41, 487: 42, 506: 43, 509: 44, 513: 45, 520: 46, 533: 47, 537: 48, 567: 49, 573: 50, 599: 51, 606: 52, 610: 53}\n",
      "encoded angka ke userID:  {0: 2, 1: 7, 2: 18, 3: 21, 4: 49, 5: 62, 6: 63, 7: 76, 8: 103, 9: 106, 10: 112, 11: 119, 12: 125, 13: 132, 14: 138, 15: 161, 16: 166, 17: 167, 18: 177, 19: 184, 20: 193, 21: 205, 22: 226, 23: 256, 24: 274, 25: 289, 26: 291, 27: 300, 28: 305, 29: 318, 30: 319, 31: 327, 32: 336, 33: 356, 34: 357, 35: 419, 36: 424, 37: 435, 38: 439, 39: 462, 40: 474, 41: 477, 42: 487, 43: 506, 44: 509, 45: 513, 46: 520, 47: 533, 48: 537, 49: 567, 50: 573, 51: 599, 52: 606, 53: 610}\n"
     ]
    }
   ],
   "source": [
    "# Mengubah userId menjadi list tanpa nilai yang sama\n",
    "user_ids = df_final_collaborative['userId'].unique().tolist()\n",
    "print('list userID: ', user_ids)\n",
    " \n",
    "# Melakukan encoding userId\n",
    "user_to_user_encoded = {x: i for i, x in enumerate(user_ids)}\n",
    "print('encoded userID : ', user_to_user_encoded)\n",
    " \n",
    "# Melakukan proses encoding angka ke ke userId\n",
    "user_encoded_to_user = {i: x for i, x in enumerate(user_ids)}\n",
    "print('encoded angka ke userID: ', user_encoded_to_user)"
   ]
  },
  {
   "cell_type": "code",
   "execution_count": 33,
   "id": "eed65186",
   "metadata": {},
   "outputs": [
    {
     "name": "stdout",
     "output_type": "stream",
     "text": [
      "list movieId:  [60756, 89774, 106782, 48516, 431, 1221, 5995, 44665, 52604, 88094, 144210, 119141, 109487, 2, 110, 410, 2023, 2124, 2953, 3114, 3578, 4223, 5388, 6058, 6534, 6541, 6564, 7153, 8641, 27660, 27706, 27808, 27831, 31658, 33162, 34150, 37729, 38061, 45447, 46723, 46972, 46976, 49130, 49530, 53464, 58047, 59501, 60074, 60126, 61024, 63992, 68848, 71535, 87430, 88405, 96861, 99114, 103042, 104863, 107348, 108190, 111743, 114180, 115149, 116897, 122912, 128360, 135133, 135518, 135536, 136864, 139385, 158966, 168248, 174053, 179401, 183611, 184471, 187593, 187595, 260, 296, 4896, 106489, 101142, 115617, 120635, 1726, 2387, 3052, 5088, 7022, 7254, 8957, 9010, 42632, 58301, 60950, 62434, 67695, 100083, 156371, 158872, 3556, 6323, 6367, 59103, 52287, 293, 54286, 104, 2579, 3793, 4226, 6283, 27156, 193565, 4878, 7147, 97938, 6938, 48780, 126548, 68319, 3, 1101, 50872, 102007, 118696, 6711, 4034, 4995, 6502, 6953, 34405, 55721, 83134, 778, 4612, 4708, 64034, 68954, 71494, 81158, 82459, 90769, 96084, 111364, 118784, 127172, 364, 1288, 1923, 2616, 3481, 3897, 51255, 1, 552, 1246, 32587, 33660, 34162, 36529, 38798, 2146, 37384, 40955, 44889, 61323, 39, 1059, 2762, 4370, 5464, 7078, 7444, 7451, 54997, 55290, 91500, 91529, 98961, 32, 47, 50, 147, 175, 223, 288, 589, 608, 628, 1089, 1120, 1193, 1219, 1258, 1343, 1625, 1704, 1921, 2160, 2296, 2329, 2505, 2571, 2700, 2959, 3176, 3186, 3499, 3911, 3948, 4262, 4816, 6188, 6290, 8950, 27020, 30825, 34323, 40278, 53127, 66097, 68157, 74458, 79132, 81591, 102903, 104879, 106100, 112515, 112556, 58559, 5952, 98809, 152711, 5, 7, 11, 14, 16, 17, 21, 22, 25, 26, 28, 29, 31, 34, 36, 38, 41, 43, 45, 46, 52, 58, 62, 92, 96, 101, 107, 111, 116, 122, 140, 150, 153, 160, 161, 162, 185, 199, 215, 216, 222, 224, 230, 232, 235, 237, 246, 247, 249, 252, 257, 261, 262, 272, 277, 280, 282, 300, 307, 308, 316, 317, 318, 329, 337, 338, 339, 342, 345, 349, 350, 351, 356, 357, 361, 371, 377, 380, 381, 412, 421, 425, 440, 454, 457, 471, 474, 475, 477, 480, 488, 497, 500, 508, 513, 515, 516, 522, 524, 527, 529, 534, 535, 538, 539, 541, 543, 551, 556, 562, 586, 587, 588, 590, 592, 593, 594, 595, 596, 597, 616, 638, 647, 648, 668, 670, 671, 673, 708, 720, 728, 733, 736, 745, 748, 750, 780, 805, 818, 830, 832, 838, 852, 858, 892, 898, 899, 900, 902, 903, 904, 905, 906, 907, 908, 909, 910, 911, 912, 913, 914, 915, 916, 918, 919, 920, 921, 922, 923, 924, 926, 927, 928, 929, 930, 931, 934, 936, 938, 940, 941, 943, 944, 945, 947, 948, 950, 951, 952, 953, 954, 955, 956, 965, 968, 969, 970, 971, 973, 976, 986, 991, 994, 1006, 1010, 1013, 1022, 1025, 1028, 1029, 1030, 1032, 1033, 1035, 1041, 1042, 1066, 1068, 1079, 1080, 1081, 1082, 1084, 1088, 1090, 1093, 1096, 1097, 1103, 1104, 1124, 1125, 1135, 1136, 1147, 1148, 1171, 1177, 1178, 1179, 1183, 1185, 1187, 1188, 1189, 1196, 1197, 1198, 1200, 1201, 1203, 1204, 1206, 1207, 1208, 1209, 1210, 1212, 1213, 1214, 1217, 1220, 1222, 1223, 1224, 1225, 1228, 1230, 1231, 1233, 1234, 1235, 1237, 1240, 1242, 1243, 1244, 1245, 1247, 1249, 1250, 1252, 1253, 1254, 1257, 1259, 1260, 1262, 1263, 1266, 1267, 1269, 1270, 1272, 1276, 1278, 1281, 1282, 1283, 1284, 1285, 1291, 1292, 1293, 1296, 1299, 1301, 1302, 1303, 1304, 1307, 1333, 1344, 1345, 1348, 1350, 1353, 1354, 1356, 1358, 1363, 1366, 1367, 1372, 1374, 1376, 1377, 1380, 1381, 1387, 1389, 1393, 1394, 1396, 1398, 1407, 1408, 1411, 1413, 1416, 1423, 1441, 1449, 1466, 1474, 1485, 1496, 1500, 1513, 1537, 1544, 1545, 1569, 1573, 1580, 1586, 1608, 1610, 1617, 1635, 1643, 1645, 1650, 1653, 1663, 1674, 1680, 1682, 1683, 1711, 1717, 1719, 1721, 1732, 1735, 1748, 1777, 1797, 1810, 1834, 1893, 1902, 1909, 1912, 1913, 1917, 1931, 1938, 1940, 1942, 1945, 1947, 1950, 1951, 1952, 1953, 1954, 1955, 1957, 1959, 1960, 1961, 1962, 1975, 1976, 1977, 1983, 1984, 1994, 1995, 1996, 1997, 2006, 2011, 2019, 2020, 2022, 2028, 2054, 2058, 2059, 2064, 2066, 2070, 2076, 2078, 2080, 2085, 2097, 2100, 2108, 2114, 2115, 2116, 2118, 2121, 2122, 2139, 2145, 2167, 2171, 2186, 2187, 2194, 2202, 2203, 2206, 2208, 2243, 2247, 2248, 2249, 2268, 2291, 2295, 2300, 2302, 2310, 2312, 2313, 2324, 2334, 2335, 2336, 2355, 2357, 2390, 2391, 2394, 2396, 2410, 2411, 2412, 2420, 2421, 2422, 2423, 2424, 2431, 2442, 2463, 2467, 2470, 2471, 2491, 2494, 2502, 2506, 2517, 2529, 2550, 2553, 2554, 2565, 2572, 2581, 2583, 2598, 2600, 2612, 2628, 2640, 2641, 2642, 2648, 2660, 2664, 2692, 2693, 2710, 2712, 2716, 2717, 2719, 2723, 2726, 2728, 2745, 2750, 2761, 2787, 2791, 2797, 2801, 2803, 2804, 2827, 2863, 2871, 2872, 2915, 2918, 2919, 2927, 2935, 2937, 2940, 2941, 2943, 2952, 2966, 2967, 2968, 2987, 3000, 3006, 3011, 3028, 3030, 3039, 3040, 3044, 3071, 3072, 3081, 3087, 3095, 3097, 3098, 3101, 3108, 3111, 3115, 3125, 3135, 3147, 3152, 3160, 3174, 3175, 3178, 3181, 3210, 3211, 3247, 3258, 3259, 3260, 3263, 3270, 3273, 3281, 3306, 3307, 3310, 3317, 3330, 3341, 3360, 3384, 3385, 3386, 3408, 3420, 3421, 3424, 3429, 3435, 3447, 3451, 3461, 3462, 3468, 3469, 3475, 3489, 3498, 3502, 3504, 3512, 3515, 3526, 3528, 3536, 3546, 3548, 3549, 3552, 3566, 3608, 3629, 3675, 3683, 3712, 3723, 3724, 3730, 3735, 3801, 3811, 3816, 3844, 3849, 3859, 3877, 3910, 3932, 3949, 3967, 3983, 3988, 3994, 3996, 4007, 4012, 4019, 4024, 4025, 4027, 4029, 4046, 4077, 4105, 4113, 4138, 4160, 4164, 4166, 4171, 4184, 4189, 4190, 4191, 4204, 4210, 4211, 4214, 4218, 4221, 4232, 4246, 4259, 4263, 4292, 4296, 4306, 4316, 4326, 4333, 4347, 4356, 4359, 4361, 4380, 4396, 4447, 4448, 4465, 4476, 4477, 4489, 4495, 4526, 4537, 4545, 4546, 4558, 4571, 4600, 4621, 4623, 4638, 4639, 4641, 4677, 4678, 4787, 4801, 4808, 4809, 4812, 4823, 4835, 4857, 4874, 4881, 4902, 4920, 4963, 4969, 4970, 4973, 4979, 4980, 4993, 4998, 5008, 5012, 5015, 5034, 5064, 5114, 5135, 5213, 5224, 5238, 5266, 5291, 5294, 5316, 5349, 5353, 5377, 5379, 5398, 5404, 5445, 5446, 5450, 5451, 5470, 5475, 5483, 5502, 5505, 5527, 5528, 5548, 5577, 5601, 5603, 5618, 5629, 5630, 5633, 5644, 5669, 5673, 5682, 5685, 5690, 5747, 5791, 5792, 5802, 5812, 5816, 5820, 5875, 5876, 5878, 5899, 5954, 5971, 5989, 5991, 5994, 6002, 6003, 6016, 6020, 6031, 6041, 6063, 6090, 6101, 6104, 6156, 6159, 6163, 6170, 6178, 6181, 6183, 6195, 6197, 6201, 6216, 6218, 6228, 6232, 6235, 6238, 6242, 6244, 6245, 6254, 6268, 6269, 6273, 6281, 6286, 6288, 6289, 6291, 6296, 6297, 6299, 6305, 6308, 6327, 6331, 6333, 6334, 6337, 6339, 6341, 6350, 6368, 6373, 6377, 6378, 6380, 6385, 6390, 6400, 6407, 6422, 6440, 6454, 6466, 6515, 6535, 6536, 6539, 6545, 6547, 6552, 6565, 6579, 6591, 6592, 6603, 6609, 6620, 6636, 6639, 6650, 6660, 6662, 6667, 6669, 6708, 6710, 6713, 6724, 6732, 6744, 6753, 6768, 6770, 6773, 6776, 6785, 6787, 6788, 6791, 6807, 6810, 6820, 6832, 6852, 6856, 6863, 6867, 6870, 6874, 6881, 6890, 6909, 6912, 6918, 6932, 6936, 6944, 6948, 6963, 6970, 6979, 6981, 6984, 6985, 6993, 7013, 7018, 7049, 7050, 7053, 7055, 7059, 7061, 7062, 7069, 7070, 7073, 7079, 7086, 7087, 7090, 7121, 7132, 7139, 7141, 7156, 7158, 7160, 7162, 7190, 7212, 7217, 7219, 7234, 7256, 7285, 7301, 7318, 7323, 7361, 7371, 7382, 7438, 7440, 7479, 7493, 7572, 7584, 7614, 7618, 7619, 7646, 7649, 7700, 7705, 7713, 7714, 7728, 7766, 7789, 7831, 7832, 7833, 7834, 7835, 7932, 7934, 7981, 7983, 8011, 8019, 8094, 8153, 8167, 8191, 8207, 8228, 8235, 8266, 8275, 8337, 8338, 8341, 8360, 8366, 8368, 8375, 8376, 8382, 8424, 8446, 8463, 8464, 8507, 8530, 8607, 8609, 8622, 8636, 8638, 8645, 8695, 8714, 8754, 8784, 8796, 8809, 8827, 8874, 8875, 8879, 8880, 8914, 8920, 8938, 8943, 8949, 8951, 8958, 8961, 8970, 8979, 8983, 9018, 25753, 25825, 25841, 25865, 25886, 25940, 25952, 26151, 26662, 26776, 27731, 27741, 27790, 27820, 27834, 27838, 27878, 27882, 30707, 30749, 30793, 30812, 30820, 30822, 30850, 31030, 31437, 31903, 32582, 32584, 33154, 33166, 33493, 34271, 34359, 34437, 34528, 34542, 35015, 36517, 36527, 36535, 37733, 37736, 37741, 38038, 38886, 39234, 39292, 40583, 40629, 40815, 40819, 41566, 41997, 42002, 42740, 1274, 2393, 2694, 3527, 4454, 4725, 5459, 7439, 8783, 41569, 42422, 45499, 45730, 47610, 52885, 53468, 54503, 55167, 56174, 56367, 57669, 59141, 60069, 62336, 66934, 67087, 68237, 68358, 68791, 68945, 69526, 69757, 70286, 72224, 72998, 79702, 82242, 112552, 80834, 60516, 8533, 55765, 58295, 69122, 69481, 80906, 89745, 90439, 95067, 97304, 104218, 104841, 105504, 1916, 2138, 2731, 3134, 3266, 3671, 3676, 4144, 4552, 6214, 6818, 7024, 8335, 8477, 25771, 26717, 27773, 30810, 40491, 45880, 48394, 56782, 57502, 63062, 71899, 74791, 80463, 94959, 95558, 96079, 99764, 99917, 104875, 104944, 106766, 107406, 108932, 112421, 112852, 113705, 114627, 116797, 117877, 117887, 119145, 122882, 122916, 122918, 122922, 127298, 134130, 134170, 138036, 139644, 140174, 141890, 143367, 148626, 148881, 152077, 153070, 155288, 156605, 161634, 164179, 164909, 167746, 168252, 170945, 174055, 176371, 176419, 180031, 180985, 836, 1801, 5254, 35836, 52712, 1357, 1948, 5694, 6107, 3265]\n",
      "encoded movieId :  {60756: 0, 89774: 1, 106782: 2, 48516: 3, 431: 4, 1221: 5, 5995: 6, 44665: 7, 52604: 8, 88094: 9, 144210: 10, 119141: 11, 109487: 12, 2: 13, 110: 14, 410: 15, 2023: 16, 2124: 17, 2953: 18, 3114: 19, 3578: 20, 4223: 21, 5388: 22, 6058: 23, 6534: 24, 6541: 25, 6564: 26, 7153: 27, 8641: 28, 27660: 29, 27706: 30, 27808: 31, 27831: 32, 31658: 33, 33162: 34, 34150: 35, 37729: 36, 38061: 37, 45447: 38, 46723: 39, 46972: 40, 46976: 41, 49130: 42, 49530: 43, 53464: 44, 58047: 45, 59501: 46, 60074: 47, 60126: 48, 61024: 49, 63992: 50, 68848: 51, 71535: 52, 87430: 53, 88405: 54, 96861: 55, 99114: 56, 103042: 57, 104863: 58, 107348: 59, 108190: 60, 111743: 61, 114180: 62, 115149: 63, 116897: 64, 122912: 65, 128360: 66, 135133: 67, 135518: 68, 135536: 69, 136864: 70, 139385: 71, 158966: 72, 168248: 73, 174053: 74, 179401: 75, 183611: 76, 184471: 77, 187593: 78, 187595: 79, 260: 80, 296: 81, 4896: 82, 106489: 83, 101142: 84, 115617: 85, 120635: 86, 1726: 87, 2387: 88, 3052: 89, 5088: 90, 7022: 91, 7254: 92, 8957: 93, 9010: 94, 42632: 95, 58301: 96, 60950: 97, 62434: 98, 67695: 99, 100083: 100, 156371: 101, 158872: 102, 3556: 103, 6323: 104, 6367: 105, 59103: 106, 52287: 107, 293: 108, 54286: 109, 104: 110, 2579: 111, 3793: 112, 4226: 113, 6283: 114, 27156: 115, 193565: 116, 4878: 117, 7147: 118, 97938: 119, 6938: 120, 48780: 121, 126548: 122, 68319: 123, 3: 124, 1101: 125, 50872: 126, 102007: 127, 118696: 128, 6711: 129, 4034: 130, 4995: 131, 6502: 132, 6953: 133, 34405: 134, 55721: 135, 83134: 136, 778: 137, 4612: 138, 4708: 139, 64034: 140, 68954: 141, 71494: 142, 81158: 143, 82459: 144, 90769: 145, 96084: 146, 111364: 147, 118784: 148, 127172: 149, 364: 150, 1288: 151, 1923: 152, 2616: 153, 3481: 154, 3897: 155, 51255: 156, 1: 157, 552: 158, 1246: 159, 32587: 160, 33660: 161, 34162: 162, 36529: 163, 38798: 164, 2146: 165, 37384: 166, 40955: 167, 44889: 168, 61323: 169, 39: 170, 1059: 171, 2762: 172, 4370: 173, 5464: 174, 7078: 175, 7444: 176, 7451: 177, 54997: 178, 55290: 179, 91500: 180, 91529: 181, 98961: 182, 32: 183, 47: 184, 50: 185, 147: 186, 175: 187, 223: 188, 288: 189, 589: 190, 608: 191, 628: 192, 1089: 193, 1120: 194, 1193: 195, 1219: 196, 1258: 197, 1343: 198, 1625: 199, 1704: 200, 1921: 201, 2160: 202, 2296: 203, 2329: 204, 2505: 205, 2571: 206, 2700: 207, 2959: 208, 3176: 209, 3186: 210, 3499: 211, 3911: 212, 3948: 213, 4262: 214, 4816: 215, 6188: 216, 6290: 217, 8950: 218, 27020: 219, 30825: 220, 34323: 221, 40278: 222, 53127: 223, 66097: 224, 68157: 225, 74458: 226, 79132: 227, 81591: 228, 102903: 229, 104879: 230, 106100: 231, 112515: 232, 112556: 233, 58559: 234, 5952: 235, 98809: 236, 152711: 237, 5: 238, 7: 239, 11: 240, 14: 241, 16: 242, 17: 243, 21: 244, 22: 245, 25: 246, 26: 247, 28: 248, 29: 249, 31: 250, 34: 251, 36: 252, 38: 253, 41: 254, 43: 255, 45: 256, 46: 257, 52: 258, 58: 259, 62: 260, 92: 261, 96: 262, 101: 263, 107: 264, 111: 265, 116: 266, 122: 267, 140: 268, 150: 269, 153: 270, 160: 271, 161: 272, 162: 273, 185: 274, 199: 275, 215: 276, 216: 277, 222: 278, 224: 279, 230: 280, 232: 281, 235: 282, 237: 283, 246: 284, 247: 285, 249: 286, 252: 287, 257: 288, 261: 289, 262: 290, 272: 291, 277: 292, 280: 293, 282: 294, 300: 295, 307: 296, 308: 297, 316: 298, 317: 299, 318: 300, 329: 301, 337: 302, 338: 303, 339: 304, 342: 305, 345: 306, 349: 307, 350: 308, 351: 309, 356: 310, 357: 311, 361: 312, 371: 313, 377: 314, 380: 315, 381: 316, 412: 317, 421: 318, 425: 319, 440: 320, 454: 321, 457: 322, 471: 323, 474: 324, 475: 325, 477: 326, 480: 327, 488: 328, 497: 329, 500: 330, 508: 331, 513: 332, 515: 333, 516: 334, 522: 335, 524: 336, 527: 337, 529: 338, 534: 339, 535: 340, 538: 341, 539: 342, 541: 343, 543: 344, 551: 345, 556: 346, 562: 347, 586: 348, 587: 349, 588: 350, 590: 351, 592: 352, 593: 353, 594: 354, 595: 355, 596: 356, 597: 357, 616: 358, 638: 359, 647: 360, 648: 361, 668: 362, 670: 363, 671: 364, 673: 365, 708: 366, 720: 367, 728: 368, 733: 369, 736: 370, 745: 371, 748: 372, 750: 373, 780: 374, 805: 375, 818: 376, 830: 377, 832: 378, 838: 379, 852: 380, 858: 381, 892: 382, 898: 383, 899: 384, 900: 385, 902: 386, 903: 387, 904: 388, 905: 389, 906: 390, 907: 391, 908: 392, 909: 393, 910: 394, 911: 395, 912: 396, 913: 397, 914: 398, 915: 399, 916: 400, 918: 401, 919: 402, 920: 403, 921: 404, 922: 405, 923: 406, 924: 407, 926: 408, 927: 409, 928: 410, 929: 411, 930: 412, 931: 413, 934: 414, 936: 415, 938: 416, 940: 417, 941: 418, 943: 419, 944: 420, 945: 421, 947: 422, 948: 423, 950: 424, 951: 425, 952: 426, 953: 427, 954: 428, 955: 429, 956: 430, 965: 431, 968: 432, 969: 433, 970: 434, 971: 435, 973: 436, 976: 437, 986: 438, 991: 439, 994: 440, 1006: 441, 1010: 442, 1013: 443, 1022: 444, 1025: 445, 1028: 446, 1029: 447, 1030: 448, 1032: 449, 1033: 450, 1035: 451, 1041: 452, 1042: 453, 1066: 454, 1068: 455, 1079: 456, 1080: 457, 1081: 458, 1082: 459, 1084: 460, 1088: 461, 1090: 462, 1093: 463, 1096: 464, 1097: 465, 1103: 466, 1104: 467, 1124: 468, 1125: 469, 1135: 470, 1136: 471, 1147: 472, 1148: 473, 1171: 474, 1177: 475, 1178: 476, 1179: 477, 1183: 478, 1185: 479, 1187: 480, 1188: 481, 1189: 482, 1196: 483, 1197: 484, 1198: 485, 1200: 486, 1201: 487, 1203: 488, 1204: 489, 1206: 490, 1207: 491, 1208: 492, 1209: 493, 1210: 494, 1212: 495, 1213: 496, 1214: 497, 1217: 498, 1220: 499, 1222: 500, 1223: 501, 1224: 502, 1225: 503, 1228: 504, 1230: 505, 1231: 506, 1233: 507, 1234: 508, 1235: 509, 1237: 510, 1240: 511, 1242: 512, 1243: 513, 1244: 514, 1245: 515, 1247: 516, 1249: 517, 1250: 518, 1252: 519, 1253: 520, 1254: 521, 1257: 522, 1259: 523, 1260: 524, 1262: 525, 1263: 526, 1266: 527, 1267: 528, 1269: 529, 1270: 530, 1272: 531, 1276: 532, 1278: 533, 1281: 534, 1282: 535, 1283: 536, 1284: 537, 1285: 538, 1291: 539, 1292: 540, 1293: 541, 1296: 542, 1299: 543, 1301: 544, 1302: 545, 1303: 546, 1304: 547, 1307: 548, 1333: 549, 1344: 550, 1345: 551, 1348: 552, 1350: 553, 1353: 554, 1354: 555, 1356: 556, 1358: 557, 1363: 558, 1366: 559, 1367: 560, 1372: 561, 1374: 562, 1376: 563, 1377: 564, 1380: 565, 1381: 566, 1387: 567, 1389: 568, 1393: 569, 1394: 570, 1396: 571, 1398: 572, 1407: 573, 1408: 574, 1411: 575, 1413: 576, 1416: 577, 1423: 578, 1441: 579, 1449: 580, 1466: 581, 1474: 582, 1485: 583, 1496: 584, 1500: 585, 1513: 586, 1537: 587, 1544: 588, 1545: 589, 1569: 590, 1573: 591, 1580: 592, 1586: 593, 1608: 594, 1610: 595, 1617: 596, 1635: 597, 1643: 598, 1645: 599, 1650: 600, 1653: 601, 1663: 602, 1674: 603, 1680: 604, 1682: 605, 1683: 606, 1711: 607, 1717: 608, 1719: 609, 1721: 610, 1732: 611, 1735: 612, 1748: 613, 1777: 614, 1797: 615, 1810: 616, 1834: 617, 1893: 618, 1902: 619, 1909: 620, 1912: 621, 1913: 622, 1917: 623, 1931: 624, 1938: 625, 1940: 626, 1942: 627, 1945: 628, 1947: 629, 1950: 630, 1951: 631, 1952: 632, 1953: 633, 1954: 634, 1955: 635, 1957: 636, 1959: 637, 1960: 638, 1961: 639, 1962: 640, 1975: 641, 1976: 642, 1977: 643, 1983: 644, 1984: 645, 1994: 646, 1995: 647, 1996: 648, 1997: 649, 2006: 650, 2011: 651, 2019: 652, 2020: 653, 2022: 654, 2028: 655, 2054: 656, 2058: 657, 2059: 658, 2064: 659, 2066: 660, 2070: 661, 2076: 662, 2078: 663, 2080: 664, 2085: 665, 2097: 666, 2100: 667, 2108: 668, 2114: 669, 2115: 670, 2116: 671, 2118: 672, 2121: 673, 2122: 674, 2139: 675, 2145: 676, 2167: 677, 2171: 678, 2186: 679, 2187: 680, 2194: 681, 2202: 682, 2203: 683, 2206: 684, 2208: 685, 2243: 686, 2247: 687, 2248: 688, 2249: 689, 2268: 690, 2291: 691, 2295: 692, 2300: 693, 2302: 694, 2310: 695, 2312: 696, 2313: 697, 2324: 698, 2334: 699, 2335: 700, 2336: 701, 2355: 702, 2357: 703, 2390: 704, 2391: 705, 2394: 706, 2396: 707, 2410: 708, 2411: 709, 2412: 710, 2420: 711, 2421: 712, 2422: 713, 2423: 714, 2424: 715, 2431: 716, 2442: 717, 2463: 718, 2467: 719, 2470: 720, 2471: 721, 2491: 722, 2494: 723, 2502: 724, 2506: 725, 2517: 726, 2529: 727, 2550: 728, 2553: 729, 2554: 730, 2565: 731, 2572: 732, 2581: 733, 2583: 734, 2598: 735, 2600: 736, 2612: 737, 2628: 738, 2640: 739, 2641: 740, 2642: 741, 2648: 742, 2660: 743, 2664: 744, 2692: 745, 2693: 746, 2710: 747, 2712: 748, 2716: 749, 2717: 750, 2719: 751, 2723: 752, 2726: 753, 2728: 754, 2745: 755, 2750: 756, 2761: 757, 2787: 758, 2791: 759, 2797: 760, 2801: 761, 2803: 762, 2804: 763, 2827: 764, 2863: 765, 2871: 766, 2872: 767, 2915: 768, 2918: 769, 2919: 770, 2927: 771, 2935: 772, 2937: 773, 2940: 774, 2941: 775, 2943: 776, 2952: 777, 2966: 778, 2967: 779, 2968: 780, 2987: 781, 3000: 782, 3006: 783, 3011: 784, 3028: 785, 3030: 786, 3039: 787, 3040: 788, 3044: 789, 3071: 790, 3072: 791, 3081: 792, 3087: 793, 3095: 794, 3097: 795, 3098: 796, 3101: 797, 3108: 798, 3111: 799, 3115: 800, 3125: 801, 3135: 802, 3147: 803, 3152: 804, 3160: 805, 3174: 806, 3175: 807, 3178: 808, 3181: 809, 3210: 810, 3211: 811, 3247: 812, 3258: 813, 3259: 814, 3260: 815, 3263: 816, 3270: 817, 3273: 818, 3281: 819, 3306: 820, 3307: 821, 3310: 822, 3317: 823, 3330: 824, 3341: 825, 3360: 826, 3384: 827, 3385: 828, 3386: 829, 3408: 830, 3420: 831, 3421: 832, 3424: 833, 3429: 834, 3435: 835, 3447: 836, 3451: 837, 3461: 838, 3462: 839, 3468: 840, 3469: 841, 3475: 842, 3489: 843, 3498: 844, 3502: 845, 3504: 846, 3512: 847, 3515: 848, 3526: 849, 3528: 850, 3536: 851, 3546: 852, 3548: 853, 3549: 854, 3552: 855, 3566: 856, 3608: 857, 3629: 858, 3675: 859, 3683: 860, 3712: 861, 3723: 862, 3724: 863, 3730: 864, 3735: 865, 3801: 866, 3811: 867, 3816: 868, 3844: 869, 3849: 870, 3859: 871, 3877: 872, 3910: 873, 3932: 874, 3949: 875, 3967: 876, 3983: 877, 3988: 878, 3994: 879, 3996: 880, 4007: 881, 4012: 882, 4019: 883, 4024: 884, 4025: 885, 4027: 886, 4029: 887, 4046: 888, 4077: 889, 4105: 890, 4113: 891, 4138: 892, 4160: 893, 4164: 894, 4166: 895, 4171: 896, 4184: 897, 4189: 898, 4190: 899, 4191: 900, 4204: 901, 4210: 902, 4211: 903, 4214: 904, 4218: 905, 4221: 906, 4232: 907, 4246: 908, 4259: 909, 4263: 910, 4292: 911, 4296: 912, 4306: 913, 4316: 914, 4326: 915, 4333: 916, 4347: 917, 4356: 918, 4359: 919, 4361: 920, 4380: 921, 4396: 922, 4447: 923, 4448: 924, 4465: 925, 4476: 926, 4477: 927, 4489: 928, 4495: 929, 4526: 930, 4537: 931, 4545: 932, 4546: 933, 4558: 934, 4571: 935, 4600: 936, 4621: 937, 4623: 938, 4638: 939, 4639: 940, 4641: 941, 4677: 942, 4678: 943, 4787: 944, 4801: 945, 4808: 946, 4809: 947, 4812: 948, 4823: 949, 4835: 950, 4857: 951, 4874: 952, 4881: 953, 4902: 954, 4920: 955, 4963: 956, 4969: 957, 4970: 958, 4973: 959, 4979: 960, 4980: 961, 4993: 962, 4998: 963, 5008: 964, 5012: 965, 5015: 966, 5034: 967, 5064: 968, 5114: 969, 5135: 970, 5213: 971, 5224: 972, 5238: 973, 5266: 974, 5291: 975, 5294: 976, 5316: 977, 5349: 978, 5353: 979, 5377: 980, 5379: 981, 5398: 982, 5404: 983, 5445: 984, 5446: 985, 5450: 986, 5451: 987, 5470: 988, 5475: 989, 5483: 990, 5502: 991, 5505: 992, 5527: 993, 5528: 994, 5548: 995, 5577: 996, 5601: 997, 5603: 998, 5618: 999, 5629: 1000, 5630: 1001, 5633: 1002, 5644: 1003, 5669: 1004, 5673: 1005, 5682: 1006, 5685: 1007, 5690: 1008, 5747: 1009, 5791: 1010, 5792: 1011, 5802: 1012, 5812: 1013, 5816: 1014, 5820: 1015, 5875: 1016, 5876: 1017, 5878: 1018, 5899: 1019, 5954: 1020, 5971: 1021, 5989: 1022, 5991: 1023, 5994: 1024, 6002: 1025, 6003: 1026, 6016: 1027, 6020: 1028, 6031: 1029, 6041: 1030, 6063: 1031, 6090: 1032, 6101: 1033, 6104: 1034, 6156: 1035, 6159: 1036, 6163: 1037, 6170: 1038, 6178: 1039, 6181: 1040, 6183: 1041, 6195: 1042, 6197: 1043, 6201: 1044, 6216: 1045, 6218: 1046, 6228: 1047, 6232: 1048, 6235: 1049, 6238: 1050, 6242: 1051, 6244: 1052, 6245: 1053, 6254: 1054, 6268: 1055, 6269: 1056, 6273: 1057, 6281: 1058, 6286: 1059, 6288: 1060, 6289: 1061, 6291: 1062, 6296: 1063, 6297: 1064, 6299: 1065, 6305: 1066, 6308: 1067, 6327: 1068, 6331: 1069, 6333: 1070, 6334: 1071, 6337: 1072, 6339: 1073, 6341: 1074, 6350: 1075, 6368: 1076, 6373: 1077, 6377: 1078, 6378: 1079, 6380: 1080, 6385: 1081, 6390: 1082, 6400: 1083, 6407: 1084, 6422: 1085, 6440: 1086, 6454: 1087, 6466: 1088, 6515: 1089, 6535: 1090, 6536: 1091, 6539: 1092, 6545: 1093, 6547: 1094, 6552: 1095, 6565: 1096, 6579: 1097, 6591: 1098, 6592: 1099, 6603: 1100, 6609: 1101, 6620: 1102, 6636: 1103, 6639: 1104, 6650: 1105, 6660: 1106, 6662: 1107, 6667: 1108, 6669: 1109, 6708: 1110, 6710: 1111, 6713: 1112, 6724: 1113, 6732: 1114, 6744: 1115, 6753: 1116, 6768: 1117, 6770: 1118, 6773: 1119, 6776: 1120, 6785: 1121, 6787: 1122, 6788: 1123, 6791: 1124, 6807: 1125, 6810: 1126, 6820: 1127, 6832: 1128, 6852: 1129, 6856: 1130, 6863: 1131, 6867: 1132, 6870: 1133, 6874: 1134, 6881: 1135, 6890: 1136, 6909: 1137, 6912: 1138, 6918: 1139, 6932: 1140, 6936: 1141, 6944: 1142, 6948: 1143, 6963: 1144, 6970: 1145, 6979: 1146, 6981: 1147, 6984: 1148, 6985: 1149, 6993: 1150, 7013: 1151, 7018: 1152, 7049: 1153, 7050: 1154, 7053: 1155, 7055: 1156, 7059: 1157, 7061: 1158, 7062: 1159, 7069: 1160, 7070: 1161, 7073: 1162, 7079: 1163, 7086: 1164, 7087: 1165, 7090: 1166, 7121: 1167, 7132: 1168, 7139: 1169, 7141: 1170, 7156: 1171, 7158: 1172, 7160: 1173, 7162: 1174, 7190: 1175, 7212: 1176, 7217: 1177, 7219: 1178, 7234: 1179, 7256: 1180, 7285: 1181, 7301: 1182, 7318: 1183, 7323: 1184, 7361: 1185, 7371: 1186, 7382: 1187, 7438: 1188, 7440: 1189, 7479: 1190, 7493: 1191, 7572: 1192, 7584: 1193, 7614: 1194, 7618: 1195, 7619: 1196, 7646: 1197, 7649: 1198, 7700: 1199, 7705: 1200, 7713: 1201, 7714: 1202, 7728: 1203, 7766: 1204, 7789: 1205, 7831: 1206, 7832: 1207, 7833: 1208, 7834: 1209, 7835: 1210, 7932: 1211, 7934: 1212, 7981: 1213, 7983: 1214, 8011: 1215, 8019: 1216, 8094: 1217, 8153: 1218, 8167: 1219, 8191: 1220, 8207: 1221, 8228: 1222, 8235: 1223, 8266: 1224, 8275: 1225, 8337: 1226, 8338: 1227, 8341: 1228, 8360: 1229, 8366: 1230, 8368: 1231, 8375: 1232, 8376: 1233, 8382: 1234, 8424: 1235, 8446: 1236, 8463: 1237, 8464: 1238, 8507: 1239, 8530: 1240, 8607: 1241, 8609: 1242, 8622: 1243, 8636: 1244, 8638: 1245, 8645: 1246, 8695: 1247, 8714: 1248, 8754: 1249, 8784: 1250, 8796: 1251, 8809: 1252, 8827: 1253, 8874: 1254, 8875: 1255, 8879: 1256, 8880: 1257, 8914: 1258, 8920: 1259, 8938: 1260, 8943: 1261, 8949: 1262, 8951: 1263, 8958: 1264, 8961: 1265, 8970: 1266, 8979: 1267, 8983: 1268, 9018: 1269, 25753: 1270, 25825: 1271, 25841: 1272, 25865: 1273, 25886: 1274, 25940: 1275, 25952: 1276, 26151: 1277, 26662: 1278, 26776: 1279, 27731: 1280, 27741: 1281, 27790: 1282, 27820: 1283, 27834: 1284, 27838: 1285, 27878: 1286, 27882: 1287, 30707: 1288, 30749: 1289, 30793: 1290, 30812: 1291, 30820: 1292, 30822: 1293, 30850: 1294, 31030: 1295, 31437: 1296, 31903: 1297, 32582: 1298, 32584: 1299, 33154: 1300, 33166: 1301, 33493: 1302, 34271: 1303, 34359: 1304, 34437: 1305, 34528: 1306, 34542: 1307, 35015: 1308, 36517: 1309, 36527: 1310, 36535: 1311, 37733: 1312, 37736: 1313, 37741: 1314, 38038: 1315, 38886: 1316, 39234: 1317, 39292: 1318, 40583: 1319, 40629: 1320, 40815: 1321, 40819: 1322, 41566: 1323, 41997: 1324, 42002: 1325, 42740: 1326, 1274: 1327, 2393: 1328, 2694: 1329, 3527: 1330, 4454: 1331, 4725: 1332, 5459: 1333, 7439: 1334, 8783: 1335, 41569: 1336, 42422: 1337, 45499: 1338, 45730: 1339, 47610: 1340, 52885: 1341, 53468: 1342, 54503: 1343, 55167: 1344, 56174: 1345, 56367: 1346, 57669: 1347, 59141: 1348, 60069: 1349, 62336: 1350, 66934: 1351, 67087: 1352, 68237: 1353, 68358: 1354, 68791: 1355, 68945: 1356, 69526: 1357, 69757: 1358, 70286: 1359, 72224: 1360, 72998: 1361, 79702: 1362, 82242: 1363, 112552: 1364, 80834: 1365, 60516: 1366, 8533: 1367, 55765: 1368, 58295: 1369, 69122: 1370, 69481: 1371, 80906: 1372, 89745: 1373, 90439: 1374, 95067: 1375, 97304: 1376, 104218: 1377, 104841: 1378, 105504: 1379, 1916: 1380, 2138: 1381, 2731: 1382, 3134: 1383, 3266: 1384, 3671: 1385, 3676: 1386, 4144: 1387, 4552: 1388, 6214: 1389, 6818: 1390, 7024: 1391, 8335: 1392, 8477: 1393, 25771: 1394, 26717: 1395, 27773: 1396, 30810: 1397, 40491: 1398, 45880: 1399, 48394: 1400, 56782: 1401, 57502: 1402, 63062: 1403, 71899: 1404, 74791: 1405, 80463: 1406, 94959: 1407, 95558: 1408, 96079: 1409, 99764: 1410, 99917: 1411, 104875: 1412, 104944: 1413, 106766: 1414, 107406: 1415, 108932: 1416, 112421: 1417, 112852: 1418, 113705: 1419, 114627: 1420, 116797: 1421, 117877: 1422, 117887: 1423, 119145: 1424, 122882: 1425, 122916: 1426, 122918: 1427, 122922: 1428, 127298: 1429, 134130: 1430, 134170: 1431, 138036: 1432, 139644: 1433, 140174: 1434, 141890: 1435, 143367: 1436, 148626: 1437, 148881: 1438, 152077: 1439, 153070: 1440, 155288: 1441, 156605: 1442, 161634: 1443, 164179: 1444, 164909: 1445, 167746: 1446, 168252: 1447, 170945: 1448, 174055: 1449, 176371: 1450, 176419: 1451, 180031: 1452, 180985: 1453, 836: 1454, 1801: 1455, 5254: 1456, 35836: 1457, 52712: 1458, 1357: 1459, 1948: 1460, 5694: 1461, 6107: 1462, 3265: 1463}\n",
      "encoded angka ke movieId:  {0: 60756, 1: 89774, 2: 106782, 3: 48516, 4: 431, 5: 1221, 6: 5995, 7: 44665, 8: 52604, 9: 88094, 10: 144210, 11: 119141, 12: 109487, 13: 2, 14: 110, 15: 410, 16: 2023, 17: 2124, 18: 2953, 19: 3114, 20: 3578, 21: 4223, 22: 5388, 23: 6058, 24: 6534, 25: 6541, 26: 6564, 27: 7153, 28: 8641, 29: 27660, 30: 27706, 31: 27808, 32: 27831, 33: 31658, 34: 33162, 35: 34150, 36: 37729, 37: 38061, 38: 45447, 39: 46723, 40: 46972, 41: 46976, 42: 49130, 43: 49530, 44: 53464, 45: 58047, 46: 59501, 47: 60074, 48: 60126, 49: 61024, 50: 63992, 51: 68848, 52: 71535, 53: 87430, 54: 88405, 55: 96861, 56: 99114, 57: 103042, 58: 104863, 59: 107348, 60: 108190, 61: 111743, 62: 114180, 63: 115149, 64: 116897, 65: 122912, 66: 128360, 67: 135133, 68: 135518, 69: 135536, 70: 136864, 71: 139385, 72: 158966, 73: 168248, 74: 174053, 75: 179401, 76: 183611, 77: 184471, 78: 187593, 79: 187595, 80: 260, 81: 296, 82: 4896, 83: 106489, 84: 101142, 85: 115617, 86: 120635, 87: 1726, 88: 2387, 89: 3052, 90: 5088, 91: 7022, 92: 7254, 93: 8957, 94: 9010, 95: 42632, 96: 58301, 97: 60950, 98: 62434, 99: 67695, 100: 100083, 101: 156371, 102: 158872, 103: 3556, 104: 6323, 105: 6367, 106: 59103, 107: 52287, 108: 293, 109: 54286, 110: 104, 111: 2579, 112: 3793, 113: 4226, 114: 6283, 115: 27156, 116: 193565, 117: 4878, 118: 7147, 119: 97938, 120: 6938, 121: 48780, 122: 126548, 123: 68319, 124: 3, 125: 1101, 126: 50872, 127: 102007, 128: 118696, 129: 6711, 130: 4034, 131: 4995, 132: 6502, 133: 6953, 134: 34405, 135: 55721, 136: 83134, 137: 778, 138: 4612, 139: 4708, 140: 64034, 141: 68954, 142: 71494, 143: 81158, 144: 82459, 145: 90769, 146: 96084, 147: 111364, 148: 118784, 149: 127172, 150: 364, 151: 1288, 152: 1923, 153: 2616, 154: 3481, 155: 3897, 156: 51255, 157: 1, 158: 552, 159: 1246, 160: 32587, 161: 33660, 162: 34162, 163: 36529, 164: 38798, 165: 2146, 166: 37384, 167: 40955, 168: 44889, 169: 61323, 170: 39, 171: 1059, 172: 2762, 173: 4370, 174: 5464, 175: 7078, 176: 7444, 177: 7451, 178: 54997, 179: 55290, 180: 91500, 181: 91529, 182: 98961, 183: 32, 184: 47, 185: 50, 186: 147, 187: 175, 188: 223, 189: 288, 190: 589, 191: 608, 192: 628, 193: 1089, 194: 1120, 195: 1193, 196: 1219, 197: 1258, 198: 1343, 199: 1625, 200: 1704, 201: 1921, 202: 2160, 203: 2296, 204: 2329, 205: 2505, 206: 2571, 207: 2700, 208: 2959, 209: 3176, 210: 3186, 211: 3499, 212: 3911, 213: 3948, 214: 4262, 215: 4816, 216: 6188, 217: 6290, 218: 8950, 219: 27020, 220: 30825, 221: 34323, 222: 40278, 223: 53127, 224: 66097, 225: 68157, 226: 74458, 227: 79132, 228: 81591, 229: 102903, 230: 104879, 231: 106100, 232: 112515, 233: 112556, 234: 58559, 235: 5952, 236: 98809, 237: 152711, 238: 5, 239: 7, 240: 11, 241: 14, 242: 16, 243: 17, 244: 21, 245: 22, 246: 25, 247: 26, 248: 28, 249: 29, 250: 31, 251: 34, 252: 36, 253: 38, 254: 41, 255: 43, 256: 45, 257: 46, 258: 52, 259: 58, 260: 62, 261: 92, 262: 96, 263: 101, 264: 107, 265: 111, 266: 116, 267: 122, 268: 140, 269: 150, 270: 153, 271: 160, 272: 161, 273: 162, 274: 185, 275: 199, 276: 215, 277: 216, 278: 222, 279: 224, 280: 230, 281: 232, 282: 235, 283: 237, 284: 246, 285: 247, 286: 249, 287: 252, 288: 257, 289: 261, 290: 262, 291: 272, 292: 277, 293: 280, 294: 282, 295: 300, 296: 307, 297: 308, 298: 316, 299: 317, 300: 318, 301: 329, 302: 337, 303: 338, 304: 339, 305: 342, 306: 345, 307: 349, 308: 350, 309: 351, 310: 356, 311: 357, 312: 361, 313: 371, 314: 377, 315: 380, 316: 381, 317: 412, 318: 421, 319: 425, 320: 440, 321: 454, 322: 457, 323: 471, 324: 474, 325: 475, 326: 477, 327: 480, 328: 488, 329: 497, 330: 500, 331: 508, 332: 513, 333: 515, 334: 516, 335: 522, 336: 524, 337: 527, 338: 529, 339: 534, 340: 535, 341: 538, 342: 539, 343: 541, 344: 543, 345: 551, 346: 556, 347: 562, 348: 586, 349: 587, 350: 588, 351: 590, 352: 592, 353: 593, 354: 594, 355: 595, 356: 596, 357: 597, 358: 616, 359: 638, 360: 647, 361: 648, 362: 668, 363: 670, 364: 671, 365: 673, 366: 708, 367: 720, 368: 728, 369: 733, 370: 736, 371: 745, 372: 748, 373: 750, 374: 780, 375: 805, 376: 818, 377: 830, 378: 832, 379: 838, 380: 852, 381: 858, 382: 892, 383: 898, 384: 899, 385: 900, 386: 902, 387: 903, 388: 904, 389: 905, 390: 906, 391: 907, 392: 908, 393: 909, 394: 910, 395: 911, 396: 912, 397: 913, 398: 914, 399: 915, 400: 916, 401: 918, 402: 919, 403: 920, 404: 921, 405: 922, 406: 923, 407: 924, 408: 926, 409: 927, 410: 928, 411: 929, 412: 930, 413: 931, 414: 934, 415: 936, 416: 938, 417: 940, 418: 941, 419: 943, 420: 944, 421: 945, 422: 947, 423: 948, 424: 950, 425: 951, 426: 952, 427: 953, 428: 954, 429: 955, 430: 956, 431: 965, 432: 968, 433: 969, 434: 970, 435: 971, 436: 973, 437: 976, 438: 986, 439: 991, 440: 994, 441: 1006, 442: 1010, 443: 1013, 444: 1022, 445: 1025, 446: 1028, 447: 1029, 448: 1030, 449: 1032, 450: 1033, 451: 1035, 452: 1041, 453: 1042, 454: 1066, 455: 1068, 456: 1079, 457: 1080, 458: 1081, 459: 1082, 460: 1084, 461: 1088, 462: 1090, 463: 1093, 464: 1096, 465: 1097, 466: 1103, 467: 1104, 468: 1124, 469: 1125, 470: 1135, 471: 1136, 472: 1147, 473: 1148, 474: 1171, 475: 1177, 476: 1178, 477: 1179, 478: 1183, 479: 1185, 480: 1187, 481: 1188, 482: 1189, 483: 1196, 484: 1197, 485: 1198, 486: 1200, 487: 1201, 488: 1203, 489: 1204, 490: 1206, 491: 1207, 492: 1208, 493: 1209, 494: 1210, 495: 1212, 496: 1213, 497: 1214, 498: 1217, 499: 1220, 500: 1222, 501: 1223, 502: 1224, 503: 1225, 504: 1228, 505: 1230, 506: 1231, 507: 1233, 508: 1234, 509: 1235, 510: 1237, 511: 1240, 512: 1242, 513: 1243, 514: 1244, 515: 1245, 516: 1247, 517: 1249, 518: 1250, 519: 1252, 520: 1253, 521: 1254, 522: 1257, 523: 1259, 524: 1260, 525: 1262, 526: 1263, 527: 1266, 528: 1267, 529: 1269, 530: 1270, 531: 1272, 532: 1276, 533: 1278, 534: 1281, 535: 1282, 536: 1283, 537: 1284, 538: 1285, 539: 1291, 540: 1292, 541: 1293, 542: 1296, 543: 1299, 544: 1301, 545: 1302, 546: 1303, 547: 1304, 548: 1307, 549: 1333, 550: 1344, 551: 1345, 552: 1348, 553: 1350, 554: 1353, 555: 1354, 556: 1356, 557: 1358, 558: 1363, 559: 1366, 560: 1367, 561: 1372, 562: 1374, 563: 1376, 564: 1377, 565: 1380, 566: 1381, 567: 1387, 568: 1389, 569: 1393, 570: 1394, 571: 1396, 572: 1398, 573: 1407, 574: 1408, 575: 1411, 576: 1413, 577: 1416, 578: 1423, 579: 1441, 580: 1449, 581: 1466, 582: 1474, 583: 1485, 584: 1496, 585: 1500, 586: 1513, 587: 1537, 588: 1544, 589: 1545, 590: 1569, 591: 1573, 592: 1580, 593: 1586, 594: 1608, 595: 1610, 596: 1617, 597: 1635, 598: 1643, 599: 1645, 600: 1650, 601: 1653, 602: 1663, 603: 1674, 604: 1680, 605: 1682, 606: 1683, 607: 1711, 608: 1717, 609: 1719, 610: 1721, 611: 1732, 612: 1735, 613: 1748, 614: 1777, 615: 1797, 616: 1810, 617: 1834, 618: 1893, 619: 1902, 620: 1909, 621: 1912, 622: 1913, 623: 1917, 624: 1931, 625: 1938, 626: 1940, 627: 1942, 628: 1945, 629: 1947, 630: 1950, 631: 1951, 632: 1952, 633: 1953, 634: 1954, 635: 1955, 636: 1957, 637: 1959, 638: 1960, 639: 1961, 640: 1962, 641: 1975, 642: 1976, 643: 1977, 644: 1983, 645: 1984, 646: 1994, 647: 1995, 648: 1996, 649: 1997, 650: 2006, 651: 2011, 652: 2019, 653: 2020, 654: 2022, 655: 2028, 656: 2054, 657: 2058, 658: 2059, 659: 2064, 660: 2066, 661: 2070, 662: 2076, 663: 2078, 664: 2080, 665: 2085, 666: 2097, 667: 2100, 668: 2108, 669: 2114, 670: 2115, 671: 2116, 672: 2118, 673: 2121, 674: 2122, 675: 2139, 676: 2145, 677: 2167, 678: 2171, 679: 2186, 680: 2187, 681: 2194, 682: 2202, 683: 2203, 684: 2206, 685: 2208, 686: 2243, 687: 2247, 688: 2248, 689: 2249, 690: 2268, 691: 2291, 692: 2295, 693: 2300, 694: 2302, 695: 2310, 696: 2312, 697: 2313, 698: 2324, 699: 2334, 700: 2335, 701: 2336, 702: 2355, 703: 2357, 704: 2390, 705: 2391, 706: 2394, 707: 2396, 708: 2410, 709: 2411, 710: 2412, 711: 2420, 712: 2421, 713: 2422, 714: 2423, 715: 2424, 716: 2431, 717: 2442, 718: 2463, 719: 2467, 720: 2470, 721: 2471, 722: 2491, 723: 2494, 724: 2502, 725: 2506, 726: 2517, 727: 2529, 728: 2550, 729: 2553, 730: 2554, 731: 2565, 732: 2572, 733: 2581, 734: 2583, 735: 2598, 736: 2600, 737: 2612, 738: 2628, 739: 2640, 740: 2641, 741: 2642, 742: 2648, 743: 2660, 744: 2664, 745: 2692, 746: 2693, 747: 2710, 748: 2712, 749: 2716, 750: 2717, 751: 2719, 752: 2723, 753: 2726, 754: 2728, 755: 2745, 756: 2750, 757: 2761, 758: 2787, 759: 2791, 760: 2797, 761: 2801, 762: 2803, 763: 2804, 764: 2827, 765: 2863, 766: 2871, 767: 2872, 768: 2915, 769: 2918, 770: 2919, 771: 2927, 772: 2935, 773: 2937, 774: 2940, 775: 2941, 776: 2943, 777: 2952, 778: 2966, 779: 2967, 780: 2968, 781: 2987, 782: 3000, 783: 3006, 784: 3011, 785: 3028, 786: 3030, 787: 3039, 788: 3040, 789: 3044, 790: 3071, 791: 3072, 792: 3081, 793: 3087, 794: 3095, 795: 3097, 796: 3098, 797: 3101, 798: 3108, 799: 3111, 800: 3115, 801: 3125, 802: 3135, 803: 3147, 804: 3152, 805: 3160, 806: 3174, 807: 3175, 808: 3178, 809: 3181, 810: 3210, 811: 3211, 812: 3247, 813: 3258, 814: 3259, 815: 3260, 816: 3263, 817: 3270, 818: 3273, 819: 3281, 820: 3306, 821: 3307, 822: 3310, 823: 3317, 824: 3330, 825: 3341, 826: 3360, 827: 3384, 828: 3385, 829: 3386, 830: 3408, 831: 3420, 832: 3421, 833: 3424, 834: 3429, 835: 3435, 836: 3447, 837: 3451, 838: 3461, 839: 3462, 840: 3468, 841: 3469, 842: 3475, 843: 3489, 844: 3498, 845: 3502, 846: 3504, 847: 3512, 848: 3515, 849: 3526, 850: 3528, 851: 3536, 852: 3546, 853: 3548, 854: 3549, 855: 3552, 856: 3566, 857: 3608, 858: 3629, 859: 3675, 860: 3683, 861: 3712, 862: 3723, 863: 3724, 864: 3730, 865: 3735, 866: 3801, 867: 3811, 868: 3816, 869: 3844, 870: 3849, 871: 3859, 872: 3877, 873: 3910, 874: 3932, 875: 3949, 876: 3967, 877: 3983, 878: 3988, 879: 3994, 880: 3996, 881: 4007, 882: 4012, 883: 4019, 884: 4024, 885: 4025, 886: 4027, 887: 4029, 888: 4046, 889: 4077, 890: 4105, 891: 4113, 892: 4138, 893: 4160, 894: 4164, 895: 4166, 896: 4171, 897: 4184, 898: 4189, 899: 4190, 900: 4191, 901: 4204, 902: 4210, 903: 4211, 904: 4214, 905: 4218, 906: 4221, 907: 4232, 908: 4246, 909: 4259, 910: 4263, 911: 4292, 912: 4296, 913: 4306, 914: 4316, 915: 4326, 916: 4333, 917: 4347, 918: 4356, 919: 4359, 920: 4361, 921: 4380, 922: 4396, 923: 4447, 924: 4448, 925: 4465, 926: 4476, 927: 4477, 928: 4489, 929: 4495, 930: 4526, 931: 4537, 932: 4545, 933: 4546, 934: 4558, 935: 4571, 936: 4600, 937: 4621, 938: 4623, 939: 4638, 940: 4639, 941: 4641, 942: 4677, 943: 4678, 944: 4787, 945: 4801, 946: 4808, 947: 4809, 948: 4812, 949: 4823, 950: 4835, 951: 4857, 952: 4874, 953: 4881, 954: 4902, 955: 4920, 956: 4963, 957: 4969, 958: 4970, 959: 4973, 960: 4979, 961: 4980, 962: 4993, 963: 4998, 964: 5008, 965: 5012, 966: 5015, 967: 5034, 968: 5064, 969: 5114, 970: 5135, 971: 5213, 972: 5224, 973: 5238, 974: 5266, 975: 5291, 976: 5294, 977: 5316, 978: 5349, 979: 5353, 980: 5377, 981: 5379, 982: 5398, 983: 5404, 984: 5445, 985: 5446, 986: 5450, 987: 5451, 988: 5470, 989: 5475, 990: 5483, 991: 5502, 992: 5505, 993: 5527, 994: 5528, 995: 5548, 996: 5577, 997: 5601, 998: 5603, 999: 5618, 1000: 5629, 1001: 5630, 1002: 5633, 1003: 5644, 1004: 5669, 1005: 5673, 1006: 5682, 1007: 5685, 1008: 5690, 1009: 5747, 1010: 5791, 1011: 5792, 1012: 5802, 1013: 5812, 1014: 5816, 1015: 5820, 1016: 5875, 1017: 5876, 1018: 5878, 1019: 5899, 1020: 5954, 1021: 5971, 1022: 5989, 1023: 5991, 1024: 5994, 1025: 6002, 1026: 6003, 1027: 6016, 1028: 6020, 1029: 6031, 1030: 6041, 1031: 6063, 1032: 6090, 1033: 6101, 1034: 6104, 1035: 6156, 1036: 6159, 1037: 6163, 1038: 6170, 1039: 6178, 1040: 6181, 1041: 6183, 1042: 6195, 1043: 6197, 1044: 6201, 1045: 6216, 1046: 6218, 1047: 6228, 1048: 6232, 1049: 6235, 1050: 6238, 1051: 6242, 1052: 6244, 1053: 6245, 1054: 6254, 1055: 6268, 1056: 6269, 1057: 6273, 1058: 6281, 1059: 6286, 1060: 6288, 1061: 6289, 1062: 6291, 1063: 6296, 1064: 6297, 1065: 6299, 1066: 6305, 1067: 6308, 1068: 6327, 1069: 6331, 1070: 6333, 1071: 6334, 1072: 6337, 1073: 6339, 1074: 6341, 1075: 6350, 1076: 6368, 1077: 6373, 1078: 6377, 1079: 6378, 1080: 6380, 1081: 6385, 1082: 6390, 1083: 6400, 1084: 6407, 1085: 6422, 1086: 6440, 1087: 6454, 1088: 6466, 1089: 6515, 1090: 6535, 1091: 6536, 1092: 6539, 1093: 6545, 1094: 6547, 1095: 6552, 1096: 6565, 1097: 6579, 1098: 6591, 1099: 6592, 1100: 6603, 1101: 6609, 1102: 6620, 1103: 6636, 1104: 6639, 1105: 6650, 1106: 6660, 1107: 6662, 1108: 6667, 1109: 6669, 1110: 6708, 1111: 6710, 1112: 6713, 1113: 6724, 1114: 6732, 1115: 6744, 1116: 6753, 1117: 6768, 1118: 6770, 1119: 6773, 1120: 6776, 1121: 6785, 1122: 6787, 1123: 6788, 1124: 6791, 1125: 6807, 1126: 6810, 1127: 6820, 1128: 6832, 1129: 6852, 1130: 6856, 1131: 6863, 1132: 6867, 1133: 6870, 1134: 6874, 1135: 6881, 1136: 6890, 1137: 6909, 1138: 6912, 1139: 6918, 1140: 6932, 1141: 6936, 1142: 6944, 1143: 6948, 1144: 6963, 1145: 6970, 1146: 6979, 1147: 6981, 1148: 6984, 1149: 6985, 1150: 6993, 1151: 7013, 1152: 7018, 1153: 7049, 1154: 7050, 1155: 7053, 1156: 7055, 1157: 7059, 1158: 7061, 1159: 7062, 1160: 7069, 1161: 7070, 1162: 7073, 1163: 7079, 1164: 7086, 1165: 7087, 1166: 7090, 1167: 7121, 1168: 7132, 1169: 7139, 1170: 7141, 1171: 7156, 1172: 7158, 1173: 7160, 1174: 7162, 1175: 7190, 1176: 7212, 1177: 7217, 1178: 7219, 1179: 7234, 1180: 7256, 1181: 7285, 1182: 7301, 1183: 7318, 1184: 7323, 1185: 7361, 1186: 7371, 1187: 7382, 1188: 7438, 1189: 7440, 1190: 7479, 1191: 7493, 1192: 7572, 1193: 7584, 1194: 7614, 1195: 7618, 1196: 7619, 1197: 7646, 1198: 7649, 1199: 7700, 1200: 7705, 1201: 7713, 1202: 7714, 1203: 7728, 1204: 7766, 1205: 7789, 1206: 7831, 1207: 7832, 1208: 7833, 1209: 7834, 1210: 7835, 1211: 7932, 1212: 7934, 1213: 7981, 1214: 7983, 1215: 8011, 1216: 8019, 1217: 8094, 1218: 8153, 1219: 8167, 1220: 8191, 1221: 8207, 1222: 8228, 1223: 8235, 1224: 8266, 1225: 8275, 1226: 8337, 1227: 8338, 1228: 8341, 1229: 8360, 1230: 8366, 1231: 8368, 1232: 8375, 1233: 8376, 1234: 8382, 1235: 8424, 1236: 8446, 1237: 8463, 1238: 8464, 1239: 8507, 1240: 8530, 1241: 8607, 1242: 8609, 1243: 8622, 1244: 8636, 1245: 8638, 1246: 8645, 1247: 8695, 1248: 8714, 1249: 8754, 1250: 8784, 1251: 8796, 1252: 8809, 1253: 8827, 1254: 8874, 1255: 8875, 1256: 8879, 1257: 8880, 1258: 8914, 1259: 8920, 1260: 8938, 1261: 8943, 1262: 8949, 1263: 8951, 1264: 8958, 1265: 8961, 1266: 8970, 1267: 8979, 1268: 8983, 1269: 9018, 1270: 25753, 1271: 25825, 1272: 25841, 1273: 25865, 1274: 25886, 1275: 25940, 1276: 25952, 1277: 26151, 1278: 26662, 1279: 26776, 1280: 27731, 1281: 27741, 1282: 27790, 1283: 27820, 1284: 27834, 1285: 27838, 1286: 27878, 1287: 27882, 1288: 30707, 1289: 30749, 1290: 30793, 1291: 30812, 1292: 30820, 1293: 30822, 1294: 30850, 1295: 31030, 1296: 31437, 1297: 31903, 1298: 32582, 1299: 32584, 1300: 33154, 1301: 33166, 1302: 33493, 1303: 34271, 1304: 34359, 1305: 34437, 1306: 34528, 1307: 34542, 1308: 35015, 1309: 36517, 1310: 36527, 1311: 36535, 1312: 37733, 1313: 37736, 1314: 37741, 1315: 38038, 1316: 38886, 1317: 39234, 1318: 39292, 1319: 40583, 1320: 40629, 1321: 40815, 1322: 40819, 1323: 41566, 1324: 41997, 1325: 42002, 1326: 42740, 1327: 1274, 1328: 2393, 1329: 2694, 1330: 3527, 1331: 4454, 1332: 4725, 1333: 5459, 1334: 7439, 1335: 8783, 1336: 41569, 1337: 42422, 1338: 45499, 1339: 45730, 1340: 47610, 1341: 52885, 1342: 53468, 1343: 54503, 1344: 55167, 1345: 56174, 1346: 56367, 1347: 57669, 1348: 59141, 1349: 60069, 1350: 62336, 1351: 66934, 1352: 67087, 1353: 68237, 1354: 68358, 1355: 68791, 1356: 68945, 1357: 69526, 1358: 69757, 1359: 70286, 1360: 72224, 1361: 72998, 1362: 79702, 1363: 82242, 1364: 112552, 1365: 80834, 1366: 60516, 1367: 8533, 1368: 55765, 1369: 58295, 1370: 69122, 1371: 69481, 1372: 80906, 1373: 89745, 1374: 90439, 1375: 95067, 1376: 97304, 1377: 104218, 1378: 104841, 1379: 105504, 1380: 1916, 1381: 2138, 1382: 2731, 1383: 3134, 1384: 3266, 1385: 3671, 1386: 3676, 1387: 4144, 1388: 4552, 1389: 6214, 1390: 6818, 1391: 7024, 1392: 8335, 1393: 8477, 1394: 25771, 1395: 26717, 1396: 27773, 1397: 30810, 1398: 40491, 1399: 45880, 1400: 48394, 1401: 56782, 1402: 57502, 1403: 63062, 1404: 71899, 1405: 74791, 1406: 80463, 1407: 94959, 1408: 95558, 1409: 96079, 1410: 99764, 1411: 99917, 1412: 104875, 1413: 104944, 1414: 106766, 1415: 107406, 1416: 108932, 1417: 112421, 1418: 112852, 1419: 113705, 1420: 114627, 1421: 116797, 1422: 117877, 1423: 117887, 1424: 119145, 1425: 122882, 1426: 122916, 1427: 122918, 1428: 122922, 1429: 127298, 1430: 134130, 1431: 134170, 1432: 138036, 1433: 139644, 1434: 140174, 1435: 141890, 1436: 143367, 1437: 148626, 1438: 148881, 1439: 152077, 1440: 153070, 1441: 155288, 1442: 156605, 1443: 161634, 1444: 164179, 1445: 164909, 1446: 167746, 1447: 168252, 1448: 170945, 1449: 174055, 1450: 176371, 1451: 176419, 1452: 180031, 1453: 180985, 1454: 836, 1455: 1801, 1456: 5254, 1457: 35836, 1458: 52712, 1459: 1357, 1460: 1948, 1461: 5694, 1462: 6107, 1463: 3265}\n"
     ]
    }
   ],
   "source": [
    "# Mengubah movieId menjadi list tanpa nilai yang sama\n",
    "movie_ids = df_final_collaborative['movieId'].unique().tolist()\n",
    "print('list movieId: ', movie_ids)\n",
    " \n",
    "# Melakukan encoding movieId\n",
    "movie_to_movie_encoded = {x: i for i, x in enumerate(movie_ids)}\n",
    "print('encoded movieId : ', movie_to_movie_encoded)\n",
    " \n",
    "# Melakukan proses encoding angka ke ke movieId\n",
    "movie_encoded_to_movie = {i: x for i, x in enumerate(movie_ids)}\n",
    "print('encoded angka ke movieId: ', movie_encoded_to_movie)"
   ]
  },
  {
   "cell_type": "code",
   "execution_count": 34,
   "id": "fdd07c81",
   "metadata": {},
   "outputs": [],
   "source": [
    "df_final_collaborative['user_encoded'] = df_final_collaborative['userId'].map(user_to_user_encoded)\n",
    "df_final_collaborative['movie_encoded'] = df_final_collaborative['movieId'].map(movie_to_movie_encoded)\n",
    "df_final_collaborative['rating']=df_final_collaborative['rating'].values.astype(np.float64)"
   ]
  },
  {
   "cell_type": "code",
   "execution_count": null,
   "id": "fa33ddb9",
   "metadata": {},
   "outputs": [
    {
     "data": {
      "text/html": [
       "<div>\n",
       "<style scoped>\n",
       "    .dataframe tbody tr th:only-of-type {\n",
       "        vertical-align: middle;\n",
       "    }\n",
       "\n",
       "    .dataframe tbody tr th {\n",
       "        vertical-align: top;\n",
       "    }\n",
       "\n",
       "    .dataframe thead th {\n",
       "        text-align: right;\n",
       "    }\n",
       "</style>\n",
       "<table border=\"1\" class=\"dataframe\">\n",
       "  <thead>\n",
       "    <tr style=\"text-align: right;\">\n",
       "      <th></th>\n",
       "      <th>userId</th>\n",
       "      <th>movieId</th>\n",
       "      <th>rating</th>\n",
       "      <th>tag</th>\n",
       "      <th>title</th>\n",
       "      <th>genres</th>\n",
       "      <th>user_encoded</th>\n",
       "      <th>movie_encoded</th>\n",
       "    </tr>\n",
       "  </thead>\n",
       "  <tbody>\n",
       "    <tr>\n",
       "      <th>937</th>\n",
       "      <td>474</td>\n",
       "      <td>3897</td>\n",
       "      <td>4.5</td>\n",
       "      <td>music Rolling Stone journalism</td>\n",
       "      <td>Almost Famous (2000)</td>\n",
       "      <td>Drama</td>\n",
       "      <td>40</td>\n",
       "      <td>155</td>\n",
       "    </tr>\n",
       "    <tr>\n",
       "      <th>1097</th>\n",
       "      <td>474</td>\n",
       "      <td>5995</td>\n",
       "      <td>4.5</td>\n",
       "      <td>Holocaust</td>\n",
       "      <td>Pianist, The (2002)</td>\n",
       "      <td>Drama|War</td>\n",
       "      <td>40</td>\n",
       "      <td>6</td>\n",
       "    </tr>\n",
       "    <tr>\n",
       "      <th>813</th>\n",
       "      <td>474</td>\n",
       "      <td>2761</td>\n",
       "      <td>4.0</td>\n",
       "      <td>robots</td>\n",
       "      <td>Iron Giant, The (1999)</td>\n",
       "      <td>Adventure|Animation|Children|Drama|Sci-Fi</td>\n",
       "      <td>40</td>\n",
       "      <td>757</td>\n",
       "    </tr>\n",
       "    <tr>\n",
       "      <th>607</th>\n",
       "      <td>474</td>\n",
       "      <td>1358</td>\n",
       "      <td>4.5</td>\n",
       "      <td>ex-con</td>\n",
       "      <td>Sling Blade (1996)</td>\n",
       "      <td>Drama</td>\n",
       "      <td>40</td>\n",
       "      <td>557</td>\n",
       "    </tr>\n",
       "    <tr>\n",
       "      <th>1304</th>\n",
       "      <td>474</td>\n",
       "      <td>8337</td>\n",
       "      <td>4.0</td>\n",
       "      <td>military</td>\n",
       "      <td>Caine Mutiny, The (1954)</td>\n",
       "      <td>Drama|War</td>\n",
       "      <td>40</td>\n",
       "      <td>1226</td>\n",
       "    </tr>\n",
       "  </tbody>\n",
       "</table>\n",
       "</div>"
      ],
      "text/plain": [
       "      userId  movieId  rating                             tag  \\\n",
       "937      474     3897     4.5  music Rolling Stone journalism   \n",
       "1097     474     5995     4.5                       Holocaust   \n",
       "813      474     2761     4.0                          robots   \n",
       "607      474     1358     4.5                          ex-con   \n",
       "1304     474     8337     4.0                        military   \n",
       "\n",
       "                         title                                     genres  \\\n",
       "937       Almost Famous (2000)                                      Drama   \n",
       "1097       Pianist, The (2002)                                  Drama|War   \n",
       "813     Iron Giant, The (1999)  Adventure|Animation|Children|Drama|Sci-Fi   \n",
       "607         Sling Blade (1996)                                      Drama   \n",
       "1304  Caine Mutiny, The (1954)                                  Drama|War   \n",
       "\n",
       "      user_encoded  movie_encoded  \n",
       "937             40            155  \n",
       "1097            40              6  \n",
       "813             40            757  \n",
       "607             40            557  \n",
       "1304            40           1226  "
      ]
     },
     "execution_count": 35,
     "metadata": {},
     "output_type": "execute_result"
    }
   ],
   "source": [
    "# Shuffling data sebelum displit\n",
    "df_final_collaborative = df_final_collaborative.sample(frac=1, random_state=42)\n",
    "df_final_collaborative.head(5)"
   ]
  },
  {
   "cell_type": "code",
   "execution_count": 36,
   "id": "f71ee229",
   "metadata": {},
   "outputs": [],
   "source": [
    "min_rating = df_final_collaborative['rating'].min()\n",
    "max_rating = df_final_collaborative['rating'].max()\n",
    "\n",
    "x = df_final_collaborative[['user_encoded','movie_encoded']].values\n",
    "y = df_final_collaborative['rating'].apply(lambda x: (x - min_rating) / (max_rating - min_rating)).values"
   ]
  },
  {
   "cell_type": "code",
   "execution_count": 37,
   "id": "18c97adb",
   "metadata": {},
   "outputs": [
    {
     "data": {
      "text/plain": [
       "(array([[  40,  155],\n",
       "        [  40,    6],\n",
       "        [  40,  757],\n",
       "        ...,\n",
       "        [  40,  800],\n",
       "        [  41,  169],\n",
       "        [  40, 1053]], dtype=int64),\n",
       " array([0.88888889, 0.88888889, 0.77777778, ..., 0.77777778, 0.88888889,\n",
       "        0.66666667]))"
      ]
     },
     "execution_count": 37,
     "metadata": {},
     "output_type": "execute_result"
    }
   ],
   "source": [
    "train_indices = int(0.8 * x.shape[0])\n",
    "x_train, x_val, y_train, y_val = (\n",
    "    x[:train_indices],\n",
    "    x[train_indices:],\n",
    "    y[:train_indices],\n",
    "    y[train_indices:]\n",
    ")\n",
    " \n",
    "x,y"
   ]
  },
  {
   "cell_type": "markdown",
   "id": "90c77b44",
   "metadata": {},
   "source": [
    "# Model Development Content Based Filtering"
   ]
  },
  {
   "cell_type": "markdown",
   "id": "682a07ac",
   "metadata": {},
   "source": [
    "Melakukan perhitungan cosine similiarity antar Film"
   ]
  },
  {
   "cell_type": "code",
   "execution_count": 38,
   "id": "87a170fd",
   "metadata": {},
   "outputs": [],
   "source": [
    "cosine_sim = cosine_similarity(content_based_tfidf_matrix)\n",
    "cosine_sim_df = pd.DataFrame(cosine_sim, index=df_final_content_based['title'], columns=df_final_content_based['title'])"
   ]
  },
  {
   "cell_type": "code",
   "execution_count": 39,
   "id": "a453dc6d",
   "metadata": {},
   "outputs": [
    {
     "data": {
      "text/html": [
       "<div>\n",
       "<style scoped>\n",
       "    .dataframe tbody tr th:only-of-type {\n",
       "        vertical-align: middle;\n",
       "    }\n",
       "\n",
       "    .dataframe tbody tr th {\n",
       "        vertical-align: top;\n",
       "    }\n",
       "\n",
       "    .dataframe thead th {\n",
       "        text-align: right;\n",
       "    }\n",
       "</style>\n",
       "<table border=\"1\" class=\"dataframe\">\n",
       "  <thead>\n",
       "    <tr style=\"text-align: right;\">\n",
       "      <th>title</th>\n",
       "      <th>Step Brothers (2008)</th>\n",
       "      <th>Warrior (2011)</th>\n",
       "      <th>Wolf of Wall Street, The (2013)</th>\n",
       "      <th>Departed, The (2006)</th>\n",
       "      <th>Carlito's Way (1993)</th>\n",
       "      <th>Godfather: Part II, The (1974)</th>\n",
       "      <th>Pianist, The (2002)</th>\n",
       "      <th>Lucky Number Slevin (2006)</th>\n",
       "      <th>Fracture (2007)</th>\n",
       "      <th>Upside Down: The Creation Records Story (2010)</th>\n",
       "      <th>...</th>\n",
       "      <th>Big Lebowski, The (1998)</th>\n",
       "      <th>Fight Club (1999)</th>\n",
       "      <th>Shine (1996)</th>\n",
       "      <th>Tom Jones (1963)</th>\n",
       "      <th>Gladiator (2000)</th>\n",
       "      <th>Staying Alive (1983)</th>\n",
       "      <th>Night of the Shooting Stars (Notte di San Lorenzo, La) (1982)</th>\n",
       "      <th>I'm Not Scared (Io non ho paura) (2003)</th>\n",
       "      <th>Hard-Boiled (Lat sau san taam) (1992)</th>\n",
       "      <th>John Wick: Chapter Two (2017)</th>\n",
       "    </tr>\n",
       "    <tr>\n",
       "      <th>title</th>\n",
       "      <th></th>\n",
       "      <th></th>\n",
       "      <th></th>\n",
       "      <th></th>\n",
       "      <th></th>\n",
       "      <th></th>\n",
       "      <th></th>\n",
       "      <th></th>\n",
       "      <th></th>\n",
       "      <th></th>\n",
       "      <th></th>\n",
       "      <th></th>\n",
       "      <th></th>\n",
       "      <th></th>\n",
       "      <th></th>\n",
       "      <th></th>\n",
       "      <th></th>\n",
       "      <th></th>\n",
       "      <th></th>\n",
       "      <th></th>\n",
       "      <th></th>\n",
       "    </tr>\n",
       "  </thead>\n",
       "  <tbody>\n",
       "    <tr>\n",
       "      <th>Step Brothers (2008)</th>\n",
       "      <td>1.000000</td>\n",
       "      <td>0.000000</td>\n",
       "      <td>0.023563</td>\n",
       "      <td>0.000000</td>\n",
       "      <td>0.000000</td>\n",
       "      <td>0.000000</td>\n",
       "      <td>0.000000</td>\n",
       "      <td>0.000000</td>\n",
       "      <td>0.000000</td>\n",
       "      <td>0.0</td>\n",
       "      <td>...</td>\n",
       "      <td>0.238425</td>\n",
       "      <td>0.006184</td>\n",
       "      <td>0.000000</td>\n",
       "      <td>0.042767</td>\n",
       "      <td>0.000000</td>\n",
       "      <td>0.038146</td>\n",
       "      <td>0.000000</td>\n",
       "      <td>0.000000</td>\n",
       "      <td>0.000000</td>\n",
       "      <td>0.000000</td>\n",
       "    </tr>\n",
       "    <tr>\n",
       "      <th>Warrior (2011)</th>\n",
       "      <td>0.000000</td>\n",
       "      <td>1.000000</td>\n",
       "      <td>0.011768</td>\n",
       "      <td>0.015833</td>\n",
       "      <td>0.012826</td>\n",
       "      <td>0.015035</td>\n",
       "      <td>0.217680</td>\n",
       "      <td>0.019840</td>\n",
       "      <td>0.021313</td>\n",
       "      <td>0.0</td>\n",
       "      <td>...</td>\n",
       "      <td>0.000000</td>\n",
       "      <td>0.003088</td>\n",
       "      <td>0.028682</td>\n",
       "      <td>0.000000</td>\n",
       "      <td>0.019526</td>\n",
       "      <td>0.019051</td>\n",
       "      <td>0.014994</td>\n",
       "      <td>0.019323</td>\n",
       "      <td>0.011362</td>\n",
       "      <td>0.000000</td>\n",
       "    </tr>\n",
       "    <tr>\n",
       "      <th>Wolf of Wall Street, The (2013)</th>\n",
       "      <td>0.023563</td>\n",
       "      <td>0.011768</td>\n",
       "      <td>1.000000</td>\n",
       "      <td>0.068831</td>\n",
       "      <td>0.055759</td>\n",
       "      <td>0.065361</td>\n",
       "      <td>0.015457</td>\n",
       "      <td>0.086253</td>\n",
       "      <td>0.057006</td>\n",
       "      <td>0.0</td>\n",
       "      <td>...</td>\n",
       "      <td>0.108595</td>\n",
       "      <td>0.029145</td>\n",
       "      <td>0.028741</td>\n",
       "      <td>0.037261</td>\n",
       "      <td>0.019567</td>\n",
       "      <td>0.052326</td>\n",
       "      <td>0.015025</td>\n",
       "      <td>0.019362</td>\n",
       "      <td>0.049395</td>\n",
       "      <td>0.050714</td>\n",
       "    </tr>\n",
       "    <tr>\n",
       "      <th>Departed, The (2006)</th>\n",
       "      <td>0.000000</td>\n",
       "      <td>0.015833</td>\n",
       "      <td>0.068831</td>\n",
       "      <td>1.000000</td>\n",
       "      <td>0.075019</td>\n",
       "      <td>0.087938</td>\n",
       "      <td>0.020796</td>\n",
       "      <td>0.116045</td>\n",
       "      <td>0.113876</td>\n",
       "      <td>0.0</td>\n",
       "      <td>...</td>\n",
       "      <td>0.032941</td>\n",
       "      <td>0.053513</td>\n",
       "      <td>0.038668</td>\n",
       "      <td>0.000000</td>\n",
       "      <td>0.026325</td>\n",
       "      <td>0.025684</td>\n",
       "      <td>0.020214</td>\n",
       "      <td>0.093465</td>\n",
       "      <td>0.106098</td>\n",
       "      <td>0.121121</td>\n",
       "    </tr>\n",
       "    <tr>\n",
       "      <th>Carlito's Way (1993)</th>\n",
       "      <td>0.000000</td>\n",
       "      <td>0.012826</td>\n",
       "      <td>0.055759</td>\n",
       "      <td>0.075019</td>\n",
       "      <td>1.000000</td>\n",
       "      <td>0.853094</td>\n",
       "      <td>0.016847</td>\n",
       "      <td>0.094007</td>\n",
       "      <td>0.062131</td>\n",
       "      <td>0.0</td>\n",
       "      <td>...</td>\n",
       "      <td>0.026685</td>\n",
       "      <td>0.025893</td>\n",
       "      <td>0.031325</td>\n",
       "      <td>0.000000</td>\n",
       "      <td>0.021326</td>\n",
       "      <td>0.020806</td>\n",
       "      <td>0.016375</td>\n",
       "      <td>0.021103</td>\n",
       "      <td>0.053836</td>\n",
       "      <td>0.055273</td>\n",
       "    </tr>\n",
       "  </tbody>\n",
       "</table>\n",
       "<p>5 rows × 1635 columns</p>\n",
       "</div>"
      ],
      "text/plain": [
       "title                            Step Brothers (2008)  Warrior (2011)  \\\n",
       "title                                                                   \n",
       "Step Brothers (2008)                         1.000000        0.000000   \n",
       "Warrior (2011)                               0.000000        1.000000   \n",
       "Wolf of Wall Street, The (2013)              0.023563        0.011768   \n",
       "Departed, The (2006)                         0.000000        0.015833   \n",
       "Carlito's Way (1993)                         0.000000        0.012826   \n",
       "\n",
       "title                            Wolf of Wall Street, The (2013)  \\\n",
       "title                                                              \n",
       "Step Brothers (2008)                                    0.023563   \n",
       "Warrior (2011)                                          0.011768   \n",
       "Wolf of Wall Street, The (2013)                         1.000000   \n",
       "Departed, The (2006)                                    0.068831   \n",
       "Carlito's Way (1993)                                    0.055759   \n",
       "\n",
       "title                            Departed, The (2006)  Carlito's Way (1993)  \\\n",
       "title                                                                         \n",
       "Step Brothers (2008)                         0.000000              0.000000   \n",
       "Warrior (2011)                               0.015833              0.012826   \n",
       "Wolf of Wall Street, The (2013)              0.068831              0.055759   \n",
       "Departed, The (2006)                         1.000000              0.075019   \n",
       "Carlito's Way (1993)                         0.075019              1.000000   \n",
       "\n",
       "title                            Godfather: Part II, The (1974)  \\\n",
       "title                                                             \n",
       "Step Brothers (2008)                                   0.000000   \n",
       "Warrior (2011)                                         0.015035   \n",
       "Wolf of Wall Street, The (2013)                        0.065361   \n",
       "Departed, The (2006)                                   0.087938   \n",
       "Carlito's Way (1993)                                   0.853094   \n",
       "\n",
       "title                            Pianist, The (2002)  \\\n",
       "title                                                  \n",
       "Step Brothers (2008)                        0.000000   \n",
       "Warrior (2011)                              0.217680   \n",
       "Wolf of Wall Street, The (2013)             0.015457   \n",
       "Departed, The (2006)                        0.020796   \n",
       "Carlito's Way (1993)                        0.016847   \n",
       "\n",
       "title                            Lucky Number Slevin (2006)  Fracture (2007)  \\\n",
       "title                                                                          \n",
       "Step Brothers (2008)                               0.000000         0.000000   \n",
       "Warrior (2011)                                     0.019840         0.021313   \n",
       "Wolf of Wall Street, The (2013)                    0.086253         0.057006   \n",
       "Departed, The (2006)                               0.116045         0.113876   \n",
       "Carlito's Way (1993)                               0.094007         0.062131   \n",
       "\n",
       "title                            Upside Down: The Creation Records Story (2010)  \\\n",
       "title                                                                             \n",
       "Step Brothers (2008)                                                        0.0   \n",
       "Warrior (2011)                                                              0.0   \n",
       "Wolf of Wall Street, The (2013)                                             0.0   \n",
       "Departed, The (2006)                                                        0.0   \n",
       "Carlito's Way (1993)                                                        0.0   \n",
       "\n",
       "title                            ...  Big Lebowski, The (1998)  \\\n",
       "title                            ...                             \n",
       "Step Brothers (2008)             ...                  0.238425   \n",
       "Warrior (2011)                   ...                  0.000000   \n",
       "Wolf of Wall Street, The (2013)  ...                  0.108595   \n",
       "Departed, The (2006)             ...                  0.032941   \n",
       "Carlito's Way (1993)             ...                  0.026685   \n",
       "\n",
       "title                            Fight Club (1999)  Shine (1996)  \\\n",
       "title                                                              \n",
       "Step Brothers (2008)                      0.006184      0.000000   \n",
       "Warrior (2011)                            0.003088      0.028682   \n",
       "Wolf of Wall Street, The (2013)           0.029145      0.028741   \n",
       "Departed, The (2006)                      0.053513      0.038668   \n",
       "Carlito's Way (1993)                      0.025893      0.031325   \n",
       "\n",
       "title                            Tom Jones (1963)  Gladiator (2000)  \\\n",
       "title                                                                 \n",
       "Step Brothers (2008)                     0.042767          0.000000   \n",
       "Warrior (2011)                           0.000000          0.019526   \n",
       "Wolf of Wall Street, The (2013)          0.037261          0.019567   \n",
       "Departed, The (2006)                     0.000000          0.026325   \n",
       "Carlito's Way (1993)                     0.000000          0.021326   \n",
       "\n",
       "title                            Staying Alive (1983)  \\\n",
       "title                                                   \n",
       "Step Brothers (2008)                         0.038146   \n",
       "Warrior (2011)                               0.019051   \n",
       "Wolf of Wall Street, The (2013)              0.052326   \n",
       "Departed, The (2006)                         0.025684   \n",
       "Carlito's Way (1993)                         0.020806   \n",
       "\n",
       "title                            Night of the Shooting Stars (Notte di San Lorenzo, La) (1982)  \\\n",
       "title                                                                                            \n",
       "Step Brothers (2008)                                                      0.000000               \n",
       "Warrior (2011)                                                            0.014994               \n",
       "Wolf of Wall Street, The (2013)                                           0.015025               \n",
       "Departed, The (2006)                                                      0.020214               \n",
       "Carlito's Way (1993)                                                      0.016375               \n",
       "\n",
       "title                            I'm Not Scared (Io non ho paura) (2003)  \\\n",
       "title                                                                      \n",
       "Step Brothers (2008)                                            0.000000   \n",
       "Warrior (2011)                                                  0.019323   \n",
       "Wolf of Wall Street, The (2013)                                 0.019362   \n",
       "Departed, The (2006)                                            0.093465   \n",
       "Carlito's Way (1993)                                            0.021103   \n",
       "\n",
       "title                            Hard-Boiled (Lat sau san taam) (1992)  \\\n",
       "title                                                                    \n",
       "Step Brothers (2008)                                          0.000000   \n",
       "Warrior (2011)                                                0.011362   \n",
       "Wolf of Wall Street, The (2013)                               0.049395   \n",
       "Departed, The (2006)                                          0.106098   \n",
       "Carlito's Way (1993)                                          0.053836   \n",
       "\n",
       "title                            John Wick: Chapter Two (2017)  \n",
       "title                                                           \n",
       "Step Brothers (2008)                                  0.000000  \n",
       "Warrior (2011)                                        0.000000  \n",
       "Wolf of Wall Street, The (2013)                       0.050714  \n",
       "Departed, The (2006)                                  0.121121  \n",
       "Carlito's Way (1993)                                  0.055273  \n",
       "\n",
       "[5 rows x 1635 columns]"
      ]
     },
     "execution_count": 39,
     "metadata": {},
     "output_type": "execute_result"
    }
   ],
   "source": [
    "cosine_sim_df.head(5)"
   ]
  },
  {
   "cell_type": "code",
   "execution_count": 40,
   "id": "e2ecb290",
   "metadata": {},
   "outputs": [],
   "source": [
    "def recommend_movies(title, cosine_sim_df=cosine_sim_df, top_n=5):\n",
    "    #Fungsi untuk mendapatkan rekomendasi top n dengan similiarity score tertinggi\n",
    "    if title not in cosine_sim_df.index:\n",
    "        return f\"Film '{title}' tidak ditemukan di dalam dataset.\"\n",
    "\n",
    "    sim_scores = cosine_sim_df.loc[title]\n",
    "\n",
    "    sim_scores = sim_scores.sort_values(ascending=False)\n",
    "    return sim_scores.iloc[1:top_n+1]"
   ]
  },
  {
   "cell_type": "code",
   "execution_count": 41,
   "id": "2397ab27",
   "metadata": {},
   "outputs": [],
   "source": [
    "cosine_sim_df.index = cosine_sim_df.index.astype(str)\n",
    "cosine_sim_df.columns = cosine_sim_df.columns.astype(str)"
   ]
  },
  {
   "cell_type": "code",
   "execution_count": 42,
   "id": "38277328",
   "metadata": {},
   "outputs": [],
   "source": [
    "# Mendapatkan rekomendasi film lain saat menyukai film 'Sweet Charity (1969)'\n",
    "recommendation = recommend_movies(\"Sweet Charity (1969)\", top_n=10)"
   ]
  },
  {
   "cell_type": "code",
   "execution_count": 43,
   "id": "4adb4e28",
   "metadata": {},
   "outputs": [
    {
     "data": {
      "text/plain": [
       "title\n",
       "Gigi (1958)                                                          0.898370\n",
       "Pretty Woman (1990)                                                  0.858421\n",
       "Risky Business (1983)                                                0.803002\n",
       "Midnight Cowboy (1969)                                               0.785842\n",
       "Lilya 4-Ever (Lilja 4-ever) (2002)                                   0.717695\n",
       "Mighty Aphrodite (1995)                                              0.621705\n",
       "Umbrellas of Cherbourg, The (Parapluies de Cherbourg, Les) (1964)    0.595976\n",
       "Lagaan: Once Upon a Time in India (2001)                             0.431744\n",
       "White Christmas (1954)                                               0.405152\n",
       "Gentlemen Prefer Blondes (1953)                                      0.394708\n",
       "Name: Sweet Charity (1969), dtype: float64"
      ]
     },
     "execution_count": 43,
     "metadata": {},
     "output_type": "execute_result"
    }
   ],
   "source": [
    "recommendation"
   ]
  },
  {
   "cell_type": "code",
   "execution_count": 44,
   "id": "c25e5233",
   "metadata": {},
   "outputs": [
    {
     "data": {
      "text/html": [
       "<div>\n",
       "<style scoped>\n",
       "    .dataframe tbody tr th:only-of-type {\n",
       "        vertical-align: middle;\n",
       "    }\n",
       "\n",
       "    .dataframe tbody tr th {\n",
       "        vertical-align: top;\n",
       "    }\n",
       "\n",
       "    .dataframe thead th {\n",
       "        text-align: right;\n",
       "    }\n",
       "</style>\n",
       "<table border=\"1\" class=\"dataframe\">\n",
       "  <thead>\n",
       "    <tr style=\"text-align: right;\">\n",
       "      <th></th>\n",
       "      <th>title</th>\n",
       "      <th>extracted_features</th>\n",
       "    </tr>\n",
       "  </thead>\n",
       "  <tbody>\n",
       "    <tr>\n",
       "      <th>1126</th>\n",
       "      <td>Sweet Charity (1969)</td>\n",
       "      <td>comedy drama musical romance prostitution</td>\n",
       "    </tr>\n",
       "  </tbody>\n",
       "</table>\n",
       "</div>"
      ],
      "text/plain": [
       "                     title                         extracted_features\n",
       "1126  Sweet Charity (1969)  comedy drama musical romance prostitution"
      ]
     },
     "execution_count": 44,
     "metadata": {},
     "output_type": "execute_result"
    }
   ],
   "source": [
    "df_final_content_based[df_final_content_based.title=='Sweet Charity (1969)'][['title', 'extracted_features']]"
   ]
  },
  {
   "cell_type": "code",
   "execution_count": 45,
   "id": "8a172c00",
   "metadata": {},
   "outputs": [],
   "source": [
    "def find_tag_genres(title):\n",
    "    result=df_final_content_based[df_final_content_based.title==title].drop_duplicates(subset='title', keep='first')\n",
    "    return (result[['title', 'extracted_features']])"
   ]
  },
  {
   "cell_type": "markdown",
   "id": "24d93349",
   "metadata": {},
   "source": [
    "Memberikan rekomendasi dalam bentuk dataframe"
   ]
  },
  {
   "cell_type": "code",
   "execution_count": 46,
   "id": "ffe91eda",
   "metadata": {},
   "outputs": [],
   "source": [
    "recommendation_df = pd.DataFrame()\n",
    "for p in recommendation.index:\n",
    "    df = find_tag_genres(p)\n",
    "    recommendation_df = pd.concat([recommendation_df, df], ignore_index=True)"
   ]
  },
  {
   "cell_type": "code",
   "execution_count": 47,
   "id": "a89a3b04",
   "metadata": {},
   "outputs": [
    {
     "data": {
      "text/html": [
       "<div>\n",
       "<style scoped>\n",
       "    .dataframe tbody tr th:only-of-type {\n",
       "        vertical-align: middle;\n",
       "    }\n",
       "\n",
       "    .dataframe tbody tr th {\n",
       "        vertical-align: top;\n",
       "    }\n",
       "\n",
       "    .dataframe thead th {\n",
       "        text-align: right;\n",
       "    }\n",
       "</style>\n",
       "<table border=\"1\" class=\"dataframe\">\n",
       "  <thead>\n",
       "    <tr style=\"text-align: right;\">\n",
       "      <th></th>\n",
       "      <th>title</th>\n",
       "      <th>extracted_features</th>\n",
       "    </tr>\n",
       "  </thead>\n",
       "  <tbody>\n",
       "    <tr>\n",
       "      <th>0</th>\n",
       "      <td>Gigi (1958)</td>\n",
       "      <td>musical prostitution</td>\n",
       "    </tr>\n",
       "    <tr>\n",
       "      <th>1</th>\n",
       "      <td>Pretty Woman (1990)</td>\n",
       "      <td>comedy romance prostitution</td>\n",
       "    </tr>\n",
       "    <tr>\n",
       "      <th>2</th>\n",
       "      <td>Risky Business (1983)</td>\n",
       "      <td>comedy prostitution</td>\n",
       "    </tr>\n",
       "    <tr>\n",
       "      <th>3</th>\n",
       "      <td>Midnight Cowboy (1969)</td>\n",
       "      <td>drama prostitution</td>\n",
       "    </tr>\n",
       "    <tr>\n",
       "      <th>4</th>\n",
       "      <td>Lilya 4-Ever (Lilja 4-ever) (2002)</td>\n",
       "      <td>crime drama prostitution</td>\n",
       "    </tr>\n",
       "    <tr>\n",
       "      <th>5</th>\n",
       "      <td>Mighty Aphrodite (1995)</td>\n",
       "      <td>comedy drama romance adoption prostitution</td>\n",
       "    </tr>\n",
       "    <tr>\n",
       "      <th>6</th>\n",
       "      <td>Umbrellas of Cherbourg, The (Parapluies de Che...</td>\n",
       "      <td>drama musical romance made me cry</td>\n",
       "    </tr>\n",
       "    <tr>\n",
       "      <th>7</th>\n",
       "      <td>Lagaan: Once Upon a Time in India (2001)</td>\n",
       "      <td>comedy drama musical romance india</td>\n",
       "    </tr>\n",
       "    <tr>\n",
       "      <th>8</th>\n",
       "      <td>White Christmas (1954)</td>\n",
       "      <td>comedy musical romance christmas</td>\n",
       "    </tr>\n",
       "    <tr>\n",
       "      <th>9</th>\n",
       "      <td>Gentlemen Prefer Blondes (1953)</td>\n",
       "      <td>comedy musical romance in netflix queue</td>\n",
       "    </tr>\n",
       "  </tbody>\n",
       "</table>\n",
       "</div>"
      ],
      "text/plain": [
       "                                               title  \\\n",
       "0                                        Gigi (1958)   \n",
       "1                                Pretty Woman (1990)   \n",
       "2                              Risky Business (1983)   \n",
       "3                             Midnight Cowboy (1969)   \n",
       "4                 Lilya 4-Ever (Lilja 4-ever) (2002)   \n",
       "5                            Mighty Aphrodite (1995)   \n",
       "6  Umbrellas of Cherbourg, The (Parapluies de Che...   \n",
       "7           Lagaan: Once Upon a Time in India (2001)   \n",
       "8                             White Christmas (1954)   \n",
       "9                    Gentlemen Prefer Blondes (1953)   \n",
       "\n",
       "                           extracted_features  \n",
       "0                        musical prostitution  \n",
       "1                 comedy romance prostitution  \n",
       "2                         comedy prostitution  \n",
       "3                          drama prostitution  \n",
       "4                    crime drama prostitution  \n",
       "5  comedy drama romance adoption prostitution  \n",
       "6           drama musical romance made me cry  \n",
       "7          comedy drama musical romance india  \n",
       "8            comedy musical romance christmas  \n",
       "9     comedy musical romance in netflix queue  "
      ]
     },
     "execution_count": 47,
     "metadata": {},
     "output_type": "execute_result"
    }
   ],
   "source": [
    "recommendation_df"
   ]
  },
  {
   "cell_type": "markdown",
   "id": "af145439",
   "metadata": {},
   "source": [
    "### Evaluasi dengan Precision@10"
   ]
  },
  {
   "cell_type": "markdown",
   "id": "2420ed9c",
   "metadata": {},
   "source": [
    "Kita mengambil sampel untuk film \"Sweet Charity (1969)\" dengan genre+tag : comedy drama musical romance prostitution\n",
    "Kita menentukan rekomendasi relevan dengan ketentuan :\n",
    "Apabila terdapat minimal satu bagian dari genre atau tag yang sesuai, maka dianggap relevan.\n",
    "Sehingga, utk K=10 rekomendasi, diperoleh 10 rekomendasi relevan."
   ]
  },
  {
   "cell_type": "code",
   "execution_count": 48,
   "id": "cf623e9d",
   "metadata": {},
   "outputs": [
    {
     "name": "stdout",
     "output_type": "stream",
     "text": [
      "precision@10 =  1.0\n"
     ]
    }
   ],
   "source": [
    "precision10 = 10/10\n",
    "print(f'precision@10 = ', precision10)"
   ]
  },
  {
   "cell_type": "markdown",
   "id": "6ea6826d",
   "metadata": {},
   "source": [
    "Diperoleh precision@10, artinya dari 10 rekomendasi yang diberikan, terdapat 10 rekomendasi yang relevan/sesuai."
   ]
  },
  {
   "cell_type": "markdown",
   "id": "de8a203b",
   "metadata": {},
   "source": [
    "# Model Development Collaborative Filtering"
   ]
  },
  {
   "cell_type": "code",
   "execution_count": 49,
   "id": "6db8d622",
   "metadata": {},
   "outputs": [
    {
     "name": "stdout",
     "output_type": "stream",
     "text": [
      "54\n",
      "1464\n"
     ]
    }
   ],
   "source": [
    "num_users = len(user_to_user_encoded)\n",
    "print(num_users)\n",
    " \n",
    "num_movies = len(movie_encoded_to_movie)\n",
    "print(num_movies)"
   ]
  },
  {
   "cell_type": "markdown",
   "id": "9a85084e",
   "metadata": {},
   "source": [
    "Pembangunan Arsitektur Model"
   ]
  },
  {
   "cell_type": "code",
   "execution_count": 50,
   "id": "3e63c0ec",
   "metadata": {},
   "outputs": [],
   "source": [
    "import tensorflow as tf\n",
    "from tensorflow import keras\n",
    "from tensorflow.keras import layers\n",
    "tf.random.set_seed(SEED)\n",
    "class RecommenderNet(tf.keras.Model):\n",
    " \n",
    "  # Inisialisasi model\n",
    "  def __init__(self, num_users, num_movies, embedding_size, **kwargs):\n",
    "    super(RecommenderNet, self).__init__(**kwargs)\n",
    "    \n",
    "    self.num_users = num_users\n",
    "    self.num_movies = num_movies\n",
    "    self.embedding_size = embedding_size\n",
    "\n",
    "    # Layer embedding untuk user\n",
    "    self.user_embedding = layers.Embedding(\n",
    "        input_dim=num_users,\n",
    "        output_dim=embedding_size,\n",
    "        embeddings_initializer='he_normal',\n",
    "        embeddings_regularizer=keras.regularizers.l2(1e-4)\n",
    "    )\n",
    "\n",
    "    # Layer bias untuk user\n",
    "    self.user_bias = layers.Embedding(\n",
    "        input_dim=num_users,\n",
    "        output_dim=1\n",
    "    )\n",
    "\n",
    "    # Layer embedding untuk film\n",
    "    self.movies_embedding = layers.Embedding(\n",
    "        input_dim=num_movies,\n",
    "        output_dim=embedding_size,\n",
    "        embeddings_initializer='he_normal',\n",
    "        embeddings_regularizer=keras.regularizers.l2(1e-4)\n",
    "    )\n",
    "\n",
    "    # Layer bias untuk film\n",
    "    self.movies_bias = layers.Embedding(\n",
    "        input_dim=num_movies,\n",
    "        output_dim=1\n",
    "    )\n",
    " \n",
    "  # Proses forward (prediksi)\n",
    "  def call(self, inputs):\n",
    "    # Ambil vektor embedding dan bias berdasarkan user dan film\n",
    "    user_vector = self.user_embedding(inputs[:, 0])       # vektor user\n",
    "    user_bias = self.user_bias(inputs[:, 0])              # bias user\n",
    "    movies_vector = self.movies_embedding(inputs[:, 1])   # vektor film\n",
    "    movies_bias = self.movies_bias(inputs[:, 1])          # bias film\n",
    "\n",
    "    # Hitung kecocokan (dot product) antara user dan film\n",
    "    dot_user_movies = tf.tensordot(user_vector, movies_vector, axes=2)\n",
    "\n",
    "    # Tambahkan bias\n",
    "    x = dot_user_movies + user_bias + movies_bias\n",
    "    \n",
    "    # Aktivasi sigmoid untuk mengubah output ke rentang [0, 1]\n",
    "    return tf.nn.sigmoid(x)\n",
    "  \n",
    "model = RecommenderNet(num_users, num_movies, 5) # inisialisasi model\n",
    " \n",
    "# model compile\n",
    "model.compile(\n",
    "    loss=tf.keras.losses.MeanSquaredError(),\n",
    "    optimizer = keras.optimizers.Adam(learning_rate=0.001),\n",
    "    metrics=[tf.keras.metrics.RootMeanSquaredError()]\n",
    ")"
   ]
  },
  {
   "cell_type": "code",
   "execution_count": 51,
   "id": "b01e9dd6",
   "metadata": {},
   "outputs": [
    {
     "name": "stdout",
     "output_type": "stream",
     "text": [
      "Epoch 1/100\n",
      "\u001b[1m41/41\u001b[0m \u001b[32m━━━━━━━━━━━━━━━━━━━━\u001b[0m\u001b[37m\u001b[0m \u001b[1m1s\u001b[0m 6ms/step - loss: 0.0922 - root_mean_squared_error: 0.3007 - val_loss: 0.0737 - val_root_mean_squared_error: 0.2689\n",
      "Epoch 2/100\n",
      "\u001b[1m41/41\u001b[0m \u001b[32m━━━━━━━━━━━━━━━━━━━━\u001b[0m\u001b[37m\u001b[0m \u001b[1m0s\u001b[0m 3ms/step - loss: 0.0632 - root_mean_squared_error: 0.2486 - val_loss: 0.0701 - val_root_mean_squared_error: 0.2622\n",
      "Epoch 3/100\n",
      "\u001b[1m41/41\u001b[0m \u001b[32m━━━━━━━━━━━━━━━━━━━━\u001b[0m\u001b[37m\u001b[0m \u001b[1m0s\u001b[0m 3ms/step - loss: 0.0484 - root_mean_squared_error: 0.2168 - val_loss: 0.0678 - val_root_mean_squared_error: 0.2577\n",
      "Epoch 4/100\n",
      "\u001b[1m41/41\u001b[0m \u001b[32m━━━━━━━━━━━━━━━━━━━━\u001b[0m\u001b[37m\u001b[0m \u001b[1m0s\u001b[0m 2ms/step - loss: 0.0414 - root_mean_squared_error: 0.2000 - val_loss: 0.0668 - val_root_mean_squared_error: 0.2558\n",
      "Epoch 5/100\n",
      "\u001b[1m41/41\u001b[0m \u001b[32m━━━━━━━━━━━━━━━━━━━━\u001b[0m\u001b[37m\u001b[0m \u001b[1m0s\u001b[0m 2ms/step - loss: 0.0388 - root_mean_squared_error: 0.1935 - val_loss: 0.0667 - val_root_mean_squared_error: 0.2555\n",
      "Epoch 6/100\n",
      "\u001b[1m41/41\u001b[0m \u001b[32m━━━━━━━━━━━━━━━━━━━━\u001b[0m\u001b[37m\u001b[0m \u001b[1m0s\u001b[0m 3ms/step - loss: 0.0378 - root_mean_squared_error: 0.1908 - val_loss: 0.0669 - val_root_mean_squared_error: 0.2562\n",
      "Epoch 7/100\n",
      "\u001b[1m41/41\u001b[0m \u001b[32m━━━━━━━━━━━━━━━━━━━━\u001b[0m\u001b[37m\u001b[0m \u001b[1m0s\u001b[0m 3ms/step - loss: 0.0371 - root_mean_squared_error: 0.1891 - val_loss: 0.0674 - val_root_mean_squared_error: 0.2572\n",
      "Epoch 8/100\n",
      "\u001b[1m41/41\u001b[0m \u001b[32m━━━━━━━━━━━━━━━━━━━━\u001b[0m\u001b[37m\u001b[0m \u001b[1m0s\u001b[0m 3ms/step - loss: 0.0366 - root_mean_squared_error: 0.1877 - val_loss: 0.0680 - val_root_mean_squared_error: 0.2583\n",
      "Epoch 9/100\n",
      "\u001b[1m41/41\u001b[0m \u001b[32m━━━━━━━━━━━━━━━━━━━━\u001b[0m\u001b[37m\u001b[0m \u001b[1m0s\u001b[0m 2ms/step - loss: 0.0360 - root_mean_squared_error: 0.1864 - val_loss: 0.0686 - val_root_mean_squared_error: 0.2595\n",
      "Epoch 10/100\n",
      "\u001b[1m41/41\u001b[0m \u001b[32m━━━━━━━━━━━━━━━━━━━━\u001b[0m\u001b[37m\u001b[0m \u001b[1m0s\u001b[0m 2ms/step - loss: 0.0355 - root_mean_squared_error: 0.1852 - val_loss: 0.0692 - val_root_mean_squared_error: 0.2607\n",
      "Epoch 11/100\n",
      "\u001b[1m41/41\u001b[0m \u001b[32m━━━━━━━━━━━━━━━━━━━━\u001b[0m\u001b[37m\u001b[0m \u001b[1m0s\u001b[0m 2ms/step - loss: 0.0351 - root_mean_squared_error: 0.1840 - val_loss: 0.0698 - val_root_mean_squared_error: 0.2619\n",
      "Epoch 12/100\n",
      "\u001b[1m41/41\u001b[0m \u001b[32m━━━━━━━━━━━━━━━━━━━━\u001b[0m\u001b[37m\u001b[0m \u001b[1m0s\u001b[0m 2ms/step - loss: 0.0346 - root_mean_squared_error: 0.1828 - val_loss: 0.0704 - val_root_mean_squared_error: 0.2632\n",
      "Epoch 13/100\n",
      "\u001b[1m41/41\u001b[0m \u001b[32m━━━━━━━━━━━━━━━━━━━━\u001b[0m\u001b[37m\u001b[0m \u001b[1m0s\u001b[0m 3ms/step - loss: 0.0342 - root_mean_squared_error: 0.1817 - val_loss: 0.0710 - val_root_mean_squared_error: 0.2643\n",
      "Epoch 14/100\n",
      "\u001b[1m41/41\u001b[0m \u001b[32m━━━━━━━━━━━━━━━━━━━━\u001b[0m\u001b[37m\u001b[0m \u001b[1m0s\u001b[0m 3ms/step - loss: 0.0337 - root_mean_squared_error: 0.1806 - val_loss: 0.0715 - val_root_mean_squared_error: 0.2655\n",
      "Epoch 15/100\n",
      "\u001b[1m41/41\u001b[0m \u001b[32m━━━━━━━━━━━━━━━━━━━━\u001b[0m\u001b[37m\u001b[0m \u001b[1m0s\u001b[0m 2ms/step - loss: 0.0333 - root_mean_squared_error: 0.1795 - val_loss: 0.0721 - val_root_mean_squared_error: 0.2666\n"
     ]
    }
   ],
   "source": [
    "callbacks = [\n",
    "    tf.keras.callbacks.EarlyStopping(\n",
    "        monitor='val_root_mean_squared_error',\n",
    "        patience=10, \n",
    "        restore_best_weights=True\n",
    "    )\n",
    "] # callbacks untuk menghentikan training saat tidak ada perubahan signifikan terhadap validation rmse\n",
    "\n",
    "history = model.fit(\n",
    "    x=x_train,\n",
    "    y=y_train,\n",
    "    batch_size=32, \n",
    "    epochs=100,    # Set ke angka yang cukup besar, early stopping akan menghentikan\n",
    "    verbose=1,\n",
    "    validation_data=(x_val, y_val),\n",
    "    callbacks=callbacks\n",
    ")"
   ]
  },
  {
   "cell_type": "code",
   "execution_count": 52,
   "id": "85509aec",
   "metadata": {},
   "outputs": [],
   "source": [
    "# Mendapatkan rekomendasi untuk user dengan nomor unik 474\n",
    "user_id = df_final_collaborative.userId.sample(1).iloc[0]"
   ]
  },
  {
   "cell_type": "code",
   "execution_count": 53,
   "id": "65d51ab4",
   "metadata": {},
   "outputs": [],
   "source": [
    "# Mengambil film yang belum ditonton oleh user 474\n",
    "movies_watched = df_final[df_final.userId == user_id]\n",
    "movies_not_watched = df_final[~df_final['movieId'].isin(movies_watched.movieId.values)]['movieId']\n",
    "movies_not_watched = list(\n",
    "    set(movies_not_watched)\n",
    "    .intersection(set(movie_to_movie_encoded.keys()))\n",
    ")"
   ]
  },
  {
   "cell_type": "code",
   "execution_count": 54,
   "id": "339a95b9",
   "metadata": {},
   "outputs": [],
   "source": [
    "movies_not_watched = [[movie_to_movie_encoded.get(x)] for x in movies_not_watched]\n",
    "user_encoder = user_to_user_encoded.get(user_id)"
   ]
  },
  {
   "cell_type": "code",
   "execution_count": 55,
   "id": "54e5cbaa",
   "metadata": {},
   "outputs": [],
   "source": [
    "user_movie_array = np.hstack(\n",
    "    ([[user_encoder]] * len(movies_not_watched), movies_not_watched)\n",
    ")"
   ]
  },
  {
   "cell_type": "code",
   "execution_count": 56,
   "id": "30af00f6",
   "metadata": {},
   "outputs": [
    {
     "name": "stdout",
     "output_type": "stream",
     "text": [
      "\u001b[1m10/10\u001b[0m \u001b[32m━━━━━━━━━━━━━━━━━━━━\u001b[0m\u001b[37m\u001b[0m \u001b[1m0s\u001b[0m 9ms/step\n"
     ]
    }
   ],
   "source": [
    "ratings = model.predict(user_movie_array).flatten() #melakukan prediksi rating yang dinormalisasi"
   ]
  },
  {
   "cell_type": "code",
   "execution_count": 57,
   "id": "a17bb281",
   "metadata": {},
   "outputs": [],
   "source": [
    "top_ratings_indices = ratings.argsort()[-10:][::-1] # mengambil film dengan nilai prediksi rating tertinggi"
   ]
  },
  {
   "cell_type": "code",
   "execution_count": 58,
   "id": "a3d2718d",
   "metadata": {},
   "outputs": [
    {
     "data": {
      "text/plain": [
       "array([142, 145, 150, 147, 132, 140, 130, 157, 153, 154], dtype=int64)"
      ]
     },
     "execution_count": 58,
     "metadata": {},
     "output_type": "execute_result"
    }
   ],
   "source": [
    "top_ratings_indices"
   ]
  },
  {
   "cell_type": "code",
   "execution_count": 59,
   "id": "532e8a3a",
   "metadata": {},
   "outputs": [],
   "source": [
    "recommended_movies_ids = [\n",
    "    movie_encoded_to_movie.get(movies_not_watched[x][0]) for x in top_ratings_indices\n",
    "]"
   ]
  },
  {
   "cell_type": "code",
   "execution_count": 60,
   "id": "24c17a7f",
   "metadata": {},
   "outputs": [
    {
     "data": {
      "text/plain": [
       "[7022, 62336, 115617, 2953, 6938, 107348, 68358, 80834, 58295, 58301]"
      ]
     },
     "execution_count": 60,
     "metadata": {},
     "output_type": "execute_result"
    }
   ],
   "source": [
    "recommended_movies_ids"
   ]
  },
  {
   "cell_type": "code",
   "execution_count": 61,
   "id": "c3be6405",
   "metadata": {},
   "outputs": [
    {
     "name": "stdout",
     "output_type": "stream",
     "text": [
      "Showing recommendations for users: 474\n",
      "===========================\n",
      "Movies with high ratings from user\n",
      "--------------------------------\n",
      "Fugitive, The (1993) : Thriller 5.0\n",
      "L.A. Confidential (1997) : Crime|Film-Noir|Mystery|Thriller 5.0\n",
      "King and I, The (1956) : Drama|Musical|Romance 5.0\n",
      "X2: X-Men United (2003) : Action|Adventure|Sci-Fi|Thriller 5.0\n",
      "Safety Last! (1923) : Action|Comedy|Romance 5.0\n",
      "--------------------------------\n",
      "Top 10 movie recommendation\n",
      "--------------------------------\n",
      "Bank Job, The (2008) : Action|Crime|Thriller\n",
      "Home Alone 2: Lost in New York (1992) : Children|Comedy\n",
      "Billabong Odyssey (2003) : Documentary\n",
      "Star Trek (2009) : Action|Adventure|Sci-Fi|IMAX\n",
      "Anchorman 2: The Legend Continues (2013) : Comedy\n",
      "Battle Royale (Batoru rowaiaru) (2000) : Action|Drama|Horror|Thriller\n",
      "Funny Games U.S. (2007) : Drama|Thriller\n",
      "Big Hero 6 (2014) : Action|Animation|Comedy\n",
      "FLCL (2000) : Animation|Comedy|Fantasy|Sci-Fi\n",
      "Sintel (2010) : Animation|Fantasy\n"
     ]
    }
   ],
   "source": [
    "print('Showing recommendations for users: {}'.format(user_id))\n",
    "print('===' * 9)\n",
    "print('Movies with high ratings from user')\n",
    "print('----' * 8)\n",
    "\n",
    "top_movie_user = (\n",
    "    movies_watched.sort_values(\n",
    "        by = 'rating',\n",
    "        ascending=False\n",
    "    )\n",
    "    .head(5)\n",
    "    .movieId.unique()\n",
    ")\n",
    "movie_df_rows = movies_watched[movies_watched['movieId'].isin(top_movie_user)]\n",
    "for row in movie_df_rows.itertuples():\n",
    "    print(row.title, ':', row.genres, row.rating)\n",
    "    \n",
    "print('----' * 8)\n",
    "print('Top 10 movie recommendation')\n",
    "print('----' * 8)\n",
    " \n",
    "recommended_movie = df_final_collaborative[df_final_collaborative['movieId'].isin(recommended_movies_ids)].drop_duplicates(subset=['title'])\n",
    "for row in recommended_movie.itertuples():\n",
    "    print(row.title, ':', row.genres)"
   ]
  },
  {
   "cell_type": "markdown",
   "id": "054604bb",
   "metadata": {},
   "source": [
    "### Evaluation dengan RMSE"
   ]
  },
  {
   "cell_type": "code",
   "execution_count": 62,
   "id": "3c0dafbf",
   "metadata": {},
   "outputs": [
    {
     "data": {
      "image/png": "[encoded data removed]",
      "text/plain": [
       "<Figure size 640x480 with 1 Axes>"
      ]
     },
     "metadata": {},
     "output_type": "display_data"
    }
   ],
   "source": [
    "plt.plot(history.history['root_mean_squared_error'], label='training')\n",
    "plt.plot(history.history['val_root_mean_squared_error'], label='validation')\n",
    "plt.legend()\n",
    "plt.title('RMSE Training vs Validation')\n",
    "plt.xlabel('Epoch')\n",
    "plt.ylabel(('RMSE'))\n",
    "plt.grid(True)\n",
    "plt.show()"
   ]
  },
  {
   "cell_type": "code",
   "execution_count": 63,
   "id": "6ee75fbd",
   "metadata": {},
   "outputs": [
    {
     "name": "stdout",
     "output_type": "stream",
     "text": [
      "\u001b[1m11/11\u001b[0m \u001b[32m━━━━━━━━━━━━━━━━━━━━\u001b[0m\u001b[37m\u001b[0m \u001b[1m0s\u001b[0m 8ms/step\n",
      "RMSE: 0.25553916508671987\n"
     ]
    }
   ],
   "source": [
    "y_true = y_val\n",
    "y_pred = model.predict(x_val)\n",
    "\n",
    "rmse = np.sqrt(mean_squared_error(y_true, y_pred))\n",
    "print(\"RMSE:\", rmse)"
   ]
  },
  {
   "cell_type": "markdown",
   "id": "f87125cc",
   "metadata": {},
   "source": [
    "Berdasarkan grafik RMSE, terlihat bahwa ada indikasi overfitting yang bisa jadi disebabkan oleh kurang banyaknya data yang diperoleh.\n",
    "Nilai RMSE sangat baik yaitu 0.2555, untuk skala 0-1 rating yang dinormalisasi."
   ]
  }
 ],
 "metadata": {
  "kernelspec": {
   "display_name": "waruds",
   "language": "python",
   "name": "python3"
  },
  "language_info": {
   "codemirror_mode": {
    "name": "ipython",
    "version": 3
   },
   "file_extension": ".py",
   "mimetype": "text/x-python",
   "name": "python",
   "nbconvert_exporter": "python",
   "pygments_lexer": "ipython3",
   "version": "3.9.21"
  }
 },
 "nbformat": 4,
 "nbformat_minor": 5
}
