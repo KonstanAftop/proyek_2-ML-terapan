{
 "cells": [
  {
   "cell_type": "code",
   "execution_count": 1,
   "id": "b79c9abc",
   "metadata": {},
   "outputs": [],
   "source": [
    "import pandas as pd\n",
    "import matplotlib.pyplot as plt\n",
    "import numpy as np\n",
    "from sklearn.metrics import mean_squared_error\n",
    "from sklearn.feature_extraction.text import TfidfVectorizer\n",
    "from sklearn.metrics.pairwise import cosine_similarity\n",
    "import tensorflow as tf\n",
    "# Reproducibility\n",
    "import random\n",
    "SEED = 42\n",
    "np.random.seed(SEED)\n",
    "random.seed(SEED)\n",
    "tf.random.set_seed(SEED)"
   ]
  },
  {
   "cell_type": "markdown",
   "id": "0cdbbfb8",
   "metadata": {},
   "source": [
    "# Data Understanding"
   ]
  },
  {
   "cell_type": "code",
   "execution_count": 2,
   "id": "6d2dda59",
   "metadata": {},
   "outputs": [],
   "source": [
    "df_ratings = pd.read_csv('dataset/ml-latest-small/ratings.csv')\n",
    "df_tags = pd.read_csv('dataset/ml-latest-small/tags.csv')\n",
    "df_movies = pd.read_csv('dataset/ml-latest-small/movies.csv')"
   ]
  },
  {
   "cell_type": "code",
   "execution_count": 3,
   "id": "ce2fc4b2",
   "metadata": {},
   "outputs": [
    {
     "data": {
      "text/html": [
       "<div>\n",
       "<style scoped>\n",
       "    .dataframe tbody tr th:only-of-type {\n",
       "        vertical-align: middle;\n",
       "    }\n",
       "\n",
       "    .dataframe tbody tr th {\n",
       "        vertical-align: top;\n",
       "    }\n",
       "\n",
       "    .dataframe thead th {\n",
       "        text-align: right;\n",
       "    }\n",
       "</style>\n",
       "<table border=\"1\" class=\"dataframe\">\n",
       "  <thead>\n",
       "    <tr style=\"text-align: right;\">\n",
       "      <th></th>\n",
       "      <th>userId</th>\n",
       "      <th>movieId</th>\n",
       "      <th>rating</th>\n",
       "      <th>timestamp</th>\n",
       "    </tr>\n",
       "  </thead>\n",
       "  <tbody>\n",
       "    <tr>\n",
       "      <th>0</th>\n",
       "      <td>1</td>\n",
       "      <td>1</td>\n",
       "      <td>4.0</td>\n",
       "      <td>964982703</td>\n",
       "    </tr>\n",
       "    <tr>\n",
       "      <th>1</th>\n",
       "      <td>1</td>\n",
       "      <td>3</td>\n",
       "      <td>4.0</td>\n",
       "      <td>964981247</td>\n",
       "    </tr>\n",
       "    <tr>\n",
       "      <th>2</th>\n",
       "      <td>1</td>\n",
       "      <td>6</td>\n",
       "      <td>4.0</td>\n",
       "      <td>964982224</td>\n",
       "    </tr>\n",
       "  </tbody>\n",
       "</table>\n",
       "</div>"
      ],
      "text/plain": [
       "   userId  movieId  rating  timestamp\n",
       "0       1        1     4.0  964982703\n",
       "1       1        3     4.0  964981247\n",
       "2       1        6     4.0  964982224"
      ]
     },
     "execution_count": 3,
     "metadata": {},
     "output_type": "execute_result"
    }
   ],
   "source": [
    "df_ratings.head(3)"
   ]
  },
  {
   "cell_type": "markdown",
   "id": "80b59fb7",
   "metadata": {},
   "source": [
    "Pada data ratings, terdapat 4 variabel :\n",
    "- userId : nomor unik user\n",
    "- movieId : nomor unik film\n",
    "- rating : rating yang diberikan user untuk film\n",
    "- timestamp :  merepresentasikan jumlah detik sejak tengah malam Waktu Universal Terkoordinasi (UTC) pada tanggal 1 Januari 1970."
   ]
  },
  {
   "cell_type": "code",
   "execution_count": 4,
   "id": "1f0864c2",
   "metadata": {},
   "outputs": [
    {
     "data": {
      "text/html": [
       "<div>\n",
       "<style scoped>\n",
       "    .dataframe tbody tr th:only-of-type {\n",
       "        vertical-align: middle;\n",
       "    }\n",
       "\n",
       "    .dataframe tbody tr th {\n",
       "        vertical-align: top;\n",
       "    }\n",
       "\n",
       "    .dataframe thead th {\n",
       "        text-align: right;\n",
       "    }\n",
       "</style>\n",
       "<table border=\"1\" class=\"dataframe\">\n",
       "  <thead>\n",
       "    <tr style=\"text-align: right;\">\n",
       "      <th></th>\n",
       "      <th>movieId</th>\n",
       "      <th>title</th>\n",
       "      <th>genres</th>\n",
       "    </tr>\n",
       "  </thead>\n",
       "  <tbody>\n",
       "    <tr>\n",
       "      <th>0</th>\n",
       "      <td>1</td>\n",
       "      <td>Toy Story (1995)</td>\n",
       "      <td>Adventure|Animation|Children|Comedy|Fantasy</td>\n",
       "    </tr>\n",
       "    <tr>\n",
       "      <th>1</th>\n",
       "      <td>2</td>\n",
       "      <td>Jumanji (1995)</td>\n",
       "      <td>Adventure|Children|Fantasy</td>\n",
       "    </tr>\n",
       "    <tr>\n",
       "      <th>2</th>\n",
       "      <td>3</td>\n",
       "      <td>Grumpier Old Men (1995)</td>\n",
       "      <td>Comedy|Romance</td>\n",
       "    </tr>\n",
       "  </tbody>\n",
       "</table>\n",
       "</div>"
      ],
      "text/plain": [
       "   movieId                    title  \\\n",
       "0        1         Toy Story (1995)   \n",
       "1        2           Jumanji (1995)   \n",
       "2        3  Grumpier Old Men (1995)   \n",
       "\n",
       "                                        genres  \n",
       "0  Adventure|Animation|Children|Comedy|Fantasy  \n",
       "1                   Adventure|Children|Fantasy  \n",
       "2                               Comedy|Romance  "
      ]
     },
     "execution_count": 4,
     "metadata": {},
     "output_type": "execute_result"
    }
   ],
   "source": [
    "df_movies.head(3)"
   ]
  },
  {
   "cell_type": "markdown",
   "id": "c1f7e536",
   "metadata": {},
   "source": [
    "Pada data movies, terdapat 3 variabel :\n",
    "- movieId : nomor unik film\n",
    "- title : judul film dengan nomor unik movieId\n",
    "- genres : genre dari film"
   ]
  },
  {
   "cell_type": "code",
   "execution_count": 5,
   "id": "58a6f4f1",
   "metadata": {},
   "outputs": [
    {
     "data": {
      "text/html": [
       "<div>\n",
       "<style scoped>\n",
       "    .dataframe tbody tr th:only-of-type {\n",
       "        vertical-align: middle;\n",
       "    }\n",
       "\n",
       "    .dataframe tbody tr th {\n",
       "        vertical-align: top;\n",
       "    }\n",
       "\n",
       "    .dataframe thead th {\n",
       "        text-align: right;\n",
       "    }\n",
       "</style>\n",
       "<table border=\"1\" class=\"dataframe\">\n",
       "  <thead>\n",
       "    <tr style=\"text-align: right;\">\n",
       "      <th></th>\n",
       "      <th>userId</th>\n",
       "      <th>movieId</th>\n",
       "      <th>tag</th>\n",
       "      <th>timestamp</th>\n",
       "    </tr>\n",
       "  </thead>\n",
       "  <tbody>\n",
       "    <tr>\n",
       "      <th>0</th>\n",
       "      <td>2</td>\n",
       "      <td>60756</td>\n",
       "      <td>funny</td>\n",
       "      <td>1445714994</td>\n",
       "    </tr>\n",
       "    <tr>\n",
       "      <th>1</th>\n",
       "      <td>2</td>\n",
       "      <td>60756</td>\n",
       "      <td>Highly quotable</td>\n",
       "      <td>1445714996</td>\n",
       "    </tr>\n",
       "    <tr>\n",
       "      <th>2</th>\n",
       "      <td>2</td>\n",
       "      <td>60756</td>\n",
       "      <td>will ferrell</td>\n",
       "      <td>1445714992</td>\n",
       "    </tr>\n",
       "  </tbody>\n",
       "</table>\n",
       "</div>"
      ],
      "text/plain": [
       "   userId  movieId              tag   timestamp\n",
       "0       2    60756            funny  1445714994\n",
       "1       2    60756  Highly quotable  1445714996\n",
       "2       2    60756     will ferrell  1445714992"
      ]
     },
     "execution_count": 5,
     "metadata": {},
     "output_type": "execute_result"
    }
   ],
   "source": [
    "df_tags.head(3)"
   ]
  },
  {
   "cell_type": "markdown",
   "id": "73a0c4c6",
   "metadata": {},
   "source": [
    "Pada data tags, terdapat 4 variabel :\n",
    "- userId : nomor unik user\n",
    "- movieId : nomor unik film\n",
    "- tag : tag yang diberikan user untuk film\n",
    "- timestamp : merepresentasikan jumlah detik sejak tengah malam Waktu Universal Terkoordinasi (UTC) pada tanggal 1 Januari 1970."
   ]
  },
  {
   "cell_type": "code",
   "execution_count": 6,
   "id": "55de8ad1",
   "metadata": {},
   "outputs": [
    {
     "name": "stdout",
     "output_type": "stream",
     "text": [
      "Banyak data ratings film yang dimiliki : 100836\n",
      "Banyak data film film yang dimiliki : 9742\n",
      "Banyak data tags film yang dimiliki : 3683\n"
     ]
    }
   ],
   "source": [
    "# Banyak Data\n",
    "print(f'Banyak data ratings film yang dimiliki : {len(df_ratings)}')\n",
    "print(f'Banyak data film film yang dimiliki : {len(df_movies)}')\n",
    "print(f'Banyak data tags film yang dimiliki : {len(df_tags)}')"
   ]
  },
  {
   "cell_type": "markdown",
   "id": "710c6f8b",
   "metadata": {},
   "source": [
    "# Exploratory Data Analysis"
   ]
  },
  {
   "cell_type": "code",
   "execution_count": 7,
   "id": "c054ad60",
   "metadata": {},
   "outputs": [
    {
     "name": "stdout",
     "output_type": "stream",
     "text": [
      "<class 'pandas.core.frame.DataFrame'>\n",
      "RangeIndex: 3683 entries, 0 to 3682\n",
      "Data columns (total 4 columns):\n",
      " #   Column     Non-Null Count  Dtype \n",
      "---  ------     --------------  ----- \n",
      " 0   userId     3683 non-null   int64 \n",
      " 1   movieId    3683 non-null   int64 \n",
      " 2   tag        3683 non-null   object\n",
      " 3   timestamp  3683 non-null   int64 \n",
      "dtypes: int64(3), object(1)\n",
      "memory usage: 115.2+ KB\n"
     ]
    }
   ],
   "source": [
    "df_tags.info()"
   ]
  },
  {
   "cell_type": "code",
   "execution_count": 8,
   "id": "3808372b",
   "metadata": {},
   "outputs": [
    {
     "data": {
      "text/plain": [
       "userId       0\n",
       "movieId      0\n",
       "tag          0\n",
       "timestamp    0\n",
       "dtype: int64"
      ]
     },
     "execution_count": 8,
     "metadata": {},
     "output_type": "execute_result"
    }
   ],
   "source": [
    "df_tags.isnull().sum()"
   ]
  },
  {
   "cell_type": "code",
   "execution_count": 9,
   "id": "9efbc0a6",
   "metadata": {},
   "outputs": [
    {
     "data": {
      "text/html": [
       "<div>\n",
       "<style scoped>\n",
       "    .dataframe tbody tr th:only-of-type {\n",
       "        vertical-align: middle;\n",
       "    }\n",
       "\n",
       "    .dataframe tbody tr th {\n",
       "        vertical-align: top;\n",
       "    }\n",
       "\n",
       "    .dataframe thead th {\n",
       "        text-align: right;\n",
       "    }\n",
       "</style>\n",
       "<table border=\"1\" class=\"dataframe\">\n",
       "  <thead>\n",
       "    <tr style=\"text-align: right;\">\n",
       "      <th></th>\n",
       "      <th>userId</th>\n",
       "      <th>movieId</th>\n",
       "      <th>tag</th>\n",
       "      <th>timestamp</th>\n",
       "    </tr>\n",
       "  </thead>\n",
       "  <tbody>\n",
       "    <tr>\n",
       "      <th>0</th>\n",
       "      <td>2</td>\n",
       "      <td>60756</td>\n",
       "      <td>funny</td>\n",
       "      <td>1445714994</td>\n",
       "    </tr>\n",
       "    <tr>\n",
       "      <th>1</th>\n",
       "      <td>2</td>\n",
       "      <td>60756</td>\n",
       "      <td>Highly quotable</td>\n",
       "      <td>1445714996</td>\n",
       "    </tr>\n",
       "    <tr>\n",
       "      <th>2</th>\n",
       "      <td>2</td>\n",
       "      <td>60756</td>\n",
       "      <td>will ferrell</td>\n",
       "      <td>1445714992</td>\n",
       "    </tr>\n",
       "    <tr>\n",
       "      <th>3</th>\n",
       "      <td>2</td>\n",
       "      <td>89774</td>\n",
       "      <td>Boxing story</td>\n",
       "      <td>1445715207</td>\n",
       "    </tr>\n",
       "    <tr>\n",
       "      <th>4</th>\n",
       "      <td>2</td>\n",
       "      <td>89774</td>\n",
       "      <td>MMA</td>\n",
       "      <td>1445715200</td>\n",
       "    </tr>\n",
       "    <tr>\n",
       "      <th>...</th>\n",
       "      <td>...</td>\n",
       "      <td>...</td>\n",
       "      <td>...</td>\n",
       "      <td>...</td>\n",
       "    </tr>\n",
       "    <tr>\n",
       "      <th>3669</th>\n",
       "      <td>599</td>\n",
       "      <td>2959</td>\n",
       "      <td>twist ending</td>\n",
       "      <td>1498456888</td>\n",
       "    </tr>\n",
       "    <tr>\n",
       "      <th>3670</th>\n",
       "      <td>599</td>\n",
       "      <td>2959</td>\n",
       "      <td>violence</td>\n",
       "      <td>1498456904</td>\n",
       "    </tr>\n",
       "    <tr>\n",
       "      <th>3671</th>\n",
       "      <td>599</td>\n",
       "      <td>2959</td>\n",
       "      <td>violent</td>\n",
       "      <td>1498456914</td>\n",
       "    </tr>\n",
       "    <tr>\n",
       "      <th>3680</th>\n",
       "      <td>610</td>\n",
       "      <td>3265</td>\n",
       "      <td>gun fu</td>\n",
       "      <td>1493843984</td>\n",
       "    </tr>\n",
       "    <tr>\n",
       "      <th>3681</th>\n",
       "      <td>610</td>\n",
       "      <td>3265</td>\n",
       "      <td>heroic bloodshed</td>\n",
       "      <td>1493843978</td>\n",
       "    </tr>\n",
       "  </tbody>\n",
       "</table>\n",
       "<p>2510 rows × 4 columns</p>\n",
       "</div>"
      ],
      "text/plain": [
       "      userId  movieId               tag   timestamp\n",
       "0          2    60756             funny  1445714994\n",
       "1          2    60756   Highly quotable  1445714996\n",
       "2          2    60756      will ferrell  1445714992\n",
       "3          2    89774      Boxing story  1445715207\n",
       "4          2    89774               MMA  1445715200\n",
       "...      ...      ...               ...         ...\n",
       "3669     599     2959      twist ending  1498456888\n",
       "3670     599     2959          violence  1498456904\n",
       "3671     599     2959           violent  1498456914\n",
       "3680     610     3265            gun fu  1493843984\n",
       "3681     610     3265  heroic bloodshed  1493843978\n",
       "\n",
       "[2510 rows x 4 columns]"
      ]
     },
     "execution_count": 9,
     "metadata": {},
     "output_type": "execute_result"
    }
   ],
   "source": [
    "df_tags[df_tags.duplicated(subset=['userId','movieId'], keep=False)]"
   ]
  },
  {
   "cell_type": "markdown",
   "id": "cc6e22b6",
   "metadata": {},
   "source": [
    "Pada data tags, terdapat tag yang terpisah untuk userId dan movieId yang sama."
   ]
  },
  {
   "cell_type": "code",
   "execution_count": 10,
   "id": "b5c98940",
   "metadata": {},
   "outputs": [
    {
     "name": "stdout",
     "output_type": "stream",
     "text": [
      "<class 'pandas.core.frame.DataFrame'>\n",
      "RangeIndex: 9742 entries, 0 to 9741\n",
      "Data columns (total 3 columns):\n",
      " #   Column   Non-Null Count  Dtype \n",
      "---  ------   --------------  ----- \n",
      " 0   movieId  9742 non-null   int64 \n",
      " 1   title    9742 non-null   object\n",
      " 2   genres   9742 non-null   object\n",
      "dtypes: int64(1), object(2)\n",
      "memory usage: 228.5+ KB\n"
     ]
    }
   ],
   "source": [
    "df_movies.info()"
   ]
  },
  {
   "cell_type": "code",
   "execution_count": 11,
   "id": "c041e3a4",
   "metadata": {},
   "outputs": [
    {
     "data": {
      "text/plain": [
       "movieId    0\n",
       "title      0\n",
       "genres     0\n",
       "dtype: int64"
      ]
     },
     "execution_count": 11,
     "metadata": {},
     "output_type": "execute_result"
    }
   ],
   "source": [
    "df_movies.isnull().sum()"
   ]
  },
  {
   "cell_type": "code",
   "execution_count": 12,
   "id": "035bfad6",
   "metadata": {},
   "outputs": [
    {
     "data": {
      "text/html": [
       "<div>\n",
       "<style scoped>\n",
       "    .dataframe tbody tr th:only-of-type {\n",
       "        vertical-align: middle;\n",
       "    }\n",
       "\n",
       "    .dataframe tbody tr th {\n",
       "        vertical-align: top;\n",
       "    }\n",
       "\n",
       "    .dataframe thead th {\n",
       "        text-align: right;\n",
       "    }\n",
       "</style>\n",
       "<table border=\"1\" class=\"dataframe\">\n",
       "  <thead>\n",
       "    <tr style=\"text-align: right;\">\n",
       "      <th></th>\n",
       "      <th>movieId</th>\n",
       "      <th>title</th>\n",
       "      <th>genres</th>\n",
       "    </tr>\n",
       "  </thead>\n",
       "  <tbody>\n",
       "    <tr>\n",
       "      <th>650</th>\n",
       "      <td>838</td>\n",
       "      <td>Emma (1996)</td>\n",
       "      <td>Comedy|Drama|Romance</td>\n",
       "    </tr>\n",
       "    <tr>\n",
       "      <th>2141</th>\n",
       "      <td>2851</td>\n",
       "      <td>Saturn 3 (1980)</td>\n",
       "      <td>Adventure|Sci-Fi|Thriller</td>\n",
       "    </tr>\n",
       "    <tr>\n",
       "      <th>4169</th>\n",
       "      <td>6003</td>\n",
       "      <td>Confessions of a Dangerous Mind (2002)</td>\n",
       "      <td>Comedy|Crime|Drama|Thriller</td>\n",
       "    </tr>\n",
       "    <tr>\n",
       "      <th>5601</th>\n",
       "      <td>26958</td>\n",
       "      <td>Emma (1996)</td>\n",
       "      <td>Romance</td>\n",
       "    </tr>\n",
       "    <tr>\n",
       "      <th>5854</th>\n",
       "      <td>32600</td>\n",
       "      <td>Eros (2004)</td>\n",
       "      <td>Drama</td>\n",
       "    </tr>\n",
       "    <tr>\n",
       "      <th>5931</th>\n",
       "      <td>34048</td>\n",
       "      <td>War of the Worlds (2005)</td>\n",
       "      <td>Action|Adventure|Sci-Fi|Thriller</td>\n",
       "    </tr>\n",
       "    <tr>\n",
       "      <th>6932</th>\n",
       "      <td>64997</td>\n",
       "      <td>War of the Worlds (2005)</td>\n",
       "      <td>Action|Sci-Fi</td>\n",
       "    </tr>\n",
       "    <tr>\n",
       "      <th>9106</th>\n",
       "      <td>144606</td>\n",
       "      <td>Confessions of a Dangerous Mind (2002)</td>\n",
       "      <td>Comedy|Crime|Drama|Romance|Thriller</td>\n",
       "    </tr>\n",
       "    <tr>\n",
       "      <th>9135</th>\n",
       "      <td>147002</td>\n",
       "      <td>Eros (2004)</td>\n",
       "      <td>Drama|Romance</td>\n",
       "    </tr>\n",
       "    <tr>\n",
       "      <th>9468</th>\n",
       "      <td>168358</td>\n",
       "      <td>Saturn 3 (1980)</td>\n",
       "      <td>Sci-Fi|Thriller</td>\n",
       "    </tr>\n",
       "  </tbody>\n",
       "</table>\n",
       "</div>"
      ],
      "text/plain": [
       "      movieId                                   title  \\\n",
       "650       838                             Emma (1996)   \n",
       "2141     2851                         Saturn 3 (1980)   \n",
       "4169     6003  Confessions of a Dangerous Mind (2002)   \n",
       "5601    26958                             Emma (1996)   \n",
       "5854    32600                             Eros (2004)   \n",
       "5931    34048                War of the Worlds (2005)   \n",
       "6932    64997                War of the Worlds (2005)   \n",
       "9106   144606  Confessions of a Dangerous Mind (2002)   \n",
       "9135   147002                             Eros (2004)   \n",
       "9468   168358                         Saturn 3 (1980)   \n",
       "\n",
       "                                   genres  \n",
       "650                  Comedy|Drama|Romance  \n",
       "2141            Adventure|Sci-Fi|Thriller  \n",
       "4169          Comedy|Crime|Drama|Thriller  \n",
       "5601                              Romance  \n",
       "5854                                Drama  \n",
       "5931     Action|Adventure|Sci-Fi|Thriller  \n",
       "6932                        Action|Sci-Fi  \n",
       "9106  Comedy|Crime|Drama|Romance|Thriller  \n",
       "9135                        Drama|Romance  \n",
       "9468                      Sci-Fi|Thriller  "
      ]
     },
     "execution_count": 12,
     "metadata": {},
     "output_type": "execute_result"
    }
   ],
   "source": [
    "df_movies[df_movies.duplicated(subset=['title'], keep=False)]"
   ]
  },
  {
   "cell_type": "markdown",
   "id": "3fc920bf",
   "metadata": {},
   "source": [
    "Pada data movies, terdapat film yang sama ditandai dengan nomor unik yang berbeda."
   ]
  },
  {
   "cell_type": "code",
   "execution_count": 13,
   "id": "edc816ec",
   "metadata": {},
   "outputs": [
    {
     "name": "stdout",
     "output_type": "stream",
     "text": [
      "Banyaknya film yang tersedia : 9737\n"
     ]
    }
   ],
   "source": [
    "print(f'Banyaknya film yang tersedia : {df_movies.title.nunique()}')"
   ]
  },
  {
   "cell_type": "code",
   "execution_count": 14,
   "id": "36ad04ed",
   "metadata": {},
   "outputs": [
    {
     "name": "stdout",
     "output_type": "stream",
     "text": [
      "<class 'pandas.core.frame.DataFrame'>\n",
      "RangeIndex: 100836 entries, 0 to 100835\n",
      "Data columns (total 4 columns):\n",
      " #   Column     Non-Null Count   Dtype  \n",
      "---  ------     --------------   -----  \n",
      " 0   userId     100836 non-null  int64  \n",
      " 1   movieId    100836 non-null  int64  \n",
      " 2   rating     100836 non-null  float64\n",
      " 3   timestamp  100836 non-null  int64  \n",
      "dtypes: float64(1), int64(3)\n",
      "memory usage: 3.1 MB\n"
     ]
    }
   ],
   "source": [
    "df_ratings.info()"
   ]
  },
  {
   "cell_type": "code",
   "execution_count": 15,
   "id": "60f792ec",
   "metadata": {},
   "outputs": [
    {
     "data": {
      "text/plain": [
       "userId       0\n",
       "movieId      0\n",
       "rating       0\n",
       "timestamp    0\n",
       "dtype: int64"
      ]
     },
     "execution_count": 15,
     "metadata": {},
     "output_type": "execute_result"
    }
   ],
   "source": [
    "df_ratings.isnull().sum()"
   ]
  },
  {
   "cell_type": "code",
   "execution_count": 16,
   "id": "358a86a8",
   "metadata": {},
   "outputs": [
    {
     "data": {
      "text/html": [
       "<div>\n",
       "<style scoped>\n",
       "    .dataframe tbody tr th:only-of-type {\n",
       "        vertical-align: middle;\n",
       "    }\n",
       "\n",
       "    .dataframe tbody tr th {\n",
       "        vertical-align: top;\n",
       "    }\n",
       "\n",
       "    .dataframe thead th {\n",
       "        text-align: right;\n",
       "    }\n",
       "</style>\n",
       "<table border=\"1\" class=\"dataframe\">\n",
       "  <thead>\n",
       "    <tr style=\"text-align: right;\">\n",
       "      <th></th>\n",
       "      <th>userId</th>\n",
       "      <th>movieId</th>\n",
       "      <th>rating</th>\n",
       "      <th>timestamp</th>\n",
       "    </tr>\n",
       "  </thead>\n",
       "  <tbody>\n",
       "  </tbody>\n",
       "</table>\n",
       "</div>"
      ],
      "text/plain": [
       "Empty DataFrame\n",
       "Columns: [userId, movieId, rating, timestamp]\n",
       "Index: []"
      ]
     },
     "execution_count": 16,
     "metadata": {},
     "output_type": "execute_result"
    }
   ],
   "source": [
    "df_ratings[df_ratings.duplicated(subset=['userId', 'movieId'], keep=False)]"
   ]
  },
  {
   "cell_type": "markdown",
   "id": "655bd572",
   "metadata": {},
   "source": [
    "Tidak terdapat data missing pada ketiga dataframe. Namun terdapat beberapa nilai yang duplikat."
   ]
  },
  {
   "cell_type": "code",
   "execution_count": 17,
   "id": "0c69bc2e",
   "metadata": {},
   "outputs": [
    {
     "data": {
      "image/png": "[encoded data removed]",
      "text/plain": [
       "<Figure size 640x480 with 1 Axes>"
      ]
     },
     "metadata": {},
     "output_type": "display_data"
    }
   ],
   "source": [
    "plt.hist(df_ratings['rating'],bins=10)\n",
    "plt.title('Distribusi Rating')\n",
    "plt.xlabel('Rating')\n",
    "plt.ylabel('Frekuensi')\n",
    "plt.show()"
   ]
  },
  {
   "cell_type": "code",
   "execution_count": 18,
   "id": "7212d992",
   "metadata": {},
   "outputs": [
    {
     "data": {
      "image/png": "[encoded data removed]",
      "text/plain": [
       "<Figure size 1000x600 with 1 Axes>"
      ]
     },
     "metadata": {},
     "output_type": "display_data"
    }
   ],
   "source": [
    "all_genres = df_movies['genres'].str.split('|').explode()\n",
    "genre_counts = all_genres.value_counts().head(10)\n",
    "\n",
    "plt.figure(figsize=(10, 6))\n",
    "genre_counts.plot(kind='bar', color='skyblue', edgecolor='black')\n",
    "plt.title('Top 10 Genre Terbanyak dalam Dataset')\n",
    "plt.xlabel('Genre')\n",
    "plt.ylabel('Jumlah Film')\n",
    "plt.xticks(rotation=45)\n",
    "plt.tight_layout()\n",
    "plt.show()\n"
   ]
  },
  {
   "cell_type": "markdown",
   "id": "83a436ba",
   "metadata": {},
   "source": [
    "# Data Preparation"
   ]
  },
  {
   "cell_type": "code",
   "execution_count": 19,
   "id": "4cb9b927",
   "metadata": {},
   "outputs": [],
   "source": [
    "# Membuang fitur yang tidak relevan/tidak digunakan\n",
    "df_ratings = df_ratings.drop(columns='timestamp')\n",
    "df_tags = df_tags.drop(columns='timestamp')"
   ]
  },
  {
   "cell_type": "markdown",
   "id": "c95623f5",
   "metadata": {},
   "source": [
    "Berdasarkan permasalahan yang kita temukan di EDA, terdapat duplikasi tag pada userId dan movieId yang sama. Maka, kita perlu menggabungkannya."
   ]
  },
  {
   "cell_type": "code",
   "execution_count": 20,
   "id": "107497b2",
   "metadata": {},
   "outputs": [],
   "source": [
    "df_tags_cleaned = df_tags.groupby(['movieId','userId']).agg({\n",
    "    'tag' : lambda x: ' '.join(set(x))\n",
    "}).reset_index()"
   ]
  },
  {
   "cell_type": "code",
   "execution_count": 21,
   "id": "2bbcae51",
   "metadata": {},
   "outputs": [
    {
     "data": {
      "text/html": [
       "<div>\n",
       "<style scoped>\n",
       "    .dataframe tbody tr th:only-of-type {\n",
       "        vertical-align: middle;\n",
       "    }\n",
       "\n",
       "    .dataframe tbody tr th {\n",
       "        vertical-align: top;\n",
       "    }\n",
       "\n",
       "    .dataframe thead th {\n",
       "        text-align: right;\n",
       "    }\n",
       "</style>\n",
       "<table border=\"1\" class=\"dataframe\">\n",
       "  <thead>\n",
       "    <tr style=\"text-align: right;\">\n",
       "      <th></th>\n",
       "      <th>movieId</th>\n",
       "      <th>userId</th>\n",
       "      <th>tag</th>\n",
       "    </tr>\n",
       "  </thead>\n",
       "  <tbody>\n",
       "    <tr>\n",
       "      <th>0</th>\n",
       "      <td>1</td>\n",
       "      <td>336</td>\n",
       "      <td>pixar</td>\n",
       "    </tr>\n",
       "    <tr>\n",
       "      <th>1</th>\n",
       "      <td>1</td>\n",
       "      <td>474</td>\n",
       "      <td>pixar</td>\n",
       "    </tr>\n",
       "    <tr>\n",
       "      <th>2</th>\n",
       "      <td>1</td>\n",
       "      <td>567</td>\n",
       "      <td>fun</td>\n",
       "    </tr>\n",
       "    <tr>\n",
       "      <th>3</th>\n",
       "      <td>2</td>\n",
       "      <td>62</td>\n",
       "      <td>magic board game Robin Williams fantasy</td>\n",
       "    </tr>\n",
       "    <tr>\n",
       "      <th>4</th>\n",
       "      <td>2</td>\n",
       "      <td>474</td>\n",
       "      <td>game</td>\n",
       "    </tr>\n",
       "  </tbody>\n",
       "</table>\n",
       "</div>"
      ],
      "text/plain": [
       "   movieId  userId                                      tag\n",
       "0        1     336                                    pixar\n",
       "1        1     474                                    pixar\n",
       "2        1     567                                      fun\n",
       "3        2      62  magic board game Robin Williams fantasy\n",
       "4        2     474                                     game"
      ]
     },
     "execution_count": 21,
     "metadata": {},
     "output_type": "execute_result"
    }
   ],
   "source": [
    "df_tags_cleaned.head(5)"
   ]
  },
  {
   "cell_type": "markdown",
   "id": "e3961ba6",
   "metadata": {},
   "source": [
    "Kemudian, kita atasi masalah movie dengan nomor unik yang berbeda."
   ]
  },
  {
   "cell_type": "code",
   "execution_count": 22,
   "id": "5b992ae9",
   "metadata": {},
   "outputs": [],
   "source": [
    "df_movies_cleaned=df_movies.drop_duplicates(subset='title', keep='first')"
   ]
  },
  {
   "cell_type": "code",
   "execution_count": 23,
   "id": "cfa8dd10",
   "metadata": {},
   "outputs": [
    {
     "data": {
      "text/html": [
       "<div>\n",
       "<style scoped>\n",
       "    .dataframe tbody tr th:only-of-type {\n",
       "        vertical-align: middle;\n",
       "    }\n",
       "\n",
       "    .dataframe tbody tr th {\n",
       "        vertical-align: top;\n",
       "    }\n",
       "\n",
       "    .dataframe thead th {\n",
       "        text-align: right;\n",
       "    }\n",
       "</style>\n",
       "<table border=\"1\" class=\"dataframe\">\n",
       "  <thead>\n",
       "    <tr style=\"text-align: right;\">\n",
       "      <th></th>\n",
       "      <th>movieId</th>\n",
       "      <th>title</th>\n",
       "      <th>genres</th>\n",
       "    </tr>\n",
       "  </thead>\n",
       "  <tbody>\n",
       "    <tr>\n",
       "      <th>0</th>\n",
       "      <td>1</td>\n",
       "      <td>Toy Story (1995)</td>\n",
       "      <td>Adventure|Animation|Children|Comedy|Fantasy</td>\n",
       "    </tr>\n",
       "    <tr>\n",
       "      <th>1</th>\n",
       "      <td>2</td>\n",
       "      <td>Jumanji (1995)</td>\n",
       "      <td>Adventure|Children|Fantasy</td>\n",
       "    </tr>\n",
       "    <tr>\n",
       "      <th>2</th>\n",
       "      <td>3</td>\n",
       "      <td>Grumpier Old Men (1995)</td>\n",
       "      <td>Comedy|Romance</td>\n",
       "    </tr>\n",
       "    <tr>\n",
       "      <th>3</th>\n",
       "      <td>4</td>\n",
       "      <td>Waiting to Exhale (1995)</td>\n",
       "      <td>Comedy|Drama|Romance</td>\n",
       "    </tr>\n",
       "    <tr>\n",
       "      <th>4</th>\n",
       "      <td>5</td>\n",
       "      <td>Father of the Bride Part II (1995)</td>\n",
       "      <td>Comedy</td>\n",
       "    </tr>\n",
       "  </tbody>\n",
       "</table>\n",
       "</div>"
      ],
      "text/plain": [
       "   movieId                               title  \\\n",
       "0        1                    Toy Story (1995)   \n",
       "1        2                      Jumanji (1995)   \n",
       "2        3             Grumpier Old Men (1995)   \n",
       "3        4            Waiting to Exhale (1995)   \n",
       "4        5  Father of the Bride Part II (1995)   \n",
       "\n",
       "                                        genres  \n",
       "0  Adventure|Animation|Children|Comedy|Fantasy  \n",
       "1                   Adventure|Children|Fantasy  \n",
       "2                               Comedy|Romance  \n",
       "3                         Comedy|Drama|Romance  \n",
       "4                                       Comedy  "
      ]
     },
     "execution_count": 23,
     "metadata": {},
     "output_type": "execute_result"
    }
   ],
   "source": [
    "df_movies_cleaned.head(5)"
   ]
  },
  {
   "cell_type": "code",
   "execution_count": 24,
   "id": "f0ef424b",
   "metadata": {},
   "outputs": [],
   "source": [
    "df_rating_tags = pd.merge(df_ratings, df_tags_cleaned, on=['userId', 'movieId'], how='inner')\n",
    "df_final = pd.merge(df_rating_tags, df_movies_cleaned, on=['movieId'], how='inner')"
   ]
  },
  {
   "cell_type": "code",
   "execution_count": 25,
   "id": "d1c2b741",
   "metadata": {},
   "outputs": [],
   "source": [
    "df_final2 = pd.merge(df_ratings, df_movies_cleaned, on='movieId', how='inner')"
   ]
  },
  {
   "cell_type": "markdown",
   "id": "b71e9ca6",
   "metadata": {},
   "source": [
    "- df_final : digunakan untuk content based (dengan tags)\n",
    "- df_final2 : digunakan untuk collaborative filtering (tanpa tags)"
   ]
  },
  {
   "cell_type": "markdown",
   "id": "711116c2",
   "metadata": {},
   "source": [
    "## Data Preparation for Content-Based Filtering"
   ]
  },
  {
   "cell_type": "code",
   "execution_count": 26,
   "id": "7fd1ca2d",
   "metadata": {},
   "outputs": [],
   "source": [
    "df_final_content_based = df_final.copy()"
   ]
  },
  {
   "cell_type": "code",
   "execution_count": 27,
   "id": "14563ef9",
   "metadata": {},
   "outputs": [],
   "source": [
    "df_final_content_based['genres'] = df_final_content_based['genres'].str.replace('|', ' ', regex=False)"
   ]
  },
  {
   "cell_type": "code",
   "execution_count": 28,
   "id": "b1abcf47",
   "metadata": {},
   "outputs": [],
   "source": [
    "df_final_content_based['extracted_features'] = df_final_content_based['genres'].str.lower() + ' ' + df_final_content_based['tag'].str.lower()"
   ]
  },
  {
   "cell_type": "code",
   "execution_count": 29,
   "id": "7442de96",
   "metadata": {},
   "outputs": [
    {
     "data": {
      "text/html": [
       "<div>\n",
       "<style scoped>\n",
       "    .dataframe tbody tr th:only-of-type {\n",
       "        vertical-align: middle;\n",
       "    }\n",
       "\n",
       "    .dataframe tbody tr th {\n",
       "        vertical-align: top;\n",
       "    }\n",
       "\n",
       "    .dataframe thead th {\n",
       "        text-align: right;\n",
       "    }\n",
       "</style>\n",
       "<table border=\"1\" class=\"dataframe\">\n",
       "  <thead>\n",
       "    <tr style=\"text-align: right;\">\n",
       "      <th></th>\n",
       "      <th>userId</th>\n",
       "      <th>movieId</th>\n",
       "      <th>rating</th>\n",
       "      <th>tag</th>\n",
       "      <th>title</th>\n",
       "      <th>genres</th>\n",
       "      <th>extracted_features</th>\n",
       "    </tr>\n",
       "  </thead>\n",
       "  <tbody>\n",
       "    <tr>\n",
       "      <th>0</th>\n",
       "      <td>2</td>\n",
       "      <td>60756</td>\n",
       "      <td>5.0</td>\n",
       "      <td>will ferrell funny Highly quotable</td>\n",
       "      <td>Step Brothers (2008)</td>\n",
       "      <td>Comedy</td>\n",
       "      <td>comedy will ferrell funny highly quotable</td>\n",
       "    </tr>\n",
       "    <tr>\n",
       "      <th>1</th>\n",
       "      <td>2</td>\n",
       "      <td>89774</td>\n",
       "      <td>5.0</td>\n",
       "      <td>MMA Boxing story Tom Hardy</td>\n",
       "      <td>Warrior (2011)</td>\n",
       "      <td>Drama</td>\n",
       "      <td>drama mma boxing story tom hardy</td>\n",
       "    </tr>\n",
       "    <tr>\n",
       "      <th>2</th>\n",
       "      <td>2</td>\n",
       "      <td>106782</td>\n",
       "      <td>5.0</td>\n",
       "      <td>Martin Scorsese Leonardo DiCaprio drugs</td>\n",
       "      <td>Wolf of Wall Street, The (2013)</td>\n",
       "      <td>Comedy Crime Drama</td>\n",
       "      <td>comedy crime drama martin scorsese leonardo di...</td>\n",
       "    </tr>\n",
       "    <tr>\n",
       "      <th>3</th>\n",
       "      <td>7</td>\n",
       "      <td>48516</td>\n",
       "      <td>1.0</td>\n",
       "      <td>way too long</td>\n",
       "      <td>Departed, The (2006)</td>\n",
       "      <td>Crime Drama Thriller</td>\n",
       "      <td>crime drama thriller way too long</td>\n",
       "    </tr>\n",
       "    <tr>\n",
       "      <th>4</th>\n",
       "      <td>18</td>\n",
       "      <td>431</td>\n",
       "      <td>4.0</td>\n",
       "      <td>Al Pacino gangster mafia</td>\n",
       "      <td>Carlito's Way (1993)</td>\n",
       "      <td>Crime Drama</td>\n",
       "      <td>crime drama al pacino gangster mafia</td>\n",
       "    </tr>\n",
       "    <tr>\n",
       "      <th>...</th>\n",
       "      <td>...</td>\n",
       "      <td>...</td>\n",
       "      <td>...</td>\n",
       "      <td>...</td>\n",
       "      <td>...</td>\n",
       "      <td>...</td>\n",
       "      <td>...</td>\n",
       "    </tr>\n",
       "    <tr>\n",
       "      <th>1630</th>\n",
       "      <td>606</td>\n",
       "      <td>5694</td>\n",
       "      <td>3.0</td>\n",
       "      <td>70mm</td>\n",
       "      <td>Staying Alive (1983)</td>\n",
       "      <td>Comedy Drama Musical</td>\n",
       "      <td>comedy drama musical 70mm</td>\n",
       "    </tr>\n",
       "    <tr>\n",
       "      <th>1631</th>\n",
       "      <td>606</td>\n",
       "      <td>6107</td>\n",
       "      <td>4.0</td>\n",
       "      <td>World War II</td>\n",
       "      <td>Night of the Shooting Stars (Notte di San Lore...</td>\n",
       "      <td>Drama War</td>\n",
       "      <td>drama war world war ii</td>\n",
       "    </tr>\n",
       "    <tr>\n",
       "      <th>1632</th>\n",
       "      <td>606</td>\n",
       "      <td>7382</td>\n",
       "      <td>4.5</td>\n",
       "      <td>for katie</td>\n",
       "      <td>I'm Not Scared (Io non ho paura) (2003)</td>\n",
       "      <td>Drama Mystery Thriller</td>\n",
       "      <td>drama mystery thriller for katie</td>\n",
       "    </tr>\n",
       "    <tr>\n",
       "      <th>1633</th>\n",
       "      <td>610</td>\n",
       "      <td>3265</td>\n",
       "      <td>5.0</td>\n",
       "      <td>gun fu heroic bloodshed</td>\n",
       "      <td>Hard-Boiled (Lat sau san taam) (1992)</td>\n",
       "      <td>Action Crime Drama Thriller</td>\n",
       "      <td>action crime drama thriller gun fu heroic bloo...</td>\n",
       "    </tr>\n",
       "    <tr>\n",
       "      <th>1634</th>\n",
       "      <td>610</td>\n",
       "      <td>168248</td>\n",
       "      <td>5.0</td>\n",
       "      <td>Heroic Bloodshed</td>\n",
       "      <td>John Wick: Chapter Two (2017)</td>\n",
       "      <td>Action Crime Thriller</td>\n",
       "      <td>action crime thriller heroic bloodshed</td>\n",
       "    </tr>\n",
       "  </tbody>\n",
       "</table>\n",
       "<p>1635 rows × 7 columns</p>\n",
       "</div>"
      ],
      "text/plain": [
       "      userId  movieId  rating                                      tag  \\\n",
       "0          2    60756     5.0       will ferrell funny Highly quotable   \n",
       "1          2    89774     5.0               MMA Boxing story Tom Hardy   \n",
       "2          2   106782     5.0  Martin Scorsese Leonardo DiCaprio drugs   \n",
       "3          7    48516     1.0                             way too long   \n",
       "4         18      431     4.0                 Al Pacino gangster mafia   \n",
       "...      ...      ...     ...                                      ...   \n",
       "1630     606     5694     3.0                                     70mm   \n",
       "1631     606     6107     4.0                             World War II   \n",
       "1632     606     7382     4.5                                for katie   \n",
       "1633     610     3265     5.0                  gun fu heroic bloodshed   \n",
       "1634     610   168248     5.0                         Heroic Bloodshed   \n",
       "\n",
       "                                                  title  \\\n",
       "0                                  Step Brothers (2008)   \n",
       "1                                        Warrior (2011)   \n",
       "2                       Wolf of Wall Street, The (2013)   \n",
       "3                                  Departed, The (2006)   \n",
       "4                                  Carlito's Way (1993)   \n",
       "...                                                 ...   \n",
       "1630                               Staying Alive (1983)   \n",
       "1631  Night of the Shooting Stars (Notte di San Lore...   \n",
       "1632            I'm Not Scared (Io non ho paura) (2003)   \n",
       "1633              Hard-Boiled (Lat sau san taam) (1992)   \n",
       "1634                      John Wick: Chapter Two (2017)   \n",
       "\n",
       "                           genres  \\\n",
       "0                          Comedy   \n",
       "1                           Drama   \n",
       "2              Comedy Crime Drama   \n",
       "3            Crime Drama Thriller   \n",
       "4                     Crime Drama   \n",
       "...                           ...   \n",
       "1630         Comedy Drama Musical   \n",
       "1631                    Drama War   \n",
       "1632       Drama Mystery Thriller   \n",
       "1633  Action Crime Drama Thriller   \n",
       "1634        Action Crime Thriller   \n",
       "\n",
       "                                     extracted_features  \n",
       "0             comedy will ferrell funny highly quotable  \n",
       "1                      drama mma boxing story tom hardy  \n",
       "2     comedy crime drama martin scorsese leonardo di...  \n",
       "3                     crime drama thriller way too long  \n",
       "4                  crime drama al pacino gangster mafia  \n",
       "...                                                 ...  \n",
       "1630                          comedy drama musical 70mm  \n",
       "1631                             drama war world war ii  \n",
       "1632                   drama mystery thriller for katie  \n",
       "1633  action crime drama thriller gun fu heroic bloo...  \n",
       "1634             action crime thriller heroic bloodshed  \n",
       "\n",
       "[1635 rows x 7 columns]"
      ]
     },
     "execution_count": 29,
     "metadata": {},
     "output_type": "execute_result"
    }
   ],
   "source": [
    "df_final_content_based"
   ]
  },
  {
   "cell_type": "code",
   "execution_count": 30,
   "id": "163051f3",
   "metadata": {},
   "outputs": [
    {
     "data": {
      "text/plain": [
       "array(['06', '1900s', '1920s', ..., 'zombie', 'zombies', 'zooey'],\n",
       "      dtype=object)"
      ]
     },
     "execution_count": 30,
     "metadata": {},
     "output_type": "execute_result"
    }
   ],
   "source": [
    "tf = TfidfVectorizer(analyzer='word',min_df=0.0, stop_words='english')\n",
    "\n",
    "tf.fit(df_final_content_based['extracted_features'])\n",
    "\n",
    "tf.get_feature_names_out()"
   ]
  },
  {
   "cell_type": "code",
   "execution_count": 31,
   "id": "70e26b1e",
   "metadata": {},
   "outputs": [],
   "source": [
    "content_based_tfidf_matrix = tf.fit_transform(df_final_content_based['extracted_features'])"
   ]
  },
  {
   "cell_type": "markdown",
   "id": "3a1e84fd",
   "metadata": {},
   "source": [
    "## Data Preparation for Collaborative Filtering Model Based Deep Learning"
   ]
  },
  {
   "cell_type": "code",
   "execution_count": 32,
   "id": "7e891cfb",
   "metadata": {},
   "outputs": [],
   "source": [
    "df_final_collaborative = df_final2.copy()"
   ]
  },
  {
   "cell_type": "code",
   "execution_count": 33,
   "id": "3766f29c",
   "metadata": {},
   "outputs": [
    {
     "data": {
      "text/html": [
       "<div>\n",
       "<style scoped>\n",
       "    .dataframe tbody tr th:only-of-type {\n",
       "        vertical-align: middle;\n",
       "    }\n",
       "\n",
       "    .dataframe tbody tr th {\n",
       "        vertical-align: top;\n",
       "    }\n",
       "\n",
       "    .dataframe thead th {\n",
       "        text-align: right;\n",
       "    }\n",
       "</style>\n",
       "<table border=\"1\" class=\"dataframe\">\n",
       "  <thead>\n",
       "    <tr style=\"text-align: right;\">\n",
       "      <th></th>\n",
       "      <th>userId</th>\n",
       "      <th>movieId</th>\n",
       "      <th>rating</th>\n",
       "      <th>title</th>\n",
       "      <th>genres</th>\n",
       "    </tr>\n",
       "  </thead>\n",
       "  <tbody>\n",
       "    <tr>\n",
       "      <th>0</th>\n",
       "      <td>1</td>\n",
       "      <td>1</td>\n",
       "      <td>4.0</td>\n",
       "      <td>Toy Story (1995)</td>\n",
       "      <td>Adventure|Animation|Children|Comedy|Fantasy</td>\n",
       "    </tr>\n",
       "    <tr>\n",
       "      <th>1</th>\n",
       "      <td>1</td>\n",
       "      <td>3</td>\n",
       "      <td>4.0</td>\n",
       "      <td>Grumpier Old Men (1995)</td>\n",
       "      <td>Comedy|Romance</td>\n",
       "    </tr>\n",
       "    <tr>\n",
       "      <th>2</th>\n",
       "      <td>1</td>\n",
       "      <td>6</td>\n",
       "      <td>4.0</td>\n",
       "      <td>Heat (1995)</td>\n",
       "      <td>Action|Crime|Thriller</td>\n",
       "    </tr>\n",
       "    <tr>\n",
       "      <th>3</th>\n",
       "      <td>1</td>\n",
       "      <td>47</td>\n",
       "      <td>5.0</td>\n",
       "      <td>Seven (a.k.a. Se7en) (1995)</td>\n",
       "      <td>Mystery|Thriller</td>\n",
       "    </tr>\n",
       "    <tr>\n",
       "      <th>4</th>\n",
       "      <td>1</td>\n",
       "      <td>50</td>\n",
       "      <td>5.0</td>\n",
       "      <td>Usual Suspects, The (1995)</td>\n",
       "      <td>Crime|Mystery|Thriller</td>\n",
       "    </tr>\n",
       "    <tr>\n",
       "      <th>...</th>\n",
       "      <td>...</td>\n",
       "      <td>...</td>\n",
       "      <td>...</td>\n",
       "      <td>...</td>\n",
       "      <td>...</td>\n",
       "    </tr>\n",
       "    <tr>\n",
       "      <th>100825</th>\n",
       "      <td>610</td>\n",
       "      <td>166534</td>\n",
       "      <td>4.0</td>\n",
       "      <td>Split (2017)</td>\n",
       "      <td>Drama|Horror|Thriller</td>\n",
       "    </tr>\n",
       "    <tr>\n",
       "      <th>100826</th>\n",
       "      <td>610</td>\n",
       "      <td>168248</td>\n",
       "      <td>5.0</td>\n",
       "      <td>John Wick: Chapter Two (2017)</td>\n",
       "      <td>Action|Crime|Thriller</td>\n",
       "    </tr>\n",
       "    <tr>\n",
       "      <th>100827</th>\n",
       "      <td>610</td>\n",
       "      <td>168250</td>\n",
       "      <td>5.0</td>\n",
       "      <td>Get Out (2017)</td>\n",
       "      <td>Horror</td>\n",
       "    </tr>\n",
       "    <tr>\n",
       "      <th>100828</th>\n",
       "      <td>610</td>\n",
       "      <td>168252</td>\n",
       "      <td>5.0</td>\n",
       "      <td>Logan (2017)</td>\n",
       "      <td>Action|Sci-Fi</td>\n",
       "    </tr>\n",
       "    <tr>\n",
       "      <th>100829</th>\n",
       "      <td>610</td>\n",
       "      <td>170875</td>\n",
       "      <td>3.0</td>\n",
       "      <td>The Fate of the Furious (2017)</td>\n",
       "      <td>Action|Crime|Drama|Thriller</td>\n",
       "    </tr>\n",
       "  </tbody>\n",
       "</table>\n",
       "<p>100830 rows × 5 columns</p>\n",
       "</div>"
      ],
      "text/plain": [
       "        userId  movieId  rating                           title  \\\n",
       "0            1        1     4.0                Toy Story (1995)   \n",
       "1            1        3     4.0         Grumpier Old Men (1995)   \n",
       "2            1        6     4.0                     Heat (1995)   \n",
       "3            1       47     5.0     Seven (a.k.a. Se7en) (1995)   \n",
       "4            1       50     5.0      Usual Suspects, The (1995)   \n",
       "...        ...      ...     ...                             ...   \n",
       "100825     610   166534     4.0                    Split (2017)   \n",
       "100826     610   168248     5.0   John Wick: Chapter Two (2017)   \n",
       "100827     610   168250     5.0                  Get Out (2017)   \n",
       "100828     610   168252     5.0                    Logan (2017)   \n",
       "100829     610   170875     3.0  The Fate of the Furious (2017)   \n",
       "\n",
       "                                             genres  \n",
       "0       Adventure|Animation|Children|Comedy|Fantasy  \n",
       "1                                    Comedy|Romance  \n",
       "2                             Action|Crime|Thriller  \n",
       "3                                  Mystery|Thriller  \n",
       "4                            Crime|Mystery|Thriller  \n",
       "...                                             ...  \n",
       "100825                        Drama|Horror|Thriller  \n",
       "100826                        Action|Crime|Thriller  \n",
       "100827                                       Horror  \n",
       "100828                                Action|Sci-Fi  \n",
       "100829                  Action|Crime|Drama|Thriller  \n",
       "\n",
       "[100830 rows x 5 columns]"
      ]
     },
     "execution_count": 33,
     "metadata": {},
     "output_type": "execute_result"
    }
   ],
   "source": [
    "df_final_collaborative"
   ]
  },
  {
   "cell_type": "code",
   "execution_count": 34,
   "id": "f19eca03",
   "metadata": {},
   "outputs": [
    {
     "name": "stdout",
     "output_type": "stream",
     "text": [
      "list userID:  [1, 2, 3, 4, 5, 6, 7, 8, 9, 10, 11, 12, 13, 14, 15, 16, 17, 18, 19, 20, 21, 22, 23, 24, 25, 26, 27, 28, 29, 30, 31, 32, 33, 34, 35, 36, 37, 38, 39, 40, 41, 42, 43, 44, 45, 46, 47, 48, 49, 50, 51, 52, 53, 54, 55, 56, 57, 58, 59, 60, 61, 62, 63, 64, 65, 66, 67, 68, 69, 70, 71, 72, 73, 74, 75, 76, 77, 78, 79, 80, 81, 82, 83, 84, 85, 86, 87, 88, 89, 90, 91, 92, 93, 94, 95, 96, 97, 98, 99, 100, 101, 102, 103, 104, 105, 106, 107, 108, 109, 110, 111, 112, 113, 114, 115, 116, 117, 118, 119, 120, 121, 122, 123, 124, 125, 126, 127, 128, 129, 130, 131, 132, 133, 134, 135, 136, 137, 138, 139, 140, 141, 142, 143, 144, 145, 146, 147, 148, 149, 150, 151, 152, 153, 154, 155, 156, 157, 158, 159, 160, 161, 162, 163, 164, 165, 166, 167, 168, 169, 170, 171, 172, 173, 174, 175, 176, 177, 178, 179, 180, 181, 182, 183, 184, 185, 186, 187, 188, 189, 190, 191, 192, 193, 194, 195, 196, 197, 198, 199, 200, 201, 202, 203, 204, 205, 206, 207, 208, 209, 210, 211, 212, 213, 214, 215, 216, 217, 218, 219, 220, 221, 222, 223, 224, 225, 226, 227, 228, 229, 230, 231, 232, 233, 234, 235, 236, 237, 238, 239, 240, 241, 242, 243, 244, 245, 246, 247, 248, 249, 250, 251, 252, 253, 254, 255, 256, 257, 258, 259, 260, 261, 262, 263, 264, 265, 266, 267, 268, 269, 270, 271, 272, 273, 274, 275, 276, 277, 278, 279, 280, 281, 282, 283, 284, 285, 286, 287, 288, 289, 290, 291, 292, 293, 294, 295, 296, 297, 298, 299, 300, 301, 302, 303, 304, 305, 306, 307, 308, 309, 310, 311, 312, 313, 314, 315, 316, 317, 318, 319, 320, 321, 322, 323, 324, 325, 326, 327, 328, 329, 330, 331, 332, 333, 334, 335, 336, 337, 338, 339, 340, 341, 342, 343, 344, 345, 346, 347, 348, 349, 350, 351, 352, 353, 354, 355, 356, 357, 358, 359, 360, 361, 362, 363, 364, 365, 366, 367, 368, 369, 370, 371, 372, 373, 374, 375, 376, 377, 378, 379, 380, 381, 382, 383, 384, 385, 386, 387, 388, 389, 390, 391, 392, 393, 394, 395, 396, 397, 398, 399, 400, 401, 402, 403, 404, 405, 406, 407, 408, 409, 410, 411, 412, 413, 414, 415, 416, 417, 418, 419, 420, 421, 422, 423, 424, 425, 426, 427, 428, 429, 430, 431, 432, 433, 434, 435, 436, 437, 438, 439, 440, 441, 442, 443, 444, 445, 446, 447, 448, 449, 450, 451, 452, 453, 454, 455, 456, 457, 458, 459, 460, 461, 462, 463, 464, 465, 466, 467, 468, 469, 470, 471, 472, 473, 474, 475, 476, 477, 478, 479, 480, 481, 482, 483, 484, 485, 486, 487, 488, 489, 490, 491, 492, 493, 494, 495, 496, 497, 498, 499, 500, 501, 502, 503, 504, 505, 506, 507, 508, 509, 510, 511, 512, 513, 514, 515, 516, 517, 518, 519, 520, 521, 522, 523, 524, 525, 526, 527, 528, 529, 530, 531, 532, 533, 534, 535, 536, 537, 538, 539, 540, 541, 542, 543, 544, 545, 546, 547, 548, 549, 550, 551, 552, 553, 554, 555, 556, 557, 558, 559, 560, 561, 562, 563, 564, 565, 566, 567, 568, 569, 570, 571, 572, 573, 574, 575, 576, 577, 578, 579, 580, 581, 582, 583, 584, 585, 586, 587, 588, 589, 590, 591, 592, 593, 594, 595, 596, 597, 598, 599, 600, 601, 602, 603, 604, 605, 606, 607, 608, 609, 610]\n",
      "encoded userID :  {1: 0, 2: 1, 3: 2, 4: 3, 5: 4, 6: 5, 7: 6, 8: 7, 9: 8, 10: 9, 11: 10, 12: 11, 13: 12, 14: 13, 15: 14, 16: 15, 17: 16, 18: 17, 19: 18, 20: 19, 21: 20, 22: 21, 23: 22, 24: 23, 25: 24, 26: 25, 27: 26, 28: 27, 29: 28, 30: 29, 31: 30, 32: 31, 33: 32, 34: 33, 35: 34, 36: 35, 37: 36, 38: 37, 39: 38, 40: 39, 41: 40, 42: 41, 43: 42, 44: 43, 45: 44, 46: 45, 47: 46, 48: 47, 49: 48, 50: 49, 51: 50, 52: 51, 53: 52, 54: 53, 55: 54, 56: 55, 57: 56, 58: 57, 59: 58, 60: 59, 61: 60, 62: 61, 63: 62, 64: 63, 65: 64, 66: 65, 67: 66, 68: 67, 69: 68, 70: 69, 71: 70, 72: 71, 73: 72, 74: 73, 75: 74, 76: 75, 77: 76, 78: 77, 79: 78, 80: 79, 81: 80, 82: 81, 83: 82, 84: 83, 85: 84, 86: 85, 87: 86, 88: 87, 89: 88, 90: 89, 91: 90, 92: 91, 93: 92, 94: 93, 95: 94, 96: 95, 97: 96, 98: 97, 99: 98, 100: 99, 101: 100, 102: 101, 103: 102, 104: 103, 105: 104, 106: 105, 107: 106, 108: 107, 109: 108, 110: 109, 111: 110, 112: 111, 113: 112, 114: 113, 115: 114, 116: 115, 117: 116, 118: 117, 119: 118, 120: 119, 121: 120, 122: 121, 123: 122, 124: 123, 125: 124, 126: 125, 127: 126, 128: 127, 129: 128, 130: 129, 131: 130, 132: 131, 133: 132, 134: 133, 135: 134, 136: 135, 137: 136, 138: 137, 139: 138, 140: 139, 141: 140, 142: 141, 143: 142, 144: 143, 145: 144, 146: 145, 147: 146, 148: 147, 149: 148, 150: 149, 151: 150, 152: 151, 153: 152, 154: 153, 155: 154, 156: 155, 157: 156, 158: 157, 159: 158, 160: 159, 161: 160, 162: 161, 163: 162, 164: 163, 165: 164, 166: 165, 167: 166, 168: 167, 169: 168, 170: 169, 171: 170, 172: 171, 173: 172, 174: 173, 175: 174, 176: 175, 177: 176, 178: 177, 179: 178, 180: 179, 181: 180, 182: 181, 183: 182, 184: 183, 185: 184, 186: 185, 187: 186, 188: 187, 189: 188, 190: 189, 191: 190, 192: 191, 193: 192, 194: 193, 195: 194, 196: 195, 197: 196, 198: 197, 199: 198, 200: 199, 201: 200, 202: 201, 203: 202, 204: 203, 205: 204, 206: 205, 207: 206, 208: 207, 209: 208, 210: 209, 211: 210, 212: 211, 213: 212, 214: 213, 215: 214, 216: 215, 217: 216, 218: 217, 219: 218, 220: 219, 221: 220, 222: 221, 223: 222, 224: 223, 225: 224, 226: 225, 227: 226, 228: 227, 229: 228, 230: 229, 231: 230, 232: 231, 233: 232, 234: 233, 235: 234, 236: 235, 237: 236, 238: 237, 239: 238, 240: 239, 241: 240, 242: 241, 243: 242, 244: 243, 245: 244, 246: 245, 247: 246, 248: 247, 249: 248, 250: 249, 251: 250, 252: 251, 253: 252, 254: 253, 255: 254, 256: 255, 257: 256, 258: 257, 259: 258, 260: 259, 261: 260, 262: 261, 263: 262, 264: 263, 265: 264, 266: 265, 267: 266, 268: 267, 269: 268, 270: 269, 271: 270, 272: 271, 273: 272, 274: 273, 275: 274, 276: 275, 277: 276, 278: 277, 279: 278, 280: 279, 281: 280, 282: 281, 283: 282, 284: 283, 285: 284, 286: 285, 287: 286, 288: 287, 289: 288, 290: 289, 291: 290, 292: 291, 293: 292, 294: 293, 295: 294, 296: 295, 297: 296, 298: 297, 299: 298, 300: 299, 301: 300, 302: 301, 303: 302, 304: 303, 305: 304, 306: 305, 307: 306, 308: 307, 309: 308, 310: 309, 311: 310, 312: 311, 313: 312, 314: 313, 315: 314, 316: 315, 317: 316, 318: 317, 319: 318, 320: 319, 321: 320, 322: 321, 323: 322, 324: 323, 325: 324, 326: 325, 327: 326, 328: 327, 329: 328, 330: 329, 331: 330, 332: 331, 333: 332, 334: 333, 335: 334, 336: 335, 337: 336, 338: 337, 339: 338, 340: 339, 341: 340, 342: 341, 343: 342, 344: 343, 345: 344, 346: 345, 347: 346, 348: 347, 349: 348, 350: 349, 351: 350, 352: 351, 353: 352, 354: 353, 355: 354, 356: 355, 357: 356, 358: 357, 359: 358, 360: 359, 361: 360, 362: 361, 363: 362, 364: 363, 365: 364, 366: 365, 367: 366, 368: 367, 369: 368, 370: 369, 371: 370, 372: 371, 373: 372, 374: 373, 375: 374, 376: 375, 377: 376, 378: 377, 379: 378, 380: 379, 381: 380, 382: 381, 383: 382, 384: 383, 385: 384, 386: 385, 387: 386, 388: 387, 389: 388, 390: 389, 391: 390, 392: 391, 393: 392, 394: 393, 395: 394, 396: 395, 397: 396, 398: 397, 399: 398, 400: 399, 401: 400, 402: 401, 403: 402, 404: 403, 405: 404, 406: 405, 407: 406, 408: 407, 409: 408, 410: 409, 411: 410, 412: 411, 413: 412, 414: 413, 415: 414, 416: 415, 417: 416, 418: 417, 419: 418, 420: 419, 421: 420, 422: 421, 423: 422, 424: 423, 425: 424, 426: 425, 427: 426, 428: 427, 429: 428, 430: 429, 431: 430, 432: 431, 433: 432, 434: 433, 435: 434, 436: 435, 437: 436, 438: 437, 439: 438, 440: 439, 441: 440, 442: 441, 443: 442, 444: 443, 445: 444, 446: 445, 447: 446, 448: 447, 449: 448, 450: 449, 451: 450, 452: 451, 453: 452, 454: 453, 455: 454, 456: 455, 457: 456, 458: 457, 459: 458, 460: 459, 461: 460, 462: 461, 463: 462, 464: 463, 465: 464, 466: 465, 467: 466, 468: 467, 469: 468, 470: 469, 471: 470, 472: 471, 473: 472, 474: 473, 475: 474, 476: 475, 477: 476, 478: 477, 479: 478, 480: 479, 481: 480, 482: 481, 483: 482, 484: 483, 485: 484, 486: 485, 487: 486, 488: 487, 489: 488, 490: 489, 491: 490, 492: 491, 493: 492, 494: 493, 495: 494, 496: 495, 497: 496, 498: 497, 499: 498, 500: 499, 501: 500, 502: 501, 503: 502, 504: 503, 505: 504, 506: 505, 507: 506, 508: 507, 509: 508, 510: 509, 511: 510, 512: 511, 513: 512, 514: 513, 515: 514, 516: 515, 517: 516, 518: 517, 519: 518, 520: 519, 521: 520, 522: 521, 523: 522, 524: 523, 525: 524, 526: 525, 527: 526, 528: 527, 529: 528, 530: 529, 531: 530, 532: 531, 533: 532, 534: 533, 535: 534, 536: 535, 537: 536, 538: 537, 539: 538, 540: 539, 541: 540, 542: 541, 543: 542, 544: 543, 545: 544, 546: 545, 547: 546, 548: 547, 549: 548, 550: 549, 551: 550, 552: 551, 553: 552, 554: 553, 555: 554, 556: 555, 557: 556, 558: 557, 559: 558, 560: 559, 561: 560, 562: 561, 563: 562, 564: 563, 565: 564, 566: 565, 567: 566, 568: 567, 569: 568, 570: 569, 571: 570, 572: 571, 573: 572, 574: 573, 575: 574, 576: 575, 577: 576, 578: 577, 579: 578, 580: 579, 581: 580, 582: 581, 583: 582, 584: 583, 585: 584, 586: 585, 587: 586, 588: 587, 589: 588, 590: 589, 591: 590, 592: 591, 593: 592, 594: 593, 595: 594, 596: 595, 597: 596, 598: 597, 599: 598, 600: 599, 601: 600, 602: 601, 603: 602, 604: 603, 605: 604, 606: 605, 607: 606, 608: 607, 609: 608, 610: 609}\n",
      "encoded angka ke userID:  {0: 1, 1: 2, 2: 3, 3: 4, 4: 5, 5: 6, 6: 7, 7: 8, 8: 9, 9: 10, 10: 11, 11: 12, 12: 13, 13: 14, 14: 15, 15: 16, 16: 17, 17: 18, 18: 19, 19: 20, 20: 21, 21: 22, 22: 23, 23: 24, 24: 25, 25: 26, 26: 27, 27: 28, 28: 29, 29: 30, 30: 31, 31: 32, 32: 33, 33: 34, 34: 35, 35: 36, 36: 37, 37: 38, 38: 39, 39: 40, 40: 41, 41: 42, 42: 43, 43: 44, 44: 45, 45: 46, 46: 47, 47: 48, 48: 49, 49: 50, 50: 51, 51: 52, 52: 53, 53: 54, 54: 55, 55: 56, 56: 57, 57: 58, 58: 59, 59: 60, 60: 61, 61: 62, 62: 63, 63: 64, 64: 65, 65: 66, 66: 67, 67: 68, 68: 69, 69: 70, 70: 71, 71: 72, 72: 73, 73: 74, 74: 75, 75: 76, 76: 77, 77: 78, 78: 79, 79: 80, 80: 81, 81: 82, 82: 83, 83: 84, 84: 85, 85: 86, 86: 87, 87: 88, 88: 89, 89: 90, 90: 91, 91: 92, 92: 93, 93: 94, 94: 95, 95: 96, 96: 97, 97: 98, 98: 99, 99: 100, 100: 101, 101: 102, 102: 103, 103: 104, 104: 105, 105: 106, 106: 107, 107: 108, 108: 109, 109: 110, 110: 111, 111: 112, 112: 113, 113: 114, 114: 115, 115: 116, 116: 117, 117: 118, 118: 119, 119: 120, 120: 121, 121: 122, 122: 123, 123: 124, 124: 125, 125: 126, 126: 127, 127: 128, 128: 129, 129: 130, 130: 131, 131: 132, 132: 133, 133: 134, 134: 135, 135: 136, 136: 137, 137: 138, 138: 139, 139: 140, 140: 141, 141: 142, 142: 143, 143: 144, 144: 145, 145: 146, 146: 147, 147: 148, 148: 149, 149: 150, 150: 151, 151: 152, 152: 153, 153: 154, 154: 155, 155: 156, 156: 157, 157: 158, 158: 159, 159: 160, 160: 161, 161: 162, 162: 163, 163: 164, 164: 165, 165: 166, 166: 167, 167: 168, 168: 169, 169: 170, 170: 171, 171: 172, 172: 173, 173: 174, 174: 175, 175: 176, 176: 177, 177: 178, 178: 179, 179: 180, 180: 181, 181: 182, 182: 183, 183: 184, 184: 185, 185: 186, 186: 187, 187: 188, 188: 189, 189: 190, 190: 191, 191: 192, 192: 193, 193: 194, 194: 195, 195: 196, 196: 197, 197: 198, 198: 199, 199: 200, 200: 201, 201: 202, 202: 203, 203: 204, 204: 205, 205: 206, 206: 207, 207: 208, 208: 209, 209: 210, 210: 211, 211: 212, 212: 213, 213: 214, 214: 215, 215: 216, 216: 217, 217: 218, 218: 219, 219: 220, 220: 221, 221: 222, 222: 223, 223: 224, 224: 225, 225: 226, 226: 227, 227: 228, 228: 229, 229: 230, 230: 231, 231: 232, 232: 233, 233: 234, 234: 235, 235: 236, 236: 237, 237: 238, 238: 239, 239: 240, 240: 241, 241: 242, 242: 243, 243: 244, 244: 245, 245: 246, 246: 247, 247: 248, 248: 249, 249: 250, 250: 251, 251: 252, 252: 253, 253: 254, 254: 255, 255: 256, 256: 257, 257: 258, 258: 259, 259: 260, 260: 261, 261: 262, 262: 263, 263: 264, 264: 265, 265: 266, 266: 267, 267: 268, 268: 269, 269: 270, 270: 271, 271: 272, 272: 273, 273: 274, 274: 275, 275: 276, 276: 277, 277: 278, 278: 279, 279: 280, 280: 281, 281: 282, 282: 283, 283: 284, 284: 285, 285: 286, 286: 287, 287: 288, 288: 289, 289: 290, 290: 291, 291: 292, 292: 293, 293: 294, 294: 295, 295: 296, 296: 297, 297: 298, 298: 299, 299: 300, 300: 301, 301: 302, 302: 303, 303: 304, 304: 305, 305: 306, 306: 307, 307: 308, 308: 309, 309: 310, 310: 311, 311: 312, 312: 313, 313: 314, 314: 315, 315: 316, 316: 317, 317: 318, 318: 319, 319: 320, 320: 321, 321: 322, 322: 323, 323: 324, 324: 325, 325: 326, 326: 327, 327: 328, 328: 329, 329: 330, 330: 331, 331: 332, 332: 333, 333: 334, 334: 335, 335: 336, 336: 337, 337: 338, 338: 339, 339: 340, 340: 341, 341: 342, 342: 343, 343: 344, 344: 345, 345: 346, 346: 347, 347: 348, 348: 349, 349: 350, 350: 351, 351: 352, 352: 353, 353: 354, 354: 355, 355: 356, 356: 357, 357: 358, 358: 359, 359: 360, 360: 361, 361: 362, 362: 363, 363: 364, 364: 365, 365: 366, 366: 367, 367: 368, 368: 369, 369: 370, 370: 371, 371: 372, 372: 373, 373: 374, 374: 375, 375: 376, 376: 377, 377: 378, 378: 379, 379: 380, 380: 381, 381: 382, 382: 383, 383: 384, 384: 385, 385: 386, 386: 387, 387: 388, 388: 389, 389: 390, 390: 391, 391: 392, 392: 393, 393: 394, 394: 395, 395: 396, 396: 397, 397: 398, 398: 399, 399: 400, 400: 401, 401: 402, 402: 403, 403: 404, 404: 405, 405: 406, 406: 407, 407: 408, 408: 409, 409: 410, 410: 411, 411: 412, 412: 413, 413: 414, 414: 415, 415: 416, 416: 417, 417: 418, 418: 419, 419: 420, 420: 421, 421: 422, 422: 423, 423: 424, 424: 425, 425: 426, 426: 427, 427: 428, 428: 429, 429: 430, 430: 431, 431: 432, 432: 433, 433: 434, 434: 435, 435: 436, 436: 437, 437: 438, 438: 439, 439: 440, 440: 441, 441: 442, 442: 443, 443: 444, 444: 445, 445: 446, 446: 447, 447: 448, 448: 449, 449: 450, 450: 451, 451: 452, 452: 453, 453: 454, 454: 455, 455: 456, 456: 457, 457: 458, 458: 459, 459: 460, 460: 461, 461: 462, 462: 463, 463: 464, 464: 465, 465: 466, 466: 467, 467: 468, 468: 469, 469: 470, 470: 471, 471: 472, 472: 473, 473: 474, 474: 475, 475: 476, 476: 477, 477: 478, 478: 479, 479: 480, 480: 481, 481: 482, 482: 483, 483: 484, 484: 485, 485: 486, 486: 487, 487: 488, 488: 489, 489: 490, 490: 491, 491: 492, 492: 493, 493: 494, 494: 495, 495: 496, 496: 497, 497: 498, 498: 499, 499: 500, 500: 501, 501: 502, 502: 503, 503: 504, 504: 505, 505: 506, 506: 507, 507: 508, 508: 509, 509: 510, 510: 511, 511: 512, 512: 513, 513: 514, 514: 515, 515: 516, 516: 517, 517: 518, 518: 519, 519: 520, 520: 521, 521: 522, 522: 523, 523: 524, 524: 525, 525: 526, 526: 527, 527: 528, 528: 529, 529: 530, 530: 531, 531: 532, 532: 533, 533: 534, 534: 535, 535: 536, 536: 537, 537: 538, 538: 539, 539: 540, 540: 541, 541: 542, 542: 543, 543: 544, 544: 545, 545: 546, 546: 547, 547: 548, 548: 549, 549: 550, 550: 551, 551: 552, 552: 553, 553: 554, 554: 555, 555: 556, 556: 557, 557: 558, 558: 559, 559: 560, 560: 561, 561: 562, 562: 563, 563: 564, 564: 565, 565: 566, 566: 567, 567: 568, 568: 569, 569: 570, 570: 571, 571: 572, 572: 573, 573: 574, 574: 575, 575: 576, 576: 577, 577: 578, 578: 579, 579: 580, 580: 581, 581: 582, 582: 583, 583: 584, 584: 585, 585: 586, 586: 587, 587: 588, 588: 589, 589: 590, 590: 591, 591: 592, 592: 593, 593: 594, 594: 595, 595: 596, 596: 597, 597: 598, 598: 599, 599: 600, 600: 601, 601: 602, 602: 603, 603: 604, 604: 605, 605: 606, 606: 607, 607: 608, 608: 609, 609: 610}\n"
     ]
    }
   ],
   "source": [
    "# Mengubah userId menjadi list tanpa nilai yang sama\n",
    "user_ids = df_final_collaborative['userId'].unique().tolist()\n",
    "print('list userID: ', user_ids)\n",
    " \n",
    "# Melakukan encoding userId\n",
    "user_to_user_encoded = {x: i for i, x in enumerate(user_ids)}\n",
    "print('encoded userID : ', user_to_user_encoded)\n",
    " \n",
    "# Melakukan proses encoding angka ke ke userId\n",
    "user_encoded_to_user = {i: x for i, x in enumerate(user_ids)}\n",
    "print('encoded angka ke userID: ', user_encoded_to_user)"
   ]
  },
  {
   "cell_type": "code",
   "execution_count": 35,
   "id": "eed65186",
   "metadata": {},
   "outputs": [
    {
     "name": "stdout",
     "output_type": "stream",
     "text": [
      "list movieId:  [1, 3, 6, 47, 50, 70, 101, 110, 151, 157, 163, 216, 223, 231, 235, 260, 296, 316, 333, 349, 356, 362, 367, 423, 441, 457, 480, 500, 527, 543, 552, 553, 590, 592, 593, 596, 608, 648, 661, 673, 733, 736, 780, 804, 919, 923, 940, 943, 954, 1009, 1023, 1024, 1025, 1029, 1030, 1031, 1032, 1042, 1049, 1060, 1073, 1080, 1089, 1090, 1092, 1097, 1127, 1136, 1196, 1197, 1198, 1206, 1208, 1210, 1213, 1214, 1219, 1220, 1222, 1224, 1226, 1240, 1256, 1258, 1265, 1270, 1275, 1278, 1282, 1291, 1298, 1348, 1377, 1396, 1408, 1445, 1473, 1500, 1517, 1552, 1573, 1580, 1587, 1617, 1620, 1625, 1644, 1676, 1732, 1777, 1793, 1804, 1805, 1920, 1927, 1954, 1967, 2000, 2005, 2012, 2018, 2028, 2033, 2046, 2048, 2054, 2058, 2078, 2090, 2093, 2094, 2096, 2099, 2105, 2115, 2116, 2137, 2139, 2141, 2143, 2161, 2174, 2193, 2253, 2268, 2273, 2291, 2329, 2338, 2353, 2366, 2387, 2389, 2395, 2406, 2414, 2427, 2450, 2459, 2470, 2478, 2492, 2502, 2528, 2529, 2542, 2571, 2580, 2596, 2616, 2617, 2628, 2640, 2641, 2644, 2648, 2654, 2657, 2692, 2700, 2716, 2761, 2797, 2826, 2858, 2872, 2899, 2916, 2944, 2947, 2948, 2949, 2959, 2985, 2987, 2991, 2993, 2997, 3033, 3034, 3052, 3053, 3062, 3147, 3168, 3176, 3243, 3247, 3253, 3273, 3386, 3439, 3440, 3441, 3448, 3450, 3479, 3489, 3527, 3578, 3617, 3639, 3671, 3702, 3703, 3729, 3740, 3744, 3793, 3809, 4006, 5060, 318, 1704, 6874, 8798, 46970, 48516, 58559, 60756, 68157, 71535, 74458, 77455, 79132, 80489, 80906, 86345, 89774, 91529, 91658, 99114, 106782, 109487, 112552, 114060, 115713, 122882, 131724, 31, 647, 688, 720, 849, 914, 1093, 1124, 1263, 1272, 1302, 1371, 2080, 2288, 2424, 2851, 3024, 3210, 3949, 4518, 5048, 5181, 5746, 5764, 5919, 6238, 6835, 7899, 7991, 26409, 70946, 72378, 21, 32, 45, 52, 58, 106, 125, 126, 162, 171, 176, 190, 215, 222, 232, 247, 265, 319, 342, 345, 348, 351, 357, 368, 417, 450, 475, 492, 509, 538, 539, 588, 595, 599, 708, 759, 800, 892, 898, 899, 902, 904, 908, 910, 912, 920, 930, 937, 1046, 1057, 1077, 1079, 1084, 1086, 1094, 1103, 1179, 1183, 1188, 1199, 1203, 1211, 1225, 1250, 1259, 1266, 1279, 1283, 1288, 1304, 1391, 1449, 1466, 1597, 1641, 1719, 1733, 1734, 1834, 1860, 1883, 1885, 1892, 1895, 1907, 1914, 1916, 1923, 1947, 1966, 1968, 2019, 2076, 2109, 2145, 2150, 2186, 2203, 2204, 2282, 2324, 2336, 2351, 2359, 2390, 2467, 2583, 2599, 2683, 2712, 2762, 2763, 2770, 2791, 2843, 2874, 2921, 2926, 2973, 3044, 3060, 3079, 3083, 3160, 3175, 3204, 3255, 3317, 3358, 3365, 3408, 3481, 3508, 3538, 3591, 3788, 3851, 3897, 3911, 3967, 3996, 4002, 4014, 4020, 4021, 4027, 4029, 4033, 4034, 4074, 4121, 4144, 4166, 4226, 4239, 4246, 4252, 4260, 4273, 4308, 4347, 4381, 4641, 4741, 4765, 4881, 4896, 4902, 4967, 34, 36, 39, 150, 153, 253, 261, 266, 290, 300, 344, 364, 380, 410, 474, 515, 531, 534, 589, 594, 597, 2, 4, 5, 7, 8, 10, 11, 13, 15, 16, 17, 19, 22, 24, 25, 26, 27, 41, 43, 46, 54, 60, 61, 62, 65, 66, 76, 79, 86, 87, 88, 89, 92, 93, 95, 100, 102, 104, 105, 112, 113, 135, 140, 141, 145, 146, 158, 159, 160, 161, 165, 168, 170, 174, 177, 179, 180, 181, 185, 186, 189, 191, 195, 196, 201, 204, 205, 207, 208, 209, 210, 212, 217, 218, 219, 224, 225, 230, 234, 236, 237, 239, 240, 243, 248, 250, 251, 252, 254, 256, 257, 258, 262, 267, 270, 271, 273, 274, 276, 277, 279, 281, 282, 288, 289, 291, 292, 293, 302, 303, 304, 310, 312, 313, 314, 315, 317, 327, 329, 330, 332, 336, 337, 339, 340, 343, 347, 350, 352, 353, 354, 355, 358, 359, 360, 361, 366, 370, 371, 374, 377, 378, 381, 382, 383, 405, 412, 415, 416, 419, 426, 432, 434, 435, 437, 440, 445, 454, 455, 458, 460, 466, 468, 469, 472, 477, 485, 489, 490, 491, 493, 494, 497, 502, 505, 508, 510, 516, 520, 524, 532, 536, 537, 540, 542, 546, 548, 569, 575, 587, 606, 609, 616, 628, 631, 637, 640, 662, 667, 694, 697, 700, 704, 709, 710, 711, 719, 747, 762, 765, 775, 783, 795, 799, 801, 802, 818, 830, 835, 837, 838, 839, 842, 848, 852, 867, 880, 881, 888, 891, 979, 981, 986, 991, 996, 999, 1004, 1006, 1061, 1064, 1082, 750, 924, 1101, 1246, 1584, 1610, 1682, 1784, 1917, 2671, 2688, 2701, 2717, 3114, 3354, 3623, 3869, 3916, 3977, 3994, 4018, 4223, 4306, 4310, 4370, 4643, 4700, 4844, 4874, 4886, 4963, 4993, 4995, 5218, 5349, 5378, 5445, 5459, 5464, 5502, 5618, 5816, 5952, 5989, 5991, 6333, 6365, 6534, 6539, 6863, 6934, 7143, 7153, 7155, 7445, 8207, 8360, 8368, 8373, 8528, 8636, 8665, 8666, 8783, 8808, 8865, 8870, 8907, 8908, 8949, 8957, 8958, 8961, 8965, 8970, 8972, 8984, 27741, 30812, 30816, 31878, 32029, 32031, 32296, 32587, 33162, 33493, 33794, 33836, 34048, 34319, 37741, 38388, 42002, 45499, 45517, 45668, 45730, 46530, 48783, 48997, 49272, 49278, 49286, 49824, 586, 187, 627, 922, 1037, 1095, 1674, 1987, 2011, 2023, 2300, 2877, 2901, 3173, 3328, 3735, 4131, 4558, 5447, 5451, 5481, 5507, 5841, 5843, 5872, 5890, 5891, 5893, 5902, 5956, 5962, 5965, 5988, 6001, 6044, 1028, 1088, 1247, 1307, 3882, 4447, 5066, 5377, 5620, 5943, 5957, 6155, 6266, 6377, 6535, 6942, 7149, 7151, 7154, 7169, 7293, 7375, 7451, 7458, 8529, 8533, 8869, 8969, 30749, 31433, 31685, 33145, 33679, 40629, 40819, 41285, 47099, 51662, 51705, 51834, 54286, 56367, 56949, 58047, 59333, 59421, 60397, 60950, 61250, 63113, 63992, 64969, 66203, 68954, 69406, 69844, 70183, 70293, 71579, 72011, 72330, 72407, 72720, 72737, 72998, 73017, 74450, 77841, 78772, 79091, 80549, 81784, 81845, 81847, 82167, 82499, 84374, 86548, 87222, 88163, 88810, 91104, 92259, 94070, 95167, 95449, 95510, 95543, 96079, 97024, 97938, 98203, 103335, 103339, 104374, 105211, 106489, 106696, 107141, 109374, 109853, 112006, 113275, 113394, 119145, 129428, 136020, 137595, 140110, 44, 376, 511, 529, 1100, 1358, 1370, 1385, 1438, 1518, 1586, 1604, 1608, 1616, 1687, 1693, 1721, 1840, 1882, 1918, 2002, 2027, 1357, 1405, 1876, 2072, 2100, 2421, 2485, 2572, 2581, 2694, 3668, 305, 1173, 1590, 1619, 1639, 2541, 3300, 3409, 3513, 3624, 3717, 3753, 3798, 3827, 3863, 3893, 3952, 4011, 4148, 193, 448, 784, 172, 858, 1200, 1347, 1527, 1653, 1909, 2001, 2081, 2085, 2278, 3156, 3499, 3510, 3535, 3555, 4022, 4720, 5971, 6502, 7254, 7438, 8644, 48304, 48774, 48780, 50872, 56174, 59315, 60069, 63859, 64614, 68237, 69757, 70286, 71057, 71264, 84152, 84954, 85414, 89745, 91500, 94864, 96610, 101864, 103249, 104841, 105504, 110102, 111759, 112556, 112852, 115149, 120466, 122886, 122904, 122922, 122924, 134130, 134853, 143385, 152077, 152081, 158872, 160980, 166528, 166635, 111, 541, 678, 745, 913, 1147, 1148, 1186, 1193, 1201, 1207, 1223, 1230, 1252, 1260, 1261, 1267, 1276, 1281, 1299, 1680, 2490, 2707, 2723, 3000, 3022, 3108, 3174, 3429, 3683, 3741, 4878, 4973, 5782, 6350, 7099, 7361, 27611, 27773, 48394, 78499, 1036, 1209, 1221, 1228, 1234, 1375, 2194, 3039, 3263, 3435, 3681, 4571, 6016, 6870, 7482, 31658, 64839, 68358, 80463, 81932, 82459, 431, 442, 555, 653, 778, 1020, 1059, 1212, 1227, 1245, 1356, 1374, 1544, 1729, 1924, 1961, 2184, 2409, 2410, 2411, 2412, 2420, 2422, 2706, 2918, 2951, 2953, 3081, 3257, 3275, 3462, 3751, 3785, 3896, 4007, 4262, 4327, 4383, 4728, 4816, 5008, 5120, 5266, 5418, 5574, 5608, 5669, 5679, 5903, 5944, 5995, 6287, 6300, 6373, 6378, 6440, 6548, 6709, 6787, 6807, 6888, 7018, 7147, 7317, 7318, 7323, 7373, 7753, 7843, 8117, 8361, 8641, 8784, 8917, 8950, 26444, 26614, 27689, 27716, 27831, 27878, 30793, 32460, 33004, 33615, 34150, 34405, 36519, 36529, 37386, 37729, 37733, 38038, 38061, 44022, 44191, 44199, 44555, 44665, 45722, 46578, 46965, 47200, 47491, 49651, 51357, 51540, 52604, 53125, 53129, 53318, 53464, 53972, 53996, 54272, 55118, 55247, 55276, 55290, 55765, 56757, 57528, 57640, 57669, 58295, 58299, 59615, 59784, 60040, 60074, 60684, 62434, 63131, 64197, 64957, 65596, 66934, 67255, 68073, 68159, 68319, 69122, 69640, 69951, 71108, 71156, 71899, 73268, 73321, 73323, 73499, 74510, 74789, 74948, 76077, 76175, 76251, 77561, 78469, 79293, 79592, 79695, 79702, 80219, 81788, 83349, 84392, 85354, 86190, 86332, 86628, 86880, 87232, 88094, 88129, 88140, 90600, 91485, 91542, 92094, 95441, 96432, 96488, 96655, 97752, 98124, 98585, 98809, 99728, 99813, 102125, 102445, 102903, 103253, 103772, 104241, 104879, 106072, 106487, 106839, 107846, 111362, 112183, 112334, 112421, 114066, 116797, 116823, 117176, 118900, 122892, 122900, 122918, 122920, 122926, 128620, 135569, 139385, 140289, 141688, 142488, 144210, 145283, 148626, 150548, 155168, 157108, 157110, 158238, 158972, 159093, 160438, 161582, 162350, 162606, 164179, 166015, 168252, 171023, 176101, 177593, 180095, 180777, 185135, 12, 48, 64, 107, 118, 173, 295, 325, 328, 338, 372, 379, 407, 414, 420, 422, 427, 486, 512, 513, 551, 558, 610, 611, 671, 674, 724, 742, 743, 761, 785, 788, 798, 810, 829, 832, 866, 879, 903, 906, 911, 915, 921, 931, 933, 965, 984, 1016, 1021, 1047, 1081, 1129, 1215, 1238, 1257, 1269, 1285, 1297, 1322, 1324, 1330, 1333, 1339, 1342, 1345, 1346, 1355, 1359, 1367, 1372, 1373, 1376, 1378, 1379, 1380, 1394, 1407, 1409, 1427, 1441, 1456, 1457, 1461, 1474, 1479, 1485, 1489, 1499, 1542, 1550, 1551, 1556, 1562, 1566, 1569, 1583, 1588, 1591, 1593, 1603, 1614, 1645, 1648, 1658, 1663, 1665, 1679, 1681, 1688, 1689, 1690, 1702, 1717, 1718, 1722, 1747, 1748, 1754, 1779, 1783, 1798, 1806, 1812, 1816, 1831, 1845, 1848, 1855, 1862, 1881, 1888, 1891, 1894, 1906, 1911, 1919, 1921, 1963, 1970, 1971, 1972, 1973, 1991, 1994, 2003, 2004, 2014, 2015, 2016, 2026, 2034, 2036, 2037, 2040, 2041, 2044, 2052, 2053, 2060, 2065, 2082, 2088, 2092, 2097, 2108, 2110, 2111, 2118, 2123, 2133, 2134, 2140, 2144, 2148, 2153, 2167, 2169, 2171, 2206, 2227, 2232, 2243, 2244, 2245, 2248, 2249, 2255, 2261, 2263, 2266, 2267, 2279, 2287, 2294, 2302, 2315, 2320, 2321, 2328, 2335, 2354, 2355, 2369, 2371, 2372, 2374, 2375, 2393, 2394, 2396, 2407, 2413, 2416, 2418, 2423, 2428, 2446, 2453, 2455, 2458, 2463, 2465, 2468, 2491, 2496, 2513, 2518, 2539, 2548, 2550, 2555, 2558, 2605, 2606, 2614, 2622, 2642, 2643, 2668, 2672, 2687, 2699, 2709, 2710, 2719, 2720, 2722, 2733, 2746, 2754, 2788, 2793, 2802, 2804, 2806, 2808, 2822, 2836, 2840, 2857, 2860, 2867, 2870, 2883, 2888, 2898, 2900, 2915, 2936, 2968, 2995, 3005, 3016, 3017, 3031, 3032, 3035, 3040, 3048, 3056, 3063, 3064, 3070, 3072, 3082, 3087, 3101, 3104, 3113, 3146, 3190, 3203, 3213, 3219, 3225, 3238, 3248, 3254, 3258, 3264, 3269, 3301, 3308, 3316, 3324, 3355, 3361, 3370, 3387, 3393, 3394, 3395, 3396, 3397, 3398, 3400, 3401, 3418, 3421, 3424, 3454, 3466, 3471, 3476, 3477, 3483, 3484, 3497, 3500, 3501, 3505, 3515, 3526, 3534, 3536, 3548, 3550, 3551, 3584, 3594, 3608, 3622, 3662, 3685, 3686, 3692, 3693, 3698, 3699, 3701, 3704, 3705, 3706, 3708, 3712, 3743, 3745, 3752, 3754, 3763, 3770, 3784, 3797, 3802, 3825, 3826, 3835, 3837, 3839, 1010, 1012, 1013, 1015, 1018, 1022, 1035, 1547, 2006, 2059, 2083, 2087, 2089, 2135, 2430, 2565, 2941, 3157, 3159, 3189, 3410, 3438, 3512, 3549, 3565, 3615, 3755, 3852, 3948, 3972, 3986, 3988, 3990, 3999, 4016, 4019, 4025, 4039, 4054, 4090, 4154, 4161, 4232, 4270, 4299, 4344, 4366, 4367, 4369, 4378, 4446, 4449, 4519, 4638, 4718, 4734, 4776, 4783, 4821, 4846, 4848, 4865, 4901, 4979, 4990, 5013, 5014, 5015, 5103, 5110, 5171, 5254, 5293, 5299, 5313, 5364, 5388, 5419, 5463, 5504, 5630, 5693, 5785, 6143, 6156, 6157, 6166, 6170, 6297, 6345, 6358, 38, 2376, 2378, 2402, 2403, 2724, 2989, 2990, 3633, 3635, 3638, 3697, 3868, 3984, 4005, 4040, 4085, 4489, 4545, 4621, 4701, 5219, 5796, 6503, 7569, 7570, 7573, 7701, 8574, 8946, 26340, 30825, 34162, 39715, 40815, 41566, 45186, 45447, 45672, 46972, 47566, 47997, 50189, 51084, 52730, 52973, 53121, 53322, 54276, 56775, 58025, 58998, 59369, 59429, 59900, 61160, 63082, 64032, 68791, 68793, 69526, 69644, 72641, 73106, 73319, 73858, 76093, 78637, 79134, 79185, 80166, 81229, 81564, 81591, 81834, 82202, 85259, 86068, 87520, 88125, 88405, 88744, 90249, 91535, 91630, 93510, 94503, 94677, 94777, 95067, 95170, 95738, 96004, 96588, 97913, 99532, 102481, 102716, 102993, 103141, 103228, 103372, 103384, 103801, 103810, 103819, 103883, 104211, 105213, 105653, 105844, 105954, 106491, 106540, 106916, 106918, 106920, 107013, 107449, 108156, 108190, 108932, 108945, 109576, 109723, 109864, 110130, 110553, 111113, 111617, 111743, 111781, 111844, 112138, 112175, 114180, 114818, 115502, 115617, 115877, 117368, 117529, 117572, 117590, 117851, 117922, 119141, 119155, 119964, 122896, 126548, 130450, 132157, 133419, 134368, 134393, 135133, 135536, 135861, 135887, 136016, 138036, 138186, 139642, 139717, 139915, 140301, 142536, 143245, 148675, 149380, 160565, 160872, 164909, 166492, 167036, 168248, 173307, 1952, 1953, 2160, 3006, 4017, 4036, 4903, 5617, 5673, 6711, 8464, 8622, 30707, 31410, 34437, 39183, 41997, 46976, 52281, 53519, 54503, 55820, 56171, 56782, 56788, 60766, 61323, 64575, 66097, 68536, 71464, 29, 175, 272, 334, 741, 1050, 1175, 1217, 1218, 1232, 1233, 1237, 1243, 1248, 1249, 1274, 1284, 1425, 1464, 1711, 1809, 1859, 1884, 1960, 2579, 2686, 2726, 2730, 2912, 3030, 3181, 3265, 3822, 4235, 5333, 6234, 6387, 6721, 6773, 6790, 6857, 6920, 6989, 7064, 7069, 7123, 7587, 7924, 7932, 8012, 8228, 8370, 2405, 3556, 4855, 5064, 5791, 31696, 35836, 47610, 57368, 61024, 61132, 86882, 102407, 132660, 122912, 122916, 176371, 187541, 187593, 238, 421, 808, 969, 1083, 1262, 1287, 1387, 1592, 2032, 2142, 2151, 2311, 2530, 2532, 2876, 2886, 3037, 3350, 3451, 3519, 3654, 3791, 3836, 23, 147, 211, 428, 456, 481, 507, 635, 714, 851, 1120, 1171, 1253, 1271, 1303, 1459, 1480, 1678, 1785, 2021, 2231, 2272, 2358, 2618, 2841, 2908, 2952, 3020, 3100, 3105, 3107, 3169, 3178, 3198, 3246, 3250, 3252, 3256, 3260, 3271, 3272, 3360, 3543, 3783, 3950, 3980, 4047, 4211, 4238, 4251, 4343, 4626, 4688, 4772, 4787, 5009, 5010, 5055, 5152, 5267, 5292, 5329, 5446, 5577, 5632, 5682, 5747, 5945, 5955, 6281, 6428, 6537, 6552, 6565, 6617, 6796, 6817, 6867, 6884, 6947, 6953, 6957, 6974, 6993, 6997, 7009, 7025, 7090, 7263, 7481, 7649, 7706, 7841, 7842, 7884, 8010, 8132, 8378, 8493, 8495, 8633, 8810, 8874, 8914, 8937, 8951, 8977, 8982, 8983, 26649, 26695, 26750, 26812, 26901, 27408, 27450, 27788, 27793, 31101, 31116, 31225, 31420, 33166, 33558, 33660, 34536, 36517, 36527, 37731, 37739, 38886, 39381, 39444, 40278, 40414, 40583, 41569, 41863, 42004, 43396, 43921, 43928, 43936, 44195, 44204, 44761, 45658, 46723, 47629, 47644, 47894, 48326, 48385, 48738, 48879, 49265, 49530, 49822, 49961, 50068, 50442, 51080, 51255, 51471, 51935, 52042, 52241, 52328, 52952, 53123, 53550, 53953, 54736, 54962, 54997, 55080, 55094, 55116, 55274, 55363, 55721, 55908, 56145, 56587, 56607, 56921, 58293, 58803, 59018, 59129, 59387, 60046, 60389, 60647, 60674, 60735, 60753, 60941, 60943, 61011, 61167, 61210, 61236, 61248, 61350, 61352, 61628, 61986, 62374, 62376, 62394, 62792, 62799, 62849, 63033, 63062, 63433, 64030, 64497, 64716, 64983, 65216, 65682, 65982, 67534, 68205, 69849, 70336, 71106, 71135, 953, 1204, 1242, 1772, 1792, 1939, 1945, 2301, 3363, 4980, 7156, 7379, 26554, 26729, 64620, 87306, 98961, 96821, 605, 612, 1099, 1231, 1353, 1361, 1363, 1393, 74, 78, 194, 203, 246, 471, 786, 1104, 1429, 1458, 28, 94, 249, 307, 308, 322, 385, 446, 452, 562, 580, 613, 715, 805, 994, 1027, 1056, 1177, 1280, 1365, 1399, 1446, 1476, 1487, 1537, 1545, 1621, 1633, 1643, 1672, 1673, 1799, 1801, 1841, 2112, 2310, 2333, 2357, 2391, 2443, 2501, 2690, 2875, 2943, 3997, 5146, 5449, 6242, 6567, 6618, 26606, 27193, 27728, 27801, 31184, 44974, 544, 2269, 2735, 2794, 3066, 3270, 3347, 3362, 3766, 3861, 4220, 5093, 5312, 6662, 585, 2342, 3019, 82, 121, 199, 228, 306, 514, 685, 3285, 3968, 4890, 6708, 6763, 7173, 7444, 8981, 54001, 55280, 56941, 59725, 61240, 65230, 71033, 85774, 86781, 87869, 89759, 93840, 96829, 97921, 100714, 101525, 103980, 111659, 111921, 112290, 115569, 116897, 125916, 128360, 136864, 122, 144, 227, 408, 413, 418, 424, 433, 436, 459, 550, 639, 782, 1191, 1343, 1431, 1453, 1468, 1488, 1513, 1667, 1726, 1810, 1835, 1975, 1976, 2146, 2155, 2236, 2297, 2306, 2352, 2404, 2433, 2497, 2500, 2505, 2568, 2574, 2598, 2702, 2713, 2771, 2795, 2796, 2805, 2827, 2861, 2871, 2890, 2906, 3098, 3120, 3142, 3177, 3186, 3208, 3259, 3261, 3298, 3326, 3502, 3552, 3646, 3694, 3695, 3764, 3824, 3841, 3946, 3987, 4008, 4041, 4062, 4067, 4084, 4102, 4132, 4153, 4155, 4207, 4280, 4293, 4317, 4321, 4322, 4333, 4349, 4351, 4359, 4361, 4396, 4442, 4466, 4477, 4482, 4487, 4509, 4516, 4541, 4564, 4565, 4577, 4623, 4629, 4654, 4679, 4686, 57, 259, 484, 519, 828, 1105, 18, 663, 737, 833, 836, 889, 69, 934, 1005, 1033, 1390, 1442, 1615, 1642, 1753, 1769, 1863, 1866, 1934, 2042, 2064, 2106, 2124, 2195, 2431, 2504, 2718, 2731, 3004, 3196, 3249, 3268, 3274, 3385, 4104, 4502, 4929, 4958, 4974, 5151, 5220, 5283, 5307, 5308, 5500, 5528, 5568, 5582, 5585, 5589, 7294, 33495, 53993, 391, 2121, 2942, 3844, 3969, 4474, 4975, 5108, 6765, 7160, 8966, 45950, 47423, 51931, 53894, 63876, 68932, 69712, 72395, 79242, 82767, 96567, 96811, 97923, 100383, 106100, 108729, 112804, 117881, 132424, 137337, 140174, 140247, 140715, 145839, 146656, 159817, 163645, 166643, 171011, 1320, 5882, 8371, 909, 1251, 1273, 1289, 2164, 2553, 2732, 2925, 3221, 3415, 3730, 4282, 4399, 4658, 4914, 4928, 5004, 5021, 5810, 5932, 6239, 6663, 6666, 6975, 7063, 7206, 7247, 7327, 7396, 7700, 7748, 8143, 8157, 8235, 8253, 8379, 8879, 8928, 8974, 26258, 26326, 26422, 27156, 27513, 32657, 32659, 32875, 32898, 33781, 37545, 44719, 45880, 46062, 46862, 52885, 62336, 62644, 63312, 64278, 66335, 79224, 81018, 81562, 82848, 85796, 88911, 90522, 90746, 91094, 92046, 92427, 92475, 93114, 93326, 96606, 97225, 97304, 100498, 101072, 103171, 104283, 104913, 105250, 107338, 107565, 111732, 113374, 114335, 115203, 122898, 127146, 128695, 134170, 134515, 135143, 135456, 136018, 136305, 136564, 137857, 138208, 139644, 140928, 142074, 142448, 142602, 142961, 142997, 143859, 143969, 149406, 151759, 156607, 160569, 164280, 165969, 167370, 168254, 168492, 170705, 170875, 171701, 171759, 172013, 172461, 174055, 174141, 174403, 174737, 175485, 175661, 175693, 175705, 175707, 175743, 175781, 179073, 188301, 190183, 387, 479, 482, 522, 781, 1011, 1014, 1235, 1244, 1301, 1350, 1873, 1997, 1999, 2159, 2183, 2265, 2322, 2356, 2363, 2379, 2380, 2408, 2454, 2524, 2533, 2554, 2587, 2613, 2615, 2634, 2661, 2664, 2752, 2978, 3115, 3148, 3388, 3430, 3614, 3799, 3814, 3917, 3918, 3959, 4215, 4241, 4255, 4267, 4291, 4340, 4437, 4464, 4496, 4508, 4591, 4713, 4876, 4971, 4992, 5040, 5339, 5505, 5672, 5712, 6323, 6371, 6659, 6786, 6793, 6873, 6880, 7000, 7004, 7007, 7040, 7163, 7757, 7983, 8623, 26680, 34338, 39414, 42723, 45666, 48877, 52722, 57532, 59306, 60487, 33646, 50794, 51077, 52245, 54995, 54999, 56801, 65514, 69481, 86892, 93721, 93838, 110501, 748, 916, 1125, 1982, 1293, 198, 473, 518, 707, 728, 861, 897, 942, 951, 955, 1184, 1254, 1268, 1277, 1388, 1416, 1498, 1564, 1646, 1670, 1858, 1912, 2009, 2067, 2102, 2202, 2289, 2429, 2476, 2681, 2759, 2917, 2922, 2935, 2961, 3045, 3334, 3426, 3446, 3494, 3507, 3593, 3628, 3632, 3643, 3769, 3773, 3774, 3811, 3901, 3937, 280, 928, 1151, 1428, 1631, 1696, 1797, 1944, 2020, 2075, 3075, 3230, 3461, 3498, 3504, 6460, 2739, 6058, 6541, 6564, 27660, 27706, 27808, 48043, 49130, 49649, 50804, 51086, 59501, 60072, 60126, 63072, 67734, 68554, 68848, 74228, 78105, 79357, 80693, 82461, 83369, 86911, 87430, 89492, 89864, 90866, 96861, 99149, 102123, 103042, 103341, 104863, 106002, 107348, 107406, 111360, 113741, 114662, 114678, 114935, 115210, 115680, 118696, 128512, 135518, 142222, 143355, 158966, 161131, 166534, 168250, 170827, 171763, 172591, 173925, 174053, 175303, 176601, 179401, 179819, 182715, 183611, 184471, 185031, 187595, 1202, 1965, 3088, 4105, 6104, 7022, 7132, 7387, 7980, 8376, 8873, 27846, 27904, 30810, 33779, 45728, 53000, 54259, 64285, 67997, 77800, 86290, 86504, 89753, 89904, 92494, 92535, 95858, 98491, 102217, 104069, 365, 968, 1096, 1762, 1889, 2313, 2905, 3041, 4023, 4128, 4380, 4448, 4773, 4964, 5026, 5225, 5291, 5417, 5690, 5878, 5954, 6188, 6214, 6218, 6296, 6331, 6385, 6936, 6944, 7139, 7162, 7235, 7360, 7411, 7743, 7930, 7982, 8014, 8093, 8645, 8795, 8832, 26504, 27020, 27266, 27523, 27869, 33683, 34072, 42632, 255, 523, 535, 1216, 1326, 1382, 1541, 1956, 2257, 2312, 2316, 2401, 2956, 2966, 3029, 3074, 3201, 3262, 3444, 4079, 4149, 4158, 4203, 4231, 4465, 4499, 4537, 4572, 4581, 4585, 4611, 4616, 5023, 5265, 5548, 5644, 6022, 6025, 6124, 6313, 6636, 6754, 6832, 6979, 6996, 7015, 7027, 7028, 7046, 7048, 7127, 7325, 7493, 7624, 7647, 7766, 8024, 8158, 5628, 8604, 8605, 875, 932, 1017, 1019, 1292, 1381, 1515, 1635, 1703, 2125, 2334, 2340, 2385, 2471, 2560, 2567, 2662, 2728, 2803, 2881, 2950, 3077, 3452, 3553, 3554, 3653, 3675, 3707, 3786, 3978, 3981, 4015, 4068, 4069, 4124, 4141, 4326, 4356, 4372, 4387, 4388, 4639, 4677, 4681, 4823, 4877, 4969, 5049, 5400, 5444, 5541, 5553, 6193, 6383, 6595, 6707, 6753, 6755, 6879, 6893, 6939, 7010, 7137, 7256, 7320, 7346, 7454, 7541, 7566, 8366, 8677, 8781, 8807, 8861, 8866, 8910, 8947, 8968, 8985, 26712, 26778, 26871, 27473, 27539, 27705, 30822, 31049, 32598, 33154, 33437, 33672, 34153, 34542, 40732, 40959, 41571, 41573, 41724, 42018, 42718, 42738, 44004, 44709, 44788, 45431, 45501, 45720, 45726, 45928, 46322, 46948, 47970, 47978, 47999, 48342, 48696, 49274, 49772, 50658, 50685, 50740, 50806, 51709, 51884, 52287, 52435, 52458, 52767, 52975, 53435, 54004, 54116, 54121, 54281, 54734, 54881, 55052, 55112, 55190, 55232, 55253, 55267, 55282, 55620, 55830, 56152, 56251, 56336, 56339, 56379, 57951, 58078, 58107, 58162, 58347, 58839, 59126, 59220, 59258, 59440, 59731, 60363, 60514, 62155, 62293, 62956, 62999, 64622, 65188, 66198, 66665, 67087, 67267, 67408, 67618, 68659, 68952, 69069, 69394, 69524, 69784, 69904, 70492, 70521, 70990, 71282, 72167, 72489, 72591, 73023, 74154, 74508, 74668, 74946, 76751, 78467, 78703, 79057, 80860, 81910, 83134, 83803, 84772, 85780, 86293, 86377, 86833, 89087, 89470, 90576, 92420, 93287, 94959, 95218, 95624, 95875, 96110, 114762, 4744, 4880, 1172, 1300, 1955, 1959, 1962, 3152, 3359, 3468, 91077, 2136, 44193, 45221, 47122, 47518, 48414, 50601, 53460, 55768, 68135, 69278, 71518, 72226, 74647, 75805, 76293, 87485, 92509, 93272, 99106, 101612, 105037, 109483, 111320, 112450, 112788, 113378, 114074, 123947, 127202, 128520, 131013, 138204, 149354, 151739, 926, 949, 1041, 1185, 2010, 2360, 2594, 3089, 3307, 4103, 4427, 4546, 5300, 5304, 5341, 5434, 5812, 5867, 6235, 6244, 6270, 6301, 6305, 6591, 6791, 6852, 6858, 7087, 7158, 7234, 7419, 7889, 8154, 8183, 8340, 8341, 8804, 8838, 26350, 26578, 27721, 31522, 39292, 44937, 48698, 50274, 52967, 55069, 55444, 55814, 57147, 58103, 58154, 6303, 7001, 2318, 7669, 39446, 55577, 63436, 72129, 81535, 20, 2792, 164, 1189, 1192, 2659, 3197, 3266, 3425, 3576, 4887, 6059, 6952, 60030, 69654, 75395, 78266, 78349, 80363, 80831, 81417, 82041, 84189, 84601, 85397, 90405, 90469, 91974, 93297, 96691, 96917, 98361, 100810, 103075, 103688, 2381, 2383, 2384, 4386, 4989, 5065, 5094, 5106, 5296, 5414, 5803, 5874, 5900, 6006, 6014, 6249, 6338, 6484, 6536, 6550, 6566, 6586, 6593, 6686, 6687, 6702, 6750, 6752, 6764, 6886, 6887, 6946, 6949, 6958, 7142, 3155, 27397, 55442, 58303, 14, 55, 154, 214, 287, 299, 321, 324, 326, 331, 369, 406, 691, 722, 726, 900, 948, 971, 987, 1091, 1131, 1132, 1135, 1187, 1190, 1194, 1286, 1290, 1295, 1296, 1305, 1395, 1414, 53, 1140, 1519, 1596, 1624, 1683, 1694, 1730, 72356, 74553, 3910, 6464, 7312, 26974, 74795, 83177, 901, 905, 918, 936, 945, 946, 947, 950, 3061, 3097, 3315, 3599, 3604, 3606, 3991, 4300, 4899, 5092, 5480, 5529, 5621, 6271, 6402, 6604, 6650, 6783, 7067, 7209, 7297, 7381, 8238, 8372, 8814, 8978, 25887, 26183, 26184, 26265, 26429, 26645, 27619, 27826, 31851, 31925, 32060, 32243, 32596, 33090, 33830, 34312, 34332, 35807, 37384, 37444, 40339, 40962, 41828, 42013, 42725, 42761, 44773, 44777, 44851, 46105, 47725, 47736, 48520, 48649, 48982, 49013, 49735, 50613, 50999, 51167, 51575, 53280, 53355, 53578, 55269, 58291, 60289, 60737, 62008, 64116, 65588, 66798, 66943, 67888, 69211, 69304, 69469, 69720, 70697, 72178, 72624, 72692, 72701, 73015, 73042, 73160, 73822, 74342, 74683, 74698, 76143, 76301, 77688, 78142, 78620, 79684, 79897, 80727, 81087, 81537, 82854, 83910, 83969, 84246, 84512, 84944, 85295, 85881, 86059, 86298, 87834, 88069, 88746, 88785, 88812, 89898, 90717, 91355, 91386, 91666, 92643, 93006, 93022, 94661, 95633, 95843, 96608, 96935, 97836, 98279, 99117, 99122, 99130, 99853, 100390, 100507, 101283, 102378, 102686, 102747, 102984, 103602, 104339, 104875, 105540, 105746, 106594, 106927, 107951, 108078, 108949, 109241, 109596, 111146, 113252, 113453, 115111, 116718, 116738, 116817, 117109, 118270, 118530, 118572, 118834, 118862, 118894, 119714, 120813, 121007, 121097, 121338, 121342, 121469, 121781, 122092, 124273, 124404, 125970, 125974, 126088, 126577, 126921, 127052, 127134, 128087, 128089, 128366, 128594, 128852, 128944, 128968, 129011, 129354, 130452, 130518, 130520, 131098, 131104, 131130, 131439, 131610, 131826, 132153, 132422, 132496, 132584, 132800, 133712, 133867, 133879, 134004, 134334, 134847, 135777, 135937, 136341, 136353, 136355, 136359, 136503, 136834, 139157, 139640, 139994, 140133, 140481, 140541, 140561, 140711, 141513, 141544, 141646, 141830, 141928, 142196, 142444, 142550, 142831, 143031, 143559, 144222, 145491, 146244, 146684, 146986, 147410, 147936, 148632, 148775, 149350, 149352, 149508, 149566, 150554, 153386, 153408, 155589, 156025, 156781, 157296, 157775, 158398, 158882, 159069, 160567, 163527, 164200, 164226, 164707, 167018, 167380, 167772, 167854, 169912, 170837, 170993, 171751, 171811, 172321, 173253, 174681, 176621, 176805, 177185, 177765, 179211, 181065, 182293, 182297, 182299, 182731, 184349, 184791, 68, 81, 85, 116, 581, 617, 735, 766, 791, 896, 1034, 1116, 1137, 1144, 1366, 1411, 1417, 384, 464, 533, 1241, 1321, 1337, 1340, 1760, 1771, 1974, 1981, 2117, 2122, 2138, 2298, 2419, 2456, 2522, 2625, 2651, 2782, 2784, 2790, 2817, 2868, 2992, 3013, 3018, 3153, 3182, 3267, 3563, 3727, 3768, 3810, 3840, 4092, 4109, 4214, 4254, 4304, 4316, 4438, 4587, 4599, 4624, 4645, 4661, 4678, 4774, 4800, 4850, 4909, 4987, 5165, 5294, 5346, 5438, 5479, 5588, 5640, 5650, 5749, 6203, 6219, 6283, 6327, 6375, 6395, 6461, 6620, 6629, 6638, 6678, 6731, 6744, 6820, 6963, 7118, 7308, 7492, 7561, 7650, 7802, 8016, 8147, 8266, 8426, 8501, 8507, 8581, 27317, 27873, 2114, 2398, 54190, 1606, 2103, 1529, 1659, 2280, 2600, 3071, 3690, 4126, 4732, 4954, 5027, 5072, 5246, 5247, 5619, 5792, 6051, 6288, 6367, 1942, 3819, 5109, 5420, 71745, 79139, 1958, 2262, 3244, 5380, 6183, 6785, 233, 2337, 3179, 4873, 7367, 50912, 57522, 58972, 59022, 62553, 64114, 65088, 65577, 65802, 69140, 70728, 77206, 77427, 79572, 80572, 80586, 81156, 81819, 86014, 86815, 87194, 88108, 90890, 91126, 91653, 91671, 91976, 96728, 99764, 106766, 116799, 132046, 134881, 938, 1833, 2325, 2551, 2837, 3163, 3325, 3719, 3746, 4476, 4663, 4676, 4740, 4912, 4941, 5460, 6012, 6030, 6060, 6169, 6579, 7034, 7036, 7050, 7380, 8643, 8796, 25937, 32300, 45175, 53466, 54780, 69988, 80584, 85401, 93805, 94015, 94150, 94833, 213, 665, 935, 1111, 1178, 1354, 2131, 2495, 2931, 3306, 3310, 3592, 3629, 3677, 3687, 3742, 3821, 4325, 4788, 5373, 5888, 5889, 5912, 6187, 6433, 6643, 6777, 6985, 7347, 7371, 8025, 8033, 8197, 8511, 8638, 8656, 9010, 26082, 26150, 26236, 26237, 26347, 26471, 26587, 26662, 26849, 26903, 27134, 27803, 27815, 27834, 30803, 32892, 33124, 36363, 36401, 38159, 42191, 48872, 56060, 57183, 57504, 58425, 58554, 60904, 63515, 64993, 66371, 67923, 69134, 69529, 69685, 72104, 73881, 74324, 74727, 75341, 79333, 80124, 84156, 84844, 85316, 85736, 86066, 86320, 86347, 88235, 88345, 91261, 93790, 95175, 95311, 95313, 95377, 95654, 96020, 96373, 98604, 99145, 100302, 100553, 101088, 101962, 102602, 102666, 103235, 104780, 105593, 107159, 107408, 107410, 107412, 108540, 108727, 108981, 109633, 110586, 111622, 116411, 117444, 118166, 118888, 118896, 118985, 120138, 120478, 120625, 126090, 126426, 126430, 127098, 129514, 130970, 130976, 130978, 131237, 133716, 134041, 134095, 134109, 134184, 134252, 134326, 134849, 136445, 136447, 138835, 140038, 140265, 141810, 141816, 141818, 141820, 141836, 141844, 142020, 143511, 145994, 146028, 147196, 147250, 147282, 147286, 147300, 147326, 147328, 147330, 151769, 152591, 158402, 159811, 163072, 163112, 163134, 163386, 163925, 165959, 166183, 170411, 170597, 170777, 171749, 172577, 172583, 172585, 172587, 172589, 172637, 172793, 172825, 172909, 173351, 173355, 173535, 173619, 173963, 174551, 175293, 175387, 175397, 175401, 175431, 175435, 178613, 179133, 99636, 156, 1684, 2585, 3795, 4024, 4159, 4889, 4976, 4994, 5011, 5034, 5051, 5135, 5303, 5309, 5316, 5391, 5450, 5466, 5881, 6049, 283, 346, 528, 7096, 26171, 40870, 1856, 2447, 3979, 4228, 4247, 4649, 4900, 5025, 5363, 5501, 5524, 5564, 5942, 6003, 6482, 7225, 7285, 7439, 8531, 32298, 34520, 34530, 40581, 42007, 44840, 44972, 47640, 48322, 49396, 54732, 55245, 55261, 55872, 56805, 58156, 59143, 61255, 62439, 63479, 65585, 69436, 70565, 70641, 71205, 71668, 71838, 73929, 74275, 74532, 78174, 78209, 79428, 80139, 82852, 85022, 85367, 87483, 87529, 87867, 91323, 92264, 93270, 93443, 93831, 94478, 94953, 95720, 96616, 97172, 98083, 99007, 100083, 100194, 101142, 102720, 104218, 104644, 104925, 109282, 110669, 110771, 110773, 111375, 112497, 116977, 118930, 119153, 121372, 121374, 121715, 123200, 127116, 127152, 127390, 128097, 128099, 128914, 128975, 129737, 130087, 134861, 135137, 135436, 136443, 136471, 136511, 136598, 142422, 148652, 148956, 155509, 155812, 156609, 157312, 157699, 158813, 159161, 159441, 159755, 160080, 160271, 160289, 161024, 161580, 162344, 162478, 162602, 165103, 165483, 165645, 165671, 165843, 165947, 166461, 167634, 167746, 168144, 168326, 168418, 168632, 168846, 170357, 170399, 170401, 170813, 170817, 170897, 170937, 170957, 171251, 171631, 171867, 171891, 172215, 172547, 173255, 174045, 174815, 175577, 176329, 178323, 179427, 179953, 180265, 181139, 181659, 182749, 183197, 183227, 183959, 184015, 184257, 71, 779, 1043, 1589, 1600, 1735, 1829, 1897, 2132, 2166, 2331, 2475, 2749, 2764, 2844, 2969, 3099, 3103, 3217, 3251, 3296, 3537, 3546, 3831, 4003, 4063, 4083, 4130, 127198, 141718, 167732, 487, 2772, 4792, 62383, 73, 656, 46337, 66511, 85020, 95105, 99112, 103984, 108689, 109846, 110718, 110730, 112868, 114184, 114795, 117533, 117887, 120635, 127184, 128488, 130578, 131023, 131714, 135532, 136562, 136666, 138210, 141004, 165551, 52319, 70599, 71530, 77866, 95088, 96737, 97306, 112515, 115122, 121231, 144976, 69306, 81782, 112171, 143458, 501, 1844, 3342, 4082, 4738, 4864, 5088, 6902, 7008, 7265, 8254, 26681, 27022, 27482, 33201, 40148, 43836, 45440, 50842, 55278, 58301, 63276, 65130, 65642, 67695, 69516, 71304, 71429, 71520, 73488, 75985, 78218, 79553, 84952, 86721, 89190, 90403, 91470, 91690, 91947, 92694, 93855, 94931, 95690, 95761, 98607, 99437, 100882, 101112, 107630, 110330, 110882, 112623, 117466, 122890, 127096, 130490, 131749, 131920, 133217, 133771, 135567, 139855, 141408, 142420, 142456, 142509, 147142, 149144, 149146, 149830, 149902, 151455, 151695, 152083, 152091, 152284, 152970, 155064, 156371, 156387, 158783, 159415, 159717, 160563, 161634, 161966, 162082, 162578, 164881, 167790, 168266, 1066, 5159, 6093, 37830, 5959, 390, 567, 1318, 1554, 2729, 3067, 4168, 5284, 5508, 5969, 5970, 5992, 6251, 6291, 6774, 7773, 8973, 26776, 27731, 44694, 48082, 393, 893, 1422, 1483, 2798, 3102, 3327, 3812, 4037, 4066, 4467, 4553, 4613, 4634, 4812, 132, 188, 1949, 2330, 2940, 3679, 5177, 5385, 6986, 6987, 7171, 7762, 26084, 2582, 2924, 59103, 8640, 373, 1344, 1401, 1465, 1661, 1727, 1950, 1957, 2070, 2077, 2344, 2561, 2590, 2682, 2775, 2819, 2889, 2996, 3011, 3055, 3093, 3117, 3185, 3372, 3557, 3597, 3684, 3737, 3873, 3906, 3983, 3985, 3998, 4031, 4035, 4042, 4056, 4167, 4187, 4225, 4234, 4243, 4259, 4265, 4337, 4339, 4368, 4534, 4535, 4703, 4719, 4727, 4736, 4795, 4799, 4822, 4836, 4857, 4866, 4921, 4991, 5016, 5102, 5107, 5187, 5256, 5282, 5338, 5357, 5358, 5435, 5506, 5563, 5611, 5699, 5873, 5879, 5899, 5947, 6185, 6213, 6246, 6279, 6299, 6386, 6448, 6669, 6808, 6950, 7076, 7161, 7324, 8121, 8199, 26172, 26865, 27821, 31700, 32017, 34334, 34534, 37727, 39307, 42009, 42730, 43917, 44399, 47044, 49524, 49910, 6332, 6619, 7255, 7316, 8827, 32289, 36525, 78316, 103606, 27416, 98243, 160718, 1334, 2038, 2091, 9, 75, 634, 813, 840, 885, 1432, 36535, 56715, 64034, 81456, 85885, 100843, 101973, 105355, 112454, 133780, 138396, 152270, 173145, 177615, 179709, 86644, 130634, 1516, 2879, 2880, 3286, 3287, 3618, 425, 764, 869, 1078, 1162, 1264, 1836, 1948, 2130, 2239, 2247, 2290, 2349, 2361, 2511, 2734, 2750, 2779, 2863, 2946, 2970, 3028, 3076, 3096, 3130, 3134, 3141, 3167, 3200, 3223, 3224, 3283, 3341, 3467, 3473, 3492, 3503, 3506, 4205, 4784, 5637, 5788, 5847, 6509, 6658, 6684, 7089, 7107, 8128, 8571, 8614, 26313, 31038, 2392, 27674, 55391, 66320, 242, 718, 990, 1107, 1163, 1627, 1713, 1969, 1979, 2051, 2126, 2162, 2210, 2252, 2314, 2364, 2367, 2531, 2745, 2748, 2769, 2789, 2818, 2977, 2986, 3357, 3572, 3616, 3649, 3858, 3864, 3877, 4055, 4450, 4735, 6250, 6319, 6322, 6538, 5643, 45732, 1821, 1837, 3404, 4440, 5415, 5485, 5527, 5530, 5993, 6480, 4406, 7333, 7934, 26078, 26131, 33564, 2017, 2084, 4142, 4193, 4373, 4867, 4936, 4951, 5222, 5472, 5941, 6005, 6252, 6324, 6339, 6568, 7045, 7060, 7080, 7614, 8008, 1051, 1454, 2526, 5410, 7259, 8362, 8911, 33880, 39427, 43904, 44613, 47382, 1929, 1931, 1936, 1938, 2013, 2176, 2847, 3364, 3564, 3801, 3909, 3964, 4920, 5264, 5387, 6212, 6412, 6429, 6483, 6624, 6856, 7054, 7065, 7078, 7121, 7164, 7215, 7222, 7243, 7302, 7366, 7369, 7728, 8600, 8609, 8695, 8718, 8860, 8948, 9008, 25746, 25750, 25771, 25797, 25827, 25856, 25906, 27772, 31297, 33499, 33669, 34336, 35957, 39449, 40826, 42011, 42015, 43560, 45081, 46974, 48412, 48593, 49389, 51925, 51939, 52694, 56176, 60161, 61406, 63853, 65261, 66297, 67788, 70159, 71970, 72731, 72733, 77846, 78574, 80126, 83132, 86487, 89804, 89939, 90647, 93008, 95558, 98154, 123545, 5665, 6380, 33903, 725, 169, 453, 97, 166, 600, 760, 1437, 1447, 1546, 1598, 1611, 1649, 1695, 1827, 1941, 2022, 2025, 2181, 2295, 2474, 2563, 2607, 2691, 2696, 2765, 2971, 2976, 3003, 3078, 3150, 3158, 3323, 3474, 3521, 3598, 3747, 3761, 3862, 3879, 3888, 3895, 3915, 3925, 3947, 3955, 3992, 3993, 4032, 4052, 4133, 4146, 4152, 4157, 4160, 4178, 4275, 4305, 4307, 4313, 4350, 4389, 4407, 4439, 4452, 4628, 4640, 4642, 4644, 4699, 4723, 4770, 4811, 4815, 4826, 4849, 4879, 4888, 4898, 4911, 4919, 4959, 4978, 5046, 5062, 5083, 5095, 5131, 5155, 5298, 5323, 5325, 5347, 5379, 5421, 5423, 5425, 5427, 5486, 5498, 5522, 5609, 5612, 5615, 5646, 5666, 5668, 5680, 5684, 5772, 5809, 5818, 5999, 6002, 6041, 6062, 6067, 6192, 6215, 6217, 6264, 6285, 6294, 6330, 6334, 6335, 6341, 6551, 6571, 6572, 6588, 6645, 6679, 6688, 6881, 6890, 6932, 6969, 6971, 6978, 7038, 7264, 7299, 7352, 7354, 7449, 7698, 8042, 1582, 2457, 2534, 3573, 3726, 68959, 70533, 74754, 84187, 103210, 104303, 106873, 109578, 109848, 117895, 122906, 127212, 148978, 157369, 158035, 161594, 162968, 162982, 164917, 165635, 165639, 166291, 168090, 168218, 170907, 172705, 173235, 174479, 175475, 175585, 177285, 177939, 178111, 178827, 180297, 180497, 180985, 180987, 181413, 183911, 184641, 189333, 191005, 193565, 193567, 193571, 193573, 193579, 193581, 193583, 193585, 193587, 1685, 1767, 2799, 5804, 952, 2035, 2208, 2346, 2527, 3068, 3516, 3711, 3927, 4813, 5039, 5214, 5493, 5497, 5499, 5540, 2557, 2810, 3091, 3627, 4785, 5244, 5570, 5909, 6368, 7044, 7844, 7976, 7981, 8491, 8582, 8607, 25788, 25825, 26122, 26840, 27592, 27850, 27865, 27879, 27912, 31364, 32387, 33138, 33421, 33896, 37240, 39869, 46572, 49263, 49932, 1951, 2436, 2967, 3469, 72, 99, 148, 155, 178, 229, 269, 496, 668, 26116, 1392, 1502, 1755, 1306, 2575, 2744, 3436, 3894, 3932, 4174, 4808, 4932, 5607, 698, 731, 1055, 2165, 2670, 2674, 2815, 3129, 4608, 5670, 8532, 8833, 45210, 56274, 57243, 4722, 5139, 5610, 27685, 34321, 45106, 50802, 62299, 49, 461, 574, 679, 1176, 1312, 2024, 2147, 2983, 3036, 3138, 3194, 3214, 3329, 3402, 3445, 3470, 3528, 3682, 3724, 3725, 3834, 5949, 8815, 27075, 27368, 54372, 58332, 59604, 67295, 79008, 81132, 83601, 71462, 179817, 140956, 185029, 4625, 7810, 7811, 7812, 34397, 40697, 51562, 56915, 62834, 62836, 65651, 77795, 100611, 106642, 117192, 117646, 119167, 123553, 128842, 130444, 140359, 146662, 147372, 147374, 147376, 147378, 147380, 147382, 147384, 150596, 159779, 166203, 179511, 180031, 184053, 189547, 87192, 87234, 92439, 106144, 107314, 113573, 161922, 168366, 170697, 174909, 175197, 182823, 183897, 188751, 43679, 57274, 86142, 89582, 83, 55451, 927, 3422, 3963, 275, 429, 438, 444, 504, 517, 564, 692, 809, 870, 1007, 1085, 1126, 1581, 1599, 1602, 1626, 1671, 1677, 1686, 1731, 1867, 1875, 1937, 2056, 2152, 2350, 2373, 2382, 2473, 2477, 2525, 2535, 2537, 2741, 2786, 2816, 3014, 3132, 3165, 3389, 3392, 3406, 3417, 3431, 3432, 3433, 3434, 3524, 3529, 6425, 1752, 2296, 3054, 4749, 5047, 7319, 8880, 31221, 36708, 37380, 41716, 46335, 46850, 54768, 55020, 55292, 56156, 61246, 61348, 1430, 4219, 60937, 62344, 62437, 63540, 64231, 2469, 3090, 3095, 4338, 4605, 5248, 5382, 6306, 6639, 6724, 7013, 7056, 7072, 7216, 7311, 8044, 8364, 9018, 25773, 25841, 26375, 27768, 27776, 27820, 27882, 27899, 30818, 30846, 31437, 31610, 31692, 31702, 32022, 32584, 32632, 32770, 2205, 5523, 5710, 6290, 8363, 26322, 26732, 59014, 62250, 66744, 81831, 91483, 91628, 95307, 95949, 96448, 97168, 97860, 101531, 103137, 2747, 55854, 3496, 1130, 2327, 2633, 3042, 63, 1236, 1655, 1887, 2432, 2514, 2515, 2984, 3688, 3843, 4229, 4233, 4544, 4782, 5456, 5584, 6298, 6523, 6625, 6695, 6938, 7103, 7448, 32666, 37720, 45028, 51088, 38304, 85342, 8626, 34330, 52715, 55241, 55553, 4789, 5458, 5478, 5572, 5573, 6013, 6040, 6057, 6186, 6374, 6615, 6862, 6951, 6959, 7150, 7257, 7258, 7261, 7262, 7376, 7440, 8369, 8530, 8799, 8830, 8835, 8836, 8864, 8912, 8916, 8918, 8939, 27434, 27790, 27816, 27837, 27839, 30883, 30894, 31114, 31223, 31427, 31431, 31445, 31867, 32009, 32011, 32019, 32589, 33148, 33158, 33164, 33639, 33815, 34129, 34271, 34532, 36509, 36533, 37477, 37853, 38798, 39231, 39435, 40851, 40946, 41769, 42728, 42732, 43556, 43871, 43919, 43932, 44397, 44731, 45208, 45442, 45662, 48161, 48596, 49220, 49276, 49284, 49793, 50005, 50158, 50445, 50798, 50923, 51082, 51412, 51698, 51933, 51937, 52283, 52712, 53127, 54256, 55995, 57326, 57526, 58105, 58627, 58876, 59985, 61705, 62081, 62511, 66509, 67186, 67197, 70301, 70334, 71252, 71254, 71823, 73515, 78893, 81512, 78103, 118198, 134214, 136912, 162600, 178061, 183011, 42, 577, 917, 1460, 1495, 1707, 1826, 2050, 2566, 3672, 1998, 4329, 4498, 4803, 4852, 4916, 4917, 4945, 4946, 4947, 4957, 81786, 118700, 547, 2919, 3566, 3106, 123, 757, 4956, 5279, 7486, 8327, 27320, 61026, 68486, 80615, 80969, 83613, 90888, 82169, 120799, 151763, 4470, 4531, 5784, 7016, 26686, 27478, 32213, 33085, 38294, 39400, 47254, 47810, 51037, 58315, 65810, 66171, 69606, 70361, 72605, 73431, 75813, 77667, 78039, 78088, 80862, 82053, 84637, 84942, 85056, 85131, 85510, 86295, 86835, 86960, 87298, 88699, 88954, 89047, 89840, 90057, 90430, 90439, 90531, 91622, 91978, 92008, 92507, 93363, 93512, 93563, 93766, 94266, 94780, 95207, 95309, 95583, 95873, 96411, 96417, 98239, 99750, 99910, 100163, 101025, 101076, 101362, 102033, 102684, 103539, 103624, 103655, 104243, 105351, 107953, 108928, 109042, 109673, 110297, 110350, 111364, 112070, 143365, 143367, 146210, 148888, 160954, 169984, 173941, 175569, 184253, 185435, 6983, 142115, 4217, 26366, 26524, 44633, 58309, 5319, 44929, 48883, 1739, 2907, 3929, 4480, 121171, 131656, 140725, 146024, 128, 2348, 2766, 2859, 4529, 4711, 5137, 5820, 6027, 6337, 6370, 6713, 7564, 7815, 8011, 8015, 294, 988, 1415, 7879, 8535, 7303, 388, 1807, 2240, 2377, 2445, 3733, 3807, 476, 2812, 1791, 1964, 2178, 2182, 2593, 2630, 2829, 619, 886, 1255, 1327, 1497, 1503, 1992, 1993, 2170, 2448, 2498, 2517, 2846, 2974, 3235, 3511, 3652, 3676, 3696, 3857, 3908, 3938, 4030, 4143, 4224, 4248, 4533, 4683, 4748, 4771, 5076, 5080, 5127, 5401, 5452, 5556, 5569, 5667, 5833, 5853, 6196, 6220, 6379, 6405, 6559, 6664, 6715, 6794, 6868, 6872, 7024, 7117, 7228, 7236, 7321, 7362, 7368, 7646, 7845, 7846, 7894, 8142, 8225, 8241, 8578, 8831, 8906, 8967, 26242, 26492, 26523, 26629, 26736, 26870, 27311, 27604, 27618, 27822, 30745, 31193, 31909, 33132, 33834, 34323, 37382, 37475, 38992, 40723, 42285, 43549, 44828, 45361, 50147, 50440, 50800, 51091, 51498, 53468, 54648, 54785, 56012, 57536, 57910, 58870, 59727, 60037, 60291, 60522, 60538, 60979, 65126, 66427, 66783, 69251, 69275, 70994, 71211, 71379, 71500, 74075, 74685, 74851, 77364, 78041, 79274, 80846, 298, 556, 1123, 1406, 1533, 1571, 1574, 1594, 1904, 2069, 2073, 2212, 2323, 2624, 2824, 2937, 2964, 3038, 3046, 3192, 3302, 3384, 3480, 3728, 3794, 3914, 4061, 4116, 4285, 4334, 4345, 4384, 4809, 5147, 5241, 5258, 5272, 5603, 5723, 5745, 5884, 5938, 6122, 6254, 1167, 107069, 60293, 70984, 71619, 73266, 86817, 91079, 4091, 113207, 6086, 5876, 963, 1008, 1128, 1389, 1660, 1983, 1984, 1995, 2043, 2055, 2057, 2095, 2098, 2120, 2163, 2241, 2259, 2286, 2347, 2365, 2400, 2460, 2462, 2852, 2866, 2902, 2903, 3015, 3161, 3313, 3331, 3345, 3368, 3525, 3689, 3767, 3771, 3806, 3833, 3846, 3926, 3928, 3930, 3957, 3971, 3974, 4000, 4009, 4010, 4043, 4110, 4412, 4443, 4459, 4473, 4492, 4506, 4522, 4709, 4953, 4966, 5428, 5462, 5543, 5544, 5638, 7619, 8959, 31923, 34528, 37736, 42418, 43460, 43869, 46967, 47261, 47950, 48416, 60760, 6125, 6453, 26704, 129, 341, 1699, 2066, 2439, 2494, 2549, 2660, 2932, 2988, 3007, 3559, 3634, 3713, 3738, 3849, 102007, 2828, 3086, 3871, 4830, 7720, 8383, 33677, 68597, 80839, 87522, 92192, 96121, 97470, 113345, 115231, 127323, 129937, 130576, 165549, 278, 470, 499, 998, 1440, 2149, 2736, 3043, 3412, 3544, 3667, 3710, 160848, 169034, 171765, 1439, 1526, 1746, 4733, 4757, 4845, 5128, 6554, 6811, 7460, 7926, 26887, 34523, 36537, 50610, 54745, 54934, 58655, 58806, 61729, 62113, 67799, 68600, 70663, 71248, 72405, 74452, 74916, 76060, 84615, 90376, 91128, 103048, 109895, 112370, 112911, 116138, 127108, 134528, 134783, 134808, 136449, 138798, 8261, 944, 6818, 26249, 49347, 60516, 64499, 64501, 72294, 74624, 74868, 79251, 80590, 85788, 89118, 91842, 94018, 105197, 105585, 106441, 106785, 109850, 112818, 112897, 114246, 118706, 131796, 132796, 140627, 145418, 148671, 158027, 160400, 163985, 177763, 185585, 92391, 104908, 105731, 115664, 122884, 140016, 149334, 156726, 158528, 159858, 175199, 183295, 409, 1323, 1325, 1328, 1490, 2154, 2190, 2332, 2506, 2516, 2559, 2639, 2787, 2962, 3051, 3145, 3280, 3423, 3478, 3830, 3943, 4127, 4181, 4371, 4403, 4520, 4584, 4602, 4619, 4662, 4673, 4697, 4750, 4835, 4862, 4885, 4893, 4915, 5099, 5170, 5255, 5361, 5443, 5454, 5538, 5539, 5590, 5664, 5696, 5735, 5736, 5883, 5927, 6153, 6265, 6316, 6558, 6705, 6827, 6850, 6999, 7026, 7030, 7282, 7636, 7708, 7781, 8169, 8402, 8506, 9005, 26133, 26792, 27555, 27838, 30848, 31422, 31424, 33171, 33681, 34143, 34326, 37857, 39234, 48142, 48518, 48678, 49314, 52375, 52867, 53956, 53974, 55272, 55729, 56003, 58287, 65601, 65738, 65740, 65882, 973, 1946, 3171, 3872, 4432, 5398, 6452, 6706, 7218, 7943, 25886, 3330, 4483, 6410, 7184, 7305, 40, 6561, 680, 3732, 4117, 4754, 5433, 5925, 2275, 3889, 4180, 4210, 618, 703, 2896, 74545, 81158, 82667, 104272, 110387, 121253, 133115, 773, 823, 1419, 3569, 3736, 3845, 4256, 4612, 4708, 4825, 5202, 5238, 5475, 5838, 6197, 6241, 6329, 7071, 7124, 7238, 7459, 7979, 8190, 8484, 8724, 8748, 26003, 26048, 26059, 26073, 26158, 26225, 26317, 26713, 26928, 27003, 27176, 27186, 27328, 31545, 31952, 32511, 32554, 32906, 32917, 40955, 42176, 44931, 47446, 48001, 48638, 49917, 51174, 53574, 53883, 54185, 54354, 57772, 58376, 60408, 60885, 61394, 62208, 64167, 65037, 65225, 65631, 67508, 68444, 69746, 69953, 71131, 71147, 71453, 71468, 71494, 71867, 72171, 72714, 72921, 74089, 74226, 74791, 76054, 76173, 76738, 77191, 77233, 78836, 79073, 80478, 80553, 81191, 83827, 83976, 84273, 84716, 85213, 86237, 86279, 86922, 87304, 87444, 87660, 89030, 89945, 90245, 90357, 90528, 90630, 90769, 91784, 91860, 92422, 92637, 94735, 96084, 97904, 100044, 100106, 100277, 101741, 102742, 102823, 105254, 106648, 109187, 109383, 109968, 111817, 113348, 114847, 116505, 117364, 117531, 117545, 117849, 118784, 118880, 120761, 121169, 124853, 127114, 127172, 127180, 127204, 127298, 128900, 128902, 128991, 133802, 134019, 134796, 136024, 138966, 140162, 140737, 140816, 143525, 143896, 144478, 145080, 148424, 150696, 152065, 155774, 158842, 159976, 160684, 168612, 170355, 171495, 173197, 173291, 173317, 179135, 184245, 188675, 188833, 189381, 26555, 2882, 110127, 111443, 3884, 3899, 3912, 30, 80, 183, 2425, 2848, 2894, 4086, 4263, 4294, 4471, 4500, 4523, 4714, 4717, 4927, 5033, 5075, 5980, 27866, 70451, 73344, 81257, 84240, 102194, 165101, 130482, 136850, 26528, 193609, 3420, 5226, 7925, 26564, 80917, 92938, 93610, 97757, 3567, 3580, 30850, 47404, 59118, 189043, 189111, 190207, 190209, 190213, 190215, 190219, 190221, 6869, 56869, 58842, 77177, 82378, 90345, 92243, 109687, 115969, 141749, 141890, 156783, 166946, 176751, 94405, 2188, 2370, 2676, 2975, 4195, 4419, 5404, 5707, 27751, 38164, 521, 1572, 2442, 4297, 4404, 4422, 5951, 6023, 6286, 6530, 7084, 7115, 7178, 7179, 7820, 7937, 7940, 8405, 32179, 6223, 6263, 40412, 52579, 54787, 55555, 57843, 60857, 60894, 88179, 88272, 88932, 89028, 89761, 90353, 90471, 92048, 5074, 7122, 34164, 44889, 48744, 58492, 59141, 1996, 4354, 4622, 6612, 8580, 8998, 27329, 53024, 59810, 73854, 74282, 93040, 96563, 2226, 26095, 65350, 70687, 85334, 87028, 89386, 26472, 1647, 161127, 176389, 176579, 96964, 101415, 106062, 107997, 109569, 113604, 114494, 132888, 145935, 148172, 155288, 155820, 1565, 2695, 3299, 3453, 4053, 4078, 4505, 4517, 2307, 2399, 3127, 3162, 3545, 3716, 3731, 3758, 3922, 33312, 55167, 112512, 335, 882, 1351, 1352, 1601, 3648, 4434, 4942, 5113, 5288, 5468, 5706, 5979, 6021, 6654, 6656, 6836, 6899, 7104, 7304, 7756, 7834, 8138, 8610, 25959, 27692, 32139, 42556, 56837, 71302, 71999, 80748, 84799, 87287, 92760, 94262, 152, 2656, 4444, 4814, 5134, 5476, 6889, 7310, 8526, 26585, 26999, 27584, 27683, 27802, 31698, 31804, 32456, 32743, 33644, 40614, 40617, 44020, 47124, 51927, 52950, 58404, 60818, 63222, 64249, 65133, 68194, 71129, 72601, 74750, 77798, 82744, 84414, 88515, 90603, 94160, 94985, 95004, 95147, 95149, 95182, 95473, 95475, 95497, 96007, 96815, 97643, 97785, 101739, 102058, 102084, 103233, 103449, 104141, 104419, 104457, 107723, 108795, 113278, 134524, 137863, 152173, 161354, 162598, 163056, 166558, 169982, 172497, 172875, 172881, 172887, 176935, 179119, 182639, 31435, 43376, 45074, 53326, 55259, 63808, 1003, 4580, 4632, 8387, 26764, 26765, 46865, 47952, 48598, 49647, 50003, 52279, 65685, 72696, 88356, 91660, 93139, 95796, 100737, 104074, 104076, 112460, 114713, 116887, 122902, 126482, 130686, 131934, 142372, 152079, 158254, 170289, 2546, 2669, 2856, 4276, 4323, 4355, 206, 363, 841, 1161, 1329, 1662, 1770, 1977, 2071, 2074, 2303, 2488, 2632, 3455, 3587, 3680, 3765, 3813, 3838, 3865, 3919, 4064, 4065, 4191, 4278, 4289, 4298, 4390, 4392, 4393, 4408, 4409, 4426, 4429, 4441, 4527, 4552, 4563, 4614, 4687, 4833, 4985, 4988, 5121, 5156, 5397, 5465, 5489, 5515, 5531, 5780, 5974, 5984, 6035, 6063, 6100, 6123, 6184, 6465, 6533, 6577, 6710, 6748, 6885, 6918, 6981, 7088, 7091, 7102, 7116, 7205, 7301, 7328, 7336, 7386, 7394, 7450, 7581, 7616, 7745, 7749, 7895, 7936, 7938, 7939, 7951, 7987, 7993, 8188, 8195, 8196, 8239, 8270, 8290, 8512, 8542, 8596, 8670, 25898, 25963, 26002, 26052, 26124, 26151, 26231, 26303, 26694, 31590, 31737, 32314, 32392, 33188, 40966, 41617, 44657, 44759, 44864, 46772, 47465, 52462, 52644, 6158, 63239, 104245, 6344, 7208, 27695, 44943, 59995, 695, 1150, 1900, 2708, 4237, 4562, 4965, 5470, 5477, 5537, 5575, 130842, 1701, 6408, 8738, 26147, 26631, 60333, 42734, 170939, 61465, 61697, 7134, 26810, 27664, 59814, 70708, 77266, 6776, 70305, 85412, 87785, 103596, 136540, 3590, 3760, 389, 549, 670, 824, 3823, 3855, 4077, 4175, 4268, 119, 386, 650, 1040, 1121, 1332, 1484, 1605, 1609, 1656, 1870, 1922, 2007, 2119, 2172, 2260, 2264, 2271, 2472, 2482, 2552, 2570, 2751, 2835, 2884, 2891, 2893, 2928, 2979, 3008, 3111, 3206, 3378, 3391, 3539, 3581, 3625, 3790, 3847, 3898, 3900, 3951, 3953, 4012, 4081, 4089, 4115, 4123, 4125, 4138, 4139, 4147, 4221, 4242, 4290, 4312, 4353, 4451, 4458, 4462, 4463, 4475, 4478, 4488, 4524, 4573, 4583, 4595, 4600, 4610, 4617, 4636, 4666, 4672, 4675, 4721, 4745, 4777, 4780, 4818, 4847, 4926, 4961, 4962, 5068, 5071, 5073, 5081, 5112, 5178, 5209, 5237, 5240, 5278, 5285, 5297, 5321, 5322, 5324, 5328, 5337, 5345, 5390, 5416, 5422, 5424, 5437, 5461, 5471, 5483, 5521, 5562, 5625, 5633, 5635, 5636, 5663, 5678, 5685, 5688, 5817, 5829, 5880, 5896, 5968, 5994, 6033, 6036, 6039, 6078, 6116, 6141, 6159, 6162, 6195, 6216, 6222, 6268, 6269, 6280, 6295, 6308, 6314, 6315, 6349, 6442, 6493, 6510, 6517, 6542, 6547, 6549, 6560, 6563, 6574, 6582, 6598, 6616, 6628, 6631, 6670, 6689, 6696, 6699, 6718, 6720, 6780, 6797, 6809, 6810, 6812, 6816, 6851, 6883, 6898, 6954, 7033, 7165, 7175, 7176, 7193, 7248, 7251, 7315, 7340, 7348, 7364, 7390, 8119, 8587, 8915, 8919, 8952, 8954, 25834, 30820, 31162, 32116, 33725, 33826, 33838, 34540, 41527, 42602, 43912, 45062, 45635, 46347, 46559, 48319, 48560, 49132, 49280, 49957, 50792, 51694, 52299, 52668, 52724, 52784, 53447, 54771, 55110, 55250, 56908, 58879, 59037, 60128, 60141, 61401, 70862, 76763, 95135, 112940, 115828, 127130, 154358, 166024, 166568, 167570, 169992, 173205, 173209, 176423, 180045, 90374, 1412, 2807, 4093, 27704, 50851, 69860, 79677, 85394, 86668, 89580, 90943, 97866, 6210, 8337, 8577, 26693, 59295, 2665, 3447, 3973, 4190, 4802, 4925, 4939, 5063, 136469, 91325, 6055, 6347, 6348, 6597, 5532, 7306, 8588, 27708, 33893, 45503, 66090, 68347, 71902, 80880, 89208, 92348, 568, 1675, 2540, 4453, 4743, 5409, 5580, 5675, 5787, 6992, 7017, 7192, 8782, 30898, 36276, 43708, 8690, 4402, 96430, 941, 1839, 2368, 2520, 2521, 2523, 2693, 2887, 3057, 3276, 3284, 3390, 3596, 3933, 4051, 4156, 4198, 4212, 4397, 4526, 4630, 4660, 4756, 4775, 4952, 4981, 5250, 5334, 5356, 5490, 5700, 5752, 5779, 5915, 6302, 6424, 6427, 6476, 6514, 6760, 6798, 6814, 7101, 7245, 7372, 8136, 8137, 8447, 8743, 26152, 26386, 26464, 26700, 31000, 32291, 34018, 37211, 43558, 48262, 49688, 50064, 53453, 53808, 55294, 58351, 61123, 61289, 63393, 65135, 66785, 67361, 69118, 69453, 69604, 70545, 71466, 71732, 72224, 72694, 73386, 75803, 75816, 77421, 78034, 78116, 79259, 79590, 79879, 79946, 80241, 80864, 81949, 82093, 82095, 82527, 83374, 84696, 84950, 85025, 85399, 86028, 86593, 87876, 88672, 89305, 89343, 89388, 89427, 90343, 90719, 90738, 91273, 91688, 91873, 91935, 92198, 92665, 93242, 93980, 93982, 94011, 94323, 94494, 94896, 94919, 95201, 95508, 95744, 96114, 96281, 96530, 96726, 97328, 97742, 97858, 97870, 97936, 98160, 98175, 98230, 98296, 98836, 98908, 99005, 99415, 99574, 99846, 99992, 100226, 100304, 100326, 100487, 101360, 101529, 101577, 101884, 101895, 102025, 102165, 102278, 102819, 102880, 103221, 103502, 103543, 103755, 103865, 104078, 104129, 104760, 104906, 105121, 105755, 106330, 106438, 106542, 106883, 107702, 107945, 107962, 108188, 108601, 108715, 109183, 109191, 109295, 109317, 109372, 109416, 110611, 110655, 110826, 111663, 111680, 111795, 112303, 112749, 113186, 113225, 113350, 113416, 113532, 114028, 114601, 114925, 115151, 115170, 115216, 116207, 116413, 116419, 116849, 116985, 117107, 117511, 118248, 118326, 118354, 118512, 118702, 118814, 118924, 118997, 119068, 119655, 120637, 120783, 122490, 122932, 124859, 125221, 126420, 127132, 127136, 127194, 127319, 128592, 129250, 129333, 129657, 129659, 130083, 131480, 132333, 132462, 132488, 132618, 133195, 133281, 133365, 133377, 133545, 133782, 133798, 134021, 134158, 134859, 136654, 136664, 136778, 136786, 136800, 136816, 136859, 137517, 138546, 139052, 139415, 139857, 140237, 140525, 140850, 141422, 142424, 143001, 143255, 143257, 143410, 143472, 144262, 144620, 144714, 144716, 145150, 146688, 146730, 148482, 148592, 148709, 149590, 149612, 150401, 150604, 151315, 151317, 151501, 151559, 151653, 151745, 151777, 152085, 152105, 152658, 154065, 155358, 155659, 155743, 155892, 156553, 156706, 157122, 157130, 157172, 157200, 157270, 157340, 157407, 157432, 158022, 158956, 159077, 159193, 159690, 160440, 160573, 160646, 160730, 161290, 161830, 161918, 162828, 164375, 164647, 164753, 165075, 165139, 165343, 165347, 168350, 168456, 169180, 173751, 3568, 2839, 3240, 3241, 3756, 3787, 1341, 706, 89039, 1757, 2677, 3859, 3989, 4236, 4863, 4977, 5205, 5212, 5224, 5239, 5986, 6064, 6466, 6528, 6611, 6775, 6935, 6945, 6966, 7181, 7620, 7767, 7786, 7920, 8620, 8848, 26359, 26838, 27563, 32582, 38198, 45382, 46855, 55156, 58191, 67665, 71640, 82857, 89090, 100556, 103107, 105835, 109161, 148982, 151311, 152711, 160644, 162414, 164655, 167064, 179813, 183199, 183317, 184721, 187717, 188189, 189713, 56169, 59738, 60832, 74530, 74580, 90384, 3723, 2493, 451, 1180, 3405, 3619, 3658, 3832, 96, 488, 638, 907, 929, 956, 959, 970, 976, 982, 993, 1068, 1398, 1413, 1423, 1496, 1507, 1629, 1650, 1893, 1902, 1913, 1926, 1928, 1932, 1933, 1940, 2177, 2179, 2180, 2185, 2187, 2201, 2211, 2611, 2612, 2652, 2697, 2743, 2757, 2801, 2927, 2929, 2930, 3109, 3112, 3125, 3135, 3211, 3281, 3475, 3609, 3641, 3714, 3715, 3739, 3789, 3816, 3870, 3965, 3966, 4046, 4080, 4113, 4129, 4164, 4171, 4184, 4189, 4204, 4218, 4292, 4296, 4433, 4484, 4495, 4521, 4578, 4589, 4635, 4704, 4769, 4796, 4798, 4801, 4804, 4860, 4871, 4970, 4998, 5007, 5012, 5077, 5114, 5116, 5168, 5213, 5231, 5311, 5353, 5375, 5384, 5440, 5455, 5512, 5525, 5581, 5601, 5602, 5604, 5629, 5649, 5694, 5755, 5771, 5799, 5801, 5802, 5826, 5836, 5863, 5875, 5963, 6020, 6031, 6042, 6090, 6101, 6163, 6178, 6181, 6201, 6225, 6228, 6232, 6245, 6273, 6289, 6336, 6357, 6376, 6382, 6390, 6400, 6407, 6422, 6434, 6454, 6477, 6515, 6527, 6545, 6581, 6584, 6592, 6603, 6609, 6614, 6660, 6667, 6732, 6768, 6770, 6772, 6788, 6837, 6909, 6911, 6912, 6948, 6962, 6965, 6970, 6982, 6984, 6990, 7012, 7019, 7049, 7051, 7052, 7053, 7055, 7057, 7058, 7059, 7061, 7062, 7070, 7073, 7074, 7075, 7079, 7082, 7083, 7085, 7086, 7092, 7093, 7141, 7167, 7177, 7190, 7211, 7212, 7217, 7219, 7223, 7326, 7357, 7382, 7414, 7479, 7560, 7572, 7579, 7584, 7618, 7702, 7705, 7713, 7714, 7716, 7727, 7772, 7789, 7822, 7826, 7831, 7832, 7833, 7835, 7839, 7840, 7882, 7883, 7888, 7896, 7900, 7944, 8019, 8057, 8094, 8125, 8153, 8167, 8191, 8232, 8275, 8293, 8302, 8331, 8336, 8338, 8375, 8382, 8385, 8410, 8424, 8446, 8450, 8451, 8458, 8459, 8461, 8462, 8463, 8465, 8481, 8482, 8487, 8492, 8502, 8518, 8521, 8534, 8575, 8591, 8611, 8617, 8650, 8684, 8711, 8712, 8714, 8730, 8753, 8754, 8771, 8773, 8774, 8778, 8809, 8813, 8875, 8920, 8921, 8938, 8943, 8955, 8979, 8987, 8989, 25752, 25753, 25757, 25769, 25795, 25826, 25850, 25865, 25870, 25927, 25940, 25952, 25962, 25996, 25999, 26791, 26965, 31030, 31083, 31260, 31694, 31903, 34359, 35015, 42740, 43333, 44511, 48741, 49666, 50160, 50514, 53921, 55071, 55687, 56563, 3720, 4454, 4557, 4725, 5069, 5348, 6148, 7335, 8126, 27537, 31660, 42422, 68945, 72308, 78746, 82242, 2362, 3428, 4111, 4410, 4831, 5197, 5365, 5389, 5448, 5651, 5773, 6436, 6853, 8131, 27830, 32294, 36477, 37844, 43914, 44197, 47646, 2068, 6320, 8268, 2483, 8632, 27370, 31617, 36397, 68522, 72554, 88448, 89586, 90863, 91890, 93723, 94810, 95939, 96283, 97665, 99087, 100068, 101765, 105325, 109941, 109971, 112316, 115065, 4759, 5786, 8593, 71268, 93320, 26900, 40597, 54796, 72874, 73501, 77881, 79299, 79536, 80454, 80551, 84553, 86000, 87413, 91488, 92730, 94130, 50954, 78160, 78544, 180231, 103, 467, 876, 1170, 73290, 140523, 131739, 56286, 449, 1824, 1910, 7455, 32914, 46231, 79798, 6596, 6927, 68269, 5613, 50796, 65193, 74677, 80834, 82088, 84847, 89678, 90809, 91266, 91337, 93134, 93988, 94799, 95193, 110781, 117133, 126142, 129229, 130073, 136838, 136840, 34148, 6145, 1335, 1978, 2878, 3294, 4202, 5041, 5189, 5704, 5797, 6746, 6821, 7477, 7730, 7891, 8894, 26198, 31150, 38583, 40478, 62586, 124484, 135216, 136958, 141994, 149330, 158830, 159510, 160571, 167538, 180263, 182727, 184931, 184987, 185033, 185473, 186587, 187031, 188797, 4646, 8772, 26761, 83270, 88267, 91414, 93740, 96471, 96518, 96520, 97194, 107780, 121099, 144352, 152037, 160422, 162590, 165489, 7266, 32469, 27006, 27369, 66544, 79006, 120130, 8264, 91869, 96150, 98122, 106889, 120807, 127164, 134248, 146682, 148667, 159849, 163653, 164540, 39516, 135198, 176413, 176415, 2742, 3673, 3674, 4445, 5560, 4284, 125914, 27251, 36289, 51024, 53138, 53140, 58297, 64695, 69805, 73804, 76743, 83480, 85179, 85261, 91353, 112580, 116529, 116668, 116724, 128542, 134775, 135885, 144734, 150993, 164367, 2573, 55946, 121129, 2107, 626, 1986, 1990, 3626, 3939, 3940, 3941, 3942, 3958, 1477, 168712, 142056, 167296, 1825, 5059, 5513, 7457, 43684, 61257, 2820, 633, 790, 1336, 1397, 1985, 2256, 2451, 2597, 2862, 3442, 3574, 3577, 3660, 3661, 3663, 3664, 3678, 3691, 5839, 5840, 6119, 26308, 31123, 37495, 38095, 48045, 54617, 59026, 68886, 73681, 81383, 96945, 105246, 109313, 111384, 130498, 141866, 142558, 148238, 148881, 154975, 6800, 105468, 168174, 4135, 26357, 27140, 27667, 73211, 99191, 100306, 43930, 44225, 47516, 61071, 62718, 70932, 72919, 74688, 77414, 78264, 80858, 82152, 90524, 94325, 95199, 96975, 100527, 115667, 128832, 139747, 50942, 5028, 8189, 8335, 8477, 25782, 26717, 26743, 40491, 51573, 57502, 70015, 71438, 81681, 82684, 92234, 92681, 99917, 101070, 102088, 102800, 104337, 104944, 109897, 110603, 113705, 114396, 114554, 114627, 117877, 122246, 122888, 132335, 134246, 135288, 136602, 141668, 142507, 150254, 151687, 152063, 152071, 153070, 156605, 166526, 166705, 170945, 176419, 179491, 179749, 179815, 1331, 1623, 1980, 2655, 2740, 2982, 3021, 3073, 430, 2538, 2623, 2629, 2415, 3143, 6751, 7395, 56389, 75446, 2965, 5767, 5828, 6342, 6583, 6692, 7349, 8092, 8236, 8427, 8494, 8800, 8844, 26819, 27373, 136556, 2738, 3403, 3414, 3449, 4710, 284, 1652, 2175, 2196, 2589, 3353, 4200, 4374, 4715, 4794, 4827, 5105, 5657, 6140, 6417, 6665, 6723, 6967, 6994, 7023, 7031, 7032, 7114, 7345, 7742, 7782, 8035, 8118, 8727, 2774, 3094, 4342, 6769, 7260, 7615, 27246, 32799, 33649, 43744, 55844, 59549, 59667, 68835, 69495, 70637, 92954, 111800, 111913, 113280, 120919, 128908, 129397, 132454, 133645, 141131, 151557, 163639, 168026, 171917, 176051, 178615, 181719, 182793, 183635, 184997, 615, 1112, 4424, 113829, 114265, 124851, 478, 806, 1114, 1426, 1794, 2281, 2292, 2339, 2586, 2698, 3379, 3571, 3669, 3700, 3709, 3962, 4197, 4240, 4394, 4490, 4504, 4511, 4568, 4574, 4593, 4594, 4597, 4603, 4670, 5053, 5054, 5096, 5111, 5136, 5198, 5221, 5268, 5442, 5591, 5596, 5597, 5689, 5768, 5961, 6204, 6267, 6310, 6506, 6557, 6587, 6691, 6722, 6734, 6804, 6860, 6882, 6998, 7005, 7041, 7047, 7108, 7125, 7191, 7307, 7443, 7657, 7704, 7707, 7986, 7988, 8043, 8045, 8380, 8425, 8500, 8720, 8755, 8905, 8934, 9004, 26142, 26159, 26176, 26195, 26283, 26285, 26344, 26365, 26413, 26453, 26467, 26510, 26539, 26542, 26547, 26562, 26567, 26590, 26593, 26612, 26622, 26630, 26676, 26696, 26701, 26726, 26741, 26745, 26782, 26797, 26828, 26854, 26861, 26913, 26940, 26947, 27002, 27008, 27032, 27074, 27105, 27124, 27155, 27306, 27420, 27441, 27549, 27595, 27722, 27762, 27769, 27784, 27829, 31367, 31553, 31664, 31921, 32058, 32440, 32442, 32515, 33126, 33294, 33435, 33629, 33801, 33966, 34292, 34800, 34811, 36850, 39801, 40578, 41627, 42559, 42638, 42943, 42946, 43419, 43677, 43908, 44238, 44241, 44243, 44849, 45183, 45648, 45969, 46367, 46574, 47721, 47793, 49110, 51545, 53022, 53143, 53161, 53450, 54274, 54908, 55036, 55061, 55205, 55207, 56022, 57499, 58306, 59016, 59336, 59947, 60365, 60803, 61073, 62662, 62970, 66915, 67193, 68552, 68650, 69131, 69227, 70703, 71327, 71484, 71550, 71810, 72479, 73569, 73808, 74095, 74696, 75416, 75947, 76030, 77201, 77709, 78959, 79895, 80083, 81791, 82534, 83086, 83796, 84523, 85438, 86286, 86355, 86864, 86898, 87197, 87960, 88593, 88697, 89085, 89862, 90243, 90428, 90945, 91571, 91981, 92309, 92674, 93208, 93502, 94122, 95145, 95163, 95165, 95499, 95519, 95717, 95771, 95780, 95839, 95965, 97230, 97950, 98499, 98503, 98623, 98697, 98799, 99638, 101074, 101423, 102590, 102735, 102749, 102852, 103027, 103245, 103366, 103609, 104017, 104837, 105020, 105720, 107999, 108090, 108192, 110541, 111785, 112326, 113849, 114126, 115819, 116044, 116169, 116941, 116963, 117630, 118290, 119218, 119828, 120827, 121035, 122260, 122433, 122627, 123310, 128197, 128736, 129779, 131578, 132084, 132362, 135787, 136012, 136297, 137218, 137345, 137859, 138702, 139130, 139859, 140852, 144522, 145724, 145745, 151479, 151781, 153236, 156675, 157865, 158388, 158874, 159061, 159403, 160978, 161008, 161032, 161044, 163809, 165529, 167706, 168608, 169670, 169904, 169958, 170297, 170551, 171695, 172229, 172233, 172253, 173873, 174727, 178129, 179053, 181315, 183301, 2800, 25905, 25923, 25947, 46664, 59131, 141846, 77, 108, 149, 184, 301, 320, 495, 506, 526, 602, 645, 649, 803, 1053, 1119, 1310, 1349, 1475, 1514, 1549, 1585, 1612, 1613, 1759, 2008, 2104, 2283, 2304, 2417, 2435, 2512, 2544, 2577, 2609, 2620, 2725, 2727, 2813, 2865, 2885, 2892, 2972, 3002, 3183, 3303, 3344, 3374, 3459, 3514, 3531, 3586, 3637, 3655, 3792, 4420, 4428, 4436, 4690, 4695, 4705, 4766, 4786, 4810, 117, 220, 285, 311, 636, 1654, 27036, 35347, 47384, 54686, 65359, 66240, 71160, 72165, 72982, 202, 263, 563, 573, 579, 583, 632, 961, 1117, 1156, 1493, 1857, 2156, 2207, 2388, 2481, 2503, 2897, 3010, 3289, 3295, 3640, 3808, 3920, 4357, 4395, 4615, 4653, 4671, 4689, 4828, 4840, 4883, 5269, 5372, 5503, 5550, 5614, 5720, 5733, 5741, 5742, 5849, 5856, 5922, 5929, 5975, 5990, 6070, 6107, 6111, 6182, 6202, 6237, 6415, 6449, 6516, 6553, 6573, 6578, 6644, 6671, 6782, 6789, 6803, 6961, 6973, 7037, 7109, 7131, 7292, 7344, 7487, 7916, 8391, 8454, 8456, 8601, 8685, 8713, 8933, 8964, 25805, 25833, 25946, 26038, 26394, 26527, 26599, 26777, 26796, 26875, 26985, 27178, 27255, 27627, 27644, 27744, 30890, 30994, 31309, 31973, 32234, 32600, 32620, 32649, 32728, 32862, 33237, 33310, 41014, 44189, 44301, 47202, 47538, 47774, 48032, 48214, 50354, 50356, 51314, 55805, 56333, 58783, 68480, 68872, 69224, 72603, 241, 2737, 5901, 7377, 8667, 32302, 51903, 137, 1054, 3945, 4497, 5275, 5953, 6009, 6095, 7202, 7562, 7984, 8840, 26169, 26391, 26399, 26401, 26498, 26603, 27426, 27480, 27491, 27746, 27778, 27905, 31086, 34450, 36931, 41712, 43289, 44597, 47937, 48150, 51666, 52831, 54910, 55067, 55492, 56620, 57421, 57637, 58826, 58964, 58975, 59915, 60303, 60471, 61262, 61319, 61692, 61818, 63179, 63768, 63826, 64010, 66310, 67168, 70206, 70208, 71341, 71910, 72142, 72424, 73676, 73741, 73876, 74370, 75389, 76091, 77893, 77931, 78626, 79501, 79868, 80094, 80162, 81520, 82366, 82641, 82765, 88327, 89072, 89281, 89837, 91233, 93193, 93598, 93819, 94867, 96832, 97188, 97285, 97701, 97988, 98061, 98633, 99030, 99721, 100159, 100397, 100579, 100906, 102066, 102070, 102338, 102760, 102802, 103085, 103219, 103483, 103685, 105801, 107436, 107447, 107462, 107771, 110281, 110286, 110591, 110746, 111551, 112727, 113159, 113313, 113565, 113780, 113862, 114044, 114670, 114707, 115727, 117867, 118082, 128838, 129313, 130050, 130052, 130840, 133832, 135534, 135803, 135815, 138610, 138632, 139511, 139655, 140267, 141400, 141799, 142366, 142598, 145951, 146309, 147657, 147662, 148166, 149011, 152372, 158721, 160341, 160527, 160836, 163937, 163981]\n",
      "encoded movieId :  {1: 0, 3: 1, 6: 2, 47: 3, 50: 4, 70: 5, 101: 6, 110: 7, 151: 8, 157: 9, 163: 10, 216: 11, 223: 12, 231: 13, 235: 14, 260: 15, 296: 16, 316: 17, 333: 18, 349: 19, 356: 20, 362: 21, 367: 22, 423: 23, 441: 24, 457: 25, 480: 26, 500: 27, 527: 28, 543: 29, 552: 30, 553: 31, 590: 32, 592: 33, 593: 34, 596: 35, 608: 36, 648: 37, 661: 38, 673: 39, 733: 40, 736: 41, 780: 42, 804: 43, 919: 44, 923: 45, 940: 46, 943: 47, 954: 48, 1009: 49, 1023: 50, 1024: 51, 1025: 52, 1029: 53, 1030: 54, 1031: 55, 1032: 56, 1042: 57, 1049: 58, 1060: 59, 1073: 60, 1080: 61, 1089: 62, 1090: 63, 1092: 64, 1097: 65, 1127: 66, 1136: 67, 1196: 68, 1197: 69, 1198: 70, 1206: 71, 1208: 72, 1210: 73, 1213: 74, 1214: 75, 1219: 76, 1220: 77, 1222: 78, 1224: 79, 1226: 80, 1240: 81, 1256: 82, 1258: 83, 1265: 84, 1270: 85, 1275: 86, 1278: 87, 1282: 88, 1291: 89, 1298: 90, 1348: 91, 1377: 92, 1396: 93, 1408: 94, 1445: 95, 1473: 96, 1500: 97, 1517: 98, 1552: 99, 1573: 100, 1580: 101, 1587: 102, 1617: 103, 1620: 104, 1625: 105, 1644: 106, 1676: 107, 1732: 108, 1777: 109, 1793: 110, 1804: 111, 1805: 112, 1920: 113, 1927: 114, 1954: 115, 1967: 116, 2000: 117, 2005: 118, 2012: 119, 2018: 120, 2028: 121, 2033: 122, 2046: 123, 2048: 124, 2054: 125, 2058: 126, 2078: 127, 2090: 128, 2093: 129, 2094: 130, 2096: 131, 2099: 132, 2105: 133, 2115: 134, 2116: 135, 2137: 136, 2139: 137, 2141: 138, 2143: 139, 2161: 140, 2174: 141, 2193: 142, 2253: 143, 2268: 144, 2273: 145, 2291: 146, 2329: 147, 2338: 148, 2353: 149, 2366: 150, 2387: 151, 2389: 152, 2395: 153, 2406: 154, 2414: 155, 2427: 156, 2450: 157, 2459: 158, 2470: 159, 2478: 160, 2492: 161, 2502: 162, 2528: 163, 2529: 164, 2542: 165, 2571: 166, 2580: 167, 2596: 168, 2616: 169, 2617: 170, 2628: 171, 2640: 172, 2641: 173, 2644: 174, 2648: 175, 2654: 176, 2657: 177, 2692: 178, 2700: 179, 2716: 180, 2761: 181, 2797: 182, 2826: 183, 2858: 184, 2872: 185, 2899: 186, 2916: 187, 2944: 188, 2947: 189, 2948: 190, 2949: 191, 2959: 192, 2985: 193, 2987: 194, 2991: 195, 2993: 196, 2997: 197, 3033: 198, 3034: 199, 3052: 200, 3053: 201, 3062: 202, 3147: 203, 3168: 204, 3176: 205, 3243: 206, 3247: 207, 3253: 208, 3273: 209, 3386: 210, 3439: 211, 3440: 212, 3441: 213, 3448: 214, 3450: 215, 3479: 216, 3489: 217, 3527: 218, 3578: 219, 3617: 220, 3639: 221, 3671: 222, 3702: 223, 3703: 224, 3729: 225, 3740: 226, 3744: 227, 3793: 228, 3809: 229, 4006: 230, 5060: 231, 318: 232, 1704: 233, 6874: 234, 8798: 235, 46970: 236, 48516: 237, 58559: 238, 60756: 239, 68157: 240, 71535: 241, 74458: 242, 77455: 243, 79132: 244, 80489: 245, 80906: 246, 86345: 247, 89774: 248, 91529: 249, 91658: 250, 99114: 251, 106782: 252, 109487: 253, 112552: 254, 114060: 255, 115713: 256, 122882: 257, 131724: 258, 31: 259, 647: 260, 688: 261, 720: 262, 849: 263, 914: 264, 1093: 265, 1124: 266, 1263: 267, 1272: 268, 1302: 269, 1371: 270, 2080: 271, 2288: 272, 2424: 273, 2851: 274, 3024: 275, 3210: 276, 3949: 277, 4518: 278, 5048: 279, 5181: 280, 5746: 281, 5764: 282, 5919: 283, 6238: 284, 6835: 285, 7899: 286, 7991: 287, 26409: 288, 70946: 289, 72378: 290, 21: 291, 32: 292, 45: 293, 52: 294, 58: 295, 106: 296, 125: 297, 126: 298, 162: 299, 171: 300, 176: 301, 190: 302, 215: 303, 222: 304, 232: 305, 247: 306, 265: 307, 319: 308, 342: 309, 345: 310, 348: 311, 351: 312, 357: 313, 368: 314, 417: 315, 450: 316, 475: 317, 492: 318, 509: 319, 538: 320, 539: 321, 588: 322, 595: 323, 599: 324, 708: 325, 759: 326, 800: 327, 892: 328, 898: 329, 899: 330, 902: 331, 904: 332, 908: 333, 910: 334, 912: 335, 920: 336, 930: 337, 937: 338, 1046: 339, 1057: 340, 1077: 341, 1079: 342, 1084: 343, 1086: 344, 1094: 345, 1103: 346, 1179: 347, 1183: 348, 1188: 349, 1199: 350, 1203: 351, 1211: 352, 1225: 353, 1250: 354, 1259: 355, 1266: 356, 1279: 357, 1283: 358, 1288: 359, 1304: 360, 1391: 361, 1449: 362, 1466: 363, 1597: 364, 1641: 365, 1719: 366, 1733: 367, 1734: 368, 1834: 369, 1860: 370, 1883: 371, 1885: 372, 1892: 373, 1895: 374, 1907: 375, 1914: 376, 1916: 377, 1923: 378, 1947: 379, 1966: 380, 1968: 381, 2019: 382, 2076: 383, 2109: 384, 2145: 385, 2150: 386, 2186: 387, 2203: 388, 2204: 389, 2282: 390, 2324: 391, 2336: 392, 2351: 393, 2359: 394, 2390: 395, 2467: 396, 2583: 397, 2599: 398, 2683: 399, 2712: 400, 2762: 401, 2763: 402, 2770: 403, 2791: 404, 2843: 405, 2874: 406, 2921: 407, 2926: 408, 2973: 409, 3044: 410, 3060: 411, 3079: 412, 3083: 413, 3160: 414, 3175: 415, 3204: 416, 3255: 417, 3317: 418, 3358: 419, 3365: 420, 3408: 421, 3481: 422, 3508: 423, 3538: 424, 3591: 425, 3788: 426, 3851: 427, 3897: 428, 3911: 429, 3967: 430, 3996: 431, 4002: 432, 4014: 433, 4020: 434, 4021: 435, 4027: 436, 4029: 437, 4033: 438, 4034: 439, 4074: 440, 4121: 441, 4144: 442, 4166: 443, 4226: 444, 4239: 445, 4246: 446, 4252: 447, 4260: 448, 4273: 449, 4308: 450, 4347: 451, 4381: 452, 4641: 453, 4741: 454, 4765: 455, 4881: 456, 4896: 457, 4902: 458, 4967: 459, 34: 460, 36: 461, 39: 462, 150: 463, 153: 464, 253: 465, 261: 466, 266: 467, 290: 468, 300: 469, 344: 470, 364: 471, 380: 472, 410: 473, 474: 474, 515: 475, 531: 476, 534: 477, 589: 478, 594: 479, 597: 480, 2: 481, 4: 482, 5: 483, 7: 484, 8: 485, 10: 486, 11: 487, 13: 488, 15: 489, 16: 490, 17: 491, 19: 492, 22: 493, 24: 494, 25: 495, 26: 496, 27: 497, 41: 498, 43: 499, 46: 500, 54: 501, 60: 502, 61: 503, 62: 504, 65: 505, 66: 506, 76: 507, 79: 508, 86: 509, 87: 510, 88: 511, 89: 512, 92: 513, 93: 514, 95: 515, 100: 516, 102: 517, 104: 518, 105: 519, 112: 520, 113: 521, 135: 522, 140: 523, 141: 524, 145: 525, 146: 526, 158: 527, 159: 528, 160: 529, 161: 530, 165: 531, 168: 532, 170: 533, 174: 534, 177: 535, 179: 536, 180: 537, 181: 538, 185: 539, 186: 540, 189: 541, 191: 542, 195: 543, 196: 544, 201: 545, 204: 546, 205: 547, 207: 548, 208: 549, 209: 550, 210: 551, 212: 552, 217: 553, 218: 554, 219: 555, 224: 556, 225: 557, 230: 558, 234: 559, 236: 560, 237: 561, 239: 562, 240: 563, 243: 564, 248: 565, 250: 566, 251: 567, 252: 568, 254: 569, 256: 570, 257: 571, 258: 572, 262: 573, 267: 574, 270: 575, 271: 576, 273: 577, 274: 578, 276: 579, 277: 580, 279: 581, 281: 582, 282: 583, 288: 584, 289: 585, 291: 586, 292: 587, 293: 588, 302: 589, 303: 590, 304: 591, 310: 592, 312: 593, 313: 594, 314: 595, 315: 596, 317: 597, 327: 598, 329: 599, 330: 600, 332: 601, 336: 602, 337: 603, 339: 604, 340: 605, 343: 606, 347: 607, 350: 608, 352: 609, 353: 610, 354: 611, 355: 612, 358: 613, 359: 614, 360: 615, 361: 616, 366: 617, 370: 618, 371: 619, 374: 620, 377: 621, 378: 622, 381: 623, 382: 624, 383: 625, 405: 626, 412: 627, 415: 628, 416: 629, 419: 630, 426: 631, 432: 632, 434: 633, 435: 634, 437: 635, 440: 636, 445: 637, 454: 638, 455: 639, 458: 640, 460: 641, 466: 642, 468: 643, 469: 644, 472: 645, 477: 646, 485: 647, 489: 648, 490: 649, 491: 650, 493: 651, 494: 652, 497: 653, 502: 654, 505: 655, 508: 656, 510: 657, 516: 658, 520: 659, 524: 660, 532: 661, 536: 662, 537: 663, 540: 664, 542: 665, 546: 666, 548: 667, 569: 668, 575: 669, 587: 670, 606: 671, 609: 672, 616: 673, 628: 674, 631: 675, 637: 676, 640: 677, 662: 678, 667: 679, 694: 680, 697: 681, 700: 682, 704: 683, 709: 684, 710: 685, 711: 686, 719: 687, 747: 688, 762: 689, 765: 690, 775: 691, 783: 692, 795: 693, 799: 694, 801: 695, 802: 696, 818: 697, 830: 698, 835: 699, 837: 700, 838: 701, 839: 702, 842: 703, 848: 704, 852: 705, 867: 706, 880: 707, 881: 708, 888: 709, 891: 710, 979: 711, 981: 712, 986: 713, 991: 714, 996: 715, 999: 716, 1004: 717, 1006: 718, 1061: 719, 1064: 720, 1082: 721, 750: 722, 924: 723, 1101: 724, 1246: 725, 1584: 726, 1610: 727, 1682: 728, 1784: 729, 1917: 730, 2671: 731, 2688: 732, 2701: 733, 2717: 734, 3114: 735, 3354: 736, 3623: 737, 3869: 738, 3916: 739, 3977: 740, 3994: 741, 4018: 742, 4223: 743, 4306: 744, 4310: 745, 4370: 746, 4643: 747, 4700: 748, 4844: 749, 4874: 750, 4886: 751, 4963: 752, 4993: 753, 4995: 754, 5218: 755, 5349: 756, 5378: 757, 5445: 758, 5459: 759, 5464: 760, 5502: 761, 5618: 762, 5816: 763, 5952: 764, 5989: 765, 5991: 766, 6333: 767, 6365: 768, 6534: 769, 6539: 770, 6863: 771, 6934: 772, 7143: 773, 7153: 774, 7155: 775, 7445: 776, 8207: 777, 8360: 778, 8368: 779, 8373: 780, 8528: 781, 8636: 782, 8665: 783, 8666: 784, 8783: 785, 8808: 786, 8865: 787, 8870: 788, 8907: 789, 8908: 790, 8949: 791, 8957: 792, 8958: 793, 8961: 794, 8965: 795, 8970: 796, 8972: 797, 8984: 798, 27741: 799, 30812: 800, 30816: 801, 31878: 802, 32029: 803, 32031: 804, 32296: 805, 32587: 806, 33162: 807, 33493: 808, 33794: 809, 33836: 810, 34048: 811, 34319: 812, 37741: 813, 38388: 814, 42002: 815, 45499: 816, 45517: 817, 45668: 818, 45730: 819, 46530: 820, 48783: 821, 48997: 822, 49272: 823, 49278: 824, 49286: 825, 49824: 826, 586: 827, 187: 828, 627: 829, 922: 830, 1037: 831, 1095: 832, 1674: 833, 1987: 834, 2011: 835, 2023: 836, 2300: 837, 2877: 838, 2901: 839, 3173: 840, 3328: 841, 3735: 842, 4131: 843, 4558: 844, 5447: 845, 5451: 846, 5481: 847, 5507: 848, 5841: 849, 5843: 850, 5872: 851, 5890: 852, 5891: 853, 5893: 854, 5902: 855, 5956: 856, 5962: 857, 5965: 858, 5988: 859, 6001: 860, 6044: 861, 1028: 862, 1088: 863, 1247: 864, 1307: 865, 3882: 866, 4447: 867, 5066: 868, 5377: 869, 5620: 870, 5943: 871, 5957: 872, 6155: 873, 6266: 874, 6377: 875, 6535: 876, 6942: 877, 7149: 878, 7151: 879, 7154: 880, 7169: 881, 7293: 882, 7375: 883, 7451: 884, 7458: 885, 8529: 886, 8533: 887, 8869: 888, 8969: 889, 30749: 890, 31433: 891, 31685: 892, 33145: 893, 33679: 894, 40629: 895, 40819: 896, 41285: 897, 47099: 898, 51662: 899, 51705: 900, 51834: 901, 54286: 902, 56367: 903, 56949: 904, 58047: 905, 59333: 906, 59421: 907, 60397: 908, 60950: 909, 61250: 910, 63113: 911, 63992: 912, 64969: 913, 66203: 914, 68954: 915, 69406: 916, 69844: 917, 70183: 918, 70293: 919, 71579: 920, 72011: 921, 72330: 922, 72407: 923, 72720: 924, 72737: 925, 72998: 926, 73017: 927, 74450: 928, 77841: 929, 78772: 930, 79091: 931, 80549: 932, 81784: 933, 81845: 934, 81847: 935, 82167: 936, 82499: 937, 84374: 938, 86548: 939, 87222: 940, 88163: 941, 88810: 942, 91104: 943, 92259: 944, 94070: 945, 95167: 946, 95449: 947, 95510: 948, 95543: 949, 96079: 950, 97024: 951, 97938: 952, 98203: 953, 103335: 954, 103339: 955, 104374: 956, 105211: 957, 106489: 958, 106696: 959, 107141: 960, 109374: 961, 109853: 962, 112006: 963, 113275: 964, 113394: 965, 119145: 966, 129428: 967, 136020: 968, 137595: 969, 140110: 970, 44: 971, 376: 972, 511: 973, 529: 974, 1100: 975, 1358: 976, 1370: 977, 1385: 978, 1438: 979, 1518: 980, 1586: 981, 1604: 982, 1608: 983, 1616: 984, 1687: 985, 1693: 986, 1721: 987, 1840: 988, 1882: 989, 1918: 990, 2002: 991, 2027: 992, 1357: 993, 1405: 994, 1876: 995, 2072: 996, 2100: 997, 2421: 998, 2485: 999, 2572: 1000, 2581: 1001, 2694: 1002, 3668: 1003, 305: 1004, 1173: 1005, 1590: 1006, 1619: 1007, 1639: 1008, 2541: 1009, 3300: 1010, 3409: 1011, 3513: 1012, 3624: 1013, 3717: 1014, 3753: 1015, 3798: 1016, 3827: 1017, 3863: 1018, 3893: 1019, 3952: 1020, 4011: 1021, 4148: 1022, 193: 1023, 448: 1024, 784: 1025, 172: 1026, 858: 1027, 1200: 1028, 1347: 1029, 1527: 1030, 1653: 1031, 1909: 1032, 2001: 1033, 2081: 1034, 2085: 1035, 2278: 1036, 3156: 1037, 3499: 1038, 3510: 1039, 3535: 1040, 3555: 1041, 4022: 1042, 4720: 1043, 5971: 1044, 6502: 1045, 7254: 1046, 7438: 1047, 8644: 1048, 48304: 1049, 48774: 1050, 48780: 1051, 50872: 1052, 56174: 1053, 59315: 1054, 60069: 1055, 63859: 1056, 64614: 1057, 68237: 1058, 69757: 1059, 70286: 1060, 71057: 1061, 71264: 1062, 84152: 1063, 84954: 1064, 85414: 1065, 89745: 1066, 91500: 1067, 94864: 1068, 96610: 1069, 101864: 1070, 103249: 1071, 104841: 1072, 105504: 1073, 110102: 1074, 111759: 1075, 112556: 1076, 112852: 1077, 115149: 1078, 120466: 1079, 122886: 1080, 122904: 1081, 122922: 1082, 122924: 1083, 134130: 1084, 134853: 1085, 143385: 1086, 152077: 1087, 152081: 1088, 158872: 1089, 160980: 1090, 166528: 1091, 166635: 1092, 111: 1093, 541: 1094, 678: 1095, 745: 1096, 913: 1097, 1147: 1098, 1148: 1099, 1186: 1100, 1193: 1101, 1201: 1102, 1207: 1103, 1223: 1104, 1230: 1105, 1252: 1106, 1260: 1107, 1261: 1108, 1267: 1109, 1276: 1110, 1281: 1111, 1299: 1112, 1680: 1113, 2490: 1114, 2707: 1115, 2723: 1116, 3000: 1117, 3022: 1118, 3108: 1119, 3174: 1120, 3429: 1121, 3683: 1122, 3741: 1123, 4878: 1124, 4973: 1125, 5782: 1126, 6350: 1127, 7099: 1128, 7361: 1129, 27611: 1130, 27773: 1131, 48394: 1132, 78499: 1133, 1036: 1134, 1209: 1135, 1221: 1136, 1228: 1137, 1234: 1138, 1375: 1139, 2194: 1140, 3039: 1141, 3263: 1142, 3435: 1143, 3681: 1144, 4571: 1145, 6016: 1146, 6870: 1147, 7482: 1148, 31658: 1149, 64839: 1150, 68358: 1151, 80463: 1152, 81932: 1153, 82459: 1154, 431: 1155, 442: 1156, 555: 1157, 653: 1158, 778: 1159, 1020: 1160, 1059: 1161, 1212: 1162, 1227: 1163, 1245: 1164, 1356: 1165, 1374: 1166, 1544: 1167, 1729: 1168, 1924: 1169, 1961: 1170, 2184: 1171, 2409: 1172, 2410: 1173, 2411: 1174, 2412: 1175, 2420: 1176, 2422: 1177, 2706: 1178, 2918: 1179, 2951: 1180, 2953: 1181, 3081: 1182, 3257: 1183, 3275: 1184, 3462: 1185, 3751: 1186, 3785: 1187, 3896: 1188, 4007: 1189, 4262: 1190, 4327: 1191, 4383: 1192, 4728: 1193, 4816: 1194, 5008: 1195, 5120: 1196, 5266: 1197, 5418: 1198, 5574: 1199, 5608: 1200, 5669: 1201, 5679: 1202, 5903: 1203, 5944: 1204, 5995: 1205, 6287: 1206, 6300: 1207, 6373: 1208, 6378: 1209, 6440: 1210, 6548: 1211, 6709: 1212, 6787: 1213, 6807: 1214, 6888: 1215, 7018: 1216, 7147: 1217, 7317: 1218, 7318: 1219, 7323: 1220, 7373: 1221, 7753: 1222, 7843: 1223, 8117: 1224, 8361: 1225, 8641: 1226, 8784: 1227, 8917: 1228, 8950: 1229, 26444: 1230, 26614: 1231, 27689: 1232, 27716: 1233, 27831: 1234, 27878: 1235, 30793: 1236, 32460: 1237, 33004: 1238, 33615: 1239, 34150: 1240, 34405: 1241, 36519: 1242, 36529: 1243, 37386: 1244, 37729: 1245, 37733: 1246, 38038: 1247, 38061: 1248, 44022: 1249, 44191: 1250, 44199: 1251, 44555: 1252, 44665: 1253, 45722: 1254, 46578: 1255, 46965: 1256, 47200: 1257, 47491: 1258, 49651: 1259, 51357: 1260, 51540: 1261, 52604: 1262, 53125: 1263, 53129: 1264, 53318: 1265, 53464: 1266, 53972: 1267, 53996: 1268, 54272: 1269, 55118: 1270, 55247: 1271, 55276: 1272, 55290: 1273, 55765: 1274, 56757: 1275, 57528: 1276, 57640: 1277, 57669: 1278, 58295: 1279, 58299: 1280, 59615: 1281, 59784: 1282, 60040: 1283, 60074: 1284, 60684: 1285, 62434: 1286, 63131: 1287, 64197: 1288, 64957: 1289, 65596: 1290, 66934: 1291, 67255: 1292, 68073: 1293, 68159: 1294, 68319: 1295, 69122: 1296, 69640: 1297, 69951: 1298, 71108: 1299, 71156: 1300, 71899: 1301, 73268: 1302, 73321: 1303, 73323: 1304, 73499: 1305, 74510: 1306, 74789: 1307, 74948: 1308, 76077: 1309, 76175: 1310, 76251: 1311, 77561: 1312, 78469: 1313, 79293: 1314, 79592: 1315, 79695: 1316, 79702: 1317, 80219: 1318, 81788: 1319, 83349: 1320, 84392: 1321, 85354: 1322, 86190: 1323, 86332: 1324, 86628: 1325, 86880: 1326, 87232: 1327, 88094: 1328, 88129: 1329, 88140: 1330, 90600: 1331, 91485: 1332, 91542: 1333, 92094: 1334, 95441: 1335, 96432: 1336, 96488: 1337, 96655: 1338, 97752: 1339, 98124: 1340, 98585: 1341, 98809: 1342, 99728: 1343, 99813: 1344, 102125: 1345, 102445: 1346, 102903: 1347, 103253: 1348, 103772: 1349, 104241: 1350, 104879: 1351, 106072: 1352, 106487: 1353, 106839: 1354, 107846: 1355, 111362: 1356, 112183: 1357, 112334: 1358, 112421: 1359, 114066: 1360, 116797: 1361, 116823: 1362, 117176: 1363, 118900: 1364, 122892: 1365, 122900: 1366, 122918: 1367, 122920: 1368, 122926: 1369, 128620: 1370, 135569: 1371, 139385: 1372, 140289: 1373, 141688: 1374, 142488: 1375, 144210: 1376, 145283: 1377, 148626: 1378, 150548: 1379, 155168: 1380, 157108: 1381, 157110: 1382, 158238: 1383, 158972: 1384, 159093: 1385, 160438: 1386, 161582: 1387, 162350: 1388, 162606: 1389, 164179: 1390, 166015: 1391, 168252: 1392, 171023: 1393, 176101: 1394, 177593: 1395, 180095: 1396, 180777: 1397, 185135: 1398, 12: 1399, 48: 1400, 64: 1401, 107: 1402, 118: 1403, 173: 1404, 295: 1405, 325: 1406, 328: 1407, 338: 1408, 372: 1409, 379: 1410, 407: 1411, 414: 1412, 420: 1413, 422: 1414, 427: 1415, 486: 1416, 512: 1417, 513: 1418, 551: 1419, 558: 1420, 610: 1421, 611: 1422, 671: 1423, 674: 1424, 724: 1425, 742: 1426, 743: 1427, 761: 1428, 785: 1429, 788: 1430, 798: 1431, 810: 1432, 829: 1433, 832: 1434, 866: 1435, 879: 1436, 903: 1437, 906: 1438, 911: 1439, 915: 1440, 921: 1441, 931: 1442, 933: 1443, 965: 1444, 984: 1445, 1016: 1446, 1021: 1447, 1047: 1448, 1081: 1449, 1129: 1450, 1215: 1451, 1238: 1452, 1257: 1453, 1269: 1454, 1285: 1455, 1297: 1456, 1322: 1457, 1324: 1458, 1330: 1459, 1333: 1460, 1339: 1461, 1342: 1462, 1345: 1463, 1346: 1464, 1355: 1465, 1359: 1466, 1367: 1467, 1372: 1468, 1373: 1469, 1376: 1470, 1378: 1471, 1379: 1472, 1380: 1473, 1394: 1474, 1407: 1475, 1409: 1476, 1427: 1477, 1441: 1478, 1456: 1479, 1457: 1480, 1461: 1481, 1474: 1482, 1479: 1483, 1485: 1484, 1489: 1485, 1499: 1486, 1542: 1487, 1550: 1488, 1551: 1489, 1556: 1490, 1562: 1491, 1566: 1492, 1569: 1493, 1583: 1494, 1588: 1495, 1591: 1496, 1593: 1497, 1603: 1498, 1614: 1499, 1645: 1500, 1648: 1501, 1658: 1502, 1663: 1503, 1665: 1504, 1679: 1505, 1681: 1506, 1688: 1507, 1689: 1508, 1690: 1509, 1702: 1510, 1717: 1511, 1718: 1512, 1722: 1513, 1747: 1514, 1748: 1515, 1754: 1516, 1779: 1517, 1783: 1518, 1798: 1519, 1806: 1520, 1812: 1521, 1816: 1522, 1831: 1523, 1845: 1524, 1848: 1525, 1855: 1526, 1862: 1527, 1881: 1528, 1888: 1529, 1891: 1530, 1894: 1531, 1906: 1532, 1911: 1533, 1919: 1534, 1921: 1535, 1963: 1536, 1970: 1537, 1971: 1538, 1972: 1539, 1973: 1540, 1991: 1541, 1994: 1542, 2003: 1543, 2004: 1544, 2014: 1545, 2015: 1546, 2016: 1547, 2026: 1548, 2034: 1549, 2036: 1550, 2037: 1551, 2040: 1552, 2041: 1553, 2044: 1554, 2052: 1555, 2053: 1556, 2060: 1557, 2065: 1558, 2082: 1559, 2088: 1560, 2092: 1561, 2097: 1562, 2108: 1563, 2110: 1564, 2111: 1565, 2118: 1566, 2123: 1567, 2133: 1568, 2134: 1569, 2140: 1570, 2144: 1571, 2148: 1572, 2153: 1573, 2167: 1574, 2169: 1575, 2171: 1576, 2206: 1577, 2227: 1578, 2232: 1579, 2243: 1580, 2244: 1581, 2245: 1582, 2248: 1583, 2249: 1584, 2255: 1585, 2261: 1586, 2263: 1587, 2266: 1588, 2267: 1589, 2279: 1590, 2287: 1591, 2294: 1592, 2302: 1593, 2315: 1594, 2320: 1595, 2321: 1596, 2328: 1597, 2335: 1598, 2354: 1599, 2355: 1600, 2369: 1601, 2371: 1602, 2372: 1603, 2374: 1604, 2375: 1605, 2393: 1606, 2394: 1607, 2396: 1608, 2407: 1609, 2413: 1610, 2416: 1611, 2418: 1612, 2423: 1613, 2428: 1614, 2446: 1615, 2453: 1616, 2455: 1617, 2458: 1618, 2463: 1619, 2465: 1620, 2468: 1621, 2491: 1622, 2496: 1623, 2513: 1624, 2518: 1625, 2539: 1626, 2548: 1627, 2550: 1628, 2555: 1629, 2558: 1630, 2605: 1631, 2606: 1632, 2614: 1633, 2622: 1634, 2642: 1635, 2643: 1636, 2668: 1637, 2672: 1638, 2687: 1639, 2699: 1640, 2709: 1641, 2710: 1642, 2719: 1643, 2720: 1644, 2722: 1645, 2733: 1646, 2746: 1647, 2754: 1648, 2788: 1649, 2793: 1650, 2802: 1651, 2804: 1652, 2806: 1653, 2808: 1654, 2822: 1655, 2836: 1656, 2840: 1657, 2857: 1658, 2860: 1659, 2867: 1660, 2870: 1661, 2883: 1662, 2888: 1663, 2898: 1664, 2900: 1665, 2915: 1666, 2936: 1667, 2968: 1668, 2995: 1669, 3005: 1670, 3016: 1671, 3017: 1672, 3031: 1673, 3032: 1674, 3035: 1675, 3040: 1676, 3048: 1677, 3056: 1678, 3063: 1679, 3064: 1680, 3070: 1681, 3072: 1682, 3082: 1683, 3087: 1684, 3101: 1685, 3104: 1686, 3113: 1687, 3146: 1688, 3190: 1689, 3203: 1690, 3213: 1691, 3219: 1692, 3225: 1693, 3238: 1694, 3248: 1695, 3254: 1696, 3258: 1697, 3264: 1698, 3269: 1699, 3301: 1700, 3308: 1701, 3316: 1702, 3324: 1703, 3355: 1704, 3361: 1705, 3370: 1706, 3387: 1707, 3393: 1708, 3394: 1709, 3395: 1710, 3396: 1711, 3397: 1712, 3398: 1713, 3400: 1714, 3401: 1715, 3418: 1716, 3421: 1717, 3424: 1718, 3454: 1719, 3466: 1720, 3471: 1721, 3476: 1722, 3477: 1723, 3483: 1724, 3484: 1725, 3497: 1726, 3500: 1727, 3501: 1728, 3505: 1729, 3515: 1730, 3526: 1731, 3534: 1732, 3536: 1733, 3548: 1734, 3550: 1735, 3551: 1736, 3584: 1737, 3594: 1738, 3608: 1739, 3622: 1740, 3662: 1741, 3685: 1742, 3686: 1743, 3692: 1744, 3693: 1745, 3698: 1746, 3699: 1747, 3701: 1748, 3704: 1749, 3705: 1750, 3706: 1751, 3708: 1752, 3712: 1753, 3743: 1754, 3745: 1755, 3752: 1756, 3754: 1757, 3763: 1758, 3770: 1759, 3784: 1760, 3797: 1761, 3802: 1762, 3825: 1763, 3826: 1764, 3835: 1765, 3837: 1766, 3839: 1767, 1010: 1768, 1012: 1769, 1013: 1770, 1015: 1771, 1018: 1772, 1022: 1773, 1035: 1774, 1547: 1775, 2006: 1776, 2059: 1777, 2083: 1778, 2087: 1779, 2089: 1780, 2135: 1781, 2430: 1782, 2565: 1783, 2941: 1784, 3157: 1785, 3159: 1786, 3189: 1787, 3410: 1788, 3438: 1789, 3512: 1790, 3549: 1791, 3565: 1792, 3615: 1793, 3755: 1794, 3852: 1795, 3948: 1796, 3972: 1797, 3986: 1798, 3988: 1799, 3990: 1800, 3999: 1801, 4016: 1802, 4019: 1803, 4025: 1804, 4039: 1805, 4054: 1806, 4090: 1807, 4154: 1808, 4161: 1809, 4232: 1810, 4270: 1811, 4299: 1812, 4344: 1813, 4366: 1814, 4367: 1815, 4369: 1816, 4378: 1817, 4446: 1818, 4449: 1819, 4519: 1820, 4638: 1821, 4718: 1822, 4734: 1823, 4776: 1824, 4783: 1825, 4821: 1826, 4846: 1827, 4848: 1828, 4865: 1829, 4901: 1830, 4979: 1831, 4990: 1832, 5013: 1833, 5014: 1834, 5015: 1835, 5103: 1836, 5110: 1837, 5171: 1838, 5254: 1839, 5293: 1840, 5299: 1841, 5313: 1842, 5364: 1843, 5388: 1844, 5419: 1845, 5463: 1846, 5504: 1847, 5630: 1848, 5693: 1849, 5785: 1850, 6143: 1851, 6156: 1852, 6157: 1853, 6166: 1854, 6170: 1855, 6297: 1856, 6345: 1857, 6358: 1858, 38: 1859, 2376: 1860, 2378: 1861, 2402: 1862, 2403: 1863, 2724: 1864, 2989: 1865, 2990: 1866, 3633: 1867, 3635: 1868, 3638: 1869, 3697: 1870, 3868: 1871, 3984: 1872, 4005: 1873, 4040: 1874, 4085: 1875, 4489: 1876, 4545: 1877, 4621: 1878, 4701: 1879, 5219: 1880, 5796: 1881, 6503: 1882, 7569: 1883, 7570: 1884, 7573: 1885, 7701: 1886, 8574: 1887, 8946: 1888, 26340: 1889, 30825: 1890, 34162: 1891, 39715: 1892, 40815: 1893, 41566: 1894, 45186: 1895, 45447: 1896, 45672: 1897, 46972: 1898, 47566: 1899, 47997: 1900, 50189: 1901, 51084: 1902, 52730: 1903, 52973: 1904, 53121: 1905, 53322: 1906, 54276: 1907, 56775: 1908, 58025: 1909, 58998: 1910, 59369: 1911, 59429: 1912, 59900: 1913, 61160: 1914, 63082: 1915, 64032: 1916, 68791: 1917, 68793: 1918, 69526: 1919, 69644: 1920, 72641: 1921, 73106: 1922, 73319: 1923, 73858: 1924, 76093: 1925, 78637: 1926, 79134: 1927, 79185: 1928, 80166: 1929, 81229: 1930, 81564: 1931, 81591: 1932, 81834: 1933, 82202: 1934, 85259: 1935, 86068: 1936, 87520: 1937, 88125: 1938, 88405: 1939, 88744: 1940, 90249: 1941, 91535: 1942, 91630: 1943, 93510: 1944, 94503: 1945, 94677: 1946, 94777: 1947, 95067: 1948, 95170: 1949, 95738: 1950, 96004: 1951, 96588: 1952, 97913: 1953, 99532: 1954, 102481: 1955, 102716: 1956, 102993: 1957, 103141: 1958, 103228: 1959, 103372: 1960, 103384: 1961, 103801: 1962, 103810: 1963, 103819: 1964, 103883: 1965, 104211: 1966, 105213: 1967, 105653: 1968, 105844: 1969, 105954: 1970, 106491: 1971, 106540: 1972, 106916: 1973, 106918: 1974, 106920: 1975, 107013: 1976, 107449: 1977, 108156: 1978, 108190: 1979, 108932: 1980, 108945: 1981, 109576: 1982, 109723: 1983, 109864: 1984, 110130: 1985, 110553: 1986, 111113: 1987, 111617: 1988, 111743: 1989, 111781: 1990, 111844: 1991, 112138: 1992, 112175: 1993, 114180: 1994, 114818: 1995, 115502: 1996, 115617: 1997, 115877: 1998, 117368: 1999, 117529: 2000, 117572: 2001, 117590: 2002, 117851: 2003, 117922: 2004, 119141: 2005, 119155: 2006, 119964: 2007, 122896: 2008, 126548: 2009, 130450: 2010, 132157: 2011, 133419: 2012, 134368: 2013, 134393: 2014, 135133: 2015, 135536: 2016, 135861: 2017, 135887: 2018, 136016: 2019, 138036: 2020, 138186: 2021, 139642: 2022, 139717: 2023, 139915: 2024, 140301: 2025, 142536: 2026, 143245: 2027, 148675: 2028, 149380: 2029, 160565: 2030, 160872: 2031, 164909: 2032, 166492: 2033, 167036: 2034, 168248: 2035, 173307: 2036, 1952: 2037, 1953: 2038, 2160: 2039, 3006: 2040, 4017: 2041, 4036: 2042, 4903: 2043, 5617: 2044, 5673: 2045, 6711: 2046, 8464: 2047, 8622: 2048, 30707: 2049, 31410: 2050, 34437: 2051, 39183: 2052, 41997: 2053, 46976: 2054, 52281: 2055, 53519: 2056, 54503: 2057, 55820: 2058, 56171: 2059, 56782: 2060, 56788: 2061, 60766: 2062, 61323: 2063, 64575: 2064, 66097: 2065, 68536: 2066, 71464: 2067, 29: 2068, 175: 2069, 272: 2070, 334: 2071, 741: 2072, 1050: 2073, 1175: 2074, 1217: 2075, 1218: 2076, 1232: 2077, 1233: 2078, 1237: 2079, 1243: 2080, 1248: 2081, 1249: 2082, 1274: 2083, 1284: 2084, 1425: 2085, 1464: 2086, 1711: 2087, 1809: 2088, 1859: 2089, 1884: 2090, 1960: 2091, 2579: 2092, 2686: 2093, 2726: 2094, 2730: 2095, 2912: 2096, 3030: 2097, 3181: 2098, 3265: 2099, 3822: 2100, 4235: 2101, 5333: 2102, 6234: 2103, 6387: 2104, 6721: 2105, 6773: 2106, 6790: 2107, 6857: 2108, 6920: 2109, 6989: 2110, 7064: 2111, 7069: 2112, 7123: 2113, 7587: 2114, 7924: 2115, 7932: 2116, 8012: 2117, 8228: 2118, 8370: 2119, 2405: 2120, 3556: 2121, 4855: 2122, 5064: 2123, 5791: 2124, 31696: 2125, 35836: 2126, 47610: 2127, 57368: 2128, 61024: 2129, 61132: 2130, 86882: 2131, 102407: 2132, 132660: 2133, 122912: 2134, 122916: 2135, 176371: 2136, 187541: 2137, 187593: 2138, 238: 2139, 421: 2140, 808: 2141, 969: 2142, 1083: 2143, 1262: 2144, 1287: 2145, 1387: 2146, 1592: 2147, 2032: 2148, 2142: 2149, 2151: 2150, 2311: 2151, 2530: 2152, 2532: 2153, 2876: 2154, 2886: 2155, 3037: 2156, 3350: 2157, 3451: 2158, 3519: 2159, 3654: 2160, 3791: 2161, 3836: 2162, 23: 2163, 147: 2164, 211: 2165, 428: 2166, 456: 2167, 481: 2168, 507: 2169, 635: 2170, 714: 2171, 851: 2172, 1120: 2173, 1171: 2174, 1253: 2175, 1271: 2176, 1303: 2177, 1459: 2178, 1480: 2179, 1678: 2180, 1785: 2181, 2021: 2182, 2231: 2183, 2272: 2184, 2358: 2185, 2618: 2186, 2841: 2187, 2908: 2188, 2952: 2189, 3020: 2190, 3100: 2191, 3105: 2192, 3107: 2193, 3169: 2194, 3178: 2195, 3198: 2196, 3246: 2197, 3250: 2198, 3252: 2199, 3256: 2200, 3260: 2201, 3271: 2202, 3272: 2203, 3360: 2204, 3543: 2205, 3783: 2206, 3950: 2207, 3980: 2208, 4047: 2209, 4211: 2210, 4238: 2211, 4251: 2212, 4343: 2213, 4626: 2214, 4688: 2215, 4772: 2216, 4787: 2217, 5009: 2218, 5010: 2219, 5055: 2220, 5152: 2221, 5267: 2222, 5292: 2223, 5329: 2224, 5446: 2225, 5577: 2226, 5632: 2227, 5682: 2228, 5747: 2229, 5945: 2230, 5955: 2231, 6281: 2232, 6428: 2233, 6537: 2234, 6552: 2235, 6565: 2236, 6617: 2237, 6796: 2238, 6817: 2239, 6867: 2240, 6884: 2241, 6947: 2242, 6953: 2243, 6957: 2244, 6974: 2245, 6993: 2246, 6997: 2247, 7009: 2248, 7025: 2249, 7090: 2250, 7263: 2251, 7481: 2252, 7649: 2253, 7706: 2254, 7841: 2255, 7842: 2256, 7884: 2257, 8010: 2258, 8132: 2259, 8378: 2260, 8493: 2261, 8495: 2262, 8633: 2263, 8810: 2264, 8874: 2265, 8914: 2266, 8937: 2267, 8951: 2268, 8977: 2269, 8982: 2270, 8983: 2271, 26649: 2272, 26695: 2273, 26750: 2274, 26812: 2275, 26901: 2276, 27408: 2277, 27450: 2278, 27788: 2279, 27793: 2280, 31101: 2281, 31116: 2282, 31225: 2283, 31420: 2284, 33166: 2285, 33558: 2286, 33660: 2287, 34536: 2288, 36517: 2289, 36527: 2290, 37731: 2291, 37739: 2292, 38886: 2293, 39381: 2294, 39444: 2295, 40278: 2296, 40414: 2297, 40583: 2298, 41569: 2299, 41863: 2300, 42004: 2301, 43396: 2302, 43921: 2303, 43928: 2304, 43936: 2305, 44195: 2306, 44204: 2307, 44761: 2308, 45658: 2309, 46723: 2310, 47629: 2311, 47644: 2312, 47894: 2313, 48326: 2314, 48385: 2315, 48738: 2316, 48879: 2317, 49265: 2318, 49530: 2319, 49822: 2320, 49961: 2321, 50068: 2322, 50442: 2323, 51080: 2324, 51255: 2325, 51471: 2326, 51935: 2327, 52042: 2328, 52241: 2329, 52328: 2330, 52952: 2331, 53123: 2332, 53550: 2333, 53953: 2334, 54736: 2335, 54962: 2336, 54997: 2337, 55080: 2338, 55094: 2339, 55116: 2340, 55274: 2341, 55363: 2342, 55721: 2343, 55908: 2344, 56145: 2345, 56587: 2346, 56607: 2347, 56921: 2348, 58293: 2349, 58803: 2350, 59018: 2351, 59129: 2352, 59387: 2353, 60046: 2354, 60389: 2355, 60647: 2356, 60674: 2357, 60735: 2358, 60753: 2359, 60941: 2360, 60943: 2361, 61011: 2362, 61167: 2363, 61210: 2364, 61236: 2365, 61248: 2366, 61350: 2367, 61352: 2368, 61628: 2369, 61986: 2370, 62374: 2371, 62376: 2372, 62394: 2373, 62792: 2374, 62799: 2375, 62849: 2376, 63033: 2377, 63062: 2378, 63433: 2379, 64030: 2380, 64497: 2381, 64716: 2382, 64983: 2383, 65216: 2384, 65682: 2385, 65982: 2386, 67534: 2387, 68205: 2388, 69849: 2389, 70336: 2390, 71106: 2391, 71135: 2392, 953: 2393, 1204: 2394, 1242: 2395, 1772: 2396, 1792: 2397, 1939: 2398, 1945: 2399, 2301: 2400, 3363: 2401, 4980: 2402, 7156: 2403, 7379: 2404, 26554: 2405, 26729: 2406, 64620: 2407, 87306: 2408, 98961: 2409, 96821: 2410, 605: 2411, 612: 2412, 1099: 2413, 1231: 2414, 1353: 2415, 1361: 2416, 1363: 2417, 1393: 2418, 74: 2419, 78: 2420, 194: 2421, 203: 2422, 246: 2423, 471: 2424, 786: 2425, 1104: 2426, 1429: 2427, 1458: 2428, 28: 2429, 94: 2430, 249: 2431, 307: 2432, 308: 2433, 322: 2434, 385: 2435, 446: 2436, 452: 2437, 562: 2438, 580: 2439, 613: 2440, 715: 2441, 805: 2442, 994: 2443, 1027: 2444, 1056: 2445, 1177: 2446, 1280: 2447, 1365: 2448, 1399: 2449, 1446: 2450, 1476: 2451, 1487: 2452, 1537: 2453, 1545: 2454, 1621: 2455, 1633: 2456, 1643: 2457, 1672: 2458, 1673: 2459, 1799: 2460, 1801: 2461, 1841: 2462, 2112: 2463, 2310: 2464, 2333: 2465, 2357: 2466, 2391: 2467, 2443: 2468, 2501: 2469, 2690: 2470, 2875: 2471, 2943: 2472, 3997: 2473, 5146: 2474, 5449: 2475, 6242: 2476, 6567: 2477, 6618: 2478, 26606: 2479, 27193: 2480, 27728: 2481, 27801: 2482, 31184: 2483, 44974: 2484, 544: 2485, 2269: 2486, 2735: 2487, 2794: 2488, 3066: 2489, 3270: 2490, 3347: 2491, 3362: 2492, 3766: 2493, 3861: 2494, 4220: 2495, 5093: 2496, 5312: 2497, 6662: 2498, 585: 2499, 2342: 2500, 3019: 2501, 82: 2502, 121: 2503, 199: 2504, 228: 2505, 306: 2506, 514: 2507, 685: 2508, 3285: 2509, 3968: 2510, 4890: 2511, 6708: 2512, 6763: 2513, 7173: 2514, 7444: 2515, 8981: 2516, 54001: 2517, 55280: 2518, 56941: 2519, 59725: 2520, 61240: 2521, 65230: 2522, 71033: 2523, 85774: 2524, 86781: 2525, 87869: 2526, 89759: 2527, 93840: 2528, 96829: 2529, 97921: 2530, 100714: 2531, 101525: 2532, 103980: 2533, 111659: 2534, 111921: 2535, 112290: 2536, 115569: 2537, 116897: 2538, 125916: 2539, 128360: 2540, 136864: 2541, 122: 2542, 144: 2543, 227: 2544, 408: 2545, 413: 2546, 418: 2547, 424: 2548, 433: 2549, 436: 2550, 459: 2551, 550: 2552, 639: 2553, 782: 2554, 1191: 2555, 1343: 2556, 1431: 2557, 1453: 2558, 1468: 2559, 1488: 2560, 1513: 2561, 1667: 2562, 1726: 2563, 1810: 2564, 1835: 2565, 1975: 2566, 1976: 2567, 2146: 2568, 2155: 2569, 2236: 2570, 2297: 2571, 2306: 2572, 2352: 2573, 2404: 2574, 2433: 2575, 2497: 2576, 2500: 2577, 2505: 2578, 2568: 2579, 2574: 2580, 2598: 2581, 2702: 2582, 2713: 2583, 2771: 2584, 2795: 2585, 2796: 2586, 2805: 2587, 2827: 2588, 2861: 2589, 2871: 2590, 2890: 2591, 2906: 2592, 3098: 2593, 3120: 2594, 3142: 2595, 3177: 2596, 3186: 2597, 3208: 2598, 3259: 2599, 3261: 2600, 3298: 2601, 3326: 2602, 3502: 2603, 3552: 2604, 3646: 2605, 3694: 2606, 3695: 2607, 3764: 2608, 3824: 2609, 3841: 2610, 3946: 2611, 3987: 2612, 4008: 2613, 4041: 2614, 4062: 2615, 4067: 2616, 4084: 2617, 4102: 2618, 4132: 2619, 4153: 2620, 4155: 2621, 4207: 2622, 4280: 2623, 4293: 2624, 4317: 2625, 4321: 2626, 4322: 2627, 4333: 2628, 4349: 2629, 4351: 2630, 4359: 2631, 4361: 2632, 4396: 2633, 4442: 2634, 4466: 2635, 4477: 2636, 4482: 2637, 4487: 2638, 4509: 2639, 4516: 2640, 4541: 2641, 4564: 2642, 4565: 2643, 4577: 2644, 4623: 2645, 4629: 2646, 4654: 2647, 4679: 2648, 4686: 2649, 57: 2650, 259: 2651, 484: 2652, 519: 2653, 828: 2654, 1105: 2655, 18: 2656, 663: 2657, 737: 2658, 833: 2659, 836: 2660, 889: 2661, 69: 2662, 934: 2663, 1005: 2664, 1033: 2665, 1390: 2666, 1442: 2667, 1615: 2668, 1642: 2669, 1753: 2670, 1769: 2671, 1863: 2672, 1866: 2673, 1934: 2674, 2042: 2675, 2064: 2676, 2106: 2677, 2124: 2678, 2195: 2679, 2431: 2680, 2504: 2681, 2718: 2682, 2731: 2683, 3004: 2684, 3196: 2685, 3249: 2686, 3268: 2687, 3274: 2688, 3385: 2689, 4104: 2690, 4502: 2691, 4929: 2692, 4958: 2693, 4974: 2694, 5151: 2695, 5220: 2696, 5283: 2697, 5307: 2698, 5308: 2699, 5500: 2700, 5528: 2701, 5568: 2702, 5582: 2703, 5585: 2704, 5589: 2705, 7294: 2706, 33495: 2707, 53993: 2708, 391: 2709, 2121: 2710, 2942: 2711, 3844: 2712, 3969: 2713, 4474: 2714, 4975: 2715, 5108: 2716, 6765: 2717, 7160: 2718, 8966: 2719, 45950: 2720, 47423: 2721, 51931: 2722, 53894: 2723, 63876: 2724, 68932: 2725, 69712: 2726, 72395: 2727, 79242: 2728, 82767: 2729, 96567: 2730, 96811: 2731, 97923: 2732, 100383: 2733, 106100: 2734, 108729: 2735, 112804: 2736, 117881: 2737, 132424: 2738, 137337: 2739, 140174: 2740, 140247: 2741, 140715: 2742, 145839: 2743, 146656: 2744, 159817: 2745, 163645: 2746, 166643: 2747, 171011: 2748, 1320: 2749, 5882: 2750, 8371: 2751, 909: 2752, 1251: 2753, 1273: 2754, 1289: 2755, 2164: 2756, 2553: 2757, 2732: 2758, 2925: 2759, 3221: 2760, 3415: 2761, 3730: 2762, 4282: 2763, 4399: 2764, 4658: 2765, 4914: 2766, 4928: 2767, 5004: 2768, 5021: 2769, 5810: 2770, 5932: 2771, 6239: 2772, 6663: 2773, 6666: 2774, 6975: 2775, 7063: 2776, 7206: 2777, 7247: 2778, 7327: 2779, 7396: 2780, 7700: 2781, 7748: 2782, 8143: 2783, 8157: 2784, 8235: 2785, 8253: 2786, 8379: 2787, 8879: 2788, 8928: 2789, 8974: 2790, 26258: 2791, 26326: 2792, 26422: 2793, 27156: 2794, 27513: 2795, 32657: 2796, 32659: 2797, 32875: 2798, 32898: 2799, 33781: 2800, 37545: 2801, 44719: 2802, 45880: 2803, 46062: 2804, 46862: 2805, 52885: 2806, 62336: 2807, 62644: 2808, 63312: 2809, 64278: 2810, 66335: 2811, 79224: 2812, 81018: 2813, 81562: 2814, 82848: 2815, 85796: 2816, 88911: 2817, 90522: 2818, 90746: 2819, 91094: 2820, 92046: 2821, 92427: 2822, 92475: 2823, 93114: 2824, 93326: 2825, 96606: 2826, 97225: 2827, 97304: 2828, 100498: 2829, 101072: 2830, 103171: 2831, 104283: 2832, 104913: 2833, 105250: 2834, 107338: 2835, 107565: 2836, 111732: 2837, 113374: 2838, 114335: 2839, 115203: 2840, 122898: 2841, 127146: 2842, 128695: 2843, 134170: 2844, 134515: 2845, 135143: 2846, 135456: 2847, 136018: 2848, 136305: 2849, 136564: 2850, 137857: 2851, 138208: 2852, 139644: 2853, 140928: 2854, 142074: 2855, 142448: 2856, 142602: 2857, 142961: 2858, 142997: 2859, 143859: 2860, 143969: 2861, 149406: 2862, 151759: 2863, 156607: 2864, 160569: 2865, 164280: 2866, 165969: 2867, 167370: 2868, 168254: 2869, 168492: 2870, 170705: 2871, 170875: 2872, 171701: 2873, 171759: 2874, 172013: 2875, 172461: 2876, 174055: 2877, 174141: 2878, 174403: 2879, 174737: 2880, 175485: 2881, 175661: 2882, 175693: 2883, 175705: 2884, 175707: 2885, 175743: 2886, 175781: 2887, 179073: 2888, 188301: 2889, 190183: 2890, 387: 2891, 479: 2892, 482: 2893, 522: 2894, 781: 2895, 1011: 2896, 1014: 2897, 1235: 2898, 1244: 2899, 1301: 2900, 1350: 2901, 1873: 2902, 1997: 2903, 1999: 2904, 2159: 2905, 2183: 2906, 2265: 2907, 2322: 2908, 2356: 2909, 2363: 2910, 2379: 2911, 2380: 2912, 2408: 2913, 2454: 2914, 2524: 2915, 2533: 2916, 2554: 2917, 2587: 2918, 2613: 2919, 2615: 2920, 2634: 2921, 2661: 2922, 2664: 2923, 2752: 2924, 2978: 2925, 3115: 2926, 3148: 2927, 3388: 2928, 3430: 2929, 3614: 2930, 3799: 2931, 3814: 2932, 3917: 2933, 3918: 2934, 3959: 2935, 4215: 2936, 4241: 2937, 4255: 2938, 4267: 2939, 4291: 2940, 4340: 2941, 4437: 2942, 4464: 2943, 4496: 2944, 4508: 2945, 4591: 2946, 4713: 2947, 4876: 2948, 4971: 2949, 4992: 2950, 5040: 2951, 5339: 2952, 5505: 2953, 5672: 2954, 5712: 2955, 6323: 2956, 6371: 2957, 6659: 2958, 6786: 2959, 6793: 2960, 6873: 2961, 6880: 2962, 7000: 2963, 7004: 2964, 7007: 2965, 7040: 2966, 7163: 2967, 7757: 2968, 7983: 2969, 8623: 2970, 26680: 2971, 34338: 2972, 39414: 2973, 42723: 2974, 45666: 2975, 48877: 2976, 52722: 2977, 57532: 2978, 59306: 2979, 60487: 2980, 33646: 2981, 50794: 2982, 51077: 2983, 52245: 2984, 54995: 2985, 54999: 2986, 56801: 2987, 65514: 2988, 69481: 2989, 86892: 2990, 93721: 2991, 93838: 2992, 110501: 2993, 748: 2994, 916: 2995, 1125: 2996, 1982: 2997, 1293: 2998, 198: 2999, 473: 3000, 518: 3001, 707: 3002, 728: 3003, 861: 3004, 897: 3005, 942: 3006, 951: 3007, 955: 3008, 1184: 3009, 1254: 3010, 1268: 3011, 1277: 3012, 1388: 3013, 1416: 3014, 1498: 3015, 1564: 3016, 1646: 3017, 1670: 3018, 1858: 3019, 1912: 3020, 2009: 3021, 2067: 3022, 2102: 3023, 2202: 3024, 2289: 3025, 2429: 3026, 2476: 3027, 2681: 3028, 2759: 3029, 2917: 3030, 2922: 3031, 2935: 3032, 2961: 3033, 3045: 3034, 3334: 3035, 3426: 3036, 3446: 3037, 3494: 3038, 3507: 3039, 3593: 3040, 3628: 3041, 3632: 3042, 3643: 3043, 3769: 3044, 3773: 3045, 3774: 3046, 3811: 3047, 3901: 3048, 3937: 3049, 280: 3050, 928: 3051, 1151: 3052, 1428: 3053, 1631: 3054, 1696: 3055, 1797: 3056, 1944: 3057, 2020: 3058, 2075: 3059, 3075: 3060, 3230: 3061, 3461: 3062, 3498: 3063, 3504: 3064, 6460: 3065, 2739: 3066, 6058: 3067, 6541: 3068, 6564: 3069, 27660: 3070, 27706: 3071, 27808: 3072, 48043: 3073, 49130: 3074, 49649: 3075, 50804: 3076, 51086: 3077, 59501: 3078, 60072: 3079, 60126: 3080, 63072: 3081, 67734: 3082, 68554: 3083, 68848: 3084, 74228: 3085, 78105: 3086, 79357: 3087, 80693: 3088, 82461: 3089, 83369: 3090, 86911: 3091, 87430: 3092, 89492: 3093, 89864: 3094, 90866: 3095, 96861: 3096, 99149: 3097, 102123: 3098, 103042: 3099, 103341: 3100, 104863: 3101, 106002: 3102, 107348: 3103, 107406: 3104, 111360: 3105, 113741: 3106, 114662: 3107, 114678: 3108, 114935: 3109, 115210: 3110, 115680: 3111, 118696: 3112, 128512: 3113, 135518: 3114, 142222: 3115, 143355: 3116, 158966: 3117, 161131: 3118, 166534: 3119, 168250: 3120, 170827: 3121, 171763: 3122, 172591: 3123, 173925: 3124, 174053: 3125, 175303: 3126, 176601: 3127, 179401: 3128, 179819: 3129, 182715: 3130, 183611: 3131, 184471: 3132, 185031: 3133, 187595: 3134, 1202: 3135, 1965: 3136, 3088: 3137, 4105: 3138, 6104: 3139, 7022: 3140, 7132: 3141, 7387: 3142, 7980: 3143, 8376: 3144, 8873: 3145, 27846: 3146, 27904: 3147, 30810: 3148, 33779: 3149, 45728: 3150, 53000: 3151, 54259: 3152, 64285: 3153, 67997: 3154, 77800: 3155, 86290: 3156, 86504: 3157, 89753: 3158, 89904: 3159, 92494: 3160, 92535: 3161, 95858: 3162, 98491: 3163, 102217: 3164, 104069: 3165, 365: 3166, 968: 3167, 1096: 3168, 1762: 3169, 1889: 3170, 2313: 3171, 2905: 3172, 3041: 3173, 4023: 3174, 4128: 3175, 4380: 3176, 4448: 3177, 4773: 3178, 4964: 3179, 5026: 3180, 5225: 3181, 5291: 3182, 5417: 3183, 5690: 3184, 5878: 3185, 5954: 3186, 6188: 3187, 6214: 3188, 6218: 3189, 6296: 3190, 6331: 3191, 6385: 3192, 6936: 3193, 6944: 3194, 7139: 3195, 7162: 3196, 7235: 3197, 7360: 3198, 7411: 3199, 7743: 3200, 7930: 3201, 7982: 3202, 8014: 3203, 8093: 3204, 8645: 3205, 8795: 3206, 8832: 3207, 26504: 3208, 27020: 3209, 27266: 3210, 27523: 3211, 27869: 3212, 33683: 3213, 34072: 3214, 42632: 3215, 255: 3216, 523: 3217, 535: 3218, 1216: 3219, 1326: 3220, 1382: 3221, 1541: 3222, 1956: 3223, 2257: 3224, 2312: 3225, 2316: 3226, 2401: 3227, 2956: 3228, 2966: 3229, 3029: 3230, 3074: 3231, 3201: 3232, 3262: 3233, 3444: 3234, 4079: 3235, 4149: 3236, 4158: 3237, 4203: 3238, 4231: 3239, 4465: 3240, 4499: 3241, 4537: 3242, 4572: 3243, 4581: 3244, 4585: 3245, 4611: 3246, 4616: 3247, 5023: 3248, 5265: 3249, 5548: 3250, 5644: 3251, 6022: 3252, 6025: 3253, 6124: 3254, 6313: 3255, 6636: 3256, 6754: 3257, 6832: 3258, 6979: 3259, 6996: 3260, 7015: 3261, 7027: 3262, 7028: 3263, 7046: 3264, 7048: 3265, 7127: 3266, 7325: 3267, 7493: 3268, 7624: 3269, 7647: 3270, 7766: 3271, 8024: 3272, 8158: 3273, 5628: 3274, 8604: 3275, 8605: 3276, 875: 3277, 932: 3278, 1017: 3279, 1019: 3280, 1292: 3281, 1381: 3282, 1515: 3283, 1635: 3284, 1703: 3285, 2125: 3286, 2334: 3287, 2340: 3288, 2385: 3289, 2471: 3290, 2560: 3291, 2567: 3292, 2662: 3293, 2728: 3294, 2803: 3295, 2881: 3296, 2950: 3297, 3077: 3298, 3452: 3299, 3553: 3300, 3554: 3301, 3653: 3302, 3675: 3303, 3707: 3304, 3786: 3305, 3978: 3306, 3981: 3307, 4015: 3308, 4068: 3309, 4069: 3310, 4124: 3311, 4141: 3312, 4326: 3313, 4356: 3314, 4372: 3315, 4387: 3316, 4388: 3317, 4639: 3318, 4677: 3319, 4681: 3320, 4823: 3321, 4877: 3322, 4969: 3323, 5049: 3324, 5400: 3325, 5444: 3326, 5541: 3327, 5553: 3328, 6193: 3329, 6383: 3330, 6595: 3331, 6707: 3332, 6753: 3333, 6755: 3334, 6879: 3335, 6893: 3336, 6939: 3337, 7010: 3338, 7137: 3339, 7256: 3340, 7320: 3341, 7346: 3342, 7454: 3343, 7541: 3344, 7566: 3345, 8366: 3346, 8677: 3347, 8781: 3348, 8807: 3349, 8861: 3350, 8866: 3351, 8910: 3352, 8947: 3353, 8968: 3354, 8985: 3355, 26712: 3356, 26778: 3357, 26871: 3358, 27473: 3359, 27539: 3360, 27705: 3361, 30822: 3362, 31049: 3363, 32598: 3364, 33154: 3365, 33437: 3366, 33672: 3367, 34153: 3368, 34542: 3369, 40732: 3370, 40959: 3371, 41571: 3372, 41573: 3373, 41724: 3374, 42018: 3375, 42718: 3376, 42738: 3377, 44004: 3378, 44709: 3379, 44788: 3380, 45431: 3381, 45501: 3382, 45720: 3383, 45726: 3384, 45928: 3385, 46322: 3386, 46948: 3387, 47970: 3388, 47978: 3389, 47999: 3390, 48342: 3391, 48696: 3392, 49274: 3393, 49772: 3394, 50658: 3395, 50685: 3396, 50740: 3397, 50806: 3398, 51709: 3399, 51884: 3400, 52287: 3401, 52435: 3402, 52458: 3403, 52767: 3404, 52975: 3405, 53435: 3406, 54004: 3407, 54116: 3408, 54121: 3409, 54281: 3410, 54734: 3411, 54881: 3412, 55052: 3413, 55112: 3414, 55190: 3415, 55232: 3416, 55253: 3417, 55267: 3418, 55282: 3419, 55620: 3420, 55830: 3421, 56152: 3422, 56251: 3423, 56336: 3424, 56339: 3425, 56379: 3426, 57951: 3427, 58078: 3428, 58107: 3429, 58162: 3430, 58347: 3431, 58839: 3432, 59126: 3433, 59220: 3434, 59258: 3435, 59440: 3436, 59731: 3437, 60363: 3438, 60514: 3439, 62155: 3440, 62293: 3441, 62956: 3442, 62999: 3443, 64622: 3444, 65188: 3445, 66198: 3446, 66665: 3447, 67087: 3448, 67267: 3449, 67408: 3450, 67618: 3451, 68659: 3452, 68952: 3453, 69069: 3454, 69394: 3455, 69524: 3456, 69784: 3457, 69904: 3458, 70492: 3459, 70521: 3460, 70990: 3461, 71282: 3462, 72167: 3463, 72489: 3464, 72591: 3465, 73023: 3466, 74154: 3467, 74508: 3468, 74668: 3469, 74946: 3470, 76751: 3471, 78467: 3472, 78703: 3473, 79057: 3474, 80860: 3475, 81910: 3476, 83134: 3477, 83803: 3478, 84772: 3479, 85780: 3480, 86293: 3481, 86377: 3482, 86833: 3483, 89087: 3484, 89470: 3485, 90576: 3486, 92420: 3487, 93287: 3488, 94959: 3489, 95218: 3490, 95624: 3491, 95875: 3492, 96110: 3493, 114762: 3494, 4744: 3495, 4880: 3496, 1172: 3497, 1300: 3498, 1955: 3499, 1959: 3500, 1962: 3501, 3152: 3502, 3359: 3503, 3468: 3504, 91077: 3505, 2136: 3506, 44193: 3507, 45221: 3508, 47122: 3509, 47518: 3510, 48414: 3511, 50601: 3512, 53460: 3513, 55768: 3514, 68135: 3515, 69278: 3516, 71518: 3517, 72226: 3518, 74647: 3519, 75805: 3520, 76293: 3521, 87485: 3522, 92509: 3523, 93272: 3524, 99106: 3525, 101612: 3526, 105037: 3527, 109483: 3528, 111320: 3529, 112450: 3530, 112788: 3531, 113378: 3532, 114074: 3533, 123947: 3534, 127202: 3535, 128520: 3536, 131013: 3537, 138204: 3538, 149354: 3539, 151739: 3540, 926: 3541, 949: 3542, 1041: 3543, 1185: 3544, 2010: 3545, 2360: 3546, 2594: 3547, 3089: 3548, 3307: 3549, 4103: 3550, 4427: 3551, 4546: 3552, 5300: 3553, 5304: 3554, 5341: 3555, 5434: 3556, 5812: 3557, 5867: 3558, 6235: 3559, 6244: 3560, 6270: 3561, 6301: 3562, 6305: 3563, 6591: 3564, 6791: 3565, 6852: 3566, 6858: 3567, 7087: 3568, 7158: 3569, 7234: 3570, 7419: 3571, 7889: 3572, 8154: 3573, 8183: 3574, 8340: 3575, 8341: 3576, 8804: 3577, 8838: 3578, 26350: 3579, 26578: 3580, 27721: 3581, 31522: 3582, 39292: 3583, 44937: 3584, 48698: 3585, 50274: 3586, 52967: 3587, 55069: 3588, 55444: 3589, 55814: 3590, 57147: 3591, 58103: 3592, 58154: 3593, 6303: 3594, 7001: 3595, 2318: 3596, 7669: 3597, 39446: 3598, 55577: 3599, 63436: 3600, 72129: 3601, 81535: 3602, 20: 3603, 2792: 3604, 164: 3605, 1189: 3606, 1192: 3607, 2659: 3608, 3197: 3609, 3266: 3610, 3425: 3611, 3576: 3612, 4887: 3613, 6059: 3614, 6952: 3615, 60030: 3616, 69654: 3617, 75395: 3618, 78266: 3619, 78349: 3620, 80363: 3621, 80831: 3622, 81417: 3623, 82041: 3624, 84189: 3625, 84601: 3626, 85397: 3627, 90405: 3628, 90469: 3629, 91974: 3630, 93297: 3631, 96691: 3632, 96917: 3633, 98361: 3634, 100810: 3635, 103075: 3636, 103688: 3637, 2381: 3638, 2383: 3639, 2384: 3640, 4386: 3641, 4989: 3642, 5065: 3643, 5094: 3644, 5106: 3645, 5296: 3646, 5414: 3647, 5803: 3648, 5874: 3649, 5900: 3650, 6006: 3651, 6014: 3652, 6249: 3653, 6338: 3654, 6484: 3655, 6536: 3656, 6550: 3657, 6566: 3658, 6586: 3659, 6593: 3660, 6686: 3661, 6687: 3662, 6702: 3663, 6750: 3664, 6752: 3665, 6764: 3666, 6886: 3667, 6887: 3668, 6946: 3669, 6949: 3670, 6958: 3671, 7142: 3672, 3155: 3673, 27397: 3674, 55442: 3675, 58303: 3676, 14: 3677, 55: 3678, 154: 3679, 214: 3680, 287: 3681, 299: 3682, 321: 3683, 324: 3684, 326: 3685, 331: 3686, 369: 3687, 406: 3688, 691: 3689, 722: 3690, 726: 3691, 900: 3692, 948: 3693, 971: 3694, 987: 3695, 1091: 3696, 1131: 3697, 1132: 3698, 1135: 3699, 1187: 3700, 1190: 3701, 1194: 3702, 1286: 3703, 1290: 3704, 1295: 3705, 1296: 3706, 1305: 3707, 1395: 3708, 1414: 3709, 53: 3710, 1140: 3711, 1519: 3712, 1596: 3713, 1624: 3714, 1683: 3715, 1694: 3716, 1730: 3717, 72356: 3718, 74553: 3719, 3910: 3720, 6464: 3721, 7312: 3722, 26974: 3723, 74795: 3724, 83177: 3725, 901: 3726, 905: 3727, 918: 3728, 936: 3729, 945: 3730, 946: 3731, 947: 3732, 950: 3733, 3061: 3734, 3097: 3735, 3315: 3736, 3599: 3737, 3604: 3738, 3606: 3739, 3991: 3740, 4300: 3741, 4899: 3742, 5092: 3743, 5480: 3744, 5529: 3745, 5621: 3746, 6271: 3747, 6402: 3748, 6604: 3749, 6650: 3750, 6783: 3751, 7067: 3752, 7209: 3753, 7297: 3754, 7381: 3755, 8238: 3756, 8372: 3757, 8814: 3758, 8978: 3759, 25887: 3760, 26183: 3761, 26184: 3762, 26265: 3763, 26429: 3764, 26645: 3765, 27619: 3766, 27826: 3767, 31851: 3768, 31925: 3769, 32060: 3770, 32243: 3771, 32596: 3772, 33090: 3773, 33830: 3774, 34312: 3775, 34332: 3776, 35807: 3777, 37384: 3778, 37444: 3779, 40339: 3780, 40962: 3781, 41828: 3782, 42013: 3783, 42725: 3784, 42761: 3785, 44773: 3786, 44777: 3787, 44851: 3788, 46105: 3789, 47725: 3790, 47736: 3791, 48520: 3792, 48649: 3793, 48982: 3794, 49013: 3795, 49735: 3796, 50613: 3797, 50999: 3798, 51167: 3799, 51575: 3800, 53280: 3801, 53355: 3802, 53578: 3803, 55269: 3804, 58291: 3805, 60289: 3806, 60737: 3807, 62008: 3808, 64116: 3809, 65588: 3810, 66798: 3811, 66943: 3812, 67888: 3813, 69211: 3814, 69304: 3815, 69469: 3816, 69720: 3817, 70697: 3818, 72178: 3819, 72624: 3820, 72692: 3821, 72701: 3822, 73015: 3823, 73042: 3824, 73160: 3825, 73822: 3826, 74342: 3827, 74683: 3828, 74698: 3829, 76143: 3830, 76301: 3831, 77688: 3832, 78142: 3833, 78620: 3834, 79684: 3835, 79897: 3836, 80727: 3837, 81087: 3838, 81537: 3839, 82854: 3840, 83910: 3841, 83969: 3842, 84246: 3843, 84512: 3844, 84944: 3845, 85295: 3846, 85881: 3847, 86059: 3848, 86298: 3849, 87834: 3850, 88069: 3851, 88746: 3852, 88785: 3853, 88812: 3854, 89898: 3855, 90717: 3856, 91355: 3857, 91386: 3858, 91666: 3859, 92643: 3860, 93006: 3861, 93022: 3862, 94661: 3863, 95633: 3864, 95843: 3865, 96608: 3866, 96935: 3867, 97836: 3868, 98279: 3869, 99117: 3870, 99122: 3871, 99130: 3872, 99853: 3873, 100390: 3874, 100507: 3875, 101283: 3876, 102378: 3877, 102686: 3878, 102747: 3879, 102984: 3880, 103602: 3881, 104339: 3882, 104875: 3883, 105540: 3884, 105746: 3885, 106594: 3886, 106927: 3887, 107951: 3888, 108078: 3889, 108949: 3890, 109241: 3891, 109596: 3892, 111146: 3893, 113252: 3894, 113453: 3895, 115111: 3896, 116718: 3897, 116738: 3898, 116817: 3899, 117109: 3900, 118270: 3901, 118530: 3902, 118572: 3903, 118834: 3904, 118862: 3905, 118894: 3906, 119714: 3907, 120813: 3908, 121007: 3909, 121097: 3910, 121338: 3911, 121342: 3912, 121469: 3913, 121781: 3914, 122092: 3915, 124273: 3916, 124404: 3917, 125970: 3918, 125974: 3919, 126088: 3920, 126577: 3921, 126921: 3922, 127052: 3923, 127134: 3924, 128087: 3925, 128089: 3926, 128366: 3927, 128594: 3928, 128852: 3929, 128944: 3930, 128968: 3931, 129011: 3932, 129354: 3933, 130452: 3934, 130518: 3935, 130520: 3936, 131098: 3937, 131104: 3938, 131130: 3939, 131439: 3940, 131610: 3941, 131826: 3942, 132153: 3943, 132422: 3944, 132496: 3945, 132584: 3946, 132800: 3947, 133712: 3948, 133867: 3949, 133879: 3950, 134004: 3951, 134334: 3952, 134847: 3953, 135777: 3954, 135937: 3955, 136341: 3956, 136353: 3957, 136355: 3958, 136359: 3959, 136503: 3960, 136834: 3961, 139157: 3962, 139640: 3963, 139994: 3964, 140133: 3965, 140481: 3966, 140541: 3967, 140561: 3968, 140711: 3969, 141513: 3970, 141544: 3971, 141646: 3972, 141830: 3973, 141928: 3974, 142196: 3975, 142444: 3976, 142550: 3977, 142831: 3978, 143031: 3979, 143559: 3980, 144222: 3981, 145491: 3982, 146244: 3983, 146684: 3984, 146986: 3985, 147410: 3986, 147936: 3987, 148632: 3988, 148775: 3989, 149350: 3990, 149352: 3991, 149508: 3992, 149566: 3993, 150554: 3994, 153386: 3995, 153408: 3996, 155589: 3997, 156025: 3998, 156781: 3999, 157296: 4000, 157775: 4001, 158398: 4002, 158882: 4003, 159069: 4004, 160567: 4005, 163527: 4006, 164200: 4007, 164226: 4008, 164707: 4009, 167018: 4010, 167380: 4011, 167772: 4012, 167854: 4013, 169912: 4014, 170837: 4015, 170993: 4016, 171751: 4017, 171811: 4018, 172321: 4019, 173253: 4020, 174681: 4021, 176621: 4022, 176805: 4023, 177185: 4024, 177765: 4025, 179211: 4026, 181065: 4027, 182293: 4028, 182297: 4029, 182299: 4030, 182731: 4031, 184349: 4032, 184791: 4033, 68: 4034, 81: 4035, 85: 4036, 116: 4037, 581: 4038, 617: 4039, 735: 4040, 766: 4041, 791: 4042, 896: 4043, 1034: 4044, 1116: 4045, 1137: 4046, 1144: 4047, 1366: 4048, 1411: 4049, 1417: 4050, 384: 4051, 464: 4052, 533: 4053, 1241: 4054, 1321: 4055, 1337: 4056, 1340: 4057, 1760: 4058, 1771: 4059, 1974: 4060, 1981: 4061, 2117: 4062, 2122: 4063, 2138: 4064, 2298: 4065, 2419: 4066, 2456: 4067, 2522: 4068, 2625: 4069, 2651: 4070, 2782: 4071, 2784: 4072, 2790: 4073, 2817: 4074, 2868: 4075, 2992: 4076, 3013: 4077, 3018: 4078, 3153: 4079, 3182: 4080, 3267: 4081, 3563: 4082, 3727: 4083, 3768: 4084, 3810: 4085, 3840: 4086, 4092: 4087, 4109: 4088, 4214: 4089, 4254: 4090, 4304: 4091, 4316: 4092, 4438: 4093, 4587: 4094, 4599: 4095, 4624: 4096, 4645: 4097, 4661: 4098, 4678: 4099, 4774: 4100, 4800: 4101, 4850: 4102, 4909: 4103, 4987: 4104, 5165: 4105, 5294: 4106, 5346: 4107, 5438: 4108, 5479: 4109, 5588: 4110, 5640: 4111, 5650: 4112, 5749: 4113, 6203: 4114, 6219: 4115, 6283: 4116, 6327: 4117, 6375: 4118, 6395: 4119, 6461: 4120, 6620: 4121, 6629: 4122, 6638: 4123, 6678: 4124, 6731: 4125, 6744: 4126, 6820: 4127, 6963: 4128, 7118: 4129, 7308: 4130, 7492: 4131, 7561: 4132, 7650: 4133, 7802: 4134, 8016: 4135, 8147: 4136, 8266: 4137, 8426: 4138, 8501: 4139, 8507: 4140, 8581: 4141, 27317: 4142, 27873: 4143, 2114: 4144, 2398: 4145, 54190: 4146, 1606: 4147, 2103: 4148, 1529: 4149, 1659: 4150, 2280: 4151, 2600: 4152, 3071: 4153, 3690: 4154, 4126: 4155, 4732: 4156, 4954: 4157, 5027: 4158, 5072: 4159, 5246: 4160, 5247: 4161, 5619: 4162, 5792: 4163, 6051: 4164, 6288: 4165, 6367: 4166, 1942: 4167, 3819: 4168, 5109: 4169, 5420: 4170, 71745: 4171, 79139: 4172, 1958: 4173, 2262: 4174, 3244: 4175, 5380: 4176, 6183: 4177, 6785: 4178, 233: 4179, 2337: 4180, 3179: 4181, 4873: 4182, 7367: 4183, 50912: 4184, 57522: 4185, 58972: 4186, 59022: 4187, 62553: 4188, 64114: 4189, 65088: 4190, 65577: 4191, 65802: 4192, 69140: 4193, 70728: 4194, 77206: 4195, 77427: 4196, 79572: 4197, 80572: 4198, 80586: 4199, 81156: 4200, 81819: 4201, 86014: 4202, 86815: 4203, 87194: 4204, 88108: 4205, 90890: 4206, 91126: 4207, 91653: 4208, 91671: 4209, 91976: 4210, 96728: 4211, 99764: 4212, 106766: 4213, 116799: 4214, 132046: 4215, 134881: 4216, 938: 4217, 1833: 4218, 2325: 4219, 2551: 4220, 2837: 4221, 3163: 4222, 3325: 4223, 3719: 4224, 3746: 4225, 4476: 4226, 4663: 4227, 4676: 4228, 4740: 4229, 4912: 4230, 4941: 4231, 5460: 4232, 6012: 4233, 6030: 4234, 6060: 4235, 6169: 4236, 6579: 4237, 7034: 4238, 7036: 4239, 7050: 4240, 7380: 4241, 8643: 4242, 8796: 4243, 25937: 4244, 32300: 4245, 45175: 4246, 53466: 4247, 54780: 4248, 69988: 4249, 80584: 4250, 85401: 4251, 93805: 4252, 94015: 4253, 94150: 4254, 94833: 4255, 213: 4256, 665: 4257, 935: 4258, 1111: 4259, 1178: 4260, 1354: 4261, 2131: 4262, 2495: 4263, 2931: 4264, 3306: 4265, 3310: 4266, 3592: 4267, 3629: 4268, 3677: 4269, 3687: 4270, 3742: 4271, 3821: 4272, 4325: 4273, 4788: 4274, 5373: 4275, 5888: 4276, 5889: 4277, 5912: 4278, 6187: 4279, 6433: 4280, 6643: 4281, 6777: 4282, 6985: 4283, 7347: 4284, 7371: 4285, 8025: 4286, 8033: 4287, 8197: 4288, 8511: 4289, 8638: 4290, 8656: 4291, 9010: 4292, 26082: 4293, 26150: 4294, 26236: 4295, 26237: 4296, 26347: 4297, 26471: 4298, 26587: 4299, 26662: 4300, 26849: 4301, 26903: 4302, 27134: 4303, 27803: 4304, 27815: 4305, 27834: 4306, 30803: 4307, 32892: 4308, 33124: 4309, 36363: 4310, 36401: 4311, 38159: 4312, 42191: 4313, 48872: 4314, 56060: 4315, 57183: 4316, 57504: 4317, 58425: 4318, 58554: 4319, 60904: 4320, 63515: 4321, 64993: 4322, 66371: 4323, 67923: 4324, 69134: 4325, 69529: 4326, 69685: 4327, 72104: 4328, 73881: 4329, 74324: 4330, 74727: 4331, 75341: 4332, 79333: 4333, 80124: 4334, 84156: 4335, 84844: 4336, 85316: 4337, 85736: 4338, 86066: 4339, 86320: 4340, 86347: 4341, 88235: 4342, 88345: 4343, 91261: 4344, 93790: 4345, 95175: 4346, 95311: 4347, 95313: 4348, 95377: 4349, 95654: 4350, 96020: 4351, 96373: 4352, 98604: 4353, 99145: 4354, 100302: 4355, 100553: 4356, 101088: 4357, 101962: 4358, 102602: 4359, 102666: 4360, 103235: 4361, 104780: 4362, 105593: 4363, 107159: 4364, 107408: 4365, 107410: 4366, 107412: 4367, 108540: 4368, 108727: 4369, 108981: 4370, 109633: 4371, 110586: 4372, 111622: 4373, 116411: 4374, 117444: 4375, 118166: 4376, 118888: 4377, 118896: 4378, 118985: 4379, 120138: 4380, 120478: 4381, 120625: 4382, 126090: 4383, 126426: 4384, 126430: 4385, 127098: 4386, 129514: 4387, 130970: 4388, 130976: 4389, 130978: 4390, 131237: 4391, 133716: 4392, 134041: 4393, 134095: 4394, 134109: 4395, 134184: 4396, 134252: 4397, 134326: 4398, 134849: 4399, 136445: 4400, 136447: 4401, 138835: 4402, 140038: 4403, 140265: 4404, 141810: 4405, 141816: 4406, 141818: 4407, 141820: 4408, 141836: 4409, 141844: 4410, 142020: 4411, 143511: 4412, 145994: 4413, 146028: 4414, 147196: 4415, 147250: 4416, 147282: 4417, 147286: 4418, 147300: 4419, 147326: 4420, 147328: 4421, 147330: 4422, 151769: 4423, 152591: 4424, 158402: 4425, 159811: 4426, 163072: 4427, 163112: 4428, 163134: 4429, 163386: 4430, 163925: 4431, 165959: 4432, 166183: 4433, 170411: 4434, 170597: 4435, 170777: 4436, 171749: 4437, 172577: 4438, 172583: 4439, 172585: 4440, 172587: 4441, 172589: 4442, 172637: 4443, 172793: 4444, 172825: 4445, 172909: 4446, 173351: 4447, 173355: 4448, 173535: 4449, 173619: 4450, 173963: 4451, 174551: 4452, 175293: 4453, 175387: 4454, 175397: 4455, 175401: 4456, 175431: 4457, 175435: 4458, 178613: 4459, 179133: 4460, 99636: 4461, 156: 4462, 1684: 4463, 2585: 4464, 3795: 4465, 4024: 4466, 4159: 4467, 4889: 4468, 4976: 4469, 4994: 4470, 5011: 4471, 5034: 4472, 5051: 4473, 5135: 4474, 5303: 4475, 5309: 4476, 5316: 4477, 5391: 4478, 5450: 4479, 5466: 4480, 5881: 4481, 6049: 4482, 283: 4483, 346: 4484, 528: 4485, 7096: 4486, 26171: 4487, 40870: 4488, 1856: 4489, 2447: 4490, 3979: 4491, 4228: 4492, 4247: 4493, 4649: 4494, 4900: 4495, 5025: 4496, 5363: 4497, 5501: 4498, 5524: 4499, 5564: 4500, 5942: 4501, 6003: 4502, 6482: 4503, 7225: 4504, 7285: 4505, 7439: 4506, 8531: 4507, 32298: 4508, 34520: 4509, 34530: 4510, 40581: 4511, 42007: 4512, 44840: 4513, 44972: 4514, 47640: 4515, 48322: 4516, 49396: 4517, 54732: 4518, 55245: 4519, 55261: 4520, 55872: 4521, 56805: 4522, 58156: 4523, 59143: 4524, 61255: 4525, 62439: 4526, 63479: 4527, 65585: 4528, 69436: 4529, 70565: 4530, 70641: 4531, 71205: 4532, 71668: 4533, 71838: 4534, 73929: 4535, 74275: 4536, 74532: 4537, 78174: 4538, 78209: 4539, 79428: 4540, 80139: 4541, 82852: 4542, 85022: 4543, 85367: 4544, 87483: 4545, 87529: 4546, 87867: 4547, 91323: 4548, 92264: 4549, 93270: 4550, 93443: 4551, 93831: 4552, 94478: 4553, 94953: 4554, 95720: 4555, 96616: 4556, 97172: 4557, 98083: 4558, 99007: 4559, 100083: 4560, 100194: 4561, 101142: 4562, 102720: 4563, 104218: 4564, 104644: 4565, 104925: 4566, 109282: 4567, 110669: 4568, 110771: 4569, 110773: 4570, 111375: 4571, 112497: 4572, 116977: 4573, 118930: 4574, 119153: 4575, 121372: 4576, 121374: 4577, 121715: 4578, 123200: 4579, 127116: 4580, 127152: 4581, 127390: 4582, 128097: 4583, 128099: 4584, 128914: 4585, 128975: 4586, 129737: 4587, 130087: 4588, 134861: 4589, 135137: 4590, 135436: 4591, 136443: 4592, 136471: 4593, 136511: 4594, 136598: 4595, 142422: 4596, 148652: 4597, 148956: 4598, 155509: 4599, 155812: 4600, 156609: 4601, 157312: 4602, 157699: 4603, 158813: 4604, 159161: 4605, 159441: 4606, 159755: 4607, 160080: 4608, 160271: 4609, 160289: 4610, 161024: 4611, 161580: 4612, 162344: 4613, 162478: 4614, 162602: 4615, 165103: 4616, 165483: 4617, 165645: 4618, 165671: 4619, 165843: 4620, 165947: 4621, 166461: 4622, 167634: 4623, 167746: 4624, 168144: 4625, 168326: 4626, 168418: 4627, 168632: 4628, 168846: 4629, 170357: 4630, 170399: 4631, 170401: 4632, 170813: 4633, 170817: 4634, 170897: 4635, 170937: 4636, 170957: 4637, 171251: 4638, 171631: 4639, 171867: 4640, 171891: 4641, 172215: 4642, 172547: 4643, 173255: 4644, 174045: 4645, 174815: 4646, 175577: 4647, 176329: 4648, 178323: 4649, 179427: 4650, 179953: 4651, 180265: 4652, 181139: 4653, 181659: 4654, 182749: 4655, 183197: 4656, 183227: 4657, 183959: 4658, 184015: 4659, 184257: 4660, 71: 4661, 779: 4662, 1043: 4663, 1589: 4664, 1600: 4665, 1735: 4666, 1829: 4667, 1897: 4668, 2132: 4669, 2166: 4670, 2331: 4671, 2475: 4672, 2749: 4673, 2764: 4674, 2844: 4675, 2969: 4676, 3099: 4677, 3103: 4678, 3217: 4679, 3251: 4680, 3296: 4681, 3537: 4682, 3546: 4683, 3831: 4684, 4003: 4685, 4063: 4686, 4083: 4687, 4130: 4688, 127198: 4689, 141718: 4690, 167732: 4691, 487: 4692, 2772: 4693, 4792: 4694, 62383: 4695, 73: 4696, 656: 4697, 46337: 4698, 66511: 4699, 85020: 4700, 95105: 4701, 99112: 4702, 103984: 4703, 108689: 4704, 109846: 4705, 110718: 4706, 110730: 4707, 112868: 4708, 114184: 4709, 114795: 4710, 117533: 4711, 117887: 4712, 120635: 4713, 127184: 4714, 128488: 4715, 130578: 4716, 131023: 4717, 131714: 4718, 135532: 4719, 136562: 4720, 136666: 4721, 138210: 4722, 141004: 4723, 165551: 4724, 52319: 4725, 70599: 4726, 71530: 4727, 77866: 4728, 95088: 4729, 96737: 4730, 97306: 4731, 112515: 4732, 115122: 4733, 121231: 4734, 144976: 4735, 69306: 4736, 81782: 4737, 112171: 4738, 143458: 4739, 501: 4740, 1844: 4741, 3342: 4742, 4082: 4743, 4738: 4744, 4864: 4745, 5088: 4746, 6902: 4747, 7008: 4748, 7265: 4749, 8254: 4750, 26681: 4751, 27022: 4752, 27482: 4753, 33201: 4754, 40148: 4755, 43836: 4756, 45440: 4757, 50842: 4758, 55278: 4759, 58301: 4760, 63276: 4761, 65130: 4762, 65642: 4763, 67695: 4764, 69516: 4765, 71304: 4766, 71429: 4767, 71520: 4768, 73488: 4769, 75985: 4770, 78218: 4771, 79553: 4772, 84952: 4773, 86721: 4774, 89190: 4775, 90403: 4776, 91470: 4777, 91690: 4778, 91947: 4779, 92694: 4780, 93855: 4781, 94931: 4782, 95690: 4783, 95761: 4784, 98607: 4785, 99437: 4786, 100882: 4787, 101112: 4788, 107630: 4789, 110330: 4790, 110882: 4791, 112623: 4792, 117466: 4793, 122890: 4794, 127096: 4795, 130490: 4796, 131749: 4797, 131920: 4798, 133217: 4799, 133771: 4800, 135567: 4801, 139855: 4802, 141408: 4803, 142420: 4804, 142456: 4805, 142509: 4806, 147142: 4807, 149144: 4808, 149146: 4809, 149830: 4810, 149902: 4811, 151455: 4812, 151695: 4813, 152083: 4814, 152091: 4815, 152284: 4816, 152970: 4817, 155064: 4818, 156371: 4819, 156387: 4820, 158783: 4821, 159415: 4822, 159717: 4823, 160563: 4824, 161634: 4825, 161966: 4826, 162082: 4827, 162578: 4828, 164881: 4829, 167790: 4830, 168266: 4831, 1066: 4832, 5159: 4833, 6093: 4834, 37830: 4835, 5959: 4836, 390: 4837, 567: 4838, 1318: 4839, 1554: 4840, 2729: 4841, 3067: 4842, 4168: 4843, 5284: 4844, 5508: 4845, 5969: 4846, 5970: 4847, 5992: 4848, 6251: 4849, 6291: 4850, 6774: 4851, 7773: 4852, 8973: 4853, 26776: 4854, 27731: 4855, 44694: 4856, 48082: 4857, 393: 4858, 893: 4859, 1422: 4860, 1483: 4861, 2798: 4862, 3102: 4863, 3327: 4864, 3812: 4865, 4037: 4866, 4066: 4867, 4467: 4868, 4553: 4869, 4613: 4870, 4634: 4871, 4812: 4872, 132: 4873, 188: 4874, 1949: 4875, 2330: 4876, 2940: 4877, 3679: 4878, 5177: 4879, 5385: 4880, 6986: 4881, 6987: 4882, 7171: 4883, 7762: 4884, 26084: 4885, 2582: 4886, 2924: 4887, 59103: 4888, 8640: 4889, 373: 4890, 1344: 4891, 1401: 4892, 1465: 4893, 1661: 4894, 1727: 4895, 1950: 4896, 1957: 4897, 2070: 4898, 2077: 4899, 2344: 4900, 2561: 4901, 2590: 4902, 2682: 4903, 2775: 4904, 2819: 4905, 2889: 4906, 2996: 4907, 3011: 4908, 3055: 4909, 3093: 4910, 3117: 4911, 3185: 4912, 3372: 4913, 3557: 4914, 3597: 4915, 3684: 4916, 3737: 4917, 3873: 4918, 3906: 4919, 3983: 4920, 3985: 4921, 3998: 4922, 4031: 4923, 4035: 4924, 4042: 4925, 4056: 4926, 4167: 4927, 4187: 4928, 4225: 4929, 4234: 4930, 4243: 4931, 4259: 4932, 4265: 4933, 4337: 4934, 4339: 4935, 4368: 4936, 4534: 4937, 4535: 4938, 4703: 4939, 4719: 4940, 4727: 4941, 4736: 4942, 4795: 4943, 4799: 4944, 4822: 4945, 4836: 4946, 4857: 4947, 4866: 4948, 4921: 4949, 4991: 4950, 5016: 4951, 5102: 4952, 5107: 4953, 5187: 4954, 5256: 4955, 5282: 4956, 5338: 4957, 5357: 4958, 5358: 4959, 5435: 4960, 5506: 4961, 5563: 4962, 5611: 4963, 5699: 4964, 5873: 4965, 5879: 4966, 5899: 4967, 5947: 4968, 6185: 4969, 6213: 4970, 6246: 4971, 6279: 4972, 6299: 4973, 6386: 4974, 6448: 4975, 6669: 4976, 6808: 4977, 6950: 4978, 7076: 4979, 7161: 4980, 7324: 4981, 8121: 4982, 8199: 4983, 26172: 4984, 26865: 4985, 27821: 4986, 31700: 4987, 32017: 4988, 34334: 4989, 34534: 4990, 37727: 4991, 39307: 4992, 42009: 4993, 42730: 4994, 43917: 4995, 44399: 4996, 47044: 4997, 49524: 4998, 49910: 4999, 6332: 5000, 6619: 5001, 7255: 5002, 7316: 5003, 8827: 5004, 32289: 5005, 36525: 5006, 78316: 5007, 103606: 5008, 27416: 5009, 98243: 5010, 160718: 5011, 1334: 5012, 2038: 5013, 2091: 5014, 9: 5015, 75: 5016, 634: 5017, 813: 5018, 840: 5019, 885: 5020, 1432: 5021, 36535: 5022, 56715: 5023, 64034: 5024, 81456: 5025, 85885: 5026, 100843: 5027, 101973: 5028, 105355: 5029, 112454: 5030, 133780: 5031, 138396: 5032, 152270: 5033, 173145: 5034, 177615: 5035, 179709: 5036, 86644: 5037, 130634: 5038, 1516: 5039, 2879: 5040, 2880: 5041, 3286: 5042, 3287: 5043, 3618: 5044, 425: 5045, 764: 5046, 869: 5047, 1078: 5048, 1162: 5049, 1264: 5050, 1836: 5051, 1948: 5052, 2130: 5053, 2239: 5054, 2247: 5055, 2290: 5056, 2349: 5057, 2361: 5058, 2511: 5059, 2734: 5060, 2750: 5061, 2779: 5062, 2863: 5063, 2946: 5064, 2970: 5065, 3028: 5066, 3076: 5067, 3096: 5068, 3130: 5069, 3134: 5070, 3141: 5071, 3167: 5072, 3200: 5073, 3223: 5074, 3224: 5075, 3283: 5076, 3341: 5077, 3467: 5078, 3473: 5079, 3492: 5080, 3503: 5081, 3506: 5082, 4205: 5083, 4784: 5084, 5637: 5085, 5788: 5086, 5847: 5087, 6509: 5088, 6658: 5089, 6684: 5090, 7089: 5091, 7107: 5092, 8128: 5093, 8571: 5094, 8614: 5095, 26313: 5096, 31038: 5097, 2392: 5098, 27674: 5099, 55391: 5100, 66320: 5101, 242: 5102, 718: 5103, 990: 5104, 1107: 5105, 1163: 5106, 1627: 5107, 1713: 5108, 1969: 5109, 1979: 5110, 2051: 5111, 2126: 5112, 2162: 5113, 2210: 5114, 2252: 5115, 2314: 5116, 2364: 5117, 2367: 5118, 2531: 5119, 2745: 5120, 2748: 5121, 2769: 5122, 2789: 5123, 2818: 5124, 2977: 5125, 2986: 5126, 3357: 5127, 3572: 5128, 3616: 5129, 3649: 5130, 3858: 5131, 3864: 5132, 3877: 5133, 4055: 5134, 4450: 5135, 4735: 5136, 6250: 5137, 6319: 5138, 6322: 5139, 6538: 5140, 5643: 5141, 45732: 5142, 1821: 5143, 1837: 5144, 3404: 5145, 4440: 5146, 5415: 5147, 5485: 5148, 5527: 5149, 5530: 5150, 5993: 5151, 6480: 5152, 4406: 5153, 7333: 5154, 7934: 5155, 26078: 5156, 26131: 5157, 33564: 5158, 2017: 5159, 2084: 5160, 4142: 5161, 4193: 5162, 4373: 5163, 4867: 5164, 4936: 5165, 4951: 5166, 5222: 5167, 5472: 5168, 5941: 5169, 6005: 5170, 6252: 5171, 6324: 5172, 6339: 5173, 6568: 5174, 7045: 5175, 7060: 5176, 7080: 5177, 7614: 5178, 8008: 5179, 1051: 5180, 1454: 5181, 2526: 5182, 5410: 5183, 7259: 5184, 8362: 5185, 8911: 5186, 33880: 5187, 39427: 5188, 43904: 5189, 44613: 5190, 47382: 5191, 1929: 5192, 1931: 5193, 1936: 5194, 1938: 5195, 2013: 5196, 2176: 5197, 2847: 5198, 3364: 5199, 3564: 5200, 3801: 5201, 3909: 5202, 3964: 5203, 4920: 5204, 5264: 5205, 5387: 5206, 6212: 5207, 6412: 5208, 6429: 5209, 6483: 5210, 6624: 5211, 6856: 5212, 7054: 5213, 7065: 5214, 7078: 5215, 7121: 5216, 7164: 5217, 7215: 5218, 7222: 5219, 7243: 5220, 7302: 5221, 7366: 5222, 7369: 5223, 7728: 5224, 8600: 5225, 8609: 5226, 8695: 5227, 8718: 5228, 8860: 5229, 8948: 5230, 9008: 5231, 25746: 5232, 25750: 5233, 25771: 5234, 25797: 5235, 25827: 5236, 25856: 5237, 25906: 5238, 27772: 5239, 31297: 5240, 33499: 5241, 33669: 5242, 34336: 5243, 35957: 5244, 39449: 5245, 40826: 5246, 42011: 5247, 42015: 5248, 43560: 5249, 45081: 5250, 46974: 5251, 48412: 5252, 48593: 5253, 49389: 5254, 51925: 5255, 51939: 5256, 52694: 5257, 56176: 5258, 60161: 5259, 61406: 5260, 63853: 5261, 65261: 5262, 66297: 5263, 67788: 5264, 70159: 5265, 71970: 5266, 72731: 5267, 72733: 5268, 77846: 5269, 78574: 5270, 80126: 5271, 83132: 5272, 86487: 5273, 89804: 5274, 89939: 5275, 90647: 5276, 93008: 5277, 95558: 5278, 98154: 5279, 123545: 5280, 5665: 5281, 6380: 5282, 33903: 5283, 725: 5284, 169: 5285, 453: 5286, 97: 5287, 166: 5288, 600: 5289, 760: 5290, 1437: 5291, 1447: 5292, 1546: 5293, 1598: 5294, 1611: 5295, 1649: 5296, 1695: 5297, 1827: 5298, 1941: 5299, 2022: 5300, 2025: 5301, 2181: 5302, 2295: 5303, 2474: 5304, 2563: 5305, 2607: 5306, 2691: 5307, 2696: 5308, 2765: 5309, 2971: 5310, 2976: 5311, 3003: 5312, 3078: 5313, 3150: 5314, 3158: 5315, 3323: 5316, 3474: 5317, 3521: 5318, 3598: 5319, 3747: 5320, 3761: 5321, 3862: 5322, 3879: 5323, 3888: 5324, 3895: 5325, 3915: 5326, 3925: 5327, 3947: 5328, 3955: 5329, 3992: 5330, 3993: 5331, 4032: 5332, 4052: 5333, 4133: 5334, 4146: 5335, 4152: 5336, 4157: 5337, 4160: 5338, 4178: 5339, 4275: 5340, 4305: 5341, 4307: 5342, 4313: 5343, 4350: 5344, 4389: 5345, 4407: 5346, 4439: 5347, 4452: 5348, 4628: 5349, 4640: 5350, 4642: 5351, 4644: 5352, 4699: 5353, 4723: 5354, 4770: 5355, 4811: 5356, 4815: 5357, 4826: 5358, 4849: 5359, 4879: 5360, 4888: 5361, 4898: 5362, 4911: 5363, 4919: 5364, 4959: 5365, 4978: 5366, 5046: 5367, 5062: 5368, 5083: 5369, 5095: 5370, 5131: 5371, 5155: 5372, 5298: 5373, 5323: 5374, 5325: 5375, 5347: 5376, 5379: 5377, 5421: 5378, 5423: 5379, 5425: 5380, 5427: 5381, 5486: 5382, 5498: 5383, 5522: 5384, 5609: 5385, 5612: 5386, 5615: 5387, 5646: 5388, 5666: 5389, 5668: 5390, 5680: 5391, 5684: 5392, 5772: 5393, 5809: 5394, 5818: 5395, 5999: 5396, 6002: 5397, 6041: 5398, 6062: 5399, 6067: 5400, 6192: 5401, 6215: 5402, 6217: 5403, 6264: 5404, 6285: 5405, 6294: 5406, 6330: 5407, 6334: 5408, 6335: 5409, 6341: 5410, 6551: 5411, 6571: 5412, 6572: 5413, 6588: 5414, 6645: 5415, 6679: 5416, 6688: 5417, 6881: 5418, 6890: 5419, 6932: 5420, 6969: 5421, 6971: 5422, 6978: 5423, 7038: 5424, 7264: 5425, 7299: 5426, 7352: 5427, 7354: 5428, 7449: 5429, 7698: 5430, 8042: 5431, 1582: 5432, 2457: 5433, 2534: 5434, 3573: 5435, 3726: 5436, 68959: 5437, 70533: 5438, 74754: 5439, 84187: 5440, 103210: 5441, 104303: 5442, 106873: 5443, 109578: 5444, 109848: 5445, 117895: 5446, 122906: 5447, 127212: 5448, 148978: 5449, 157369: 5450, 158035: 5451, 161594: 5452, 162968: 5453, 162982: 5454, 164917: 5455, 165635: 5456, 165639: 5457, 166291: 5458, 168090: 5459, 168218: 5460, 170907: 5461, 172705: 5462, 173235: 5463, 174479: 5464, 175475: 5465, 175585: 5466, 177285: 5467, 177939: 5468, 178111: 5469, 178827: 5470, 180297: 5471, 180497: 5472, 180985: 5473, 180987: 5474, 181413: 5475, 183911: 5476, 184641: 5477, 189333: 5478, 191005: 5479, 193565: 5480, 193567: 5481, 193571: 5482, 193573: 5483, 193579: 5484, 193581: 5485, 193583: 5486, 193585: 5487, 193587: 5488, 1685: 5489, 1767: 5490, 2799: 5491, 5804: 5492, 952: 5493, 2035: 5494, 2208: 5495, 2346: 5496, 2527: 5497, 3068: 5498, 3516: 5499, 3711: 5500, 3927: 5501, 4813: 5502, 5039: 5503, 5214: 5504, 5493: 5505, 5497: 5506, 5499: 5507, 5540: 5508, 2557: 5509, 2810: 5510, 3091: 5511, 3627: 5512, 4785: 5513, 5244: 5514, 5570: 5515, 5909: 5516, 6368: 5517, 7044: 5518, 7844: 5519, 7976: 5520, 7981: 5521, 8491: 5522, 8582: 5523, 8607: 5524, 25788: 5525, 25825: 5526, 26122: 5527, 26840: 5528, 27592: 5529, 27850: 5530, 27865: 5531, 27879: 5532, 27912: 5533, 31364: 5534, 32387: 5535, 33138: 5536, 33421: 5537, 33896: 5538, 37240: 5539, 39869: 5540, 46572: 5541, 49263: 5542, 49932: 5543, 1951: 5544, 2436: 5545, 2967: 5546, 3469: 5547, 72: 5548, 99: 5549, 148: 5550, 155: 5551, 178: 5552, 229: 5553, 269: 5554, 496: 5555, 668: 5556, 26116: 5557, 1392: 5558, 1502: 5559, 1755: 5560, 1306: 5561, 2575: 5562, 2744: 5563, 3436: 5564, 3894: 5565, 3932: 5566, 4174: 5567, 4808: 5568, 4932: 5569, 5607: 5570, 698: 5571, 731: 5572, 1055: 5573, 2165: 5574, 2670: 5575, 2674: 5576, 2815: 5577, 3129: 5578, 4608: 5579, 5670: 5580, 8532: 5581, 8833: 5582, 45210: 5583, 56274: 5584, 57243: 5585, 4722: 5586, 5139: 5587, 5610: 5588, 27685: 5589, 34321: 5590, 45106: 5591, 50802: 5592, 62299: 5593, 49: 5594, 461: 5595, 574: 5596, 679: 5597, 1176: 5598, 1312: 5599, 2024: 5600, 2147: 5601, 2983: 5602, 3036: 5603, 3138: 5604, 3194: 5605, 3214: 5606, 3329: 5607, 3402: 5608, 3445: 5609, 3470: 5610, 3528: 5611, 3682: 5612, 3724: 5613, 3725: 5614, 3834: 5615, 5949: 5616, 8815: 5617, 27075: 5618, 27368: 5619, 54372: 5620, 58332: 5621, 59604: 5622, 67295: 5623, 79008: 5624, 81132: 5625, 83601: 5626, 71462: 5627, 179817: 5628, 140956: 5629, 185029: 5630, 4625: 5631, 7810: 5632, 7811: 5633, 7812: 5634, 34397: 5635, 40697: 5636, 51562: 5637, 56915: 5638, 62834: 5639, 62836: 5640, 65651: 5641, 77795: 5642, 100611: 5643, 106642: 5644, 117192: 5645, 117646: 5646, 119167: 5647, 123553: 5648, 128842: 5649, 130444: 5650, 140359: 5651, 146662: 5652, 147372: 5653, 147374: 5654, 147376: 5655, 147378: 5656, 147380: 5657, 147382: 5658, 147384: 5659, 150596: 5660, 159779: 5661, 166203: 5662, 179511: 5663, 180031: 5664, 184053: 5665, 189547: 5666, 87192: 5667, 87234: 5668, 92439: 5669, 106144: 5670, 107314: 5671, 113573: 5672, 161922: 5673, 168366: 5674, 170697: 5675, 174909: 5676, 175197: 5677, 182823: 5678, 183897: 5679, 188751: 5680, 43679: 5681, 57274: 5682, 86142: 5683, 89582: 5684, 83: 5685, 55451: 5686, 927: 5687, 3422: 5688, 3963: 5689, 275: 5690, 429: 5691, 438: 5692, 444: 5693, 504: 5694, 517: 5695, 564: 5696, 692: 5697, 809: 5698, 870: 5699, 1007: 5700, 1085: 5701, 1126: 5702, 1581: 5703, 1599: 5704, 1602: 5705, 1626: 5706, 1671: 5707, 1677: 5708, 1686: 5709, 1731: 5710, 1867: 5711, 1875: 5712, 1937: 5713, 2056: 5714, 2152: 5715, 2350: 5716, 2373: 5717, 2382: 5718, 2473: 5719, 2477: 5720, 2525: 5721, 2535: 5722, 2537: 5723, 2741: 5724, 2786: 5725, 2816: 5726, 3014: 5727, 3132: 5728, 3165: 5729, 3389: 5730, 3392: 5731, 3406: 5732, 3417: 5733, 3431: 5734, 3432: 5735, 3433: 5736, 3434: 5737, 3524: 5738, 3529: 5739, 6425: 5740, 1752: 5741, 2296: 5742, 3054: 5743, 4749: 5744, 5047: 5745, 7319: 5746, 8880: 5747, 31221: 5748, 36708: 5749, 37380: 5750, 41716: 5751, 46335: 5752, 46850: 5753, 54768: 5754, 55020: 5755, 55292: 5756, 56156: 5757, 61246: 5758, 61348: 5759, 1430: 5760, 4219: 5761, 60937: 5762, 62344: 5763, 62437: 5764, 63540: 5765, 64231: 5766, 2469: 5767, 3090: 5768, 3095: 5769, 4338: 5770, 4605: 5771, 5248: 5772, 5382: 5773, 6306: 5774, 6639: 5775, 6724: 5776, 7013: 5777, 7056: 5778, 7072: 5779, 7216: 5780, 7311: 5781, 8044: 5782, 8364: 5783, 9018: 5784, 25773: 5785, 25841: 5786, 26375: 5787, 27768: 5788, 27776: 5789, 27820: 5790, 27882: 5791, 27899: 5792, 30818: 5793, 30846: 5794, 31437: 5795, 31610: 5796, 31692: 5797, 31702: 5798, 32022: 5799, 32584: 5800, 32632: 5801, 32770: 5802, 2205: 5803, 5523: 5804, 5710: 5805, 6290: 5806, 8363: 5807, 26322: 5808, 26732: 5809, 59014: 5810, 62250: 5811, 66744: 5812, 81831: 5813, 91483: 5814, 91628: 5815, 95307: 5816, 95949: 5817, 96448: 5818, 97168: 5819, 97860: 5820, 101531: 5821, 103137: 5822, 2747: 5823, 55854: 5824, 3496: 5825, 1130: 5826, 2327: 5827, 2633: 5828, 3042: 5829, 63: 5830, 1236: 5831, 1655: 5832, 1887: 5833, 2432: 5834, 2514: 5835, 2515: 5836, 2984: 5837, 3688: 5838, 3843: 5839, 4229: 5840, 4233: 5841, 4544: 5842, 4782: 5843, 5456: 5844, 5584: 5845, 6298: 5846, 6523: 5847, 6625: 5848, 6695: 5849, 6938: 5850, 7103: 5851, 7448: 5852, 32666: 5853, 37720: 5854, 45028: 5855, 51088: 5856, 38304: 5857, 85342: 5858, 8626: 5859, 34330: 5860, 52715: 5861, 55241: 5862, 55553: 5863, 4789: 5864, 5458: 5865, 5478: 5866, 5572: 5867, 5573: 5868, 6013: 5869, 6040: 5870, 6057: 5871, 6186: 5872, 6374: 5873, 6615: 5874, 6862: 5875, 6951: 5876, 6959: 5877, 7150: 5878, 7257: 5879, 7258: 5880, 7261: 5881, 7262: 5882, 7376: 5883, 7440: 5884, 8369: 5885, 8530: 5886, 8799: 5887, 8830: 5888, 8835: 5889, 8836: 5890, 8864: 5891, 8912: 5892, 8916: 5893, 8918: 5894, 8939: 5895, 27434: 5896, 27790: 5897, 27816: 5898, 27837: 5899, 27839: 5900, 30883: 5901, 30894: 5902, 31114: 5903, 31223: 5904, 31427: 5905, 31431: 5906, 31445: 5907, 31867: 5908, 32009: 5909, 32011: 5910, 32019: 5911, 32589: 5912, 33148: 5913, 33158: 5914, 33164: 5915, 33639: 5916, 33815: 5917, 34129: 5918, 34271: 5919, 34532: 5920, 36509: 5921, 36533: 5922, 37477: 5923, 37853: 5924, 38798: 5925, 39231: 5926, 39435: 5927, 40851: 5928, 40946: 5929, 41769: 5930, 42728: 5931, 42732: 5932, 43556: 5933, 43871: 5934, 43919: 5935, 43932: 5936, 44397: 5937, 44731: 5938, 45208: 5939, 45442: 5940, 45662: 5941, 48161: 5942, 48596: 5943, 49220: 5944, 49276: 5945, 49284: 5946, 49793: 5947, 50005: 5948, 50158: 5949, 50445: 5950, 50798: 5951, 50923: 5952, 51082: 5953, 51412: 5954, 51698: 5955, 51933: 5956, 51937: 5957, 52283: 5958, 52712: 5959, 53127: 5960, 54256: 5961, 55995: 5962, 57326: 5963, 57526: 5964, 58105: 5965, 58627: 5966, 58876: 5967, 59985: 5968, 61705: 5969, 62081: 5970, 62511: 5971, 66509: 5972, 67186: 5973, 67197: 5974, 70301: 5975, 70334: 5976, 71252: 5977, 71254: 5978, 71823: 5979, 73515: 5980, 78893: 5981, 81512: 5982, 78103: 5983, 118198: 5984, 134214: 5985, 136912: 5986, 162600: 5987, 178061: 5988, 183011: 5989, 42: 5990, 577: 5991, 917: 5992, 1460: 5993, 1495: 5994, 1707: 5995, 1826: 5996, 2050: 5997, 2566: 5998, 3672: 5999, 1998: 6000, 4329: 6001, 4498: 6002, 4803: 6003, 4852: 6004, 4916: 6005, 4917: 6006, 4945: 6007, 4946: 6008, 4947: 6009, 4957: 6010, 81786: 6011, 118700: 6012, 547: 6013, 2919: 6014, 3566: 6015, 3106: 6016, 123: 6017, 757: 6018, 4956: 6019, 5279: 6020, 7486: 6021, 8327: 6022, 27320: 6023, 61026: 6024, 68486: 6025, 80615: 6026, 80969: 6027, 83613: 6028, 90888: 6029, 82169: 6030, 120799: 6031, 151763: 6032, 4470: 6033, 4531: 6034, 5784: 6035, 7016: 6036, 26686: 6037, 27478: 6038, 32213: 6039, 33085: 6040, 38294: 6041, 39400: 6042, 47254: 6043, 47810: 6044, 51037: 6045, 58315: 6046, 65810: 6047, 66171: 6048, 69606: 6049, 70361: 6050, 72605: 6051, 73431: 6052, 75813: 6053, 77667: 6054, 78039: 6055, 78088: 6056, 80862: 6057, 82053: 6058, 84637: 6059, 84942: 6060, 85056: 6061, 85131: 6062, 85510: 6063, 86295: 6064, 86835: 6065, 86960: 6066, 87298: 6067, 88699: 6068, 88954: 6069, 89047: 6070, 89840: 6071, 90057: 6072, 90430: 6073, 90439: 6074, 90531: 6075, 91622: 6076, 91978: 6077, 92008: 6078, 92507: 6079, 93363: 6080, 93512: 6081, 93563: 6082, 93766: 6083, 94266: 6084, 94780: 6085, 95207: 6086, 95309: 6087, 95583: 6088, 95873: 6089, 96411: 6090, 96417: 6091, 98239: 6092, 99750: 6093, 99910: 6094, 100163: 6095, 101025: 6096, 101076: 6097, 101362: 6098, 102033: 6099, 102684: 6100, 103539: 6101, 103624: 6102, 103655: 6103, 104243: 6104, 105351: 6105, 107953: 6106, 108928: 6107, 109042: 6108, 109673: 6109, 110297: 6110, 110350: 6111, 111364: 6112, 112070: 6113, 143365: 6114, 143367: 6115, 146210: 6116, 148888: 6117, 160954: 6118, 169984: 6119, 173941: 6120, 175569: 6121, 184253: 6122, 185435: 6123, 6983: 6124, 142115: 6125, 4217: 6126, 26366: 6127, 26524: 6128, 44633: 6129, 58309: 6130, 5319: 6131, 44929: 6132, 48883: 6133, 1739: 6134, 2907: 6135, 3929: 6136, 4480: 6137, 121171: 6138, 131656: 6139, 140725: 6140, 146024: 6141, 128: 6142, 2348: 6143, 2766: 6144, 2859: 6145, 4529: 6146, 4711: 6147, 5137: 6148, 5820: 6149, 6027: 6150, 6337: 6151, 6370: 6152, 6713: 6153, 7564: 6154, 7815: 6155, 8011: 6156, 8015: 6157, 294: 6158, 988: 6159, 1415: 6160, 7879: 6161, 8535: 6162, 7303: 6163, 388: 6164, 1807: 6165, 2240: 6166, 2377: 6167, 2445: 6168, 3733: 6169, 3807: 6170, 476: 6171, 2812: 6172, 1791: 6173, 1964: 6174, 2178: 6175, 2182: 6176, 2593: 6177, 2630: 6178, 2829: 6179, 619: 6180, 886: 6181, 1255: 6182, 1327: 6183, 1497: 6184, 1503: 6185, 1992: 6186, 1993: 6187, 2170: 6188, 2448: 6189, 2498: 6190, 2517: 6191, 2846: 6192, 2974: 6193, 3235: 6194, 3511: 6195, 3652: 6196, 3676: 6197, 3696: 6198, 3857: 6199, 3908: 6200, 3938: 6201, 4030: 6202, 4143: 6203, 4224: 6204, 4248: 6205, 4533: 6206, 4683: 6207, 4748: 6208, 4771: 6209, 5076: 6210, 5080: 6211, 5127: 6212, 5401: 6213, 5452: 6214, 5556: 6215, 5569: 6216, 5667: 6217, 5833: 6218, 5853: 6219, 6196: 6220, 6220: 6221, 6379: 6222, 6405: 6223, 6559: 6224, 6664: 6225, 6715: 6226, 6794: 6227, 6868: 6228, 6872: 6229, 7024: 6230, 7117: 6231, 7228: 6232, 7236: 6233, 7321: 6234, 7362: 6235, 7368: 6236, 7646: 6237, 7845: 6238, 7846: 6239, 7894: 6240, 8142: 6241, 8225: 6242, 8241: 6243, 8578: 6244, 8831: 6245, 8906: 6246, 8967: 6247, 26242: 6248, 26492: 6249, 26523: 6250, 26629: 6251, 26736: 6252, 26870: 6253, 27311: 6254, 27604: 6255, 27618: 6256, 27822: 6257, 30745: 6258, 31193: 6259, 31909: 6260, 33132: 6261, 33834: 6262, 34323: 6263, 37382: 6264, 37475: 6265, 38992: 6266, 40723: 6267, 42285: 6268, 43549: 6269, 44828: 6270, 45361: 6271, 50147: 6272, 50440: 6273, 50800: 6274, 51091: 6275, 51498: 6276, 53468: 6277, 54648: 6278, 54785: 6279, 56012: 6280, 57536: 6281, 57910: 6282, 58870: 6283, 59727: 6284, 60037: 6285, 60291: 6286, 60522: 6287, 60538: 6288, 60979: 6289, 65126: 6290, 66427: 6291, 66783: 6292, 69251: 6293, 69275: 6294, 70994: 6295, 71211: 6296, 71379: 6297, 71500: 6298, 74075: 6299, 74685: 6300, 74851: 6301, 77364: 6302, 78041: 6303, 79274: 6304, 80846: 6305, 298: 6306, 556: 6307, 1123: 6308, 1406: 6309, 1533: 6310, 1571: 6311, 1574: 6312, 1594: 6313, 1904: 6314, 2069: 6315, 2073: 6316, 2212: 6317, 2323: 6318, 2624: 6319, 2824: 6320, 2937: 6321, 2964: 6322, 3038: 6323, 3046: 6324, 3192: 6325, 3302: 6326, 3384: 6327, 3480: 6328, 3728: 6329, 3794: 6330, 3914: 6331, 4061: 6332, 4116: 6333, 4285: 6334, 4334: 6335, 4345: 6336, 4384: 6337, 4809: 6338, 5147: 6339, 5241: 6340, 5258: 6341, 5272: 6342, 5603: 6343, 5723: 6344, 5745: 6345, 5884: 6346, 5938: 6347, 6122: 6348, 6254: 6349, 1167: 6350, 107069: 6351, 60293: 6352, 70984: 6353, 71619: 6354, 73266: 6355, 86817: 6356, 91079: 6357, 4091: 6358, 113207: 6359, 6086: 6360, 5876: 6361, 963: 6362, 1008: 6363, 1128: 6364, 1389: 6365, 1660: 6366, 1983: 6367, 1984: 6368, 1995: 6369, 2043: 6370, 2055: 6371, 2057: 6372, 2095: 6373, 2098: 6374, 2120: 6375, 2163: 6376, 2241: 6377, 2259: 6378, 2286: 6379, 2347: 6380, 2365: 6381, 2400: 6382, 2460: 6383, 2462: 6384, 2852: 6385, 2866: 6386, 2902: 6387, 2903: 6388, 3015: 6389, 3161: 6390, 3313: 6391, 3331: 6392, 3345: 6393, 3368: 6394, 3525: 6395, 3689: 6396, 3767: 6397, 3771: 6398, 3806: 6399, 3833: 6400, 3846: 6401, 3926: 6402, 3928: 6403, 3930: 6404, 3957: 6405, 3971: 6406, 3974: 6407, 4000: 6408, 4009: 6409, 4010: 6410, 4043: 6411, 4110: 6412, 4412: 6413, 4443: 6414, 4459: 6415, 4473: 6416, 4492: 6417, 4506: 6418, 4522: 6419, 4709: 6420, 4953: 6421, 4966: 6422, 5428: 6423, 5462: 6424, 5543: 6425, 5544: 6426, 5638: 6427, 7619: 6428, 8959: 6429, 31923: 6430, 34528: 6431, 37736: 6432, 42418: 6433, 43460: 6434, 43869: 6435, 46967: 6436, 47261: 6437, 47950: 6438, 48416: 6439, 60760: 6440, 6125: 6441, 6453: 6442, 26704: 6443, 129: 6444, 341: 6445, 1699: 6446, 2066: 6447, 2439: 6448, 2494: 6449, 2549: 6450, 2660: 6451, 2932: 6452, 2988: 6453, 3007: 6454, 3559: 6455, 3634: 6456, 3713: 6457, 3738: 6458, 3849: 6459, 102007: 6460, 2828: 6461, 3086: 6462, 3871: 6463, 4830: 6464, 7720: 6465, 8383: 6466, 33677: 6467, 68597: 6468, 80839: 6469, 87522: 6470, 92192: 6471, 96121: 6472, 97470: 6473, 113345: 6474, 115231: 6475, 127323: 6476, 129937: 6477, 130576: 6478, 165549: 6479, 278: 6480, 470: 6481, 499: 6482, 998: 6483, 1440: 6484, 2149: 6485, 2736: 6486, 3043: 6487, 3412: 6488, 3544: 6489, 3667: 6490, 3710: 6491, 160848: 6492, 169034: 6493, 171765: 6494, 1439: 6495, 1526: 6496, 1746: 6497, 4733: 6498, 4757: 6499, 4845: 6500, 5128: 6501, 6554: 6502, 6811: 6503, 7460: 6504, 7926: 6505, 26887: 6506, 34523: 6507, 36537: 6508, 50610: 6509, 54745: 6510, 54934: 6511, 58655: 6512, 58806: 6513, 61729: 6514, 62113: 6515, 67799: 6516, 68600: 6517, 70663: 6518, 71248: 6519, 72405: 6520, 74452: 6521, 74916: 6522, 76060: 6523, 84615: 6524, 90376: 6525, 91128: 6526, 103048: 6527, 109895: 6528, 112370: 6529, 112911: 6530, 116138: 6531, 127108: 6532, 134528: 6533, 134783: 6534, 134808: 6535, 136449: 6536, 138798: 6537, 8261: 6538, 944: 6539, 6818: 6540, 26249: 6541, 49347: 6542, 60516: 6543, 64499: 6544, 64501: 6545, 72294: 6546, 74624: 6547, 74868: 6548, 79251: 6549, 80590: 6550, 85788: 6551, 89118: 6552, 91842: 6553, 94018: 6554, 105197: 6555, 105585: 6556, 106441: 6557, 106785: 6558, 109850: 6559, 112818: 6560, 112897: 6561, 114246: 6562, 118706: 6563, 131796: 6564, 132796: 6565, 140627: 6566, 145418: 6567, 148671: 6568, 158027: 6569, 160400: 6570, 163985: 6571, 177763: 6572, 185585: 6573, 92391: 6574, 104908: 6575, 105731: 6576, 115664: 6577, 122884: 6578, 140016: 6579, 149334: 6580, 156726: 6581, 158528: 6582, 159858: 6583, 175199: 6584, 183295: 6585, 409: 6586, 1323: 6587, 1325: 6588, 1328: 6589, 1490: 6590, 2154: 6591, 2190: 6592, 2332: 6593, 2506: 6594, 2516: 6595, 2559: 6596, 2639: 6597, 2787: 6598, 2962: 6599, 3051: 6600, 3145: 6601, 3280: 6602, 3423: 6603, 3478: 6604, 3830: 6605, 3943: 6606, 4127: 6607, 4181: 6608, 4371: 6609, 4403: 6610, 4520: 6611, 4584: 6612, 4602: 6613, 4619: 6614, 4662: 6615, 4673: 6616, 4697: 6617, 4750: 6618, 4835: 6619, 4862: 6620, 4885: 6621, 4893: 6622, 4915: 6623, 5099: 6624, 5170: 6625, 5255: 6626, 5361: 6627, 5443: 6628, 5454: 6629, 5538: 6630, 5539: 6631, 5590: 6632, 5664: 6633, 5696: 6634, 5735: 6635, 5736: 6636, 5883: 6637, 5927: 6638, 6153: 6639, 6265: 6640, 6316: 6641, 6558: 6642, 6705: 6643, 6827: 6644, 6850: 6645, 6999: 6646, 7026: 6647, 7030: 6648, 7282: 6649, 7636: 6650, 7708: 6651, 7781: 6652, 8169: 6653, 8402: 6654, 8506: 6655, 9005: 6656, 26133: 6657, 26792: 6658, 27555: 6659, 27838: 6660, 30848: 6661, 31422: 6662, 31424: 6663, 33171: 6664, 33681: 6665, 34143: 6666, 34326: 6667, 37857: 6668, 39234: 6669, 48142: 6670, 48518: 6671, 48678: 6672, 49314: 6673, 52375: 6674, 52867: 6675, 53956: 6676, 53974: 6677, 55272: 6678, 55729: 6679, 56003: 6680, 58287: 6681, 65601: 6682, 65738: 6683, 65740: 6684, 65882: 6685, 973: 6686, 1946: 6687, 3171: 6688, 3872: 6689, 4432: 6690, 5398: 6691, 6452: 6692, 6706: 6693, 7218: 6694, 7943: 6695, 25886: 6696, 3330: 6697, 4483: 6698, 6410: 6699, 7184: 6700, 7305: 6701, 40: 6702, 6561: 6703, 680: 6704, 3732: 6705, 4117: 6706, 4754: 6707, 5433: 6708, 5925: 6709, 2275: 6710, 3889: 6711, 4180: 6712, 4210: 6713, 618: 6714, 703: 6715, 2896: 6716, 74545: 6717, 81158: 6718, 82667: 6719, 104272: 6720, 110387: 6721, 121253: 6722, 133115: 6723, 773: 6724, 823: 6725, 1419: 6726, 3569: 6727, 3736: 6728, 3845: 6729, 4256: 6730, 4612: 6731, 4708: 6732, 4825: 6733, 5202: 6734, 5238: 6735, 5475: 6736, 5838: 6737, 6197: 6738, 6241: 6739, 6329: 6740, 7071: 6741, 7124: 6742, 7238: 6743, 7459: 6744, 7979: 6745, 8190: 6746, 8484: 6747, 8724: 6748, 8748: 6749, 26003: 6750, 26048: 6751, 26059: 6752, 26073: 6753, 26158: 6754, 26225: 6755, 26317: 6756, 26713: 6757, 26928: 6758, 27003: 6759, 27176: 6760, 27186: 6761, 27328: 6762, 31545: 6763, 31952: 6764, 32511: 6765, 32554: 6766, 32906: 6767, 32917: 6768, 40955: 6769, 42176: 6770, 44931: 6771, 47446: 6772, 48001: 6773, 48638: 6774, 49917: 6775, 51174: 6776, 53574: 6777, 53883: 6778, 54185: 6779, 54354: 6780, 57772: 6781, 58376: 6782, 60408: 6783, 60885: 6784, 61394: 6785, 62208: 6786, 64167: 6787, 65037: 6788, 65225: 6789, 65631: 6790, 67508: 6791, 68444: 6792, 69746: 6793, 69953: 6794, 71131: 6795, 71147: 6796, 71453: 6797, 71468: 6798, 71494: 6799, 71867: 6800, 72171: 6801, 72714: 6802, 72921: 6803, 74089: 6804, 74226: 6805, 74791: 6806, 76054: 6807, 76173: 6808, 76738: 6809, 77191: 6810, 77233: 6811, 78836: 6812, 79073: 6813, 80478: 6814, 80553: 6815, 81191: 6816, 83827: 6817, 83976: 6818, 84273: 6819, 84716: 6820, 85213: 6821, 86237: 6822, 86279: 6823, 86922: 6824, 87304: 6825, 87444: 6826, 87660: 6827, 89030: 6828, 89945: 6829, 90245: 6830, 90357: 6831, 90528: 6832, 90630: 6833, 90769: 6834, 91784: 6835, 91860: 6836, 92422: 6837, 92637: 6838, 94735: 6839, 96084: 6840, 97904: 6841, 100044: 6842, 100106: 6843, 100277: 6844, 101741: 6845, 102742: 6846, 102823: 6847, 105254: 6848, 106648: 6849, 109187: 6850, 109383: 6851, 109968: 6852, 111817: 6853, 113348: 6854, 114847: 6855, 116505: 6856, 117364: 6857, 117531: 6858, 117545: 6859, 117849: 6860, 118784: 6861, 118880: 6862, 120761: 6863, 121169: 6864, 124853: 6865, 127114: 6866, 127172: 6867, 127180: 6868, 127204: 6869, 127298: 6870, 128900: 6871, 128902: 6872, 128991: 6873, 133802: 6874, 134019: 6875, 134796: 6876, 136024: 6877, 138966: 6878, 140162: 6879, 140737: 6880, 140816: 6881, 143525: 6882, 143896: 6883, 144478: 6884, 145080: 6885, 148424: 6886, 150696: 6887, 152065: 6888, 155774: 6889, 158842: 6890, 159976: 6891, 160684: 6892, 168612: 6893, 170355: 6894, 171495: 6895, 173197: 6896, 173291: 6897, 173317: 6898, 179135: 6899, 184245: 6900, 188675: 6901, 188833: 6902, 189381: 6903, 26555: 6904, 2882: 6905, 110127: 6906, 111443: 6907, 3884: 6908, 3899: 6909, 3912: 6910, 30: 6911, 80: 6912, 183: 6913, 2425: 6914, 2848: 6915, 2894: 6916, 4086: 6917, 4263: 6918, 4294: 6919, 4471: 6920, 4500: 6921, 4523: 6922, 4714: 6923, 4717: 6924, 4927: 6925, 5033: 6926, 5075: 6927, 5980: 6928, 27866: 6929, 70451: 6930, 73344: 6931, 81257: 6932, 84240: 6933, 102194: 6934, 165101: 6935, 130482: 6936, 136850: 6937, 26528: 6938, 193609: 6939, 3420: 6940, 5226: 6941, 7925: 6942, 26564: 6943, 80917: 6944, 92938: 6945, 93610: 6946, 97757: 6947, 3567: 6948, 3580: 6949, 30850: 6950, 47404: 6951, 59118: 6952, 189043: 6953, 189111: 6954, 190207: 6955, 190209: 6956, 190213: 6957, 190215: 6958, 190219: 6959, 190221: 6960, 6869: 6961, 56869: 6962, 58842: 6963, 77177: 6964, 82378: 6965, 90345: 6966, 92243: 6967, 109687: 6968, 115969: 6969, 141749: 6970, 141890: 6971, 156783: 6972, 166946: 6973, 176751: 6974, 94405: 6975, 2188: 6976, 2370: 6977, 2676: 6978, 2975: 6979, 4195: 6980, 4419: 6981, 5404: 6982, 5707: 6983, 27751: 6984, 38164: 6985, 521: 6986, 1572: 6987, 2442: 6988, 4297: 6989, 4404: 6990, 4422: 6991, 5951: 6992, 6023: 6993, 6286: 6994, 6530: 6995, 7084: 6996, 7115: 6997, 7178: 6998, 7179: 6999, 7820: 7000, 7937: 7001, 7940: 7002, 8405: 7003, 32179: 7004, 6223: 7005, 6263: 7006, 40412: 7007, 52579: 7008, 54787: 7009, 55555: 7010, 57843: 7011, 60857: 7012, 60894: 7013, 88179: 7014, 88272: 7015, 88932: 7016, 89028: 7017, 89761: 7018, 90353: 7019, 90471: 7020, 92048: 7021, 5074: 7022, 7122: 7023, 34164: 7024, 44889: 7025, 48744: 7026, 58492: 7027, 59141: 7028, 1996: 7029, 4354: 7030, 4622: 7031, 6612: 7032, 8580: 7033, 8998: 7034, 27329: 7035, 53024: 7036, 59810: 7037, 73854: 7038, 74282: 7039, 93040: 7040, 96563: 7041, 2226: 7042, 26095: 7043, 65350: 7044, 70687: 7045, 85334: 7046, 87028: 7047, 89386: 7048, 26472: 7049, 1647: 7050, 161127: 7051, 176389: 7052, 176579: 7053, 96964: 7054, 101415: 7055, 106062: 7056, 107997: 7057, 109569: 7058, 113604: 7059, 114494: 7060, 132888: 7061, 145935: 7062, 148172: 7063, 155288: 7064, 155820: 7065, 1565: 7066, 2695: 7067, 3299: 7068, 3453: 7069, 4053: 7070, 4078: 7071, 4505: 7072, 4517: 7073, 2307: 7074, 2399: 7075, 3127: 7076, 3162: 7077, 3545: 7078, 3716: 7079, 3731: 7080, 3758: 7081, 3922: 7082, 33312: 7083, 55167: 7084, 112512: 7085, 335: 7086, 882: 7087, 1351: 7088, 1352: 7089, 1601: 7090, 3648: 7091, 4434: 7092, 4942: 7093, 5113: 7094, 5288: 7095, 5468: 7096, 5706: 7097, 5979: 7098, 6021: 7099, 6654: 7100, 6656: 7101, 6836: 7102, 6899: 7103, 7104: 7104, 7304: 7105, 7756: 7106, 7834: 7107, 8138: 7108, 8610: 7109, 25959: 7110, 27692: 7111, 32139: 7112, 42556: 7113, 56837: 7114, 71302: 7115, 71999: 7116, 80748: 7117, 84799: 7118, 87287: 7119, 92760: 7120, 94262: 7121, 152: 7122, 2656: 7123, 4444: 7124, 4814: 7125, 5134: 7126, 5476: 7127, 6889: 7128, 7310: 7129, 8526: 7130, 26585: 7131, 26999: 7132, 27584: 7133, 27683: 7134, 27802: 7135, 31698: 7136, 31804: 7137, 32456: 7138, 32743: 7139, 33644: 7140, 40614: 7141, 40617: 7142, 44020: 7143, 47124: 7144, 51927: 7145, 52950: 7146, 58404: 7147, 60818: 7148, 63222: 7149, 64249: 7150, 65133: 7151, 68194: 7152, 71129: 7153, 72601: 7154, 74750: 7155, 77798: 7156, 82744: 7157, 84414: 7158, 88515: 7159, 90603: 7160, 94160: 7161, 94985: 7162, 95004: 7163, 95147: 7164, 95149: 7165, 95182: 7166, 95473: 7167, 95475: 7168, 95497: 7169, 96007: 7170, 96815: 7171, 97643: 7172, 97785: 7173, 101739: 7174, 102058: 7175, 102084: 7176, 103233: 7177, 103449: 7178, 104141: 7179, 104419: 7180, 104457: 7181, 107723: 7182, 108795: 7183, 113278: 7184, 134524: 7185, 137863: 7186, 152173: 7187, 161354: 7188, 162598: 7189, 163056: 7190, 166558: 7191, 169982: 7192, 172497: 7193, 172875: 7194, 172881: 7195, 172887: 7196, 176935: 7197, 179119: 7198, 182639: 7199, 31435: 7200, 43376: 7201, 45074: 7202, 53326: 7203, 55259: 7204, 63808: 7205, 1003: 7206, 4580: 7207, 4632: 7208, 8387: 7209, 26764: 7210, 26765: 7211, 46865: 7212, 47952: 7213, 48598: 7214, 49647: 7215, 50003: 7216, 52279: 7217, 65685: 7218, 72696: 7219, 88356: 7220, 91660: 7221, 93139: 7222, 95796: 7223, 100737: 7224, 104074: 7225, 104076: 7226, 112460: 7227, 114713: 7228, 116887: 7229, 122902: 7230, 126482: 7231, 130686: 7232, 131934: 7233, 142372: 7234, 152079: 7235, 158254: 7236, 170289: 7237, 2546: 7238, 2669: 7239, 2856: 7240, 4276: 7241, 4323: 7242, 4355: 7243, 206: 7244, 363: 7245, 841: 7246, 1161: 7247, 1329: 7248, 1662: 7249, 1770: 7250, 1977: 7251, 2071: 7252, 2074: 7253, 2303: 7254, 2488: 7255, 2632: 7256, 3455: 7257, 3587: 7258, 3680: 7259, 3765: 7260, 3813: 7261, 3838: 7262, 3865: 7263, 3919: 7264, 4064: 7265, 4065: 7266, 4191: 7267, 4278: 7268, 4289: 7269, 4298: 7270, 4390: 7271, 4392: 7272, 4393: 7273, 4408: 7274, 4409: 7275, 4426: 7276, 4429: 7277, 4441: 7278, 4527: 7279, 4552: 7280, 4563: 7281, 4614: 7282, 4687: 7283, 4833: 7284, 4985: 7285, 4988: 7286, 5121: 7287, 5156: 7288, 5397: 7289, 5465: 7290, 5489: 7291, 5515: 7292, 5531: 7293, 5780: 7294, 5974: 7295, 5984: 7296, 6035: 7297, 6063: 7298, 6100: 7299, 6123: 7300, 6184: 7301, 6465: 7302, 6533: 7303, 6577: 7304, 6710: 7305, 6748: 7306, 6885: 7307, 6918: 7308, 6981: 7309, 7088: 7310, 7091: 7311, 7102: 7312, 7116: 7313, 7205: 7314, 7301: 7315, 7328: 7316, 7336: 7317, 7386: 7318, 7394: 7319, 7450: 7320, 7581: 7321, 7616: 7322, 7745: 7323, 7749: 7324, 7895: 7325, 7936: 7326, 7938: 7327, 7939: 7328, 7951: 7329, 7987: 7330, 7993: 7331, 8188: 7332, 8195: 7333, 8196: 7334, 8239: 7335, 8270: 7336, 8290: 7337, 8512: 7338, 8542: 7339, 8596: 7340, 8670: 7341, 25898: 7342, 25963: 7343, 26002: 7344, 26052: 7345, 26124: 7346, 26151: 7347, 26231: 7348, 26303: 7349, 26694: 7350, 31590: 7351, 31737: 7352, 32314: 7353, 32392: 7354, 33188: 7355, 40966: 7356, 41617: 7357, 44657: 7358, 44759: 7359, 44864: 7360, 46772: 7361, 47465: 7362, 52462: 7363, 52644: 7364, 6158: 7365, 63239: 7366, 104245: 7367, 6344: 7368, 7208: 7369, 27695: 7370, 44943: 7371, 59995: 7372, 695: 7373, 1150: 7374, 1900: 7375, 2708: 7376, 4237: 7377, 4562: 7378, 4965: 7379, 5470: 7380, 5477: 7381, 5537: 7382, 5575: 7383, 130842: 7384, 1701: 7385, 6408: 7386, 8738: 7387, 26147: 7388, 26631: 7389, 60333: 7390, 42734: 7391, 170939: 7392, 61465: 7393, 61697: 7394, 7134: 7395, 26810: 7396, 27664: 7397, 59814: 7398, 70708: 7399, 77266: 7400, 6776: 7401, 70305: 7402, 85412: 7403, 87785: 7404, 103596: 7405, 136540: 7406, 3590: 7407, 3760: 7408, 389: 7409, 549: 7410, 670: 7411, 824: 7412, 3823: 7413, 3855: 7414, 4077: 7415, 4175: 7416, 4268: 7417, 119: 7418, 386: 7419, 650: 7420, 1040: 7421, 1121: 7422, 1332: 7423, 1484: 7424, 1605: 7425, 1609: 7426, 1656: 7427, 1870: 7428, 1922: 7429, 2007: 7430, 2119: 7431, 2172: 7432, 2260: 7433, 2264: 7434, 2271: 7435, 2472: 7436, 2482: 7437, 2552: 7438, 2570: 7439, 2751: 7440, 2835: 7441, 2884: 7442, 2891: 7443, 2893: 7444, 2928: 7445, 2979: 7446, 3008: 7447, 3111: 7448, 3206: 7449, 3378: 7450, 3391: 7451, 3539: 7452, 3581: 7453, 3625: 7454, 3790: 7455, 3847: 7456, 3898: 7457, 3900: 7458, 3951: 7459, 3953: 7460, 4012: 7461, 4081: 7462, 4089: 7463, 4115: 7464, 4123: 7465, 4125: 7466, 4138: 7467, 4139: 7468, 4147: 7469, 4221: 7470, 4242: 7471, 4290: 7472, 4312: 7473, 4353: 7474, 4451: 7475, 4458: 7476, 4462: 7477, 4463: 7478, 4475: 7479, 4478: 7480, 4488: 7481, 4524: 7482, 4573: 7483, 4583: 7484, 4595: 7485, 4600: 7486, 4610: 7487, 4617: 7488, 4636: 7489, 4666: 7490, 4672: 7491, 4675: 7492, 4721: 7493, 4745: 7494, 4777: 7495, 4780: 7496, 4818: 7497, 4847: 7498, 4926: 7499, 4961: 7500, 4962: 7501, 5068: 7502, 5071: 7503, 5073: 7504, 5081: 7505, 5112: 7506, 5178: 7507, 5209: 7508, 5237: 7509, 5240: 7510, 5278: 7511, 5285: 7512, 5297: 7513, 5321: 7514, 5322: 7515, 5324: 7516, 5328: 7517, 5337: 7518, 5345: 7519, 5390: 7520, 5416: 7521, 5422: 7522, 5424: 7523, 5437: 7524, 5461: 7525, 5471: 7526, 5483: 7527, 5521: 7528, 5562: 7529, 5625: 7530, 5633: 7531, 5635: 7532, 5636: 7533, 5663: 7534, 5678: 7535, 5685: 7536, 5688: 7537, 5817: 7538, 5829: 7539, 5880: 7540, 5896: 7541, 5968: 7542, 5994: 7543, 6033: 7544, 6036: 7545, 6039: 7546, 6078: 7547, 6116: 7548, 6141: 7549, 6159: 7550, 6162: 7551, 6195: 7552, 6216: 7553, 6222: 7554, 6268: 7555, 6269: 7556, 6280: 7557, 6295: 7558, 6308: 7559, 6314: 7560, 6315: 7561, 6349: 7562, 6442: 7563, 6493: 7564, 6510: 7565, 6517: 7566, 6542: 7567, 6547: 7568, 6549: 7569, 6560: 7570, 6563: 7571, 6574: 7572, 6582: 7573, 6598: 7574, 6616: 7575, 6628: 7576, 6631: 7577, 6670: 7578, 6689: 7579, 6696: 7580, 6699: 7581, 6718: 7582, 6720: 7583, 6780: 7584, 6797: 7585, 6809: 7586, 6810: 7587, 6812: 7588, 6816: 7589, 6851: 7590, 6883: 7591, 6898: 7592, 6954: 7593, 7033: 7594, 7165: 7595, 7175: 7596, 7176: 7597, 7193: 7598, 7248: 7599, 7251: 7600, 7315: 7601, 7340: 7602, 7348: 7603, 7364: 7604, 7390: 7605, 8119: 7606, 8587: 7607, 8915: 7608, 8919: 7609, 8952: 7610, 8954: 7611, 25834: 7612, 30820: 7613, 31162: 7614, 32116: 7615, 33725: 7616, 33826: 7617, 33838: 7618, 34540: 7619, 41527: 7620, 42602: 7621, 43912: 7622, 45062: 7623, 45635: 7624, 46347: 7625, 46559: 7626, 48319: 7627, 48560: 7628, 49132: 7629, 49280: 7630, 49957: 7631, 50792: 7632, 51694: 7633, 52299: 7634, 52668: 7635, 52724: 7636, 52784: 7637, 53447: 7638, 54771: 7639, 55110: 7640, 55250: 7641, 56908: 7642, 58879: 7643, 59037: 7644, 60128: 7645, 60141: 7646, 61401: 7647, 70862: 7648, 76763: 7649, 95135: 7650, 112940: 7651, 115828: 7652, 127130: 7653, 154358: 7654, 166024: 7655, 166568: 7656, 167570: 7657, 169992: 7658, 173205: 7659, 173209: 7660, 176423: 7661, 180045: 7662, 90374: 7663, 1412: 7664, 2807: 7665, 4093: 7666, 27704: 7667, 50851: 7668, 69860: 7669, 79677: 7670, 85394: 7671, 86668: 7672, 89580: 7673, 90943: 7674, 97866: 7675, 6210: 7676, 8337: 7677, 8577: 7678, 26693: 7679, 59295: 7680, 2665: 7681, 3447: 7682, 3973: 7683, 4190: 7684, 4802: 7685, 4925: 7686, 4939: 7687, 5063: 7688, 136469: 7689, 91325: 7690, 6055: 7691, 6347: 7692, 6348: 7693, 6597: 7694, 5532: 7695, 7306: 7696, 8588: 7697, 27708: 7698, 33893: 7699, 45503: 7700, 66090: 7701, 68347: 7702, 71902: 7703, 80880: 7704, 89208: 7705, 92348: 7706, 568: 7707, 1675: 7708, 2540: 7709, 4453: 7710, 4743: 7711, 5409: 7712, 5580: 7713, 5675: 7714, 5787: 7715, 6992: 7716, 7017: 7717, 7192: 7718, 8782: 7719, 30898: 7720, 36276: 7721, 43708: 7722, 8690: 7723, 4402: 7724, 96430: 7725, 941: 7726, 1839: 7727, 2368: 7728, 2520: 7729, 2521: 7730, 2523: 7731, 2693: 7732, 2887: 7733, 3057: 7734, 3276: 7735, 3284: 7736, 3390: 7737, 3596: 7738, 3933: 7739, 4051: 7740, 4156: 7741, 4198: 7742, 4212: 7743, 4397: 7744, 4526: 7745, 4630: 7746, 4660: 7747, 4756: 7748, 4775: 7749, 4952: 7750, 4981: 7751, 5250: 7752, 5334: 7753, 5356: 7754, 5490: 7755, 5700: 7756, 5752: 7757, 5779: 7758, 5915: 7759, 6302: 7760, 6424: 7761, 6427: 7762, 6476: 7763, 6514: 7764, 6760: 7765, 6798: 7766, 6814: 7767, 7101: 7768, 7245: 7769, 7372: 7770, 8136: 7771, 8137: 7772, 8447: 7773, 8743: 7774, 26152: 7775, 26386: 7776, 26464: 7777, 26700: 7778, 31000: 7779, 32291: 7780, 34018: 7781, 37211: 7782, 43558: 7783, 48262: 7784, 49688: 7785, 50064: 7786, 53453: 7787, 53808: 7788, 55294: 7789, 58351: 7790, 61123: 7791, 61289: 7792, 63393: 7793, 65135: 7794, 66785: 7795, 67361: 7796, 69118: 7797, 69453: 7798, 69604: 7799, 70545: 7800, 71466: 7801, 71732: 7802, 72224: 7803, 72694: 7804, 73386: 7805, 75803: 7806, 75816: 7807, 77421: 7808, 78034: 7809, 78116: 7810, 79259: 7811, 79590: 7812, 79879: 7813, 79946: 7814, 80241: 7815, 80864: 7816, 81949: 7817, 82093: 7818, 82095: 7819, 82527: 7820, 83374: 7821, 84696: 7822, 84950: 7823, 85025: 7824, 85399: 7825, 86028: 7826, 86593: 7827, 87876: 7828, 88672: 7829, 89305: 7830, 89343: 7831, 89388: 7832, 89427: 7833, 90343: 7834, 90719: 7835, 90738: 7836, 91273: 7837, 91688: 7838, 91873: 7839, 91935: 7840, 92198: 7841, 92665: 7842, 93242: 7843, 93980: 7844, 93982: 7845, 94011: 7846, 94323: 7847, 94494: 7848, 94896: 7849, 94919: 7850, 95201: 7851, 95508: 7852, 95744: 7853, 96114: 7854, 96281: 7855, 96530: 7856, 96726: 7857, 97328: 7858, 97742: 7859, 97858: 7860, 97870: 7861, 97936: 7862, 98160: 7863, 98175: 7864, 98230: 7865, 98296: 7866, 98836: 7867, 98908: 7868, 99005: 7869, 99415: 7870, 99574: 7871, 99846: 7872, 99992: 7873, 100226: 7874, 100304: 7875, 100326: 7876, 100487: 7877, 101360: 7878, 101529: 7879, 101577: 7880, 101884: 7881, 101895: 7882, 102025: 7883, 102165: 7884, 102278: 7885, 102819: 7886, 102880: 7887, 103221: 7888, 103502: 7889, 103543: 7890, 103755: 7891, 103865: 7892, 104078: 7893, 104129: 7894, 104760: 7895, 104906: 7896, 105121: 7897, 105755: 7898, 106330: 7899, 106438: 7900, 106542: 7901, 106883: 7902, 107702: 7903, 107945: 7904, 107962: 7905, 108188: 7906, 108601: 7907, 108715: 7908, 109183: 7909, 109191: 7910, 109295: 7911, 109317: 7912, 109372: 7913, 109416: 7914, 110611: 7915, 110655: 7916, 110826: 7917, 111663: 7918, 111680: 7919, 111795: 7920, 112303: 7921, 112749: 7922, 113186: 7923, 113225: 7924, 113350: 7925, 113416: 7926, 113532: 7927, 114028: 7928, 114601: 7929, 114925: 7930, 115151: 7931, 115170: 7932, 115216: 7933, 116207: 7934, 116413: 7935, 116419: 7936, 116849: 7937, 116985: 7938, 117107: 7939, 117511: 7940, 118248: 7941, 118326: 7942, 118354: 7943, 118512: 7944, 118702: 7945, 118814: 7946, 118924: 7947, 118997: 7948, 119068: 7949, 119655: 7950, 120637: 7951, 120783: 7952, 122490: 7953, 122932: 7954, 124859: 7955, 125221: 7956, 126420: 7957, 127132: 7958, 127136: 7959, 127194: 7960, 127319: 7961, 128592: 7962, 129250: 7963, 129333: 7964, 129657: 7965, 129659: 7966, 130083: 7967, 131480: 7968, 132333: 7969, 132462: 7970, 132488: 7971, 132618: 7972, 133195: 7973, 133281: 7974, 133365: 7975, 133377: 7976, 133545: 7977, 133782: 7978, 133798: 7979, 134021: 7980, 134158: 7981, 134859: 7982, 136654: 7983, 136664: 7984, 136778: 7985, 136786: 7986, 136800: 7987, 136816: 7988, 136859: 7989, 137517: 7990, 138546: 7991, 139052: 7992, 139415: 7993, 139857: 7994, 140237: 7995, 140525: 7996, 140850: 7997, 141422: 7998, 142424: 7999, 143001: 8000, 143255: 8001, 143257: 8002, 143410: 8003, 143472: 8004, 144262: 8005, 144620: 8006, 144714: 8007, 144716: 8008, 145150: 8009, 146688: 8010, 146730: 8011, 148482: 8012, 148592: 8013, 148709: 8014, 149590: 8015, 149612: 8016, 150401: 8017, 150604: 8018, 151315: 8019, 151317: 8020, 151501: 8021, 151559: 8022, 151653: 8023, 151745: 8024, 151777: 8025, 152085: 8026, 152105: 8027, 152658: 8028, 154065: 8029, 155358: 8030, 155659: 8031, 155743: 8032, 155892: 8033, 156553: 8034, 156706: 8035, 157122: 8036, 157130: 8037, 157172: 8038, 157200: 8039, 157270: 8040, 157340: 8041, 157407: 8042, 157432: 8043, 158022: 8044, 158956: 8045, 159077: 8046, 159193: 8047, 159690: 8048, 160440: 8049, 160573: 8050, 160646: 8051, 160730: 8052, 161290: 8053, 161830: 8054, 161918: 8055, 162828: 8056, 164375: 8057, 164647: 8058, 164753: 8059, 165075: 8060, 165139: 8061, 165343: 8062, 165347: 8063, 168350: 8064, 168456: 8065, 169180: 8066, 173751: 8067, 3568: 8068, 2839: 8069, 3240: 8070, 3241: 8071, 3756: 8072, 3787: 8073, 1341: 8074, 706: 8075, 89039: 8076, 1757: 8077, 2677: 8078, 3859: 8079, 3989: 8080, 4236: 8081, 4863: 8082, 4977: 8083, 5205: 8084, 5212: 8085, 5224: 8086, 5239: 8087, 5986: 8088, 6064: 8089, 6466: 8090, 6528: 8091, 6611: 8092, 6775: 8093, 6935: 8094, 6945: 8095, 6966: 8096, 7181: 8097, 7620: 8098, 7767: 8099, 7786: 8100, 7920: 8101, 8620: 8102, 8848: 8103, 26359: 8104, 26838: 8105, 27563: 8106, 32582: 8107, 38198: 8108, 45382: 8109, 46855: 8110, 55156: 8111, 58191: 8112, 67665: 8113, 71640: 8114, 82857: 8115, 89090: 8116, 100556: 8117, 103107: 8118, 105835: 8119, 109161: 8120, 148982: 8121, 151311: 8122, 152711: 8123, 160644: 8124, 162414: 8125, 164655: 8126, 167064: 8127, 179813: 8128, 183199: 8129, 183317: 8130, 184721: 8131, 187717: 8132, 188189: 8133, 189713: 8134, 56169: 8135, 59738: 8136, 60832: 8137, 74530: 8138, 74580: 8139, 90384: 8140, 3723: 8141, 2493: 8142, 451: 8143, 1180: 8144, 3405: 8145, 3619: 8146, 3658: 8147, 3832: 8148, 96: 8149, 488: 8150, 638: 8151, 907: 8152, 929: 8153, 956: 8154, 959: 8155, 970: 8156, 976: 8157, 982: 8158, 993: 8159, 1068: 8160, 1398: 8161, 1413: 8162, 1423: 8163, 1496: 8164, 1507: 8165, 1629: 8166, 1650: 8167, 1893: 8168, 1902: 8169, 1913: 8170, 1926: 8171, 1928: 8172, 1932: 8173, 1933: 8174, 1940: 8175, 2177: 8176, 2179: 8177, 2180: 8178, 2185: 8179, 2187: 8180, 2201: 8181, 2211: 8182, 2611: 8183, 2612: 8184, 2652: 8185, 2697: 8186, 2743: 8187, 2757: 8188, 2801: 8189, 2927: 8190, 2929: 8191, 2930: 8192, 3109: 8193, 3112: 8194, 3125: 8195, 3135: 8196, 3211: 8197, 3281: 8198, 3475: 8199, 3609: 8200, 3641: 8201, 3714: 8202, 3715: 8203, 3739: 8204, 3789: 8205, 3816: 8206, 3870: 8207, 3965: 8208, 3966: 8209, 4046: 8210, 4080: 8211, 4113: 8212, 4129: 8213, 4164: 8214, 4171: 8215, 4184: 8216, 4189: 8217, 4204: 8218, 4218: 8219, 4292: 8220, 4296: 8221, 4433: 8222, 4484: 8223, 4495: 8224, 4521: 8225, 4578: 8226, 4589: 8227, 4635: 8228, 4704: 8229, 4769: 8230, 4796: 8231, 4798: 8232, 4801: 8233, 4804: 8234, 4860: 8235, 4871: 8236, 4970: 8237, 4998: 8238, 5007: 8239, 5012: 8240, 5077: 8241, 5114: 8242, 5116: 8243, 5168: 8244, 5213: 8245, 5231: 8246, 5311: 8247, 5353: 8248, 5375: 8249, 5384: 8250, 5440: 8251, 5455: 8252, 5512: 8253, 5525: 8254, 5581: 8255, 5601: 8256, 5602: 8257, 5604: 8258, 5629: 8259, 5649: 8260, 5694: 8261, 5755: 8262, 5771: 8263, 5799: 8264, 5801: 8265, 5802: 8266, 5826: 8267, 5836: 8268, 5863: 8269, 5875: 8270, 5963: 8271, 6020: 8272, 6031: 8273, 6042: 8274, 6090: 8275, 6101: 8276, 6163: 8277, 6178: 8278, 6181: 8279, 6201: 8280, 6225: 8281, 6228: 8282, 6232: 8283, 6245: 8284, 6273: 8285, 6289: 8286, 6336: 8287, 6357: 8288, 6376: 8289, 6382: 8290, 6390: 8291, 6400: 8292, 6407: 8293, 6422: 8294, 6434: 8295, 6454: 8296, 6477: 8297, 6515: 8298, 6527: 8299, 6545: 8300, 6581: 8301, 6584: 8302, 6592: 8303, 6603: 8304, 6609: 8305, 6614: 8306, 6660: 8307, 6667: 8308, 6732: 8309, 6768: 8310, 6770: 8311, 6772: 8312, 6788: 8313, 6837: 8314, 6909: 8315, 6911: 8316, 6912: 8317, 6948: 8318, 6962: 8319, 6965: 8320, 6970: 8321, 6982: 8322, 6984: 8323, 6990: 8324, 7012: 8325, 7019: 8326, 7049: 8327, 7051: 8328, 7052: 8329, 7053: 8330, 7055: 8331, 7057: 8332, 7058: 8333, 7059: 8334, 7061: 8335, 7062: 8336, 7070: 8337, 7073: 8338, 7074: 8339, 7075: 8340, 7079: 8341, 7082: 8342, 7083: 8343, 7085: 8344, 7086: 8345, 7092: 8346, 7093: 8347, 7141: 8348, 7167: 8349, 7177: 8350, 7190: 8351, 7211: 8352, 7212: 8353, 7217: 8354, 7219: 8355, 7223: 8356, 7326: 8357, 7357: 8358, 7382: 8359, 7414: 8360, 7479: 8361, 7560: 8362, 7572: 8363, 7579: 8364, 7584: 8365, 7618: 8366, 7702: 8367, 7705: 8368, 7713: 8369, 7714: 8370, 7716: 8371, 7727: 8372, 7772: 8373, 7789: 8374, 7822: 8375, 7826: 8376, 7831: 8377, 7832: 8378, 7833: 8379, 7835: 8380, 7839: 8381, 7840: 8382, 7882: 8383, 7883: 8384, 7888: 8385, 7896: 8386, 7900: 8387, 7944: 8388, 8019: 8389, 8057: 8390, 8094: 8391, 8125: 8392, 8153: 8393, 8167: 8394, 8191: 8395, 8232: 8396, 8275: 8397, 8293: 8398, 8302: 8399, 8331: 8400, 8336: 8401, 8338: 8402, 8375: 8403, 8382: 8404, 8385: 8405, 8410: 8406, 8424: 8407, 8446: 8408, 8450: 8409, 8451: 8410, 8458: 8411, 8459: 8412, 8461: 8413, 8462: 8414, 8463: 8415, 8465: 8416, 8481: 8417, 8482: 8418, 8487: 8419, 8492: 8420, 8502: 8421, 8518: 8422, 8521: 8423, 8534: 8424, 8575: 8425, 8591: 8426, 8611: 8427, 8617: 8428, 8650: 8429, 8684: 8430, 8711: 8431, 8712: 8432, 8714: 8433, 8730: 8434, 8753: 8435, 8754: 8436, 8771: 8437, 8773: 8438, 8774: 8439, 8778: 8440, 8809: 8441, 8813: 8442, 8875: 8443, 8920: 8444, 8921: 8445, 8938: 8446, 8943: 8447, 8955: 8448, 8979: 8449, 8987: 8450, 8989: 8451, 25752: 8452, 25753: 8453, 25757: 8454, 25769: 8455, 25795: 8456, 25826: 8457, 25850: 8458, 25865: 8459, 25870: 8460, 25927: 8461, 25940: 8462, 25952: 8463, 25962: 8464, 25996: 8465, 25999: 8466, 26791: 8467, 26965: 8468, 31030: 8469, 31083: 8470, 31260: 8471, 31694: 8472, 31903: 8473, 34359: 8474, 35015: 8475, 42740: 8476, 43333: 8477, 44511: 8478, 48741: 8479, 49666: 8480, 50160: 8481, 50514: 8482, 53921: 8483, 55071: 8484, 55687: 8485, 56563: 8486, 3720: 8487, 4454: 8488, 4557: 8489, 4725: 8490, 5069: 8491, 5348: 8492, 6148: 8493, 7335: 8494, 8126: 8495, 27537: 8496, 31660: 8497, 42422: 8498, 68945: 8499, 72308: 8500, 78746: 8501, 82242: 8502, 2362: 8503, 3428: 8504, 4111: 8505, 4410: 8506, 4831: 8507, 5197: 8508, 5365: 8509, 5389: 8510, 5448: 8511, 5651: 8512, 5773: 8513, 6436: 8514, 6853: 8515, 8131: 8516, 27830: 8517, 32294: 8518, 36477: 8519, 37844: 8520, 43914: 8521, 44197: 8522, 47646: 8523, 2068: 8524, 6320: 8525, 8268: 8526, 2483: 8527, 8632: 8528, 27370: 8529, 31617: 8530, 36397: 8531, 68522: 8532, 72554: 8533, 88448: 8534, 89586: 8535, 90863: 8536, 91890: 8537, 93723: 8538, 94810: 8539, 95939: 8540, 96283: 8541, 97665: 8542, 99087: 8543, 100068: 8544, 101765: 8545, 105325: 8546, 109941: 8547, 109971: 8548, 112316: 8549, 115065: 8550, 4759: 8551, 5786: 8552, 8593: 8553, 71268: 8554, 93320: 8555, 26900: 8556, 40597: 8557, 54796: 8558, 72874: 8559, 73501: 8560, 77881: 8561, 79299: 8562, 79536: 8563, 80454: 8564, 80551: 8565, 84553: 8566, 86000: 8567, 87413: 8568, 91488: 8569, 92730: 8570, 94130: 8571, 50954: 8572, 78160: 8573, 78544: 8574, 180231: 8575, 103: 8576, 467: 8577, 876: 8578, 1170: 8579, 73290: 8580, 140523: 8581, 131739: 8582, 56286: 8583, 449: 8584, 1824: 8585, 1910: 8586, 7455: 8587, 32914: 8588, 46231: 8589, 79798: 8590, 6596: 8591, 6927: 8592, 68269: 8593, 5613: 8594, 50796: 8595, 65193: 8596, 74677: 8597, 80834: 8598, 82088: 8599, 84847: 8600, 89678: 8601, 90809: 8602, 91266: 8603, 91337: 8604, 93134: 8605, 93988: 8606, 94799: 8607, 95193: 8608, 110781: 8609, 117133: 8610, 126142: 8611, 129229: 8612, 130073: 8613, 136838: 8614, 136840: 8615, 34148: 8616, 6145: 8617, 1335: 8618, 1978: 8619, 2878: 8620, 3294: 8621, 4202: 8622, 5041: 8623, 5189: 8624, 5704: 8625, 5797: 8626, 6746: 8627, 6821: 8628, 7477: 8629, 7730: 8630, 7891: 8631, 8894: 8632, 26198: 8633, 31150: 8634, 38583: 8635, 40478: 8636, 62586: 8637, 124484: 8638, 135216: 8639, 136958: 8640, 141994: 8641, 149330: 8642, 158830: 8643, 159510: 8644, 160571: 8645, 167538: 8646, 180263: 8647, 182727: 8648, 184931: 8649, 184987: 8650, 185033: 8651, 185473: 8652, 186587: 8653, 187031: 8654, 188797: 8655, 4646: 8656, 8772: 8657, 26761: 8658, 83270: 8659, 88267: 8660, 91414: 8661, 93740: 8662, 96471: 8663, 96518: 8664, 96520: 8665, 97194: 8666, 107780: 8667, 121099: 8668, 144352: 8669, 152037: 8670, 160422: 8671, 162590: 8672, 165489: 8673, 7266: 8674, 32469: 8675, 27006: 8676, 27369: 8677, 66544: 8678, 79006: 8679, 120130: 8680, 8264: 8681, 91869: 8682, 96150: 8683, 98122: 8684, 106889: 8685, 120807: 8686, 127164: 8687, 134248: 8688, 146682: 8689, 148667: 8690, 159849: 8691, 163653: 8692, 164540: 8693, 39516: 8694, 135198: 8695, 176413: 8696, 176415: 8697, 2742: 8698, 3673: 8699, 3674: 8700, 4445: 8701, 5560: 8702, 4284: 8703, 125914: 8704, 27251: 8705, 36289: 8706, 51024: 8707, 53138: 8708, 53140: 8709, 58297: 8710, 64695: 8711, 69805: 8712, 73804: 8713, 76743: 8714, 83480: 8715, 85179: 8716, 85261: 8717, 91353: 8718, 112580: 8719, 116529: 8720, 116668: 8721, 116724: 8722, 128542: 8723, 134775: 8724, 135885: 8725, 144734: 8726, 150993: 8727, 164367: 8728, 2573: 8729, 55946: 8730, 121129: 8731, 2107: 8732, 626: 8733, 1986: 8734, 1990: 8735, 3626: 8736, 3939: 8737, 3940: 8738, 3941: 8739, 3942: 8740, 3958: 8741, 1477: 8742, 168712: 8743, 142056: 8744, 167296: 8745, 1825: 8746, 5059: 8747, 5513: 8748, 7457: 8749, 43684: 8750, 61257: 8751, 2820: 8752, 633: 8753, 790: 8754, 1336: 8755, 1397: 8756, 1985: 8757, 2256: 8758, 2451: 8759, 2597: 8760, 2862: 8761, 3442: 8762, 3574: 8763, 3577: 8764, 3660: 8765, 3661: 8766, 3663: 8767, 3664: 8768, 3678: 8769, 3691: 8770, 5839: 8771, 5840: 8772, 6119: 8773, 26308: 8774, 31123: 8775, 37495: 8776, 38095: 8777, 48045: 8778, 54617: 8779, 59026: 8780, 68886: 8781, 73681: 8782, 81383: 8783, 96945: 8784, 105246: 8785, 109313: 8786, 111384: 8787, 130498: 8788, 141866: 8789, 142558: 8790, 148238: 8791, 148881: 8792, 154975: 8793, 6800: 8794, 105468: 8795, 168174: 8796, 4135: 8797, 26357: 8798, 27140: 8799, 27667: 8800, 73211: 8801, 99191: 8802, 100306: 8803, 43930: 8804, 44225: 8805, 47516: 8806, 61071: 8807, 62718: 8808, 70932: 8809, 72919: 8810, 74688: 8811, 77414: 8812, 78264: 8813, 80858: 8814, 82152: 8815, 90524: 8816, 94325: 8817, 95199: 8818, 96975: 8819, 100527: 8820, 115667: 8821, 128832: 8822, 139747: 8823, 50942: 8824, 5028: 8825, 8189: 8826, 8335: 8827, 8477: 8828, 25782: 8829, 26717: 8830, 26743: 8831, 40491: 8832, 51573: 8833, 57502: 8834, 70015: 8835, 71438: 8836, 81681: 8837, 82684: 8838, 92234: 8839, 92681: 8840, 99917: 8841, 101070: 8842, 102088: 8843, 102800: 8844, 104337: 8845, 104944: 8846, 109897: 8847, 110603: 8848, 113705: 8849, 114396: 8850, 114554: 8851, 114627: 8852, 117877: 8853, 122246: 8854, 122888: 8855, 132335: 8856, 134246: 8857, 135288: 8858, 136602: 8859, 141668: 8860, 142507: 8861, 150254: 8862, 151687: 8863, 152063: 8864, 152071: 8865, 153070: 8866, 156605: 8867, 166526: 8868, 166705: 8869, 170945: 8870, 176419: 8871, 179491: 8872, 179749: 8873, 179815: 8874, 1331: 8875, 1623: 8876, 1980: 8877, 2655: 8878, 2740: 8879, 2982: 8880, 3021: 8881, 3073: 8882, 430: 8883, 2538: 8884, 2623: 8885, 2629: 8886, 2415: 8887, 3143: 8888, 6751: 8889, 7395: 8890, 56389: 8891, 75446: 8892, 2965: 8893, 5767: 8894, 5828: 8895, 6342: 8896, 6583: 8897, 6692: 8898, 7349: 8899, 8092: 8900, 8236: 8901, 8427: 8902, 8494: 8903, 8800: 8904, 8844: 8905, 26819: 8906, 27373: 8907, 136556: 8908, 2738: 8909, 3403: 8910, 3414: 8911, 3449: 8912, 4710: 8913, 284: 8914, 1652: 8915, 2175: 8916, 2196: 8917, 2589: 8918, 3353: 8919, 4200: 8920, 4374: 8921, 4715: 8922, 4794: 8923, 4827: 8924, 5105: 8925, 5657: 8926, 6140: 8927, 6417: 8928, 6665: 8929, 6723: 8930, 6967: 8931, 6994: 8932, 7023: 8933, 7031: 8934, 7032: 8935, 7114: 8936, 7345: 8937, 7742: 8938, 7782: 8939, 8035: 8940, 8118: 8941, 8727: 8942, 2774: 8943, 3094: 8944, 4342: 8945, 6769: 8946, 7260: 8947, 7615: 8948, 27246: 8949, 32799: 8950, 33649: 8951, 43744: 8952, 55844: 8953, 59549: 8954, 59667: 8955, 68835: 8956, 69495: 8957, 70637: 8958, 92954: 8959, 111800: 8960, 111913: 8961, 113280: 8962, 120919: 8963, 128908: 8964, 129397: 8965, 132454: 8966, 133645: 8967, 141131: 8968, 151557: 8969, 163639: 8970, 168026: 8971, 171917: 8972, 176051: 8973, 178615: 8974, 181719: 8975, 182793: 8976, 183635: 8977, 184997: 8978, 615: 8979, 1112: 8980, 4424: 8981, 113829: 8982, 114265: 8983, 124851: 8984, 478: 8985, 806: 8986, 1114: 8987, 1426: 8988, 1794: 8989, 2281: 8990, 2292: 8991, 2339: 8992, 2586: 8993, 2698: 8994, 3379: 8995, 3571: 8996, 3669: 8997, 3700: 8998, 3709: 8999, 3962: 9000, 4197: 9001, 4240: 9002, 4394: 9003, 4490: 9004, 4504: 9005, 4511: 9006, 4568: 9007, 4574: 9008, 4593: 9009, 4594: 9010, 4597: 9011, 4603: 9012, 4670: 9013, 5053: 9014, 5054: 9015, 5096: 9016, 5111: 9017, 5136: 9018, 5198: 9019, 5221: 9020, 5268: 9021, 5442: 9022, 5591: 9023, 5596: 9024, 5597: 9025, 5689: 9026, 5768: 9027, 5961: 9028, 6204: 9029, 6267: 9030, 6310: 9031, 6506: 9032, 6557: 9033, 6587: 9034, 6691: 9035, 6722: 9036, 6734: 9037, 6804: 9038, 6860: 9039, 6882: 9040, 6998: 9041, 7005: 9042, 7041: 9043, 7047: 9044, 7108: 9045, 7125: 9046, 7191: 9047, 7307: 9048, 7443: 9049, 7657: 9050, 7704: 9051, 7707: 9052, 7986: 9053, 7988: 9054, 8043: 9055, 8045: 9056, 8380: 9057, 8425: 9058, 8500: 9059, 8720: 9060, 8755: 9061, 8905: 9062, 8934: 9063, 9004: 9064, 26142: 9065, 26159: 9066, 26176: 9067, 26195: 9068, 26283: 9069, 26285: 9070, 26344: 9071, 26365: 9072, 26413: 9073, 26453: 9074, 26467: 9075, 26510: 9076, 26539: 9077, 26542: 9078, 26547: 9079, 26562: 9080, 26567: 9081, 26590: 9082, 26593: 9083, 26612: 9084, 26622: 9085, 26630: 9086, 26676: 9087, 26696: 9088, 26701: 9089, 26726: 9090, 26741: 9091, 26745: 9092, 26782: 9093, 26797: 9094, 26828: 9095, 26854: 9096, 26861: 9097, 26913: 9098, 26940: 9099, 26947: 9100, 27002: 9101, 27008: 9102, 27032: 9103, 27074: 9104, 27105: 9105, 27124: 9106, 27155: 9107, 27306: 9108, 27420: 9109, 27441: 9110, 27549: 9111, 27595: 9112, 27722: 9113, 27762: 9114, 27769: 9115, 27784: 9116, 27829: 9117, 31367: 9118, 31553: 9119, 31664: 9120, 31921: 9121, 32058: 9122, 32440: 9123, 32442: 9124, 32515: 9125, 33126: 9126, 33294: 9127, 33435: 9128, 33629: 9129, 33801: 9130, 33966: 9131, 34292: 9132, 34800: 9133, 34811: 9134, 36850: 9135, 39801: 9136, 40578: 9137, 41627: 9138, 42559: 9139, 42638: 9140, 42943: 9141, 42946: 9142, 43419: 9143, 43677: 9144, 43908: 9145, 44238: 9146, 44241: 9147, 44243: 9148, 44849: 9149, 45183: 9150, 45648: 9151, 45969: 9152, 46367: 9153, 46574: 9154, 47721: 9155, 47793: 9156, 49110: 9157, 51545: 9158, 53022: 9159, 53143: 9160, 53161: 9161, 53450: 9162, 54274: 9163, 54908: 9164, 55036: 9165, 55061: 9166, 55205: 9167, 55207: 9168, 56022: 9169, 57499: 9170, 58306: 9171, 59016: 9172, 59336: 9173, 59947: 9174, 60365: 9175, 60803: 9176, 61073: 9177, 62662: 9178, 62970: 9179, 66915: 9180, 67193: 9181, 68552: 9182, 68650: 9183, 69131: 9184, 69227: 9185, 70703: 9186, 71327: 9187, 71484: 9188, 71550: 9189, 71810: 9190, 72479: 9191, 73569: 9192, 73808: 9193, 74095: 9194, 74696: 9195, 75416: 9196, 75947: 9197, 76030: 9198, 77201: 9199, 77709: 9200, 78959: 9201, 79895: 9202, 80083: 9203, 81791: 9204, 82534: 9205, 83086: 9206, 83796: 9207, 84523: 9208, 85438: 9209, 86286: 9210, 86355: 9211, 86864: 9212, 86898: 9213, 87197: 9214, 87960: 9215, 88593: 9216, 88697: 9217, 89085: 9218, 89862: 9219, 90243: 9220, 90428: 9221, 90945: 9222, 91571: 9223, 91981: 9224, 92309: 9225, 92674: 9226, 93208: 9227, 93502: 9228, 94122: 9229, 95145: 9230, 95163: 9231, 95165: 9232, 95499: 9233, 95519: 9234, 95717: 9235, 95771: 9236, 95780: 9237, 95839: 9238, 95965: 9239, 97230: 9240, 97950: 9241, 98499: 9242, 98503: 9243, 98623: 9244, 98697: 9245, 98799: 9246, 99638: 9247, 101074: 9248, 101423: 9249, 102590: 9250, 102735: 9251, 102749: 9252, 102852: 9253, 103027: 9254, 103245: 9255, 103366: 9256, 103609: 9257, 104017: 9258, 104837: 9259, 105020: 9260, 105720: 9261, 107999: 9262, 108090: 9263, 108192: 9264, 110541: 9265, 111785: 9266, 112326: 9267, 113849: 9268, 114126: 9269, 115819: 9270, 116044: 9271, 116169: 9272, 116941: 9273, 116963: 9274, 117630: 9275, 118290: 9276, 119218: 9277, 119828: 9278, 120827: 9279, 121035: 9280, 122260: 9281, 122433: 9282, 122627: 9283, 123310: 9284, 128197: 9285, 128736: 9286, 129779: 9287, 131578: 9288, 132084: 9289, 132362: 9290, 135787: 9291, 136012: 9292, 136297: 9293, 137218: 9294, 137345: 9295, 137859: 9296, 138702: 9297, 139130: 9298, 139859: 9299, 140852: 9300, 144522: 9301, 145724: 9302, 145745: 9303, 151479: 9304, 151781: 9305, 153236: 9306, 156675: 9307, 157865: 9308, 158388: 9309, 158874: 9310, 159061: 9311, 159403: 9312, 160978: 9313, 161008: 9314, 161032: 9315, 161044: 9316, 163809: 9317, 165529: 9318, 167706: 9319, 168608: 9320, 169670: 9321, 169904: 9322, 169958: 9323, 170297: 9324, 170551: 9325, 171695: 9326, 172229: 9327, 172233: 9328, 172253: 9329, 173873: 9330, 174727: 9331, 178129: 9332, 179053: 9333, 181315: 9334, 183301: 9335, 2800: 9336, 25905: 9337, 25923: 9338, 25947: 9339, 46664: 9340, 59131: 9341, 141846: 9342, 77: 9343, 108: 9344, 149: 9345, 184: 9346, 301: 9347, 320: 9348, 495: 9349, 506: 9350, 526: 9351, 602: 9352, 645: 9353, 649: 9354, 803: 9355, 1053: 9356, 1119: 9357, 1310: 9358, 1349: 9359, 1475: 9360, 1514: 9361, 1549: 9362, 1585: 9363, 1612: 9364, 1613: 9365, 1759: 9366, 2008: 9367, 2104: 9368, 2283: 9369, 2304: 9370, 2417: 9371, 2435: 9372, 2512: 9373, 2544: 9374, 2577: 9375, 2609: 9376, 2620: 9377, 2725: 9378, 2727: 9379, 2813: 9380, 2865: 9381, 2885: 9382, 2892: 9383, 2972: 9384, 3002: 9385, 3183: 9386, 3303: 9387, 3344: 9388, 3374: 9389, 3459: 9390, 3514: 9391, 3531: 9392, 3586: 9393, 3637: 9394, 3655: 9395, 3792: 9396, 4420: 9397, 4428: 9398, 4436: 9399, 4690: 9400, 4695: 9401, 4705: 9402, 4766: 9403, 4786: 9404, 4810: 9405, 117: 9406, 220: 9407, 285: 9408, 311: 9409, 636: 9410, 1654: 9411, 27036: 9412, 35347: 9413, 47384: 9414, 54686: 9415, 65359: 9416, 66240: 9417, 71160: 9418, 72165: 9419, 72982: 9420, 202: 9421, 263: 9422, 563: 9423, 573: 9424, 579: 9425, 583: 9426, 632: 9427, 961: 9428, 1117: 9429, 1156: 9430, 1493: 9431, 1857: 9432, 2156: 9433, 2207: 9434, 2388: 9435, 2481: 9436, 2503: 9437, 2897: 9438, 3010: 9439, 3289: 9440, 3295: 9441, 3640: 9442, 3808: 9443, 3920: 9444, 4357: 9445, 4395: 9446, 4615: 9447, 4653: 9448, 4671: 9449, 4689: 9450, 4828: 9451, 4840: 9452, 4883: 9453, 5269: 9454, 5372: 9455, 5503: 9456, 5550: 9457, 5614: 9458, 5720: 9459, 5733: 9460, 5741: 9461, 5742: 9462, 5849: 9463, 5856: 9464, 5922: 9465, 5929: 9466, 5975: 9467, 5990: 9468, 6070: 9469, 6107: 9470, 6111: 9471, 6182: 9472, 6202: 9473, 6237: 9474, 6415: 9475, 6449: 9476, 6516: 9477, 6553: 9478, 6573: 9479, 6578: 9480, 6644: 9481, 6671: 9482, 6782: 9483, 6789: 9484, 6803: 9485, 6961: 9486, 6973: 9487, 7037: 9488, 7109: 9489, 7131: 9490, 7292: 9491, 7344: 9492, 7487: 9493, 7916: 9494, 8391: 9495, 8454: 9496, 8456: 9497, 8601: 9498, 8685: 9499, 8713: 9500, 8933: 9501, 8964: 9502, 25805: 9503, 25833: 9504, 25946: 9505, 26038: 9506, 26394: 9507, 26527: 9508, 26599: 9509, 26777: 9510, 26796: 9511, 26875: 9512, 26985: 9513, 27178: 9514, 27255: 9515, 27627: 9516, 27644: 9517, 27744: 9518, 30890: 9519, 30994: 9520, 31309: 9521, 31973: 9522, 32234: 9523, 32600: 9524, 32620: 9525, 32649: 9526, 32728: 9527, 32862: 9528, 33237: 9529, 33310: 9530, 41014: 9531, 44189: 9532, 44301: 9533, 47202: 9534, 47538: 9535, 47774: 9536, 48032: 9537, 48214: 9538, 50354: 9539, 50356: 9540, 51314: 9541, 55805: 9542, 56333: 9543, 58783: 9544, 68480: 9545, 68872: 9546, 69224: 9547, 72603: 9548, 241: 9549, 2737: 9550, 5901: 9551, 7377: 9552, 8667: 9553, 32302: 9554, 51903: 9555, 137: 9556, 1054: 9557, 3945: 9558, 4497: 9559, 5275: 9560, 5953: 9561, 6009: 9562, 6095: 9563, 7202: 9564, 7562: 9565, 7984: 9566, 8840: 9567, 26169: 9568, 26391: 9569, 26399: 9570, 26401: 9571, 26498: 9572, 26603: 9573, 27426: 9574, 27480: 9575, 27491: 9576, 27746: 9577, 27778: 9578, 27905: 9579, 31086: 9580, 34450: 9581, 36931: 9582, 41712: 9583, 43289: 9584, 44597: 9585, 47937: 9586, 48150: 9587, 51666: 9588, 52831: 9589, 54910: 9590, 55067: 9591, 55492: 9592, 56620: 9593, 57421: 9594, 57637: 9595, 58826: 9596, 58964: 9597, 58975: 9598, 59915: 9599, 60303: 9600, 60471: 9601, 61262: 9602, 61319: 9603, 61692: 9604, 61818: 9605, 63179: 9606, 63768: 9607, 63826: 9608, 64010: 9609, 66310: 9610, 67168: 9611, 70206: 9612, 70208: 9613, 71341: 9614, 71910: 9615, 72142: 9616, 72424: 9617, 73676: 9618, 73741: 9619, 73876: 9620, 74370: 9621, 75389: 9622, 76091: 9623, 77893: 9624, 77931: 9625, 78626: 9626, 79501: 9627, 79868: 9628, 80094: 9629, 80162: 9630, 81520: 9631, 82366: 9632, 82641: 9633, 82765: 9634, 88327: 9635, 89072: 9636, 89281: 9637, 89837: 9638, 91233: 9639, 93193: 9640, 93598: 9641, 93819: 9642, 94867: 9643, 96832: 9644, 97188: 9645, 97285: 9646, 97701: 9647, 97988: 9648, 98061: 9649, 98633: 9650, 99030: 9651, 99721: 9652, 100159: 9653, 100397: 9654, 100579: 9655, 100906: 9656, 102066: 9657, 102070: 9658, 102338: 9659, 102760: 9660, 102802: 9661, 103085: 9662, 103219: 9663, 103483: 9664, 103685: 9665, 105801: 9666, 107436: 9667, 107447: 9668, 107462: 9669, 107771: 9670, 110281: 9671, 110286: 9672, 110591: 9673, 110746: 9674, 111551: 9675, 112727: 9676, 113159: 9677, 113313: 9678, 113565: 9679, 113780: 9680, 113862: 9681, 114044: 9682, 114670: 9683, 114707: 9684, 115727: 9685, 117867: 9686, 118082: 9687, 128838: 9688, 129313: 9689, 130050: 9690, 130052: 9691, 130840: 9692, 133832: 9693, 135534: 9694, 135803: 9695, 135815: 9696, 138610: 9697, 138632: 9698, 139511: 9699, 139655: 9700, 140267: 9701, 141400: 9702, 141799: 9703, 142366: 9704, 142598: 9705, 145951: 9706, 146309: 9707, 147657: 9708, 147662: 9709, 148166: 9710, 149011: 9711, 152372: 9712, 158721: 9713, 160341: 9714, 160527: 9715, 160836: 9716, 163937: 9717, 163981: 9718}\n",
      "encoded angka ke movieId:  {0: 1, 1: 3, 2: 6, 3: 47, 4: 50, 5: 70, 6: 101, 7: 110, 8: 151, 9: 157, 10: 163, 11: 216, 12: 223, 13: 231, 14: 235, 15: 260, 16: 296, 17: 316, 18: 333, 19: 349, 20: 356, 21: 362, 22: 367, 23: 423, 24: 441, 25: 457, 26: 480, 27: 500, 28: 527, 29: 543, 30: 552, 31: 553, 32: 590, 33: 592, 34: 593, 35: 596, 36: 608, 37: 648, 38: 661, 39: 673, 40: 733, 41: 736, 42: 780, 43: 804, 44: 919, 45: 923, 46: 940, 47: 943, 48: 954, 49: 1009, 50: 1023, 51: 1024, 52: 1025, 53: 1029, 54: 1030, 55: 1031, 56: 1032, 57: 1042, 58: 1049, 59: 1060, 60: 1073, 61: 1080, 62: 1089, 63: 1090, 64: 1092, 65: 1097, 66: 1127, 67: 1136, 68: 1196, 69: 1197, 70: 1198, 71: 1206, 72: 1208, 73: 1210, 74: 1213, 75: 1214, 76: 1219, 77: 1220, 78: 1222, 79: 1224, 80: 1226, 81: 1240, 82: 1256, 83: 1258, 84: 1265, 85: 1270, 86: 1275, 87: 1278, 88: 1282, 89: 1291, 90: 1298, 91: 1348, 92: 1377, 93: 1396, 94: 1408, 95: 1445, 96: 1473, 97: 1500, 98: 1517, 99: 1552, 100: 1573, 101: 1580, 102: 1587, 103: 1617, 104: 1620, 105: 1625, 106: 1644, 107: 1676, 108: 1732, 109: 1777, 110: 1793, 111: 1804, 112: 1805, 113: 1920, 114: 1927, 115: 1954, 116: 1967, 117: 2000, 118: 2005, 119: 2012, 120: 2018, 121: 2028, 122: 2033, 123: 2046, 124: 2048, 125: 2054, 126: 2058, 127: 2078, 128: 2090, 129: 2093, 130: 2094, 131: 2096, 132: 2099, 133: 2105, 134: 2115, 135: 2116, 136: 2137, 137: 2139, 138: 2141, 139: 2143, 140: 2161, 141: 2174, 142: 2193, 143: 2253, 144: 2268, 145: 2273, 146: 2291, 147: 2329, 148: 2338, 149: 2353, 150: 2366, 151: 2387, 152: 2389, 153: 2395, 154: 2406, 155: 2414, 156: 2427, 157: 2450, 158: 2459, 159: 2470, 160: 2478, 161: 2492, 162: 2502, 163: 2528, 164: 2529, 165: 2542, 166: 2571, 167: 2580, 168: 2596, 169: 2616, 170: 2617, 171: 2628, 172: 2640, 173: 2641, 174: 2644, 175: 2648, 176: 2654, 177: 2657, 178: 2692, 179: 2700, 180: 2716, 181: 2761, 182: 2797, 183: 2826, 184: 2858, 185: 2872, 186: 2899, 187: 2916, 188: 2944, 189: 2947, 190: 2948, 191: 2949, 192: 2959, 193: 2985, 194: 2987, 195: 2991, 196: 2993, 197: 2997, 198: 3033, 199: 3034, 200: 3052, 201: 3053, 202: 3062, 203: 3147, 204: 3168, 205: 3176, 206: 3243, 207: 3247, 208: 3253, 209: 3273, 210: 3386, 211: 3439, 212: 3440, 213: 3441, 214: 3448, 215: 3450, 216: 3479, 217: 3489, 218: 3527, 219: 3578, 220: 3617, 221: 3639, 222: 3671, 223: 3702, 224: 3703, 225: 3729, 226: 3740, 227: 3744, 228: 3793, 229: 3809, 230: 4006, 231: 5060, 232: 318, 233: 1704, 234: 6874, 235: 8798, 236: 46970, 237: 48516, 238: 58559, 239: 60756, 240: 68157, 241: 71535, 242: 74458, 243: 77455, 244: 79132, 245: 80489, 246: 80906, 247: 86345, 248: 89774, 249: 91529, 250: 91658, 251: 99114, 252: 106782, 253: 109487, 254: 112552, 255: 114060, 256: 115713, 257: 122882, 258: 131724, 259: 31, 260: 647, 261: 688, 262: 720, 263: 849, 264: 914, 265: 1093, 266: 1124, 267: 1263, 268: 1272, 269: 1302, 270: 1371, 271: 2080, 272: 2288, 273: 2424, 274: 2851, 275: 3024, 276: 3210, 277: 3949, 278: 4518, 279: 5048, 280: 5181, 281: 5746, 282: 5764, 283: 5919, 284: 6238, 285: 6835, 286: 7899, 287: 7991, 288: 26409, 289: 70946, 290: 72378, 291: 21, 292: 32, 293: 45, 294: 52, 295: 58, 296: 106, 297: 125, 298: 126, 299: 162, 300: 171, 301: 176, 302: 190, 303: 215, 304: 222, 305: 232, 306: 247, 307: 265, 308: 319, 309: 342, 310: 345, 311: 348, 312: 351, 313: 357, 314: 368, 315: 417, 316: 450, 317: 475, 318: 492, 319: 509, 320: 538, 321: 539, 322: 588, 323: 595, 324: 599, 325: 708, 326: 759, 327: 800, 328: 892, 329: 898, 330: 899, 331: 902, 332: 904, 333: 908, 334: 910, 335: 912, 336: 920, 337: 930, 338: 937, 339: 1046, 340: 1057, 341: 1077, 342: 1079, 343: 1084, 344: 1086, 345: 1094, 346: 1103, 347: 1179, 348: 1183, 349: 1188, 350: 1199, 351: 1203, 352: 1211, 353: 1225, 354: 1250, 355: 1259, 356: 1266, 357: 1279, 358: 1283, 359: 1288, 360: 1304, 361: 1391, 362: 1449, 363: 1466, 364: 1597, 365: 1641, 366: 1719, 367: 1733, 368: 1734, 369: 1834, 370: 1860, 371: 1883, 372: 1885, 373: 1892, 374: 1895, 375: 1907, 376: 1914, 377: 1916, 378: 1923, 379: 1947, 380: 1966, 381: 1968, 382: 2019, 383: 2076, 384: 2109, 385: 2145, 386: 2150, 387: 2186, 388: 2203, 389: 2204, 390: 2282, 391: 2324, 392: 2336, 393: 2351, 394: 2359, 395: 2390, 396: 2467, 397: 2583, 398: 2599, 399: 2683, 400: 2712, 401: 2762, 402: 2763, 403: 2770, 404: 2791, 405: 2843, 406: 2874, 407: 2921, 408: 2926, 409: 2973, 410: 3044, 411: 3060, 412: 3079, 413: 3083, 414: 3160, 415: 3175, 416: 3204, 417: 3255, 418: 3317, 419: 3358, 420: 3365, 421: 3408, 422: 3481, 423: 3508, 424: 3538, 425: 3591, 426: 3788, 427: 3851, 428: 3897, 429: 3911, 430: 3967, 431: 3996, 432: 4002, 433: 4014, 434: 4020, 435: 4021, 436: 4027, 437: 4029, 438: 4033, 439: 4034, 440: 4074, 441: 4121, 442: 4144, 443: 4166, 444: 4226, 445: 4239, 446: 4246, 447: 4252, 448: 4260, 449: 4273, 450: 4308, 451: 4347, 452: 4381, 453: 4641, 454: 4741, 455: 4765, 456: 4881, 457: 4896, 458: 4902, 459: 4967, 460: 34, 461: 36, 462: 39, 463: 150, 464: 153, 465: 253, 466: 261, 467: 266, 468: 290, 469: 300, 470: 344, 471: 364, 472: 380, 473: 410, 474: 474, 475: 515, 476: 531, 477: 534, 478: 589, 479: 594, 480: 597, 481: 2, 482: 4, 483: 5, 484: 7, 485: 8, 486: 10, 487: 11, 488: 13, 489: 15, 490: 16, 491: 17, 492: 19, 493: 22, 494: 24, 495: 25, 496: 26, 497: 27, 498: 41, 499: 43, 500: 46, 501: 54, 502: 60, 503: 61, 504: 62, 505: 65, 506: 66, 507: 76, 508: 79, 509: 86, 510: 87, 511: 88, 512: 89, 513: 92, 514: 93, 515: 95, 516: 100, 517: 102, 518: 104, 519: 105, 520: 112, 521: 113, 522: 135, 523: 140, 524: 141, 525: 145, 526: 146, 527: 158, 528: 159, 529: 160, 530: 161, 531: 165, 532: 168, 533: 170, 534: 174, 535: 177, 536: 179, 537: 180, 538: 181, 539: 185, 540: 186, 541: 189, 542: 191, 543: 195, 544: 196, 545: 201, 546: 204, 547: 205, 548: 207, 549: 208, 550: 209, 551: 210, 552: 212, 553: 217, 554: 218, 555: 219, 556: 224, 557: 225, 558: 230, 559: 234, 560: 236, 561: 237, 562: 239, 563: 240, 564: 243, 565: 248, 566: 250, 567: 251, 568: 252, 569: 254, 570: 256, 571: 257, 572: 258, 573: 262, 574: 267, 575: 270, 576: 271, 577: 273, 578: 274, 579: 276, 580: 277, 581: 279, 582: 281, 583: 282, 584: 288, 585: 289, 586: 291, 587: 292, 588: 293, 589: 302, 590: 303, 591: 304, 592: 310, 593: 312, 594: 313, 595: 314, 596: 315, 597: 317, 598: 327, 599: 329, 600: 330, 601: 332, 602: 336, 603: 337, 604: 339, 605: 340, 606: 343, 607: 347, 608: 350, 609: 352, 610: 353, 611: 354, 612: 355, 613: 358, 614: 359, 615: 360, 616: 361, 617: 366, 618: 370, 619: 371, 620: 374, 621: 377, 622: 378, 623: 381, 624: 382, 625: 383, 626: 405, 627: 412, 628: 415, 629: 416, 630: 419, 631: 426, 632: 432, 633: 434, 634: 435, 635: 437, 636: 440, 637: 445, 638: 454, 639: 455, 640: 458, 641: 460, 642: 466, 643: 468, 644: 469, 645: 472, 646: 477, 647: 485, 648: 489, 649: 490, 650: 491, 651: 493, 652: 494, 653: 497, 654: 502, 655: 505, 656: 508, 657: 510, 658: 516, 659: 520, 660: 524, 661: 532, 662: 536, 663: 537, 664: 540, 665: 542, 666: 546, 667: 548, 668: 569, 669: 575, 670: 587, 671: 606, 672: 609, 673: 616, 674: 628, 675: 631, 676: 637, 677: 640, 678: 662, 679: 667, 680: 694, 681: 697, 682: 700, 683: 704, 684: 709, 685: 710, 686: 711, 687: 719, 688: 747, 689: 762, 690: 765, 691: 775, 692: 783, 693: 795, 694: 799, 695: 801, 696: 802, 697: 818, 698: 830, 699: 835, 700: 837, 701: 838, 702: 839, 703: 842, 704: 848, 705: 852, 706: 867, 707: 880, 708: 881, 709: 888, 710: 891, 711: 979, 712: 981, 713: 986, 714: 991, 715: 996, 716: 999, 717: 1004, 718: 1006, 719: 1061, 720: 1064, 721: 1082, 722: 750, 723: 924, 724: 1101, 725: 1246, 726: 1584, 727: 1610, 728: 1682, 729: 1784, 730: 1917, 731: 2671, 732: 2688, 733: 2701, 734: 2717, 735: 3114, 736: 3354, 737: 3623, 738: 3869, 739: 3916, 740: 3977, 741: 3994, 742: 4018, 743: 4223, 744: 4306, 745: 4310, 746: 4370, 747: 4643, 748: 4700, 749: 4844, 750: 4874, 751: 4886, 752: 4963, 753: 4993, 754: 4995, 755: 5218, 756: 5349, 757: 5378, 758: 5445, 759: 5459, 760: 5464, 761: 5502, 762: 5618, 763: 5816, 764: 5952, 765: 5989, 766: 5991, 767: 6333, 768: 6365, 769: 6534, 770: 6539, 771: 6863, 772: 6934, 773: 7143, 774: 7153, 775: 7155, 776: 7445, 777: 8207, 778: 8360, 779: 8368, 780: 8373, 781: 8528, 782: 8636, 783: 8665, 784: 8666, 785: 8783, 786: 8808, 787: 8865, 788: 8870, 789: 8907, 790: 8908, 791: 8949, 792: 8957, 793: 8958, 794: 8961, 795: 8965, 796: 8970, 797: 8972, 798: 8984, 799: 27741, 800: 30812, 801: 30816, 802: 31878, 803: 32029, 804: 32031, 805: 32296, 806: 32587, 807: 33162, 808: 33493, 809: 33794, 810: 33836, 811: 34048, 812: 34319, 813: 37741, 814: 38388, 815: 42002, 816: 45499, 817: 45517, 818: 45668, 819: 45730, 820: 46530, 821: 48783, 822: 48997, 823: 49272, 824: 49278, 825: 49286, 826: 49824, 827: 586, 828: 187, 829: 627, 830: 922, 831: 1037, 832: 1095, 833: 1674, 834: 1987, 835: 2011, 836: 2023, 837: 2300, 838: 2877, 839: 2901, 840: 3173, 841: 3328, 842: 3735, 843: 4131, 844: 4558, 845: 5447, 846: 5451, 847: 5481, 848: 5507, 849: 5841, 850: 5843, 851: 5872, 852: 5890, 853: 5891, 854: 5893, 855: 5902, 856: 5956, 857: 5962, 858: 5965, 859: 5988, 860: 6001, 861: 6044, 862: 1028, 863: 1088, 864: 1247, 865: 1307, 866: 3882, 867: 4447, 868: 5066, 869: 5377, 870: 5620, 871: 5943, 872: 5957, 873: 6155, 874: 6266, 875: 6377, 876: 6535, 877: 6942, 878: 7149, 879: 7151, 880: 7154, 881: 7169, 882: 7293, 883: 7375, 884: 7451, 885: 7458, 886: 8529, 887: 8533, 888: 8869, 889: 8969, 890: 30749, 891: 31433, 892: 31685, 893: 33145, 894: 33679, 895: 40629, 896: 40819, 897: 41285, 898: 47099, 899: 51662, 900: 51705, 901: 51834, 902: 54286, 903: 56367, 904: 56949, 905: 58047, 906: 59333, 907: 59421, 908: 60397, 909: 60950, 910: 61250, 911: 63113, 912: 63992, 913: 64969, 914: 66203, 915: 68954, 916: 69406, 917: 69844, 918: 70183, 919: 70293, 920: 71579, 921: 72011, 922: 72330, 923: 72407, 924: 72720, 925: 72737, 926: 72998, 927: 73017, 928: 74450, 929: 77841, 930: 78772, 931: 79091, 932: 80549, 933: 81784, 934: 81845, 935: 81847, 936: 82167, 937: 82499, 938: 84374, 939: 86548, 940: 87222, 941: 88163, 942: 88810, 943: 91104, 944: 92259, 945: 94070, 946: 95167, 947: 95449, 948: 95510, 949: 95543, 950: 96079, 951: 97024, 952: 97938, 953: 98203, 954: 103335, 955: 103339, 956: 104374, 957: 105211, 958: 106489, 959: 106696, 960: 107141, 961: 109374, 962: 109853, 963: 112006, 964: 113275, 965: 113394, 966: 119145, 967: 129428, 968: 136020, 969: 137595, 970: 140110, 971: 44, 972: 376, 973: 511, 974: 529, 975: 1100, 976: 1358, 977: 1370, 978: 1385, 979: 1438, 980: 1518, 981: 1586, 982: 1604, 983: 1608, 984: 1616, 985: 1687, 986: 1693, 987: 1721, 988: 1840, 989: 1882, 990: 1918, 991: 2002, 992: 2027, 993: 1357, 994: 1405, 995: 1876, 996: 2072, 997: 2100, 998: 2421, 999: 2485, 1000: 2572, 1001: 2581, 1002: 2694, 1003: 3668, 1004: 305, 1005: 1173, 1006: 1590, 1007: 1619, 1008: 1639, 1009: 2541, 1010: 3300, 1011: 3409, 1012: 3513, 1013: 3624, 1014: 3717, 1015: 3753, 1016: 3798, 1017: 3827, 1018: 3863, 1019: 3893, 1020: 3952, 1021: 4011, 1022: 4148, 1023: 193, 1024: 448, 1025: 784, 1026: 172, 1027: 858, 1028: 1200, 1029: 1347, 1030: 1527, 1031: 1653, 1032: 1909, 1033: 2001, 1034: 2081, 1035: 2085, 1036: 2278, 1037: 3156, 1038: 3499, 1039: 3510, 1040: 3535, 1041: 3555, 1042: 4022, 1043: 4720, 1044: 5971, 1045: 6502, 1046: 7254, 1047: 7438, 1048: 8644, 1049: 48304, 1050: 48774, 1051: 48780, 1052: 50872, 1053: 56174, 1054: 59315, 1055: 60069, 1056: 63859, 1057: 64614, 1058: 68237, 1059: 69757, 1060: 70286, 1061: 71057, 1062: 71264, 1063: 84152, 1064: 84954, 1065: 85414, 1066: 89745, 1067: 91500, 1068: 94864, 1069: 96610, 1070: 101864, 1071: 103249, 1072: 104841, 1073: 105504, 1074: 110102, 1075: 111759, 1076: 112556, 1077: 112852, 1078: 115149, 1079: 120466, 1080: 122886, 1081: 122904, 1082: 122922, 1083: 122924, 1084: 134130, 1085: 134853, 1086: 143385, 1087: 152077, 1088: 152081, 1089: 158872, 1090: 160980, 1091: 166528, 1092: 166635, 1093: 111, 1094: 541, 1095: 678, 1096: 745, 1097: 913, 1098: 1147, 1099: 1148, 1100: 1186, 1101: 1193, 1102: 1201, 1103: 1207, 1104: 1223, 1105: 1230, 1106: 1252, 1107: 1260, 1108: 1261, 1109: 1267, 1110: 1276, 1111: 1281, 1112: 1299, 1113: 1680, 1114: 2490, 1115: 2707, 1116: 2723, 1117: 3000, 1118: 3022, 1119: 3108, 1120: 3174, 1121: 3429, 1122: 3683, 1123: 3741, 1124: 4878, 1125: 4973, 1126: 5782, 1127: 6350, 1128: 7099, 1129: 7361, 1130: 27611, 1131: 27773, 1132: 48394, 1133: 78499, 1134: 1036, 1135: 1209, 1136: 1221, 1137: 1228, 1138: 1234, 1139: 1375, 1140: 2194, 1141: 3039, 1142: 3263, 1143: 3435, 1144: 3681, 1145: 4571, 1146: 6016, 1147: 6870, 1148: 7482, 1149: 31658, 1150: 64839, 1151: 68358, 1152: 80463, 1153: 81932, 1154: 82459, 1155: 431, 1156: 442, 1157: 555, 1158: 653, 1159: 778, 1160: 1020, 1161: 1059, 1162: 1212, 1163: 1227, 1164: 1245, 1165: 1356, 1166: 1374, 1167: 1544, 1168: 1729, 1169: 1924, 1170: 1961, 1171: 2184, 1172: 2409, 1173: 2410, 1174: 2411, 1175: 2412, 1176: 2420, 1177: 2422, 1178: 2706, 1179: 2918, 1180: 2951, 1181: 2953, 1182: 3081, 1183: 3257, 1184: 3275, 1185: 3462, 1186: 3751, 1187: 3785, 1188: 3896, 1189: 4007, 1190: 4262, 1191: 4327, 1192: 4383, 1193: 4728, 1194: 4816, 1195: 5008, 1196: 5120, 1197: 5266, 1198: 5418, 1199: 5574, 1200: 5608, 1201: 5669, 1202: 5679, 1203: 5903, 1204: 5944, 1205: 5995, 1206: 6287, 1207: 6300, 1208: 6373, 1209: 6378, 1210: 6440, 1211: 6548, 1212: 6709, 1213: 6787, 1214: 6807, 1215: 6888, 1216: 7018, 1217: 7147, 1218: 7317, 1219: 7318, 1220: 7323, 1221: 7373, 1222: 7753, 1223: 7843, 1224: 8117, 1225: 8361, 1226: 8641, 1227: 8784, 1228: 8917, 1229: 8950, 1230: 26444, 1231: 26614, 1232: 27689, 1233: 27716, 1234: 27831, 1235: 27878, 1236: 30793, 1237: 32460, 1238: 33004, 1239: 33615, 1240: 34150, 1241: 34405, 1242: 36519, 1243: 36529, 1244: 37386, 1245: 37729, 1246: 37733, 1247: 38038, 1248: 38061, 1249: 44022, 1250: 44191, 1251: 44199, 1252: 44555, 1253: 44665, 1254: 45722, 1255: 46578, 1256: 46965, 1257: 47200, 1258: 47491, 1259: 49651, 1260: 51357, 1261: 51540, 1262: 52604, 1263: 53125, 1264: 53129, 1265: 53318, 1266: 53464, 1267: 53972, 1268: 53996, 1269: 54272, 1270: 55118, 1271: 55247, 1272: 55276, 1273: 55290, 1274: 55765, 1275: 56757, 1276: 57528, 1277: 57640, 1278: 57669, 1279: 58295, 1280: 58299, 1281: 59615, 1282: 59784, 1283: 60040, 1284: 60074, 1285: 60684, 1286: 62434, 1287: 63131, 1288: 64197, 1289: 64957, 1290: 65596, 1291: 66934, 1292: 67255, 1293: 68073, 1294: 68159, 1295: 68319, 1296: 69122, 1297: 69640, 1298: 69951, 1299: 71108, 1300: 71156, 1301: 71899, 1302: 73268, 1303: 73321, 1304: 73323, 1305: 73499, 1306: 74510, 1307: 74789, 1308: 74948, 1309: 76077, 1310: 76175, 1311: 76251, 1312: 77561, 1313: 78469, 1314: 79293, 1315: 79592, 1316: 79695, 1317: 79702, 1318: 80219, 1319: 81788, 1320: 83349, 1321: 84392, 1322: 85354, 1323: 86190, 1324: 86332, 1325: 86628, 1326: 86880, 1327: 87232, 1328: 88094, 1329: 88129, 1330: 88140, 1331: 90600, 1332: 91485, 1333: 91542, 1334: 92094, 1335: 95441, 1336: 96432, 1337: 96488, 1338: 96655, 1339: 97752, 1340: 98124, 1341: 98585, 1342: 98809, 1343: 99728, 1344: 99813, 1345: 102125, 1346: 102445, 1347: 102903, 1348: 103253, 1349: 103772, 1350: 104241, 1351: 104879, 1352: 106072, 1353: 106487, 1354: 106839, 1355: 107846, 1356: 111362, 1357: 112183, 1358: 112334, 1359: 112421, 1360: 114066, 1361: 116797, 1362: 116823, 1363: 117176, 1364: 118900, 1365: 122892, 1366: 122900, 1367: 122918, 1368: 122920, 1369: 122926, 1370: 128620, 1371: 135569, 1372: 139385, 1373: 140289, 1374: 141688, 1375: 142488, 1376: 144210, 1377: 145283, 1378: 148626, 1379: 150548, 1380: 155168, 1381: 157108, 1382: 157110, 1383: 158238, 1384: 158972, 1385: 159093, 1386: 160438, 1387: 161582, 1388: 162350, 1389: 162606, 1390: 164179, 1391: 166015, 1392: 168252, 1393: 171023, 1394: 176101, 1395: 177593, 1396: 180095, 1397: 180777, 1398: 185135, 1399: 12, 1400: 48, 1401: 64, 1402: 107, 1403: 118, 1404: 173, 1405: 295, 1406: 325, 1407: 328, 1408: 338, 1409: 372, 1410: 379, 1411: 407, 1412: 414, 1413: 420, 1414: 422, 1415: 427, 1416: 486, 1417: 512, 1418: 513, 1419: 551, 1420: 558, 1421: 610, 1422: 611, 1423: 671, 1424: 674, 1425: 724, 1426: 742, 1427: 743, 1428: 761, 1429: 785, 1430: 788, 1431: 798, 1432: 810, 1433: 829, 1434: 832, 1435: 866, 1436: 879, 1437: 903, 1438: 906, 1439: 911, 1440: 915, 1441: 921, 1442: 931, 1443: 933, 1444: 965, 1445: 984, 1446: 1016, 1447: 1021, 1448: 1047, 1449: 1081, 1450: 1129, 1451: 1215, 1452: 1238, 1453: 1257, 1454: 1269, 1455: 1285, 1456: 1297, 1457: 1322, 1458: 1324, 1459: 1330, 1460: 1333, 1461: 1339, 1462: 1342, 1463: 1345, 1464: 1346, 1465: 1355, 1466: 1359, 1467: 1367, 1468: 1372, 1469: 1373, 1470: 1376, 1471: 1378, 1472: 1379, 1473: 1380, 1474: 1394, 1475: 1407, 1476: 1409, 1477: 1427, 1478: 1441, 1479: 1456, 1480: 1457, 1481: 1461, 1482: 1474, 1483: 1479, 1484: 1485, 1485: 1489, 1486: 1499, 1487: 1542, 1488: 1550, 1489: 1551, 1490: 1556, 1491: 1562, 1492: 1566, 1493: 1569, 1494: 1583, 1495: 1588, 1496: 1591, 1497: 1593, 1498: 1603, 1499: 1614, 1500: 1645, 1501: 1648, 1502: 1658, 1503: 1663, 1504: 1665, 1505: 1679, 1506: 1681, 1507: 1688, 1508: 1689, 1509: 1690, 1510: 1702, 1511: 1717, 1512: 1718, 1513: 1722, 1514: 1747, 1515: 1748, 1516: 1754, 1517: 1779, 1518: 1783, 1519: 1798, 1520: 1806, 1521: 1812, 1522: 1816, 1523: 1831, 1524: 1845, 1525: 1848, 1526: 1855, 1527: 1862, 1528: 1881, 1529: 1888, 1530: 1891, 1531: 1894, 1532: 1906, 1533: 1911, 1534: 1919, 1535: 1921, 1536: 1963, 1537: 1970, 1538: 1971, 1539: 1972, 1540: 1973, 1541: 1991, 1542: 1994, 1543: 2003, 1544: 2004, 1545: 2014, 1546: 2015, 1547: 2016, 1548: 2026, 1549: 2034, 1550: 2036, 1551: 2037, 1552: 2040, 1553: 2041, 1554: 2044, 1555: 2052, 1556: 2053, 1557: 2060, 1558: 2065, 1559: 2082, 1560: 2088, 1561: 2092, 1562: 2097, 1563: 2108, 1564: 2110, 1565: 2111, 1566: 2118, 1567: 2123, 1568: 2133, 1569: 2134, 1570: 2140, 1571: 2144, 1572: 2148, 1573: 2153, 1574: 2167, 1575: 2169, 1576: 2171, 1577: 2206, 1578: 2227, 1579: 2232, 1580: 2243, 1581: 2244, 1582: 2245, 1583: 2248, 1584: 2249, 1585: 2255, 1586: 2261, 1587: 2263, 1588: 2266, 1589: 2267, 1590: 2279, 1591: 2287, 1592: 2294, 1593: 2302, 1594: 2315, 1595: 2320, 1596: 2321, 1597: 2328, 1598: 2335, 1599: 2354, 1600: 2355, 1601: 2369, 1602: 2371, 1603: 2372, 1604: 2374, 1605: 2375, 1606: 2393, 1607: 2394, 1608: 2396, 1609: 2407, 1610: 2413, 1611: 2416, 1612: 2418, 1613: 2423, 1614: 2428, 1615: 2446, 1616: 2453, 1617: 2455, 1618: 2458, 1619: 2463, 1620: 2465, 1621: 2468, 1622: 2491, 1623: 2496, 1624: 2513, 1625: 2518, 1626: 2539, 1627: 2548, 1628: 2550, 1629: 2555, 1630: 2558, 1631: 2605, 1632: 2606, 1633: 2614, 1634: 2622, 1635: 2642, 1636: 2643, 1637: 2668, 1638: 2672, 1639: 2687, 1640: 2699, 1641: 2709, 1642: 2710, 1643: 2719, 1644: 2720, 1645: 2722, 1646: 2733, 1647: 2746, 1648: 2754, 1649: 2788, 1650: 2793, 1651: 2802, 1652: 2804, 1653: 2806, 1654: 2808, 1655: 2822, 1656: 2836, 1657: 2840, 1658: 2857, 1659: 2860, 1660: 2867, 1661: 2870, 1662: 2883, 1663: 2888, 1664: 2898, 1665: 2900, 1666: 2915, 1667: 2936, 1668: 2968, 1669: 2995, 1670: 3005, 1671: 3016, 1672: 3017, 1673: 3031, 1674: 3032, 1675: 3035, 1676: 3040, 1677: 3048, 1678: 3056, 1679: 3063, 1680: 3064, 1681: 3070, 1682: 3072, 1683: 3082, 1684: 3087, 1685: 3101, 1686: 3104, 1687: 3113, 1688: 3146, 1689: 3190, 1690: 3203, 1691: 3213, 1692: 3219, 1693: 3225, 1694: 3238, 1695: 3248, 1696: 3254, 1697: 3258, 1698: 3264, 1699: 3269, 1700: 3301, 1701: 3308, 1702: 3316, 1703: 3324, 1704: 3355, 1705: 3361, 1706: 3370, 1707: 3387, 1708: 3393, 1709: 3394, 1710: 3395, 1711: 3396, 1712: 3397, 1713: 3398, 1714: 3400, 1715: 3401, 1716: 3418, 1717: 3421, 1718: 3424, 1719: 3454, 1720: 3466, 1721: 3471, 1722: 3476, 1723: 3477, 1724: 3483, 1725: 3484, 1726: 3497, 1727: 3500, 1728: 3501, 1729: 3505, 1730: 3515, 1731: 3526, 1732: 3534, 1733: 3536, 1734: 3548, 1735: 3550, 1736: 3551, 1737: 3584, 1738: 3594, 1739: 3608, 1740: 3622, 1741: 3662, 1742: 3685, 1743: 3686, 1744: 3692, 1745: 3693, 1746: 3698, 1747: 3699, 1748: 3701, 1749: 3704, 1750: 3705, 1751: 3706, 1752: 3708, 1753: 3712, 1754: 3743, 1755: 3745, 1756: 3752, 1757: 3754, 1758: 3763, 1759: 3770, 1760: 3784, 1761: 3797, 1762: 3802, 1763: 3825, 1764: 3826, 1765: 3835, 1766: 3837, 1767: 3839, 1768: 1010, 1769: 1012, 1770: 1013, 1771: 1015, 1772: 1018, 1773: 1022, 1774: 1035, 1775: 1547, 1776: 2006, 1777: 2059, 1778: 2083, 1779: 2087, 1780: 2089, 1781: 2135, 1782: 2430, 1783: 2565, 1784: 2941, 1785: 3157, 1786: 3159, 1787: 3189, 1788: 3410, 1789: 3438, 1790: 3512, 1791: 3549, 1792: 3565, 1793: 3615, 1794: 3755, 1795: 3852, 1796: 3948, 1797: 3972, 1798: 3986, 1799: 3988, 1800: 3990, 1801: 3999, 1802: 4016, 1803: 4019, 1804: 4025, 1805: 4039, 1806: 4054, 1807: 4090, 1808: 4154, 1809: 4161, 1810: 4232, 1811: 4270, 1812: 4299, 1813: 4344, 1814: 4366, 1815: 4367, 1816: 4369, 1817: 4378, 1818: 4446, 1819: 4449, 1820: 4519, 1821: 4638, 1822: 4718, 1823: 4734, 1824: 4776, 1825: 4783, 1826: 4821, 1827: 4846, 1828: 4848, 1829: 4865, 1830: 4901, 1831: 4979, 1832: 4990, 1833: 5013, 1834: 5014, 1835: 5015, 1836: 5103, 1837: 5110, 1838: 5171, 1839: 5254, 1840: 5293, 1841: 5299, 1842: 5313, 1843: 5364, 1844: 5388, 1845: 5419, 1846: 5463, 1847: 5504, 1848: 5630, 1849: 5693, 1850: 5785, 1851: 6143, 1852: 6156, 1853: 6157, 1854: 6166, 1855: 6170, 1856: 6297, 1857: 6345, 1858: 6358, 1859: 38, 1860: 2376, 1861: 2378, 1862: 2402, 1863: 2403, 1864: 2724, 1865: 2989, 1866: 2990, 1867: 3633, 1868: 3635, 1869: 3638, 1870: 3697, 1871: 3868, 1872: 3984, 1873: 4005, 1874: 4040, 1875: 4085, 1876: 4489, 1877: 4545, 1878: 4621, 1879: 4701, 1880: 5219, 1881: 5796, 1882: 6503, 1883: 7569, 1884: 7570, 1885: 7573, 1886: 7701, 1887: 8574, 1888: 8946, 1889: 26340, 1890: 30825, 1891: 34162, 1892: 39715, 1893: 40815, 1894: 41566, 1895: 45186, 1896: 45447, 1897: 45672, 1898: 46972, 1899: 47566, 1900: 47997, 1901: 50189, 1902: 51084, 1903: 52730, 1904: 52973, 1905: 53121, 1906: 53322, 1907: 54276, 1908: 56775, 1909: 58025, 1910: 58998, 1911: 59369, 1912: 59429, 1913: 59900, 1914: 61160, 1915: 63082, 1916: 64032, 1917: 68791, 1918: 68793, 1919: 69526, 1920: 69644, 1921: 72641, 1922: 73106, 1923: 73319, 1924: 73858, 1925: 76093, 1926: 78637, 1927: 79134, 1928: 79185, 1929: 80166, 1930: 81229, 1931: 81564, 1932: 81591, 1933: 81834, 1934: 82202, 1935: 85259, 1936: 86068, 1937: 87520, 1938: 88125, 1939: 88405, 1940: 88744, 1941: 90249, 1942: 91535, 1943: 91630, 1944: 93510, 1945: 94503, 1946: 94677, 1947: 94777, 1948: 95067, 1949: 95170, 1950: 95738, 1951: 96004, 1952: 96588, 1953: 97913, 1954: 99532, 1955: 102481, 1956: 102716, 1957: 102993, 1958: 103141, 1959: 103228, 1960: 103372, 1961: 103384, 1962: 103801, 1963: 103810, 1964: 103819, 1965: 103883, 1966: 104211, 1967: 105213, 1968: 105653, 1969: 105844, 1970: 105954, 1971: 106491, 1972: 106540, 1973: 106916, 1974: 106918, 1975: 106920, 1976: 107013, 1977: 107449, 1978: 108156, 1979: 108190, 1980: 108932, 1981: 108945, 1982: 109576, 1983: 109723, 1984: 109864, 1985: 110130, 1986: 110553, 1987: 111113, 1988: 111617, 1989: 111743, 1990: 111781, 1991: 111844, 1992: 112138, 1993: 112175, 1994: 114180, 1995: 114818, 1996: 115502, 1997: 115617, 1998: 115877, 1999: 117368, 2000: 117529, 2001: 117572, 2002: 117590, 2003: 117851, 2004: 117922, 2005: 119141, 2006: 119155, 2007: 119964, 2008: 122896, 2009: 126548, 2010: 130450, 2011: 132157, 2012: 133419, 2013: 134368, 2014: 134393, 2015: 135133, 2016: 135536, 2017: 135861, 2018: 135887, 2019: 136016, 2020: 138036, 2021: 138186, 2022: 139642, 2023: 139717, 2024: 139915, 2025: 140301, 2026: 142536, 2027: 143245, 2028: 148675, 2029: 149380, 2030: 160565, 2031: 160872, 2032: 164909, 2033: 166492, 2034: 167036, 2035: 168248, 2036: 173307, 2037: 1952, 2038: 1953, 2039: 2160, 2040: 3006, 2041: 4017, 2042: 4036, 2043: 4903, 2044: 5617, 2045: 5673, 2046: 6711, 2047: 8464, 2048: 8622, 2049: 30707, 2050: 31410, 2051: 34437, 2052: 39183, 2053: 41997, 2054: 46976, 2055: 52281, 2056: 53519, 2057: 54503, 2058: 55820, 2059: 56171, 2060: 56782, 2061: 56788, 2062: 60766, 2063: 61323, 2064: 64575, 2065: 66097, 2066: 68536, 2067: 71464, 2068: 29, 2069: 175, 2070: 272, 2071: 334, 2072: 741, 2073: 1050, 2074: 1175, 2075: 1217, 2076: 1218, 2077: 1232, 2078: 1233, 2079: 1237, 2080: 1243, 2081: 1248, 2082: 1249, 2083: 1274, 2084: 1284, 2085: 1425, 2086: 1464, 2087: 1711, 2088: 1809, 2089: 1859, 2090: 1884, 2091: 1960, 2092: 2579, 2093: 2686, 2094: 2726, 2095: 2730, 2096: 2912, 2097: 3030, 2098: 3181, 2099: 3265, 2100: 3822, 2101: 4235, 2102: 5333, 2103: 6234, 2104: 6387, 2105: 6721, 2106: 6773, 2107: 6790, 2108: 6857, 2109: 6920, 2110: 6989, 2111: 7064, 2112: 7069, 2113: 7123, 2114: 7587, 2115: 7924, 2116: 7932, 2117: 8012, 2118: 8228, 2119: 8370, 2120: 2405, 2121: 3556, 2122: 4855, 2123: 5064, 2124: 5791, 2125: 31696, 2126: 35836, 2127: 47610, 2128: 57368, 2129: 61024, 2130: 61132, 2131: 86882, 2132: 102407, 2133: 132660, 2134: 122912, 2135: 122916, 2136: 176371, 2137: 187541, 2138: 187593, 2139: 238, 2140: 421, 2141: 808, 2142: 969, 2143: 1083, 2144: 1262, 2145: 1287, 2146: 1387, 2147: 1592, 2148: 2032, 2149: 2142, 2150: 2151, 2151: 2311, 2152: 2530, 2153: 2532, 2154: 2876, 2155: 2886, 2156: 3037, 2157: 3350, 2158: 3451, 2159: 3519, 2160: 3654, 2161: 3791, 2162: 3836, 2163: 23, 2164: 147, 2165: 211, 2166: 428, 2167: 456, 2168: 481, 2169: 507, 2170: 635, 2171: 714, 2172: 851, 2173: 1120, 2174: 1171, 2175: 1253, 2176: 1271, 2177: 1303, 2178: 1459, 2179: 1480, 2180: 1678, 2181: 1785, 2182: 2021, 2183: 2231, 2184: 2272, 2185: 2358, 2186: 2618, 2187: 2841, 2188: 2908, 2189: 2952, 2190: 3020, 2191: 3100, 2192: 3105, 2193: 3107, 2194: 3169, 2195: 3178, 2196: 3198, 2197: 3246, 2198: 3250, 2199: 3252, 2200: 3256, 2201: 3260, 2202: 3271, 2203: 3272, 2204: 3360, 2205: 3543, 2206: 3783, 2207: 3950, 2208: 3980, 2209: 4047, 2210: 4211, 2211: 4238, 2212: 4251, 2213: 4343, 2214: 4626, 2215: 4688, 2216: 4772, 2217: 4787, 2218: 5009, 2219: 5010, 2220: 5055, 2221: 5152, 2222: 5267, 2223: 5292, 2224: 5329, 2225: 5446, 2226: 5577, 2227: 5632, 2228: 5682, 2229: 5747, 2230: 5945, 2231: 5955, 2232: 6281, 2233: 6428, 2234: 6537, 2235: 6552, 2236: 6565, 2237: 6617, 2238: 6796, 2239: 6817, 2240: 6867, 2241: 6884, 2242: 6947, 2243: 6953, 2244: 6957, 2245: 6974, 2246: 6993, 2247: 6997, 2248: 7009, 2249: 7025, 2250: 7090, 2251: 7263, 2252: 7481, 2253: 7649, 2254: 7706, 2255: 7841, 2256: 7842, 2257: 7884, 2258: 8010, 2259: 8132, 2260: 8378, 2261: 8493, 2262: 8495, 2263: 8633, 2264: 8810, 2265: 8874, 2266: 8914, 2267: 8937, 2268: 8951, 2269: 8977, 2270: 8982, 2271: 8983, 2272: 26649, 2273: 26695, 2274: 26750, 2275: 26812, 2276: 26901, 2277: 27408, 2278: 27450, 2279: 27788, 2280: 27793, 2281: 31101, 2282: 31116, 2283: 31225, 2284: 31420, 2285: 33166, 2286: 33558, 2287: 33660, 2288: 34536, 2289: 36517, 2290: 36527, 2291: 37731, 2292: 37739, 2293: 38886, 2294: 39381, 2295: 39444, 2296: 40278, 2297: 40414, 2298: 40583, 2299: 41569, 2300: 41863, 2301: 42004, 2302: 43396, 2303: 43921, 2304: 43928, 2305: 43936, 2306: 44195, 2307: 44204, 2308: 44761, 2309: 45658, 2310: 46723, 2311: 47629, 2312: 47644, 2313: 47894, 2314: 48326, 2315: 48385, 2316: 48738, 2317: 48879, 2318: 49265, 2319: 49530, 2320: 49822, 2321: 49961, 2322: 50068, 2323: 50442, 2324: 51080, 2325: 51255, 2326: 51471, 2327: 51935, 2328: 52042, 2329: 52241, 2330: 52328, 2331: 52952, 2332: 53123, 2333: 53550, 2334: 53953, 2335: 54736, 2336: 54962, 2337: 54997, 2338: 55080, 2339: 55094, 2340: 55116, 2341: 55274, 2342: 55363, 2343: 55721, 2344: 55908, 2345: 56145, 2346: 56587, 2347: 56607, 2348: 56921, 2349: 58293, 2350: 58803, 2351: 59018, 2352: 59129, 2353: 59387, 2354: 60046, 2355: 60389, 2356: 60647, 2357: 60674, 2358: 60735, 2359: 60753, 2360: 60941, 2361: 60943, 2362: 61011, 2363: 61167, 2364: 61210, 2365: 61236, 2366: 61248, 2367: 61350, 2368: 61352, 2369: 61628, 2370: 61986, 2371: 62374, 2372: 62376, 2373: 62394, 2374: 62792, 2375: 62799, 2376: 62849, 2377: 63033, 2378: 63062, 2379: 63433, 2380: 64030, 2381: 64497, 2382: 64716, 2383: 64983, 2384: 65216, 2385: 65682, 2386: 65982, 2387: 67534, 2388: 68205, 2389: 69849, 2390: 70336, 2391: 71106, 2392: 71135, 2393: 953, 2394: 1204, 2395: 1242, 2396: 1772, 2397: 1792, 2398: 1939, 2399: 1945, 2400: 2301, 2401: 3363, 2402: 4980, 2403: 7156, 2404: 7379, 2405: 26554, 2406: 26729, 2407: 64620, 2408: 87306, 2409: 98961, 2410: 96821, 2411: 605, 2412: 612, 2413: 1099, 2414: 1231, 2415: 1353, 2416: 1361, 2417: 1363, 2418: 1393, 2419: 74, 2420: 78, 2421: 194, 2422: 203, 2423: 246, 2424: 471, 2425: 786, 2426: 1104, 2427: 1429, 2428: 1458, 2429: 28, 2430: 94, 2431: 249, 2432: 307, 2433: 308, 2434: 322, 2435: 385, 2436: 446, 2437: 452, 2438: 562, 2439: 580, 2440: 613, 2441: 715, 2442: 805, 2443: 994, 2444: 1027, 2445: 1056, 2446: 1177, 2447: 1280, 2448: 1365, 2449: 1399, 2450: 1446, 2451: 1476, 2452: 1487, 2453: 1537, 2454: 1545, 2455: 1621, 2456: 1633, 2457: 1643, 2458: 1672, 2459: 1673, 2460: 1799, 2461: 1801, 2462: 1841, 2463: 2112, 2464: 2310, 2465: 2333, 2466: 2357, 2467: 2391, 2468: 2443, 2469: 2501, 2470: 2690, 2471: 2875, 2472: 2943, 2473: 3997, 2474: 5146, 2475: 5449, 2476: 6242, 2477: 6567, 2478: 6618, 2479: 26606, 2480: 27193, 2481: 27728, 2482: 27801, 2483: 31184, 2484: 44974, 2485: 544, 2486: 2269, 2487: 2735, 2488: 2794, 2489: 3066, 2490: 3270, 2491: 3347, 2492: 3362, 2493: 3766, 2494: 3861, 2495: 4220, 2496: 5093, 2497: 5312, 2498: 6662, 2499: 585, 2500: 2342, 2501: 3019, 2502: 82, 2503: 121, 2504: 199, 2505: 228, 2506: 306, 2507: 514, 2508: 685, 2509: 3285, 2510: 3968, 2511: 4890, 2512: 6708, 2513: 6763, 2514: 7173, 2515: 7444, 2516: 8981, 2517: 54001, 2518: 55280, 2519: 56941, 2520: 59725, 2521: 61240, 2522: 65230, 2523: 71033, 2524: 85774, 2525: 86781, 2526: 87869, 2527: 89759, 2528: 93840, 2529: 96829, 2530: 97921, 2531: 100714, 2532: 101525, 2533: 103980, 2534: 111659, 2535: 111921, 2536: 112290, 2537: 115569, 2538: 116897, 2539: 125916, 2540: 128360, 2541: 136864, 2542: 122, 2543: 144, 2544: 227, 2545: 408, 2546: 413, 2547: 418, 2548: 424, 2549: 433, 2550: 436, 2551: 459, 2552: 550, 2553: 639, 2554: 782, 2555: 1191, 2556: 1343, 2557: 1431, 2558: 1453, 2559: 1468, 2560: 1488, 2561: 1513, 2562: 1667, 2563: 1726, 2564: 1810, 2565: 1835, 2566: 1975, 2567: 1976, 2568: 2146, 2569: 2155, 2570: 2236, 2571: 2297, 2572: 2306, 2573: 2352, 2574: 2404, 2575: 2433, 2576: 2497, 2577: 2500, 2578: 2505, 2579: 2568, 2580: 2574, 2581: 2598, 2582: 2702, 2583: 2713, 2584: 2771, 2585: 2795, 2586: 2796, 2587: 2805, 2588: 2827, 2589: 2861, 2590: 2871, 2591: 2890, 2592: 2906, 2593: 3098, 2594: 3120, 2595: 3142, 2596: 3177, 2597: 3186, 2598: 3208, 2599: 3259, 2600: 3261, 2601: 3298, 2602: 3326, 2603: 3502, 2604: 3552, 2605: 3646, 2606: 3694, 2607: 3695, 2608: 3764, 2609: 3824, 2610: 3841, 2611: 3946, 2612: 3987, 2613: 4008, 2614: 4041, 2615: 4062, 2616: 4067, 2617: 4084, 2618: 4102, 2619: 4132, 2620: 4153, 2621: 4155, 2622: 4207, 2623: 4280, 2624: 4293, 2625: 4317, 2626: 4321, 2627: 4322, 2628: 4333, 2629: 4349, 2630: 4351, 2631: 4359, 2632: 4361, 2633: 4396, 2634: 4442, 2635: 4466, 2636: 4477, 2637: 4482, 2638: 4487, 2639: 4509, 2640: 4516, 2641: 4541, 2642: 4564, 2643: 4565, 2644: 4577, 2645: 4623, 2646: 4629, 2647: 4654, 2648: 4679, 2649: 4686, 2650: 57, 2651: 259, 2652: 484, 2653: 519, 2654: 828, 2655: 1105, 2656: 18, 2657: 663, 2658: 737, 2659: 833, 2660: 836, 2661: 889, 2662: 69, 2663: 934, 2664: 1005, 2665: 1033, 2666: 1390, 2667: 1442, 2668: 1615, 2669: 1642, 2670: 1753, 2671: 1769, 2672: 1863, 2673: 1866, 2674: 1934, 2675: 2042, 2676: 2064, 2677: 2106, 2678: 2124, 2679: 2195, 2680: 2431, 2681: 2504, 2682: 2718, 2683: 2731, 2684: 3004, 2685: 3196, 2686: 3249, 2687: 3268, 2688: 3274, 2689: 3385, 2690: 4104, 2691: 4502, 2692: 4929, 2693: 4958, 2694: 4974, 2695: 5151, 2696: 5220, 2697: 5283, 2698: 5307, 2699: 5308, 2700: 5500, 2701: 5528, 2702: 5568, 2703: 5582, 2704: 5585, 2705: 5589, 2706: 7294, 2707: 33495, 2708: 53993, 2709: 391, 2710: 2121, 2711: 2942, 2712: 3844, 2713: 3969, 2714: 4474, 2715: 4975, 2716: 5108, 2717: 6765, 2718: 7160, 2719: 8966, 2720: 45950, 2721: 47423, 2722: 51931, 2723: 53894, 2724: 63876, 2725: 68932, 2726: 69712, 2727: 72395, 2728: 79242, 2729: 82767, 2730: 96567, 2731: 96811, 2732: 97923, 2733: 100383, 2734: 106100, 2735: 108729, 2736: 112804, 2737: 117881, 2738: 132424, 2739: 137337, 2740: 140174, 2741: 140247, 2742: 140715, 2743: 145839, 2744: 146656, 2745: 159817, 2746: 163645, 2747: 166643, 2748: 171011, 2749: 1320, 2750: 5882, 2751: 8371, 2752: 909, 2753: 1251, 2754: 1273, 2755: 1289, 2756: 2164, 2757: 2553, 2758: 2732, 2759: 2925, 2760: 3221, 2761: 3415, 2762: 3730, 2763: 4282, 2764: 4399, 2765: 4658, 2766: 4914, 2767: 4928, 2768: 5004, 2769: 5021, 2770: 5810, 2771: 5932, 2772: 6239, 2773: 6663, 2774: 6666, 2775: 6975, 2776: 7063, 2777: 7206, 2778: 7247, 2779: 7327, 2780: 7396, 2781: 7700, 2782: 7748, 2783: 8143, 2784: 8157, 2785: 8235, 2786: 8253, 2787: 8379, 2788: 8879, 2789: 8928, 2790: 8974, 2791: 26258, 2792: 26326, 2793: 26422, 2794: 27156, 2795: 27513, 2796: 32657, 2797: 32659, 2798: 32875, 2799: 32898, 2800: 33781, 2801: 37545, 2802: 44719, 2803: 45880, 2804: 46062, 2805: 46862, 2806: 52885, 2807: 62336, 2808: 62644, 2809: 63312, 2810: 64278, 2811: 66335, 2812: 79224, 2813: 81018, 2814: 81562, 2815: 82848, 2816: 85796, 2817: 88911, 2818: 90522, 2819: 90746, 2820: 91094, 2821: 92046, 2822: 92427, 2823: 92475, 2824: 93114, 2825: 93326, 2826: 96606, 2827: 97225, 2828: 97304, 2829: 100498, 2830: 101072, 2831: 103171, 2832: 104283, 2833: 104913, 2834: 105250, 2835: 107338, 2836: 107565, 2837: 111732, 2838: 113374, 2839: 114335, 2840: 115203, 2841: 122898, 2842: 127146, 2843: 128695, 2844: 134170, 2845: 134515, 2846: 135143, 2847: 135456, 2848: 136018, 2849: 136305, 2850: 136564, 2851: 137857, 2852: 138208, 2853: 139644, 2854: 140928, 2855: 142074, 2856: 142448, 2857: 142602, 2858: 142961, 2859: 142997, 2860: 143859, 2861: 143969, 2862: 149406, 2863: 151759, 2864: 156607, 2865: 160569, 2866: 164280, 2867: 165969, 2868: 167370, 2869: 168254, 2870: 168492, 2871: 170705, 2872: 170875, 2873: 171701, 2874: 171759, 2875: 172013, 2876: 172461, 2877: 174055, 2878: 174141, 2879: 174403, 2880: 174737, 2881: 175485, 2882: 175661, 2883: 175693, 2884: 175705, 2885: 175707, 2886: 175743, 2887: 175781, 2888: 179073, 2889: 188301, 2890: 190183, 2891: 387, 2892: 479, 2893: 482, 2894: 522, 2895: 781, 2896: 1011, 2897: 1014, 2898: 1235, 2899: 1244, 2900: 1301, 2901: 1350, 2902: 1873, 2903: 1997, 2904: 1999, 2905: 2159, 2906: 2183, 2907: 2265, 2908: 2322, 2909: 2356, 2910: 2363, 2911: 2379, 2912: 2380, 2913: 2408, 2914: 2454, 2915: 2524, 2916: 2533, 2917: 2554, 2918: 2587, 2919: 2613, 2920: 2615, 2921: 2634, 2922: 2661, 2923: 2664, 2924: 2752, 2925: 2978, 2926: 3115, 2927: 3148, 2928: 3388, 2929: 3430, 2930: 3614, 2931: 3799, 2932: 3814, 2933: 3917, 2934: 3918, 2935: 3959, 2936: 4215, 2937: 4241, 2938: 4255, 2939: 4267, 2940: 4291, 2941: 4340, 2942: 4437, 2943: 4464, 2944: 4496, 2945: 4508, 2946: 4591, 2947: 4713, 2948: 4876, 2949: 4971, 2950: 4992, 2951: 5040, 2952: 5339, 2953: 5505, 2954: 5672, 2955: 5712, 2956: 6323, 2957: 6371, 2958: 6659, 2959: 6786, 2960: 6793, 2961: 6873, 2962: 6880, 2963: 7000, 2964: 7004, 2965: 7007, 2966: 7040, 2967: 7163, 2968: 7757, 2969: 7983, 2970: 8623, 2971: 26680, 2972: 34338, 2973: 39414, 2974: 42723, 2975: 45666, 2976: 48877, 2977: 52722, 2978: 57532, 2979: 59306, 2980: 60487, 2981: 33646, 2982: 50794, 2983: 51077, 2984: 52245, 2985: 54995, 2986: 54999, 2987: 56801, 2988: 65514, 2989: 69481, 2990: 86892, 2991: 93721, 2992: 93838, 2993: 110501, 2994: 748, 2995: 916, 2996: 1125, 2997: 1982, 2998: 1293, 2999: 198, 3000: 473, 3001: 518, 3002: 707, 3003: 728, 3004: 861, 3005: 897, 3006: 942, 3007: 951, 3008: 955, 3009: 1184, 3010: 1254, 3011: 1268, 3012: 1277, 3013: 1388, 3014: 1416, 3015: 1498, 3016: 1564, 3017: 1646, 3018: 1670, 3019: 1858, 3020: 1912, 3021: 2009, 3022: 2067, 3023: 2102, 3024: 2202, 3025: 2289, 3026: 2429, 3027: 2476, 3028: 2681, 3029: 2759, 3030: 2917, 3031: 2922, 3032: 2935, 3033: 2961, 3034: 3045, 3035: 3334, 3036: 3426, 3037: 3446, 3038: 3494, 3039: 3507, 3040: 3593, 3041: 3628, 3042: 3632, 3043: 3643, 3044: 3769, 3045: 3773, 3046: 3774, 3047: 3811, 3048: 3901, 3049: 3937, 3050: 280, 3051: 928, 3052: 1151, 3053: 1428, 3054: 1631, 3055: 1696, 3056: 1797, 3057: 1944, 3058: 2020, 3059: 2075, 3060: 3075, 3061: 3230, 3062: 3461, 3063: 3498, 3064: 3504, 3065: 6460, 3066: 2739, 3067: 6058, 3068: 6541, 3069: 6564, 3070: 27660, 3071: 27706, 3072: 27808, 3073: 48043, 3074: 49130, 3075: 49649, 3076: 50804, 3077: 51086, 3078: 59501, 3079: 60072, 3080: 60126, 3081: 63072, 3082: 67734, 3083: 68554, 3084: 68848, 3085: 74228, 3086: 78105, 3087: 79357, 3088: 80693, 3089: 82461, 3090: 83369, 3091: 86911, 3092: 87430, 3093: 89492, 3094: 89864, 3095: 90866, 3096: 96861, 3097: 99149, 3098: 102123, 3099: 103042, 3100: 103341, 3101: 104863, 3102: 106002, 3103: 107348, 3104: 107406, 3105: 111360, 3106: 113741, 3107: 114662, 3108: 114678, 3109: 114935, 3110: 115210, 3111: 115680, 3112: 118696, 3113: 128512, 3114: 135518, 3115: 142222, 3116: 143355, 3117: 158966, 3118: 161131, 3119: 166534, 3120: 168250, 3121: 170827, 3122: 171763, 3123: 172591, 3124: 173925, 3125: 174053, 3126: 175303, 3127: 176601, 3128: 179401, 3129: 179819, 3130: 182715, 3131: 183611, 3132: 184471, 3133: 185031, 3134: 187595, 3135: 1202, 3136: 1965, 3137: 3088, 3138: 4105, 3139: 6104, 3140: 7022, 3141: 7132, 3142: 7387, 3143: 7980, 3144: 8376, 3145: 8873, 3146: 27846, 3147: 27904, 3148: 30810, 3149: 33779, 3150: 45728, 3151: 53000, 3152: 54259, 3153: 64285, 3154: 67997, 3155: 77800, 3156: 86290, 3157: 86504, 3158: 89753, 3159: 89904, 3160: 92494, 3161: 92535, 3162: 95858, 3163: 98491, 3164: 102217, 3165: 104069, 3166: 365, 3167: 968, 3168: 1096, 3169: 1762, 3170: 1889, 3171: 2313, 3172: 2905, 3173: 3041, 3174: 4023, 3175: 4128, 3176: 4380, 3177: 4448, 3178: 4773, 3179: 4964, 3180: 5026, 3181: 5225, 3182: 5291, 3183: 5417, 3184: 5690, 3185: 5878, 3186: 5954, 3187: 6188, 3188: 6214, 3189: 6218, 3190: 6296, 3191: 6331, 3192: 6385, 3193: 6936, 3194: 6944, 3195: 7139, 3196: 7162, 3197: 7235, 3198: 7360, 3199: 7411, 3200: 7743, 3201: 7930, 3202: 7982, 3203: 8014, 3204: 8093, 3205: 8645, 3206: 8795, 3207: 8832, 3208: 26504, 3209: 27020, 3210: 27266, 3211: 27523, 3212: 27869, 3213: 33683, 3214: 34072, 3215: 42632, 3216: 255, 3217: 523, 3218: 535, 3219: 1216, 3220: 1326, 3221: 1382, 3222: 1541, 3223: 1956, 3224: 2257, 3225: 2312, 3226: 2316, 3227: 2401, 3228: 2956, 3229: 2966, 3230: 3029, 3231: 3074, 3232: 3201, 3233: 3262, 3234: 3444, 3235: 4079, 3236: 4149, 3237: 4158, 3238: 4203, 3239: 4231, 3240: 4465, 3241: 4499, 3242: 4537, 3243: 4572, 3244: 4581, 3245: 4585, 3246: 4611, 3247: 4616, 3248: 5023, 3249: 5265, 3250: 5548, 3251: 5644, 3252: 6022, 3253: 6025, 3254: 6124, 3255: 6313, 3256: 6636, 3257: 6754, 3258: 6832, 3259: 6979, 3260: 6996, 3261: 7015, 3262: 7027, 3263: 7028, 3264: 7046, 3265: 7048, 3266: 7127, 3267: 7325, 3268: 7493, 3269: 7624, 3270: 7647, 3271: 7766, 3272: 8024, 3273: 8158, 3274: 5628, 3275: 8604, 3276: 8605, 3277: 875, 3278: 932, 3279: 1017, 3280: 1019, 3281: 1292, 3282: 1381, 3283: 1515, 3284: 1635, 3285: 1703, 3286: 2125, 3287: 2334, 3288: 2340, 3289: 2385, 3290: 2471, 3291: 2560, 3292: 2567, 3293: 2662, 3294: 2728, 3295: 2803, 3296: 2881, 3297: 2950, 3298: 3077, 3299: 3452, 3300: 3553, 3301: 3554, 3302: 3653, 3303: 3675, 3304: 3707, 3305: 3786, 3306: 3978, 3307: 3981, 3308: 4015, 3309: 4068, 3310: 4069, 3311: 4124, 3312: 4141, 3313: 4326, 3314: 4356, 3315: 4372, 3316: 4387, 3317: 4388, 3318: 4639, 3319: 4677, 3320: 4681, 3321: 4823, 3322: 4877, 3323: 4969, 3324: 5049, 3325: 5400, 3326: 5444, 3327: 5541, 3328: 5553, 3329: 6193, 3330: 6383, 3331: 6595, 3332: 6707, 3333: 6753, 3334: 6755, 3335: 6879, 3336: 6893, 3337: 6939, 3338: 7010, 3339: 7137, 3340: 7256, 3341: 7320, 3342: 7346, 3343: 7454, 3344: 7541, 3345: 7566, 3346: 8366, 3347: 8677, 3348: 8781, 3349: 8807, 3350: 8861, 3351: 8866, 3352: 8910, 3353: 8947, 3354: 8968, 3355: 8985, 3356: 26712, 3357: 26778, 3358: 26871, 3359: 27473, 3360: 27539, 3361: 27705, 3362: 30822, 3363: 31049, 3364: 32598, 3365: 33154, 3366: 33437, 3367: 33672, 3368: 34153, 3369: 34542, 3370: 40732, 3371: 40959, 3372: 41571, 3373: 41573, 3374: 41724, 3375: 42018, 3376: 42718, 3377: 42738, 3378: 44004, 3379: 44709, 3380: 44788, 3381: 45431, 3382: 45501, 3383: 45720, 3384: 45726, 3385: 45928, 3386: 46322, 3387: 46948, 3388: 47970, 3389: 47978, 3390: 47999, 3391: 48342, 3392: 48696, 3393: 49274, 3394: 49772, 3395: 50658, 3396: 50685, 3397: 50740, 3398: 50806, 3399: 51709, 3400: 51884, 3401: 52287, 3402: 52435, 3403: 52458, 3404: 52767, 3405: 52975, 3406: 53435, 3407: 54004, 3408: 54116, 3409: 54121, 3410: 54281, 3411: 54734, 3412: 54881, 3413: 55052, 3414: 55112, 3415: 55190, 3416: 55232, 3417: 55253, 3418: 55267, 3419: 55282, 3420: 55620, 3421: 55830, 3422: 56152, 3423: 56251, 3424: 56336, 3425: 56339, 3426: 56379, 3427: 57951, 3428: 58078, 3429: 58107, 3430: 58162, 3431: 58347, 3432: 58839, 3433: 59126, 3434: 59220, 3435: 59258, 3436: 59440, 3437: 59731, 3438: 60363, 3439: 60514, 3440: 62155, 3441: 62293, 3442: 62956, 3443: 62999, 3444: 64622, 3445: 65188, 3446: 66198, 3447: 66665, 3448: 67087, 3449: 67267, 3450: 67408, 3451: 67618, 3452: 68659, 3453: 68952, 3454: 69069, 3455: 69394, 3456: 69524, 3457: 69784, 3458: 69904, 3459: 70492, 3460: 70521, 3461: 70990, 3462: 71282, 3463: 72167, 3464: 72489, 3465: 72591, 3466: 73023, 3467: 74154, 3468: 74508, 3469: 74668, 3470: 74946, 3471: 76751, 3472: 78467, 3473: 78703, 3474: 79057, 3475: 80860, 3476: 81910, 3477: 83134, 3478: 83803, 3479: 84772, 3480: 85780, 3481: 86293, 3482: 86377, 3483: 86833, 3484: 89087, 3485: 89470, 3486: 90576, 3487: 92420, 3488: 93287, 3489: 94959, 3490: 95218, 3491: 95624, 3492: 95875, 3493: 96110, 3494: 114762, 3495: 4744, 3496: 4880, 3497: 1172, 3498: 1300, 3499: 1955, 3500: 1959, 3501: 1962, 3502: 3152, 3503: 3359, 3504: 3468, 3505: 91077, 3506: 2136, 3507: 44193, 3508: 45221, 3509: 47122, 3510: 47518, 3511: 48414, 3512: 50601, 3513: 53460, 3514: 55768, 3515: 68135, 3516: 69278, 3517: 71518, 3518: 72226, 3519: 74647, 3520: 75805, 3521: 76293, 3522: 87485, 3523: 92509, 3524: 93272, 3525: 99106, 3526: 101612, 3527: 105037, 3528: 109483, 3529: 111320, 3530: 112450, 3531: 112788, 3532: 113378, 3533: 114074, 3534: 123947, 3535: 127202, 3536: 128520, 3537: 131013, 3538: 138204, 3539: 149354, 3540: 151739, 3541: 926, 3542: 949, 3543: 1041, 3544: 1185, 3545: 2010, 3546: 2360, 3547: 2594, 3548: 3089, 3549: 3307, 3550: 4103, 3551: 4427, 3552: 4546, 3553: 5300, 3554: 5304, 3555: 5341, 3556: 5434, 3557: 5812, 3558: 5867, 3559: 6235, 3560: 6244, 3561: 6270, 3562: 6301, 3563: 6305, 3564: 6591, 3565: 6791, 3566: 6852, 3567: 6858, 3568: 7087, 3569: 7158, 3570: 7234, 3571: 7419, 3572: 7889, 3573: 8154, 3574: 8183, 3575: 8340, 3576: 8341, 3577: 8804, 3578: 8838, 3579: 26350, 3580: 26578, 3581: 27721, 3582: 31522, 3583: 39292, 3584: 44937, 3585: 48698, 3586: 50274, 3587: 52967, 3588: 55069, 3589: 55444, 3590: 55814, 3591: 57147, 3592: 58103, 3593: 58154, 3594: 6303, 3595: 7001, 3596: 2318, 3597: 7669, 3598: 39446, 3599: 55577, 3600: 63436, 3601: 72129, 3602: 81535, 3603: 20, 3604: 2792, 3605: 164, 3606: 1189, 3607: 1192, 3608: 2659, 3609: 3197, 3610: 3266, 3611: 3425, 3612: 3576, 3613: 4887, 3614: 6059, 3615: 6952, 3616: 60030, 3617: 69654, 3618: 75395, 3619: 78266, 3620: 78349, 3621: 80363, 3622: 80831, 3623: 81417, 3624: 82041, 3625: 84189, 3626: 84601, 3627: 85397, 3628: 90405, 3629: 90469, 3630: 91974, 3631: 93297, 3632: 96691, 3633: 96917, 3634: 98361, 3635: 100810, 3636: 103075, 3637: 103688, 3638: 2381, 3639: 2383, 3640: 2384, 3641: 4386, 3642: 4989, 3643: 5065, 3644: 5094, 3645: 5106, 3646: 5296, 3647: 5414, 3648: 5803, 3649: 5874, 3650: 5900, 3651: 6006, 3652: 6014, 3653: 6249, 3654: 6338, 3655: 6484, 3656: 6536, 3657: 6550, 3658: 6566, 3659: 6586, 3660: 6593, 3661: 6686, 3662: 6687, 3663: 6702, 3664: 6750, 3665: 6752, 3666: 6764, 3667: 6886, 3668: 6887, 3669: 6946, 3670: 6949, 3671: 6958, 3672: 7142, 3673: 3155, 3674: 27397, 3675: 55442, 3676: 58303, 3677: 14, 3678: 55, 3679: 154, 3680: 214, 3681: 287, 3682: 299, 3683: 321, 3684: 324, 3685: 326, 3686: 331, 3687: 369, 3688: 406, 3689: 691, 3690: 722, 3691: 726, 3692: 900, 3693: 948, 3694: 971, 3695: 987, 3696: 1091, 3697: 1131, 3698: 1132, 3699: 1135, 3700: 1187, 3701: 1190, 3702: 1194, 3703: 1286, 3704: 1290, 3705: 1295, 3706: 1296, 3707: 1305, 3708: 1395, 3709: 1414, 3710: 53, 3711: 1140, 3712: 1519, 3713: 1596, 3714: 1624, 3715: 1683, 3716: 1694, 3717: 1730, 3718: 72356, 3719: 74553, 3720: 3910, 3721: 6464, 3722: 7312, 3723: 26974, 3724: 74795, 3725: 83177, 3726: 901, 3727: 905, 3728: 918, 3729: 936, 3730: 945, 3731: 946, 3732: 947, 3733: 950, 3734: 3061, 3735: 3097, 3736: 3315, 3737: 3599, 3738: 3604, 3739: 3606, 3740: 3991, 3741: 4300, 3742: 4899, 3743: 5092, 3744: 5480, 3745: 5529, 3746: 5621, 3747: 6271, 3748: 6402, 3749: 6604, 3750: 6650, 3751: 6783, 3752: 7067, 3753: 7209, 3754: 7297, 3755: 7381, 3756: 8238, 3757: 8372, 3758: 8814, 3759: 8978, 3760: 25887, 3761: 26183, 3762: 26184, 3763: 26265, 3764: 26429, 3765: 26645, 3766: 27619, 3767: 27826, 3768: 31851, 3769: 31925, 3770: 32060, 3771: 32243, 3772: 32596, 3773: 33090, 3774: 33830, 3775: 34312, 3776: 34332, 3777: 35807, 3778: 37384, 3779: 37444, 3780: 40339, 3781: 40962, 3782: 41828, 3783: 42013, 3784: 42725, 3785: 42761, 3786: 44773, 3787: 44777, 3788: 44851, 3789: 46105, 3790: 47725, 3791: 47736, 3792: 48520, 3793: 48649, 3794: 48982, 3795: 49013, 3796: 49735, 3797: 50613, 3798: 50999, 3799: 51167, 3800: 51575, 3801: 53280, 3802: 53355, 3803: 53578, 3804: 55269, 3805: 58291, 3806: 60289, 3807: 60737, 3808: 62008, 3809: 64116, 3810: 65588, 3811: 66798, 3812: 66943, 3813: 67888, 3814: 69211, 3815: 69304, 3816: 69469, 3817: 69720, 3818: 70697, 3819: 72178, 3820: 72624, 3821: 72692, 3822: 72701, 3823: 73015, 3824: 73042, 3825: 73160, 3826: 73822, 3827: 74342, 3828: 74683, 3829: 74698, 3830: 76143, 3831: 76301, 3832: 77688, 3833: 78142, 3834: 78620, 3835: 79684, 3836: 79897, 3837: 80727, 3838: 81087, 3839: 81537, 3840: 82854, 3841: 83910, 3842: 83969, 3843: 84246, 3844: 84512, 3845: 84944, 3846: 85295, 3847: 85881, 3848: 86059, 3849: 86298, 3850: 87834, 3851: 88069, 3852: 88746, 3853: 88785, 3854: 88812, 3855: 89898, 3856: 90717, 3857: 91355, 3858: 91386, 3859: 91666, 3860: 92643, 3861: 93006, 3862: 93022, 3863: 94661, 3864: 95633, 3865: 95843, 3866: 96608, 3867: 96935, 3868: 97836, 3869: 98279, 3870: 99117, 3871: 99122, 3872: 99130, 3873: 99853, 3874: 100390, 3875: 100507, 3876: 101283, 3877: 102378, 3878: 102686, 3879: 102747, 3880: 102984, 3881: 103602, 3882: 104339, 3883: 104875, 3884: 105540, 3885: 105746, 3886: 106594, 3887: 106927, 3888: 107951, 3889: 108078, 3890: 108949, 3891: 109241, 3892: 109596, 3893: 111146, 3894: 113252, 3895: 113453, 3896: 115111, 3897: 116718, 3898: 116738, 3899: 116817, 3900: 117109, 3901: 118270, 3902: 118530, 3903: 118572, 3904: 118834, 3905: 118862, 3906: 118894, 3907: 119714, 3908: 120813, 3909: 121007, 3910: 121097, 3911: 121338, 3912: 121342, 3913: 121469, 3914: 121781, 3915: 122092, 3916: 124273, 3917: 124404, 3918: 125970, 3919: 125974, 3920: 126088, 3921: 126577, 3922: 126921, 3923: 127052, 3924: 127134, 3925: 128087, 3926: 128089, 3927: 128366, 3928: 128594, 3929: 128852, 3930: 128944, 3931: 128968, 3932: 129011, 3933: 129354, 3934: 130452, 3935: 130518, 3936: 130520, 3937: 131098, 3938: 131104, 3939: 131130, 3940: 131439, 3941: 131610, 3942: 131826, 3943: 132153, 3944: 132422, 3945: 132496, 3946: 132584, 3947: 132800, 3948: 133712, 3949: 133867, 3950: 133879, 3951: 134004, 3952: 134334, 3953: 134847, 3954: 135777, 3955: 135937, 3956: 136341, 3957: 136353, 3958: 136355, 3959: 136359, 3960: 136503, 3961: 136834, 3962: 139157, 3963: 139640, 3964: 139994, 3965: 140133, 3966: 140481, 3967: 140541, 3968: 140561, 3969: 140711, 3970: 141513, 3971: 141544, 3972: 141646, 3973: 141830, 3974: 141928, 3975: 142196, 3976: 142444, 3977: 142550, 3978: 142831, 3979: 143031, 3980: 143559, 3981: 144222, 3982: 145491, 3983: 146244, 3984: 146684, 3985: 146986, 3986: 147410, 3987: 147936, 3988: 148632, 3989: 148775, 3990: 149350, 3991: 149352, 3992: 149508, 3993: 149566, 3994: 150554, 3995: 153386, 3996: 153408, 3997: 155589, 3998: 156025, 3999: 156781, 4000: 157296, 4001: 157775, 4002: 158398, 4003: 158882, 4004: 159069, 4005: 160567, 4006: 163527, 4007: 164200, 4008: 164226, 4009: 164707, 4010: 167018, 4011: 167380, 4012: 167772, 4013: 167854, 4014: 169912, 4015: 170837, 4016: 170993, 4017: 171751, 4018: 171811, 4019: 172321, 4020: 173253, 4021: 174681, 4022: 176621, 4023: 176805, 4024: 177185, 4025: 177765, 4026: 179211, 4027: 181065, 4028: 182293, 4029: 182297, 4030: 182299, 4031: 182731, 4032: 184349, 4033: 184791, 4034: 68, 4035: 81, 4036: 85, 4037: 116, 4038: 581, 4039: 617, 4040: 735, 4041: 766, 4042: 791, 4043: 896, 4044: 1034, 4045: 1116, 4046: 1137, 4047: 1144, 4048: 1366, 4049: 1411, 4050: 1417, 4051: 384, 4052: 464, 4053: 533, 4054: 1241, 4055: 1321, 4056: 1337, 4057: 1340, 4058: 1760, 4059: 1771, 4060: 1974, 4061: 1981, 4062: 2117, 4063: 2122, 4064: 2138, 4065: 2298, 4066: 2419, 4067: 2456, 4068: 2522, 4069: 2625, 4070: 2651, 4071: 2782, 4072: 2784, 4073: 2790, 4074: 2817, 4075: 2868, 4076: 2992, 4077: 3013, 4078: 3018, 4079: 3153, 4080: 3182, 4081: 3267, 4082: 3563, 4083: 3727, 4084: 3768, 4085: 3810, 4086: 3840, 4087: 4092, 4088: 4109, 4089: 4214, 4090: 4254, 4091: 4304, 4092: 4316, 4093: 4438, 4094: 4587, 4095: 4599, 4096: 4624, 4097: 4645, 4098: 4661, 4099: 4678, 4100: 4774, 4101: 4800, 4102: 4850, 4103: 4909, 4104: 4987, 4105: 5165, 4106: 5294, 4107: 5346, 4108: 5438, 4109: 5479, 4110: 5588, 4111: 5640, 4112: 5650, 4113: 5749, 4114: 6203, 4115: 6219, 4116: 6283, 4117: 6327, 4118: 6375, 4119: 6395, 4120: 6461, 4121: 6620, 4122: 6629, 4123: 6638, 4124: 6678, 4125: 6731, 4126: 6744, 4127: 6820, 4128: 6963, 4129: 7118, 4130: 7308, 4131: 7492, 4132: 7561, 4133: 7650, 4134: 7802, 4135: 8016, 4136: 8147, 4137: 8266, 4138: 8426, 4139: 8501, 4140: 8507, 4141: 8581, 4142: 27317, 4143: 27873, 4144: 2114, 4145: 2398, 4146: 54190, 4147: 1606, 4148: 2103, 4149: 1529, 4150: 1659, 4151: 2280, 4152: 2600, 4153: 3071, 4154: 3690, 4155: 4126, 4156: 4732, 4157: 4954, 4158: 5027, 4159: 5072, 4160: 5246, 4161: 5247, 4162: 5619, 4163: 5792, 4164: 6051, 4165: 6288, 4166: 6367, 4167: 1942, 4168: 3819, 4169: 5109, 4170: 5420, 4171: 71745, 4172: 79139, 4173: 1958, 4174: 2262, 4175: 3244, 4176: 5380, 4177: 6183, 4178: 6785, 4179: 233, 4180: 2337, 4181: 3179, 4182: 4873, 4183: 7367, 4184: 50912, 4185: 57522, 4186: 58972, 4187: 59022, 4188: 62553, 4189: 64114, 4190: 65088, 4191: 65577, 4192: 65802, 4193: 69140, 4194: 70728, 4195: 77206, 4196: 77427, 4197: 79572, 4198: 80572, 4199: 80586, 4200: 81156, 4201: 81819, 4202: 86014, 4203: 86815, 4204: 87194, 4205: 88108, 4206: 90890, 4207: 91126, 4208: 91653, 4209: 91671, 4210: 91976, 4211: 96728, 4212: 99764, 4213: 106766, 4214: 116799, 4215: 132046, 4216: 134881, 4217: 938, 4218: 1833, 4219: 2325, 4220: 2551, 4221: 2837, 4222: 3163, 4223: 3325, 4224: 3719, 4225: 3746, 4226: 4476, 4227: 4663, 4228: 4676, 4229: 4740, 4230: 4912, 4231: 4941, 4232: 5460, 4233: 6012, 4234: 6030, 4235: 6060, 4236: 6169, 4237: 6579, 4238: 7034, 4239: 7036, 4240: 7050, 4241: 7380, 4242: 8643, 4243: 8796, 4244: 25937, 4245: 32300, 4246: 45175, 4247: 53466, 4248: 54780, 4249: 69988, 4250: 80584, 4251: 85401, 4252: 93805, 4253: 94015, 4254: 94150, 4255: 94833, 4256: 213, 4257: 665, 4258: 935, 4259: 1111, 4260: 1178, 4261: 1354, 4262: 2131, 4263: 2495, 4264: 2931, 4265: 3306, 4266: 3310, 4267: 3592, 4268: 3629, 4269: 3677, 4270: 3687, 4271: 3742, 4272: 3821, 4273: 4325, 4274: 4788, 4275: 5373, 4276: 5888, 4277: 5889, 4278: 5912, 4279: 6187, 4280: 6433, 4281: 6643, 4282: 6777, 4283: 6985, 4284: 7347, 4285: 7371, 4286: 8025, 4287: 8033, 4288: 8197, 4289: 8511, 4290: 8638, 4291: 8656, 4292: 9010, 4293: 26082, 4294: 26150, 4295: 26236, 4296: 26237, 4297: 26347, 4298: 26471, 4299: 26587, 4300: 26662, 4301: 26849, 4302: 26903, 4303: 27134, 4304: 27803, 4305: 27815, 4306: 27834, 4307: 30803, 4308: 32892, 4309: 33124, 4310: 36363, 4311: 36401, 4312: 38159, 4313: 42191, 4314: 48872, 4315: 56060, 4316: 57183, 4317: 57504, 4318: 58425, 4319: 58554, 4320: 60904, 4321: 63515, 4322: 64993, 4323: 66371, 4324: 67923, 4325: 69134, 4326: 69529, 4327: 69685, 4328: 72104, 4329: 73881, 4330: 74324, 4331: 74727, 4332: 75341, 4333: 79333, 4334: 80124, 4335: 84156, 4336: 84844, 4337: 85316, 4338: 85736, 4339: 86066, 4340: 86320, 4341: 86347, 4342: 88235, 4343: 88345, 4344: 91261, 4345: 93790, 4346: 95175, 4347: 95311, 4348: 95313, 4349: 95377, 4350: 95654, 4351: 96020, 4352: 96373, 4353: 98604, 4354: 99145, 4355: 100302, 4356: 100553, 4357: 101088, 4358: 101962, 4359: 102602, 4360: 102666, 4361: 103235, 4362: 104780, 4363: 105593, 4364: 107159, 4365: 107408, 4366: 107410, 4367: 107412, 4368: 108540, 4369: 108727, 4370: 108981, 4371: 109633, 4372: 110586, 4373: 111622, 4374: 116411, 4375: 117444, 4376: 118166, 4377: 118888, 4378: 118896, 4379: 118985, 4380: 120138, 4381: 120478, 4382: 120625, 4383: 126090, 4384: 126426, 4385: 126430, 4386: 127098, 4387: 129514, 4388: 130970, 4389: 130976, 4390: 130978, 4391: 131237, 4392: 133716, 4393: 134041, 4394: 134095, 4395: 134109, 4396: 134184, 4397: 134252, 4398: 134326, 4399: 134849, 4400: 136445, 4401: 136447, 4402: 138835, 4403: 140038, 4404: 140265, 4405: 141810, 4406: 141816, 4407: 141818, 4408: 141820, 4409: 141836, 4410: 141844, 4411: 142020, 4412: 143511, 4413: 145994, 4414: 146028, 4415: 147196, 4416: 147250, 4417: 147282, 4418: 147286, 4419: 147300, 4420: 147326, 4421: 147328, 4422: 147330, 4423: 151769, 4424: 152591, 4425: 158402, 4426: 159811, 4427: 163072, 4428: 163112, 4429: 163134, 4430: 163386, 4431: 163925, 4432: 165959, 4433: 166183, 4434: 170411, 4435: 170597, 4436: 170777, 4437: 171749, 4438: 172577, 4439: 172583, 4440: 172585, 4441: 172587, 4442: 172589, 4443: 172637, 4444: 172793, 4445: 172825, 4446: 172909, 4447: 173351, 4448: 173355, 4449: 173535, 4450: 173619, 4451: 173963, 4452: 174551, 4453: 175293, 4454: 175387, 4455: 175397, 4456: 175401, 4457: 175431, 4458: 175435, 4459: 178613, 4460: 179133, 4461: 99636, 4462: 156, 4463: 1684, 4464: 2585, 4465: 3795, 4466: 4024, 4467: 4159, 4468: 4889, 4469: 4976, 4470: 4994, 4471: 5011, 4472: 5034, 4473: 5051, 4474: 5135, 4475: 5303, 4476: 5309, 4477: 5316, 4478: 5391, 4479: 5450, 4480: 5466, 4481: 5881, 4482: 6049, 4483: 283, 4484: 346, 4485: 528, 4486: 7096, 4487: 26171, 4488: 40870, 4489: 1856, 4490: 2447, 4491: 3979, 4492: 4228, 4493: 4247, 4494: 4649, 4495: 4900, 4496: 5025, 4497: 5363, 4498: 5501, 4499: 5524, 4500: 5564, 4501: 5942, 4502: 6003, 4503: 6482, 4504: 7225, 4505: 7285, 4506: 7439, 4507: 8531, 4508: 32298, 4509: 34520, 4510: 34530, 4511: 40581, 4512: 42007, 4513: 44840, 4514: 44972, 4515: 47640, 4516: 48322, 4517: 49396, 4518: 54732, 4519: 55245, 4520: 55261, 4521: 55872, 4522: 56805, 4523: 58156, 4524: 59143, 4525: 61255, 4526: 62439, 4527: 63479, 4528: 65585, 4529: 69436, 4530: 70565, 4531: 70641, 4532: 71205, 4533: 71668, 4534: 71838, 4535: 73929, 4536: 74275, 4537: 74532, 4538: 78174, 4539: 78209, 4540: 79428, 4541: 80139, 4542: 82852, 4543: 85022, 4544: 85367, 4545: 87483, 4546: 87529, 4547: 87867, 4548: 91323, 4549: 92264, 4550: 93270, 4551: 93443, 4552: 93831, 4553: 94478, 4554: 94953, 4555: 95720, 4556: 96616, 4557: 97172, 4558: 98083, 4559: 99007, 4560: 100083, 4561: 100194, 4562: 101142, 4563: 102720, 4564: 104218, 4565: 104644, 4566: 104925, 4567: 109282, 4568: 110669, 4569: 110771, 4570: 110773, 4571: 111375, 4572: 112497, 4573: 116977, 4574: 118930, 4575: 119153, 4576: 121372, 4577: 121374, 4578: 121715, 4579: 123200, 4580: 127116, 4581: 127152, 4582: 127390, 4583: 128097, 4584: 128099, 4585: 128914, 4586: 128975, 4587: 129737, 4588: 130087, 4589: 134861, 4590: 135137, 4591: 135436, 4592: 136443, 4593: 136471, 4594: 136511, 4595: 136598, 4596: 142422, 4597: 148652, 4598: 148956, 4599: 155509, 4600: 155812, 4601: 156609, 4602: 157312, 4603: 157699, 4604: 158813, 4605: 159161, 4606: 159441, 4607: 159755, 4608: 160080, 4609: 160271, 4610: 160289, 4611: 161024, 4612: 161580, 4613: 162344, 4614: 162478, 4615: 162602, 4616: 165103, 4617: 165483, 4618: 165645, 4619: 165671, 4620: 165843, 4621: 165947, 4622: 166461, 4623: 167634, 4624: 167746, 4625: 168144, 4626: 168326, 4627: 168418, 4628: 168632, 4629: 168846, 4630: 170357, 4631: 170399, 4632: 170401, 4633: 170813, 4634: 170817, 4635: 170897, 4636: 170937, 4637: 170957, 4638: 171251, 4639: 171631, 4640: 171867, 4641: 171891, 4642: 172215, 4643: 172547, 4644: 173255, 4645: 174045, 4646: 174815, 4647: 175577, 4648: 176329, 4649: 178323, 4650: 179427, 4651: 179953, 4652: 180265, 4653: 181139, 4654: 181659, 4655: 182749, 4656: 183197, 4657: 183227, 4658: 183959, 4659: 184015, 4660: 184257, 4661: 71, 4662: 779, 4663: 1043, 4664: 1589, 4665: 1600, 4666: 1735, 4667: 1829, 4668: 1897, 4669: 2132, 4670: 2166, 4671: 2331, 4672: 2475, 4673: 2749, 4674: 2764, 4675: 2844, 4676: 2969, 4677: 3099, 4678: 3103, 4679: 3217, 4680: 3251, 4681: 3296, 4682: 3537, 4683: 3546, 4684: 3831, 4685: 4003, 4686: 4063, 4687: 4083, 4688: 4130, 4689: 127198, 4690: 141718, 4691: 167732, 4692: 487, 4693: 2772, 4694: 4792, 4695: 62383, 4696: 73, 4697: 656, 4698: 46337, 4699: 66511, 4700: 85020, 4701: 95105, 4702: 99112, 4703: 103984, 4704: 108689, 4705: 109846, 4706: 110718, 4707: 110730, 4708: 112868, 4709: 114184, 4710: 114795, 4711: 117533, 4712: 117887, 4713: 120635, 4714: 127184, 4715: 128488, 4716: 130578, 4717: 131023, 4718: 131714, 4719: 135532, 4720: 136562, 4721: 136666, 4722: 138210, 4723: 141004, 4724: 165551, 4725: 52319, 4726: 70599, 4727: 71530, 4728: 77866, 4729: 95088, 4730: 96737, 4731: 97306, 4732: 112515, 4733: 115122, 4734: 121231, 4735: 144976, 4736: 69306, 4737: 81782, 4738: 112171, 4739: 143458, 4740: 501, 4741: 1844, 4742: 3342, 4743: 4082, 4744: 4738, 4745: 4864, 4746: 5088, 4747: 6902, 4748: 7008, 4749: 7265, 4750: 8254, 4751: 26681, 4752: 27022, 4753: 27482, 4754: 33201, 4755: 40148, 4756: 43836, 4757: 45440, 4758: 50842, 4759: 55278, 4760: 58301, 4761: 63276, 4762: 65130, 4763: 65642, 4764: 67695, 4765: 69516, 4766: 71304, 4767: 71429, 4768: 71520, 4769: 73488, 4770: 75985, 4771: 78218, 4772: 79553, 4773: 84952, 4774: 86721, 4775: 89190, 4776: 90403, 4777: 91470, 4778: 91690, 4779: 91947, 4780: 92694, 4781: 93855, 4782: 94931, 4783: 95690, 4784: 95761, 4785: 98607, 4786: 99437, 4787: 100882, 4788: 101112, 4789: 107630, 4790: 110330, 4791: 110882, 4792: 112623, 4793: 117466, 4794: 122890, 4795: 127096, 4796: 130490, 4797: 131749, 4798: 131920, 4799: 133217, 4800: 133771, 4801: 135567, 4802: 139855, 4803: 141408, 4804: 142420, 4805: 142456, 4806: 142509, 4807: 147142, 4808: 149144, 4809: 149146, 4810: 149830, 4811: 149902, 4812: 151455, 4813: 151695, 4814: 152083, 4815: 152091, 4816: 152284, 4817: 152970, 4818: 155064, 4819: 156371, 4820: 156387, 4821: 158783, 4822: 159415, 4823: 159717, 4824: 160563, 4825: 161634, 4826: 161966, 4827: 162082, 4828: 162578, 4829: 164881, 4830: 167790, 4831: 168266, 4832: 1066, 4833: 5159, 4834: 6093, 4835: 37830, 4836: 5959, 4837: 390, 4838: 567, 4839: 1318, 4840: 1554, 4841: 2729, 4842: 3067, 4843: 4168, 4844: 5284, 4845: 5508, 4846: 5969, 4847: 5970, 4848: 5992, 4849: 6251, 4850: 6291, 4851: 6774, 4852: 7773, 4853: 8973, 4854: 26776, 4855: 27731, 4856: 44694, 4857: 48082, 4858: 393, 4859: 893, 4860: 1422, 4861: 1483, 4862: 2798, 4863: 3102, 4864: 3327, 4865: 3812, 4866: 4037, 4867: 4066, 4868: 4467, 4869: 4553, 4870: 4613, 4871: 4634, 4872: 4812, 4873: 132, 4874: 188, 4875: 1949, 4876: 2330, 4877: 2940, 4878: 3679, 4879: 5177, 4880: 5385, 4881: 6986, 4882: 6987, 4883: 7171, 4884: 7762, 4885: 26084, 4886: 2582, 4887: 2924, 4888: 59103, 4889: 8640, 4890: 373, 4891: 1344, 4892: 1401, 4893: 1465, 4894: 1661, 4895: 1727, 4896: 1950, 4897: 1957, 4898: 2070, 4899: 2077, 4900: 2344, 4901: 2561, 4902: 2590, 4903: 2682, 4904: 2775, 4905: 2819, 4906: 2889, 4907: 2996, 4908: 3011, 4909: 3055, 4910: 3093, 4911: 3117, 4912: 3185, 4913: 3372, 4914: 3557, 4915: 3597, 4916: 3684, 4917: 3737, 4918: 3873, 4919: 3906, 4920: 3983, 4921: 3985, 4922: 3998, 4923: 4031, 4924: 4035, 4925: 4042, 4926: 4056, 4927: 4167, 4928: 4187, 4929: 4225, 4930: 4234, 4931: 4243, 4932: 4259, 4933: 4265, 4934: 4337, 4935: 4339, 4936: 4368, 4937: 4534, 4938: 4535, 4939: 4703, 4940: 4719, 4941: 4727, 4942: 4736, 4943: 4795, 4944: 4799, 4945: 4822, 4946: 4836, 4947: 4857, 4948: 4866, 4949: 4921, 4950: 4991, 4951: 5016, 4952: 5102, 4953: 5107, 4954: 5187, 4955: 5256, 4956: 5282, 4957: 5338, 4958: 5357, 4959: 5358, 4960: 5435, 4961: 5506, 4962: 5563, 4963: 5611, 4964: 5699, 4965: 5873, 4966: 5879, 4967: 5899, 4968: 5947, 4969: 6185, 4970: 6213, 4971: 6246, 4972: 6279, 4973: 6299, 4974: 6386, 4975: 6448, 4976: 6669, 4977: 6808, 4978: 6950, 4979: 7076, 4980: 7161, 4981: 7324, 4982: 8121, 4983: 8199, 4984: 26172, 4985: 26865, 4986: 27821, 4987: 31700, 4988: 32017, 4989: 34334, 4990: 34534, 4991: 37727, 4992: 39307, 4993: 42009, 4994: 42730, 4995: 43917, 4996: 44399, 4997: 47044, 4998: 49524, 4999: 49910, 5000: 6332, 5001: 6619, 5002: 7255, 5003: 7316, 5004: 8827, 5005: 32289, 5006: 36525, 5007: 78316, 5008: 103606, 5009: 27416, 5010: 98243, 5011: 160718, 5012: 1334, 5013: 2038, 5014: 2091, 5015: 9, 5016: 75, 5017: 634, 5018: 813, 5019: 840, 5020: 885, 5021: 1432, 5022: 36535, 5023: 56715, 5024: 64034, 5025: 81456, 5026: 85885, 5027: 100843, 5028: 101973, 5029: 105355, 5030: 112454, 5031: 133780, 5032: 138396, 5033: 152270, 5034: 173145, 5035: 177615, 5036: 179709, 5037: 86644, 5038: 130634, 5039: 1516, 5040: 2879, 5041: 2880, 5042: 3286, 5043: 3287, 5044: 3618, 5045: 425, 5046: 764, 5047: 869, 5048: 1078, 5049: 1162, 5050: 1264, 5051: 1836, 5052: 1948, 5053: 2130, 5054: 2239, 5055: 2247, 5056: 2290, 5057: 2349, 5058: 2361, 5059: 2511, 5060: 2734, 5061: 2750, 5062: 2779, 5063: 2863, 5064: 2946, 5065: 2970, 5066: 3028, 5067: 3076, 5068: 3096, 5069: 3130, 5070: 3134, 5071: 3141, 5072: 3167, 5073: 3200, 5074: 3223, 5075: 3224, 5076: 3283, 5077: 3341, 5078: 3467, 5079: 3473, 5080: 3492, 5081: 3503, 5082: 3506, 5083: 4205, 5084: 4784, 5085: 5637, 5086: 5788, 5087: 5847, 5088: 6509, 5089: 6658, 5090: 6684, 5091: 7089, 5092: 7107, 5093: 8128, 5094: 8571, 5095: 8614, 5096: 26313, 5097: 31038, 5098: 2392, 5099: 27674, 5100: 55391, 5101: 66320, 5102: 242, 5103: 718, 5104: 990, 5105: 1107, 5106: 1163, 5107: 1627, 5108: 1713, 5109: 1969, 5110: 1979, 5111: 2051, 5112: 2126, 5113: 2162, 5114: 2210, 5115: 2252, 5116: 2314, 5117: 2364, 5118: 2367, 5119: 2531, 5120: 2745, 5121: 2748, 5122: 2769, 5123: 2789, 5124: 2818, 5125: 2977, 5126: 2986, 5127: 3357, 5128: 3572, 5129: 3616, 5130: 3649, 5131: 3858, 5132: 3864, 5133: 3877, 5134: 4055, 5135: 4450, 5136: 4735, 5137: 6250, 5138: 6319, 5139: 6322, 5140: 6538, 5141: 5643, 5142: 45732, 5143: 1821, 5144: 1837, 5145: 3404, 5146: 4440, 5147: 5415, 5148: 5485, 5149: 5527, 5150: 5530, 5151: 5993, 5152: 6480, 5153: 4406, 5154: 7333, 5155: 7934, 5156: 26078, 5157: 26131, 5158: 33564, 5159: 2017, 5160: 2084, 5161: 4142, 5162: 4193, 5163: 4373, 5164: 4867, 5165: 4936, 5166: 4951, 5167: 5222, 5168: 5472, 5169: 5941, 5170: 6005, 5171: 6252, 5172: 6324, 5173: 6339, 5174: 6568, 5175: 7045, 5176: 7060, 5177: 7080, 5178: 7614, 5179: 8008, 5180: 1051, 5181: 1454, 5182: 2526, 5183: 5410, 5184: 7259, 5185: 8362, 5186: 8911, 5187: 33880, 5188: 39427, 5189: 43904, 5190: 44613, 5191: 47382, 5192: 1929, 5193: 1931, 5194: 1936, 5195: 1938, 5196: 2013, 5197: 2176, 5198: 2847, 5199: 3364, 5200: 3564, 5201: 3801, 5202: 3909, 5203: 3964, 5204: 4920, 5205: 5264, 5206: 5387, 5207: 6212, 5208: 6412, 5209: 6429, 5210: 6483, 5211: 6624, 5212: 6856, 5213: 7054, 5214: 7065, 5215: 7078, 5216: 7121, 5217: 7164, 5218: 7215, 5219: 7222, 5220: 7243, 5221: 7302, 5222: 7366, 5223: 7369, 5224: 7728, 5225: 8600, 5226: 8609, 5227: 8695, 5228: 8718, 5229: 8860, 5230: 8948, 5231: 9008, 5232: 25746, 5233: 25750, 5234: 25771, 5235: 25797, 5236: 25827, 5237: 25856, 5238: 25906, 5239: 27772, 5240: 31297, 5241: 33499, 5242: 33669, 5243: 34336, 5244: 35957, 5245: 39449, 5246: 40826, 5247: 42011, 5248: 42015, 5249: 43560, 5250: 45081, 5251: 46974, 5252: 48412, 5253: 48593, 5254: 49389, 5255: 51925, 5256: 51939, 5257: 52694, 5258: 56176, 5259: 60161, 5260: 61406, 5261: 63853, 5262: 65261, 5263: 66297, 5264: 67788, 5265: 70159, 5266: 71970, 5267: 72731, 5268: 72733, 5269: 77846, 5270: 78574, 5271: 80126, 5272: 83132, 5273: 86487, 5274: 89804, 5275: 89939, 5276: 90647, 5277: 93008, 5278: 95558, 5279: 98154, 5280: 123545, 5281: 5665, 5282: 6380, 5283: 33903, 5284: 725, 5285: 169, 5286: 453, 5287: 97, 5288: 166, 5289: 600, 5290: 760, 5291: 1437, 5292: 1447, 5293: 1546, 5294: 1598, 5295: 1611, 5296: 1649, 5297: 1695, 5298: 1827, 5299: 1941, 5300: 2022, 5301: 2025, 5302: 2181, 5303: 2295, 5304: 2474, 5305: 2563, 5306: 2607, 5307: 2691, 5308: 2696, 5309: 2765, 5310: 2971, 5311: 2976, 5312: 3003, 5313: 3078, 5314: 3150, 5315: 3158, 5316: 3323, 5317: 3474, 5318: 3521, 5319: 3598, 5320: 3747, 5321: 3761, 5322: 3862, 5323: 3879, 5324: 3888, 5325: 3895, 5326: 3915, 5327: 3925, 5328: 3947, 5329: 3955, 5330: 3992, 5331: 3993, 5332: 4032, 5333: 4052, 5334: 4133, 5335: 4146, 5336: 4152, 5337: 4157, 5338: 4160, 5339: 4178, 5340: 4275, 5341: 4305, 5342: 4307, 5343: 4313, 5344: 4350, 5345: 4389, 5346: 4407, 5347: 4439, 5348: 4452, 5349: 4628, 5350: 4640, 5351: 4642, 5352: 4644, 5353: 4699, 5354: 4723, 5355: 4770, 5356: 4811, 5357: 4815, 5358: 4826, 5359: 4849, 5360: 4879, 5361: 4888, 5362: 4898, 5363: 4911, 5364: 4919, 5365: 4959, 5366: 4978, 5367: 5046, 5368: 5062, 5369: 5083, 5370: 5095, 5371: 5131, 5372: 5155, 5373: 5298, 5374: 5323, 5375: 5325, 5376: 5347, 5377: 5379, 5378: 5421, 5379: 5423, 5380: 5425, 5381: 5427, 5382: 5486, 5383: 5498, 5384: 5522, 5385: 5609, 5386: 5612, 5387: 5615, 5388: 5646, 5389: 5666, 5390: 5668, 5391: 5680, 5392: 5684, 5393: 5772, 5394: 5809, 5395: 5818, 5396: 5999, 5397: 6002, 5398: 6041, 5399: 6062, 5400: 6067, 5401: 6192, 5402: 6215, 5403: 6217, 5404: 6264, 5405: 6285, 5406: 6294, 5407: 6330, 5408: 6334, 5409: 6335, 5410: 6341, 5411: 6551, 5412: 6571, 5413: 6572, 5414: 6588, 5415: 6645, 5416: 6679, 5417: 6688, 5418: 6881, 5419: 6890, 5420: 6932, 5421: 6969, 5422: 6971, 5423: 6978, 5424: 7038, 5425: 7264, 5426: 7299, 5427: 7352, 5428: 7354, 5429: 7449, 5430: 7698, 5431: 8042, 5432: 1582, 5433: 2457, 5434: 2534, 5435: 3573, 5436: 3726, 5437: 68959, 5438: 70533, 5439: 74754, 5440: 84187, 5441: 103210, 5442: 104303, 5443: 106873, 5444: 109578, 5445: 109848, 5446: 117895, 5447: 122906, 5448: 127212, 5449: 148978, 5450: 157369, 5451: 158035, 5452: 161594, 5453: 162968, 5454: 162982, 5455: 164917, 5456: 165635, 5457: 165639, 5458: 166291, 5459: 168090, 5460: 168218, 5461: 170907, 5462: 172705, 5463: 173235, 5464: 174479, 5465: 175475, 5466: 175585, 5467: 177285, 5468: 177939, 5469: 178111, 5470: 178827, 5471: 180297, 5472: 180497, 5473: 180985, 5474: 180987, 5475: 181413, 5476: 183911, 5477: 184641, 5478: 189333, 5479: 191005, 5480: 193565, 5481: 193567, 5482: 193571, 5483: 193573, 5484: 193579, 5485: 193581, 5486: 193583, 5487: 193585, 5488: 193587, 5489: 1685, 5490: 1767, 5491: 2799, 5492: 5804, 5493: 952, 5494: 2035, 5495: 2208, 5496: 2346, 5497: 2527, 5498: 3068, 5499: 3516, 5500: 3711, 5501: 3927, 5502: 4813, 5503: 5039, 5504: 5214, 5505: 5493, 5506: 5497, 5507: 5499, 5508: 5540, 5509: 2557, 5510: 2810, 5511: 3091, 5512: 3627, 5513: 4785, 5514: 5244, 5515: 5570, 5516: 5909, 5517: 6368, 5518: 7044, 5519: 7844, 5520: 7976, 5521: 7981, 5522: 8491, 5523: 8582, 5524: 8607, 5525: 25788, 5526: 25825, 5527: 26122, 5528: 26840, 5529: 27592, 5530: 27850, 5531: 27865, 5532: 27879, 5533: 27912, 5534: 31364, 5535: 32387, 5536: 33138, 5537: 33421, 5538: 33896, 5539: 37240, 5540: 39869, 5541: 46572, 5542: 49263, 5543: 49932, 5544: 1951, 5545: 2436, 5546: 2967, 5547: 3469, 5548: 72, 5549: 99, 5550: 148, 5551: 155, 5552: 178, 5553: 229, 5554: 269, 5555: 496, 5556: 668, 5557: 26116, 5558: 1392, 5559: 1502, 5560: 1755, 5561: 1306, 5562: 2575, 5563: 2744, 5564: 3436, 5565: 3894, 5566: 3932, 5567: 4174, 5568: 4808, 5569: 4932, 5570: 5607, 5571: 698, 5572: 731, 5573: 1055, 5574: 2165, 5575: 2670, 5576: 2674, 5577: 2815, 5578: 3129, 5579: 4608, 5580: 5670, 5581: 8532, 5582: 8833, 5583: 45210, 5584: 56274, 5585: 57243, 5586: 4722, 5587: 5139, 5588: 5610, 5589: 27685, 5590: 34321, 5591: 45106, 5592: 50802, 5593: 62299, 5594: 49, 5595: 461, 5596: 574, 5597: 679, 5598: 1176, 5599: 1312, 5600: 2024, 5601: 2147, 5602: 2983, 5603: 3036, 5604: 3138, 5605: 3194, 5606: 3214, 5607: 3329, 5608: 3402, 5609: 3445, 5610: 3470, 5611: 3528, 5612: 3682, 5613: 3724, 5614: 3725, 5615: 3834, 5616: 5949, 5617: 8815, 5618: 27075, 5619: 27368, 5620: 54372, 5621: 58332, 5622: 59604, 5623: 67295, 5624: 79008, 5625: 81132, 5626: 83601, 5627: 71462, 5628: 179817, 5629: 140956, 5630: 185029, 5631: 4625, 5632: 7810, 5633: 7811, 5634: 7812, 5635: 34397, 5636: 40697, 5637: 51562, 5638: 56915, 5639: 62834, 5640: 62836, 5641: 65651, 5642: 77795, 5643: 100611, 5644: 106642, 5645: 117192, 5646: 117646, 5647: 119167, 5648: 123553, 5649: 128842, 5650: 130444, 5651: 140359, 5652: 146662, 5653: 147372, 5654: 147374, 5655: 147376, 5656: 147378, 5657: 147380, 5658: 147382, 5659: 147384, 5660: 150596, 5661: 159779, 5662: 166203, 5663: 179511, 5664: 180031, 5665: 184053, 5666: 189547, 5667: 87192, 5668: 87234, 5669: 92439, 5670: 106144, 5671: 107314, 5672: 113573, 5673: 161922, 5674: 168366, 5675: 170697, 5676: 174909, 5677: 175197, 5678: 182823, 5679: 183897, 5680: 188751, 5681: 43679, 5682: 57274, 5683: 86142, 5684: 89582, 5685: 83, 5686: 55451, 5687: 927, 5688: 3422, 5689: 3963, 5690: 275, 5691: 429, 5692: 438, 5693: 444, 5694: 504, 5695: 517, 5696: 564, 5697: 692, 5698: 809, 5699: 870, 5700: 1007, 5701: 1085, 5702: 1126, 5703: 1581, 5704: 1599, 5705: 1602, 5706: 1626, 5707: 1671, 5708: 1677, 5709: 1686, 5710: 1731, 5711: 1867, 5712: 1875, 5713: 1937, 5714: 2056, 5715: 2152, 5716: 2350, 5717: 2373, 5718: 2382, 5719: 2473, 5720: 2477, 5721: 2525, 5722: 2535, 5723: 2537, 5724: 2741, 5725: 2786, 5726: 2816, 5727: 3014, 5728: 3132, 5729: 3165, 5730: 3389, 5731: 3392, 5732: 3406, 5733: 3417, 5734: 3431, 5735: 3432, 5736: 3433, 5737: 3434, 5738: 3524, 5739: 3529, 5740: 6425, 5741: 1752, 5742: 2296, 5743: 3054, 5744: 4749, 5745: 5047, 5746: 7319, 5747: 8880, 5748: 31221, 5749: 36708, 5750: 37380, 5751: 41716, 5752: 46335, 5753: 46850, 5754: 54768, 5755: 55020, 5756: 55292, 5757: 56156, 5758: 61246, 5759: 61348, 5760: 1430, 5761: 4219, 5762: 60937, 5763: 62344, 5764: 62437, 5765: 63540, 5766: 64231, 5767: 2469, 5768: 3090, 5769: 3095, 5770: 4338, 5771: 4605, 5772: 5248, 5773: 5382, 5774: 6306, 5775: 6639, 5776: 6724, 5777: 7013, 5778: 7056, 5779: 7072, 5780: 7216, 5781: 7311, 5782: 8044, 5783: 8364, 5784: 9018, 5785: 25773, 5786: 25841, 5787: 26375, 5788: 27768, 5789: 27776, 5790: 27820, 5791: 27882, 5792: 27899, 5793: 30818, 5794: 30846, 5795: 31437, 5796: 31610, 5797: 31692, 5798: 31702, 5799: 32022, 5800: 32584, 5801: 32632, 5802: 32770, 5803: 2205, 5804: 5523, 5805: 5710, 5806: 6290, 5807: 8363, 5808: 26322, 5809: 26732, 5810: 59014, 5811: 62250, 5812: 66744, 5813: 81831, 5814: 91483, 5815: 91628, 5816: 95307, 5817: 95949, 5818: 96448, 5819: 97168, 5820: 97860, 5821: 101531, 5822: 103137, 5823: 2747, 5824: 55854, 5825: 3496, 5826: 1130, 5827: 2327, 5828: 2633, 5829: 3042, 5830: 63, 5831: 1236, 5832: 1655, 5833: 1887, 5834: 2432, 5835: 2514, 5836: 2515, 5837: 2984, 5838: 3688, 5839: 3843, 5840: 4229, 5841: 4233, 5842: 4544, 5843: 4782, 5844: 5456, 5845: 5584, 5846: 6298, 5847: 6523, 5848: 6625, 5849: 6695, 5850: 6938, 5851: 7103, 5852: 7448, 5853: 32666, 5854: 37720, 5855: 45028, 5856: 51088, 5857: 38304, 5858: 85342, 5859: 8626, 5860: 34330, 5861: 52715, 5862: 55241, 5863: 55553, 5864: 4789, 5865: 5458, 5866: 5478, 5867: 5572, 5868: 5573, 5869: 6013, 5870: 6040, 5871: 6057, 5872: 6186, 5873: 6374, 5874: 6615, 5875: 6862, 5876: 6951, 5877: 6959, 5878: 7150, 5879: 7257, 5880: 7258, 5881: 7261, 5882: 7262, 5883: 7376, 5884: 7440, 5885: 8369, 5886: 8530, 5887: 8799, 5888: 8830, 5889: 8835, 5890: 8836, 5891: 8864, 5892: 8912, 5893: 8916, 5894: 8918, 5895: 8939, 5896: 27434, 5897: 27790, 5898: 27816, 5899: 27837, 5900: 27839, 5901: 30883, 5902: 30894, 5903: 31114, 5904: 31223, 5905: 31427, 5906: 31431, 5907: 31445, 5908: 31867, 5909: 32009, 5910: 32011, 5911: 32019, 5912: 32589, 5913: 33148, 5914: 33158, 5915: 33164, 5916: 33639, 5917: 33815, 5918: 34129, 5919: 34271, 5920: 34532, 5921: 36509, 5922: 36533, 5923: 37477, 5924: 37853, 5925: 38798, 5926: 39231, 5927: 39435, 5928: 40851, 5929: 40946, 5930: 41769, 5931: 42728, 5932: 42732, 5933: 43556, 5934: 43871, 5935: 43919, 5936: 43932, 5937: 44397, 5938: 44731, 5939: 45208, 5940: 45442, 5941: 45662, 5942: 48161, 5943: 48596, 5944: 49220, 5945: 49276, 5946: 49284, 5947: 49793, 5948: 50005, 5949: 50158, 5950: 50445, 5951: 50798, 5952: 50923, 5953: 51082, 5954: 51412, 5955: 51698, 5956: 51933, 5957: 51937, 5958: 52283, 5959: 52712, 5960: 53127, 5961: 54256, 5962: 55995, 5963: 57326, 5964: 57526, 5965: 58105, 5966: 58627, 5967: 58876, 5968: 59985, 5969: 61705, 5970: 62081, 5971: 62511, 5972: 66509, 5973: 67186, 5974: 67197, 5975: 70301, 5976: 70334, 5977: 71252, 5978: 71254, 5979: 71823, 5980: 73515, 5981: 78893, 5982: 81512, 5983: 78103, 5984: 118198, 5985: 134214, 5986: 136912, 5987: 162600, 5988: 178061, 5989: 183011, 5990: 42, 5991: 577, 5992: 917, 5993: 1460, 5994: 1495, 5995: 1707, 5996: 1826, 5997: 2050, 5998: 2566, 5999: 3672, 6000: 1998, 6001: 4329, 6002: 4498, 6003: 4803, 6004: 4852, 6005: 4916, 6006: 4917, 6007: 4945, 6008: 4946, 6009: 4947, 6010: 4957, 6011: 81786, 6012: 118700, 6013: 547, 6014: 2919, 6015: 3566, 6016: 3106, 6017: 123, 6018: 757, 6019: 4956, 6020: 5279, 6021: 7486, 6022: 8327, 6023: 27320, 6024: 61026, 6025: 68486, 6026: 80615, 6027: 80969, 6028: 83613, 6029: 90888, 6030: 82169, 6031: 120799, 6032: 151763, 6033: 4470, 6034: 4531, 6035: 5784, 6036: 7016, 6037: 26686, 6038: 27478, 6039: 32213, 6040: 33085, 6041: 38294, 6042: 39400, 6043: 47254, 6044: 47810, 6045: 51037, 6046: 58315, 6047: 65810, 6048: 66171, 6049: 69606, 6050: 70361, 6051: 72605, 6052: 73431, 6053: 75813, 6054: 77667, 6055: 78039, 6056: 78088, 6057: 80862, 6058: 82053, 6059: 84637, 6060: 84942, 6061: 85056, 6062: 85131, 6063: 85510, 6064: 86295, 6065: 86835, 6066: 86960, 6067: 87298, 6068: 88699, 6069: 88954, 6070: 89047, 6071: 89840, 6072: 90057, 6073: 90430, 6074: 90439, 6075: 90531, 6076: 91622, 6077: 91978, 6078: 92008, 6079: 92507, 6080: 93363, 6081: 93512, 6082: 93563, 6083: 93766, 6084: 94266, 6085: 94780, 6086: 95207, 6087: 95309, 6088: 95583, 6089: 95873, 6090: 96411, 6091: 96417, 6092: 98239, 6093: 99750, 6094: 99910, 6095: 100163, 6096: 101025, 6097: 101076, 6098: 101362, 6099: 102033, 6100: 102684, 6101: 103539, 6102: 103624, 6103: 103655, 6104: 104243, 6105: 105351, 6106: 107953, 6107: 108928, 6108: 109042, 6109: 109673, 6110: 110297, 6111: 110350, 6112: 111364, 6113: 112070, 6114: 143365, 6115: 143367, 6116: 146210, 6117: 148888, 6118: 160954, 6119: 169984, 6120: 173941, 6121: 175569, 6122: 184253, 6123: 185435, 6124: 6983, 6125: 142115, 6126: 4217, 6127: 26366, 6128: 26524, 6129: 44633, 6130: 58309, 6131: 5319, 6132: 44929, 6133: 48883, 6134: 1739, 6135: 2907, 6136: 3929, 6137: 4480, 6138: 121171, 6139: 131656, 6140: 140725, 6141: 146024, 6142: 128, 6143: 2348, 6144: 2766, 6145: 2859, 6146: 4529, 6147: 4711, 6148: 5137, 6149: 5820, 6150: 6027, 6151: 6337, 6152: 6370, 6153: 6713, 6154: 7564, 6155: 7815, 6156: 8011, 6157: 8015, 6158: 294, 6159: 988, 6160: 1415, 6161: 7879, 6162: 8535, 6163: 7303, 6164: 388, 6165: 1807, 6166: 2240, 6167: 2377, 6168: 2445, 6169: 3733, 6170: 3807, 6171: 476, 6172: 2812, 6173: 1791, 6174: 1964, 6175: 2178, 6176: 2182, 6177: 2593, 6178: 2630, 6179: 2829, 6180: 619, 6181: 886, 6182: 1255, 6183: 1327, 6184: 1497, 6185: 1503, 6186: 1992, 6187: 1993, 6188: 2170, 6189: 2448, 6190: 2498, 6191: 2517, 6192: 2846, 6193: 2974, 6194: 3235, 6195: 3511, 6196: 3652, 6197: 3676, 6198: 3696, 6199: 3857, 6200: 3908, 6201: 3938, 6202: 4030, 6203: 4143, 6204: 4224, 6205: 4248, 6206: 4533, 6207: 4683, 6208: 4748, 6209: 4771, 6210: 5076, 6211: 5080, 6212: 5127, 6213: 5401, 6214: 5452, 6215: 5556, 6216: 5569, 6217: 5667, 6218: 5833, 6219: 5853, 6220: 6196, 6221: 6220, 6222: 6379, 6223: 6405, 6224: 6559, 6225: 6664, 6226: 6715, 6227: 6794, 6228: 6868, 6229: 6872, 6230: 7024, 6231: 7117, 6232: 7228, 6233: 7236, 6234: 7321, 6235: 7362, 6236: 7368, 6237: 7646, 6238: 7845, 6239: 7846, 6240: 7894, 6241: 8142, 6242: 8225, 6243: 8241, 6244: 8578, 6245: 8831, 6246: 8906, 6247: 8967, 6248: 26242, 6249: 26492, 6250: 26523, 6251: 26629, 6252: 26736, 6253: 26870, 6254: 27311, 6255: 27604, 6256: 27618, 6257: 27822, 6258: 30745, 6259: 31193, 6260: 31909, 6261: 33132, 6262: 33834, 6263: 34323, 6264: 37382, 6265: 37475, 6266: 38992, 6267: 40723, 6268: 42285, 6269: 43549, 6270: 44828, 6271: 45361, 6272: 50147, 6273: 50440, 6274: 50800, 6275: 51091, 6276: 51498, 6277: 53468, 6278: 54648, 6279: 54785, 6280: 56012, 6281: 57536, 6282: 57910, 6283: 58870, 6284: 59727, 6285: 60037, 6286: 60291, 6287: 60522, 6288: 60538, 6289: 60979, 6290: 65126, 6291: 66427, 6292: 66783, 6293: 69251, 6294: 69275, 6295: 70994, 6296: 71211, 6297: 71379, 6298: 71500, 6299: 74075, 6300: 74685, 6301: 74851, 6302: 77364, 6303: 78041, 6304: 79274, 6305: 80846, 6306: 298, 6307: 556, 6308: 1123, 6309: 1406, 6310: 1533, 6311: 1571, 6312: 1574, 6313: 1594, 6314: 1904, 6315: 2069, 6316: 2073, 6317: 2212, 6318: 2323, 6319: 2624, 6320: 2824, 6321: 2937, 6322: 2964, 6323: 3038, 6324: 3046, 6325: 3192, 6326: 3302, 6327: 3384, 6328: 3480, 6329: 3728, 6330: 3794, 6331: 3914, 6332: 4061, 6333: 4116, 6334: 4285, 6335: 4334, 6336: 4345, 6337: 4384, 6338: 4809, 6339: 5147, 6340: 5241, 6341: 5258, 6342: 5272, 6343: 5603, 6344: 5723, 6345: 5745, 6346: 5884, 6347: 5938, 6348: 6122, 6349: 6254, 6350: 1167, 6351: 107069, 6352: 60293, 6353: 70984, 6354: 71619, 6355: 73266, 6356: 86817, 6357: 91079, 6358: 4091, 6359: 113207, 6360: 6086, 6361: 5876, 6362: 963, 6363: 1008, 6364: 1128, 6365: 1389, 6366: 1660, 6367: 1983, 6368: 1984, 6369: 1995, 6370: 2043, 6371: 2055, 6372: 2057, 6373: 2095, 6374: 2098, 6375: 2120, 6376: 2163, 6377: 2241, 6378: 2259, 6379: 2286, 6380: 2347, 6381: 2365, 6382: 2400, 6383: 2460, 6384: 2462, 6385: 2852, 6386: 2866, 6387: 2902, 6388: 2903, 6389: 3015, 6390: 3161, 6391: 3313, 6392: 3331, 6393: 3345, 6394: 3368, 6395: 3525, 6396: 3689, 6397: 3767, 6398: 3771, 6399: 3806, 6400: 3833, 6401: 3846, 6402: 3926, 6403: 3928, 6404: 3930, 6405: 3957, 6406: 3971, 6407: 3974, 6408: 4000, 6409: 4009, 6410: 4010, 6411: 4043, 6412: 4110, 6413: 4412, 6414: 4443, 6415: 4459, 6416: 4473, 6417: 4492, 6418: 4506, 6419: 4522, 6420: 4709, 6421: 4953, 6422: 4966, 6423: 5428, 6424: 5462, 6425: 5543, 6426: 5544, 6427: 5638, 6428: 7619, 6429: 8959, 6430: 31923, 6431: 34528, 6432: 37736, 6433: 42418, 6434: 43460, 6435: 43869, 6436: 46967, 6437: 47261, 6438: 47950, 6439: 48416, 6440: 60760, 6441: 6125, 6442: 6453, 6443: 26704, 6444: 129, 6445: 341, 6446: 1699, 6447: 2066, 6448: 2439, 6449: 2494, 6450: 2549, 6451: 2660, 6452: 2932, 6453: 2988, 6454: 3007, 6455: 3559, 6456: 3634, 6457: 3713, 6458: 3738, 6459: 3849, 6460: 102007, 6461: 2828, 6462: 3086, 6463: 3871, 6464: 4830, 6465: 7720, 6466: 8383, 6467: 33677, 6468: 68597, 6469: 80839, 6470: 87522, 6471: 92192, 6472: 96121, 6473: 97470, 6474: 113345, 6475: 115231, 6476: 127323, 6477: 129937, 6478: 130576, 6479: 165549, 6480: 278, 6481: 470, 6482: 499, 6483: 998, 6484: 1440, 6485: 2149, 6486: 2736, 6487: 3043, 6488: 3412, 6489: 3544, 6490: 3667, 6491: 3710, 6492: 160848, 6493: 169034, 6494: 171765, 6495: 1439, 6496: 1526, 6497: 1746, 6498: 4733, 6499: 4757, 6500: 4845, 6501: 5128, 6502: 6554, 6503: 6811, 6504: 7460, 6505: 7926, 6506: 26887, 6507: 34523, 6508: 36537, 6509: 50610, 6510: 54745, 6511: 54934, 6512: 58655, 6513: 58806, 6514: 61729, 6515: 62113, 6516: 67799, 6517: 68600, 6518: 70663, 6519: 71248, 6520: 72405, 6521: 74452, 6522: 74916, 6523: 76060, 6524: 84615, 6525: 90376, 6526: 91128, 6527: 103048, 6528: 109895, 6529: 112370, 6530: 112911, 6531: 116138, 6532: 127108, 6533: 134528, 6534: 134783, 6535: 134808, 6536: 136449, 6537: 138798, 6538: 8261, 6539: 944, 6540: 6818, 6541: 26249, 6542: 49347, 6543: 60516, 6544: 64499, 6545: 64501, 6546: 72294, 6547: 74624, 6548: 74868, 6549: 79251, 6550: 80590, 6551: 85788, 6552: 89118, 6553: 91842, 6554: 94018, 6555: 105197, 6556: 105585, 6557: 106441, 6558: 106785, 6559: 109850, 6560: 112818, 6561: 112897, 6562: 114246, 6563: 118706, 6564: 131796, 6565: 132796, 6566: 140627, 6567: 145418, 6568: 148671, 6569: 158027, 6570: 160400, 6571: 163985, 6572: 177763, 6573: 185585, 6574: 92391, 6575: 104908, 6576: 105731, 6577: 115664, 6578: 122884, 6579: 140016, 6580: 149334, 6581: 156726, 6582: 158528, 6583: 159858, 6584: 175199, 6585: 183295, 6586: 409, 6587: 1323, 6588: 1325, 6589: 1328, 6590: 1490, 6591: 2154, 6592: 2190, 6593: 2332, 6594: 2506, 6595: 2516, 6596: 2559, 6597: 2639, 6598: 2787, 6599: 2962, 6600: 3051, 6601: 3145, 6602: 3280, 6603: 3423, 6604: 3478, 6605: 3830, 6606: 3943, 6607: 4127, 6608: 4181, 6609: 4371, 6610: 4403, 6611: 4520, 6612: 4584, 6613: 4602, 6614: 4619, 6615: 4662, 6616: 4673, 6617: 4697, 6618: 4750, 6619: 4835, 6620: 4862, 6621: 4885, 6622: 4893, 6623: 4915, 6624: 5099, 6625: 5170, 6626: 5255, 6627: 5361, 6628: 5443, 6629: 5454, 6630: 5538, 6631: 5539, 6632: 5590, 6633: 5664, 6634: 5696, 6635: 5735, 6636: 5736, 6637: 5883, 6638: 5927, 6639: 6153, 6640: 6265, 6641: 6316, 6642: 6558, 6643: 6705, 6644: 6827, 6645: 6850, 6646: 6999, 6647: 7026, 6648: 7030, 6649: 7282, 6650: 7636, 6651: 7708, 6652: 7781, 6653: 8169, 6654: 8402, 6655: 8506, 6656: 9005, 6657: 26133, 6658: 26792, 6659: 27555, 6660: 27838, 6661: 30848, 6662: 31422, 6663: 31424, 6664: 33171, 6665: 33681, 6666: 34143, 6667: 34326, 6668: 37857, 6669: 39234, 6670: 48142, 6671: 48518, 6672: 48678, 6673: 49314, 6674: 52375, 6675: 52867, 6676: 53956, 6677: 53974, 6678: 55272, 6679: 55729, 6680: 56003, 6681: 58287, 6682: 65601, 6683: 65738, 6684: 65740, 6685: 65882, 6686: 973, 6687: 1946, 6688: 3171, 6689: 3872, 6690: 4432, 6691: 5398, 6692: 6452, 6693: 6706, 6694: 7218, 6695: 7943, 6696: 25886, 6697: 3330, 6698: 4483, 6699: 6410, 6700: 7184, 6701: 7305, 6702: 40, 6703: 6561, 6704: 680, 6705: 3732, 6706: 4117, 6707: 4754, 6708: 5433, 6709: 5925, 6710: 2275, 6711: 3889, 6712: 4180, 6713: 4210, 6714: 618, 6715: 703, 6716: 2896, 6717: 74545, 6718: 81158, 6719: 82667, 6720: 104272, 6721: 110387, 6722: 121253, 6723: 133115, 6724: 773, 6725: 823, 6726: 1419, 6727: 3569, 6728: 3736, 6729: 3845, 6730: 4256, 6731: 4612, 6732: 4708, 6733: 4825, 6734: 5202, 6735: 5238, 6736: 5475, 6737: 5838, 6738: 6197, 6739: 6241, 6740: 6329, 6741: 7071, 6742: 7124, 6743: 7238, 6744: 7459, 6745: 7979, 6746: 8190, 6747: 8484, 6748: 8724, 6749: 8748, 6750: 26003, 6751: 26048, 6752: 26059, 6753: 26073, 6754: 26158, 6755: 26225, 6756: 26317, 6757: 26713, 6758: 26928, 6759: 27003, 6760: 27176, 6761: 27186, 6762: 27328, 6763: 31545, 6764: 31952, 6765: 32511, 6766: 32554, 6767: 32906, 6768: 32917, 6769: 40955, 6770: 42176, 6771: 44931, 6772: 47446, 6773: 48001, 6774: 48638, 6775: 49917, 6776: 51174, 6777: 53574, 6778: 53883, 6779: 54185, 6780: 54354, 6781: 57772, 6782: 58376, 6783: 60408, 6784: 60885, 6785: 61394, 6786: 62208, 6787: 64167, 6788: 65037, 6789: 65225, 6790: 65631, 6791: 67508, 6792: 68444, 6793: 69746, 6794: 69953, 6795: 71131, 6796: 71147, 6797: 71453, 6798: 71468, 6799: 71494, 6800: 71867, 6801: 72171, 6802: 72714, 6803: 72921, 6804: 74089, 6805: 74226, 6806: 74791, 6807: 76054, 6808: 76173, 6809: 76738, 6810: 77191, 6811: 77233, 6812: 78836, 6813: 79073, 6814: 80478, 6815: 80553, 6816: 81191, 6817: 83827, 6818: 83976, 6819: 84273, 6820: 84716, 6821: 85213, 6822: 86237, 6823: 86279, 6824: 86922, 6825: 87304, 6826: 87444, 6827: 87660, 6828: 89030, 6829: 89945, 6830: 90245, 6831: 90357, 6832: 90528, 6833: 90630, 6834: 90769, 6835: 91784, 6836: 91860, 6837: 92422, 6838: 92637, 6839: 94735, 6840: 96084, 6841: 97904, 6842: 100044, 6843: 100106, 6844: 100277, 6845: 101741, 6846: 102742, 6847: 102823, 6848: 105254, 6849: 106648, 6850: 109187, 6851: 109383, 6852: 109968, 6853: 111817, 6854: 113348, 6855: 114847, 6856: 116505, 6857: 117364, 6858: 117531, 6859: 117545, 6860: 117849, 6861: 118784, 6862: 118880, 6863: 120761, 6864: 121169, 6865: 124853, 6866: 127114, 6867: 127172, 6868: 127180, 6869: 127204, 6870: 127298, 6871: 128900, 6872: 128902, 6873: 128991, 6874: 133802, 6875: 134019, 6876: 134796, 6877: 136024, 6878: 138966, 6879: 140162, 6880: 140737, 6881: 140816, 6882: 143525, 6883: 143896, 6884: 144478, 6885: 145080, 6886: 148424, 6887: 150696, 6888: 152065, 6889: 155774, 6890: 158842, 6891: 159976, 6892: 160684, 6893: 168612, 6894: 170355, 6895: 171495, 6896: 173197, 6897: 173291, 6898: 173317, 6899: 179135, 6900: 184245, 6901: 188675, 6902: 188833, 6903: 189381, 6904: 26555, 6905: 2882, 6906: 110127, 6907: 111443, 6908: 3884, 6909: 3899, 6910: 3912, 6911: 30, 6912: 80, 6913: 183, 6914: 2425, 6915: 2848, 6916: 2894, 6917: 4086, 6918: 4263, 6919: 4294, 6920: 4471, 6921: 4500, 6922: 4523, 6923: 4714, 6924: 4717, 6925: 4927, 6926: 5033, 6927: 5075, 6928: 5980, 6929: 27866, 6930: 70451, 6931: 73344, 6932: 81257, 6933: 84240, 6934: 102194, 6935: 165101, 6936: 130482, 6937: 136850, 6938: 26528, 6939: 193609, 6940: 3420, 6941: 5226, 6942: 7925, 6943: 26564, 6944: 80917, 6945: 92938, 6946: 93610, 6947: 97757, 6948: 3567, 6949: 3580, 6950: 30850, 6951: 47404, 6952: 59118, 6953: 189043, 6954: 189111, 6955: 190207, 6956: 190209, 6957: 190213, 6958: 190215, 6959: 190219, 6960: 190221, 6961: 6869, 6962: 56869, 6963: 58842, 6964: 77177, 6965: 82378, 6966: 90345, 6967: 92243, 6968: 109687, 6969: 115969, 6970: 141749, 6971: 141890, 6972: 156783, 6973: 166946, 6974: 176751, 6975: 94405, 6976: 2188, 6977: 2370, 6978: 2676, 6979: 2975, 6980: 4195, 6981: 4419, 6982: 5404, 6983: 5707, 6984: 27751, 6985: 38164, 6986: 521, 6987: 1572, 6988: 2442, 6989: 4297, 6990: 4404, 6991: 4422, 6992: 5951, 6993: 6023, 6994: 6286, 6995: 6530, 6996: 7084, 6997: 7115, 6998: 7178, 6999: 7179, 7000: 7820, 7001: 7937, 7002: 7940, 7003: 8405, 7004: 32179, 7005: 6223, 7006: 6263, 7007: 40412, 7008: 52579, 7009: 54787, 7010: 55555, 7011: 57843, 7012: 60857, 7013: 60894, 7014: 88179, 7015: 88272, 7016: 88932, 7017: 89028, 7018: 89761, 7019: 90353, 7020: 90471, 7021: 92048, 7022: 5074, 7023: 7122, 7024: 34164, 7025: 44889, 7026: 48744, 7027: 58492, 7028: 59141, 7029: 1996, 7030: 4354, 7031: 4622, 7032: 6612, 7033: 8580, 7034: 8998, 7035: 27329, 7036: 53024, 7037: 59810, 7038: 73854, 7039: 74282, 7040: 93040, 7041: 96563, 7042: 2226, 7043: 26095, 7044: 65350, 7045: 70687, 7046: 85334, 7047: 87028, 7048: 89386, 7049: 26472, 7050: 1647, 7051: 161127, 7052: 176389, 7053: 176579, 7054: 96964, 7055: 101415, 7056: 106062, 7057: 107997, 7058: 109569, 7059: 113604, 7060: 114494, 7061: 132888, 7062: 145935, 7063: 148172, 7064: 155288, 7065: 155820, 7066: 1565, 7067: 2695, 7068: 3299, 7069: 3453, 7070: 4053, 7071: 4078, 7072: 4505, 7073: 4517, 7074: 2307, 7075: 2399, 7076: 3127, 7077: 3162, 7078: 3545, 7079: 3716, 7080: 3731, 7081: 3758, 7082: 3922, 7083: 33312, 7084: 55167, 7085: 112512, 7086: 335, 7087: 882, 7088: 1351, 7089: 1352, 7090: 1601, 7091: 3648, 7092: 4434, 7093: 4942, 7094: 5113, 7095: 5288, 7096: 5468, 7097: 5706, 7098: 5979, 7099: 6021, 7100: 6654, 7101: 6656, 7102: 6836, 7103: 6899, 7104: 7104, 7105: 7304, 7106: 7756, 7107: 7834, 7108: 8138, 7109: 8610, 7110: 25959, 7111: 27692, 7112: 32139, 7113: 42556, 7114: 56837, 7115: 71302, 7116: 71999, 7117: 80748, 7118: 84799, 7119: 87287, 7120: 92760, 7121: 94262, 7122: 152, 7123: 2656, 7124: 4444, 7125: 4814, 7126: 5134, 7127: 5476, 7128: 6889, 7129: 7310, 7130: 8526, 7131: 26585, 7132: 26999, 7133: 27584, 7134: 27683, 7135: 27802, 7136: 31698, 7137: 31804, 7138: 32456, 7139: 32743, 7140: 33644, 7141: 40614, 7142: 40617, 7143: 44020, 7144: 47124, 7145: 51927, 7146: 52950, 7147: 58404, 7148: 60818, 7149: 63222, 7150: 64249, 7151: 65133, 7152: 68194, 7153: 71129, 7154: 72601, 7155: 74750, 7156: 77798, 7157: 82744, 7158: 84414, 7159: 88515, 7160: 90603, 7161: 94160, 7162: 94985, 7163: 95004, 7164: 95147, 7165: 95149, 7166: 95182, 7167: 95473, 7168: 95475, 7169: 95497, 7170: 96007, 7171: 96815, 7172: 97643, 7173: 97785, 7174: 101739, 7175: 102058, 7176: 102084, 7177: 103233, 7178: 103449, 7179: 104141, 7180: 104419, 7181: 104457, 7182: 107723, 7183: 108795, 7184: 113278, 7185: 134524, 7186: 137863, 7187: 152173, 7188: 161354, 7189: 162598, 7190: 163056, 7191: 166558, 7192: 169982, 7193: 172497, 7194: 172875, 7195: 172881, 7196: 172887, 7197: 176935, 7198: 179119, 7199: 182639, 7200: 31435, 7201: 43376, 7202: 45074, 7203: 53326, 7204: 55259, 7205: 63808, 7206: 1003, 7207: 4580, 7208: 4632, 7209: 8387, 7210: 26764, 7211: 26765, 7212: 46865, 7213: 47952, 7214: 48598, 7215: 49647, 7216: 50003, 7217: 52279, 7218: 65685, 7219: 72696, 7220: 88356, 7221: 91660, 7222: 93139, 7223: 95796, 7224: 100737, 7225: 104074, 7226: 104076, 7227: 112460, 7228: 114713, 7229: 116887, 7230: 122902, 7231: 126482, 7232: 130686, 7233: 131934, 7234: 142372, 7235: 152079, 7236: 158254, 7237: 170289, 7238: 2546, 7239: 2669, 7240: 2856, 7241: 4276, 7242: 4323, 7243: 4355, 7244: 206, 7245: 363, 7246: 841, 7247: 1161, 7248: 1329, 7249: 1662, 7250: 1770, 7251: 1977, 7252: 2071, 7253: 2074, 7254: 2303, 7255: 2488, 7256: 2632, 7257: 3455, 7258: 3587, 7259: 3680, 7260: 3765, 7261: 3813, 7262: 3838, 7263: 3865, 7264: 3919, 7265: 4064, 7266: 4065, 7267: 4191, 7268: 4278, 7269: 4289, 7270: 4298, 7271: 4390, 7272: 4392, 7273: 4393, 7274: 4408, 7275: 4409, 7276: 4426, 7277: 4429, 7278: 4441, 7279: 4527, 7280: 4552, 7281: 4563, 7282: 4614, 7283: 4687, 7284: 4833, 7285: 4985, 7286: 4988, 7287: 5121, 7288: 5156, 7289: 5397, 7290: 5465, 7291: 5489, 7292: 5515, 7293: 5531, 7294: 5780, 7295: 5974, 7296: 5984, 7297: 6035, 7298: 6063, 7299: 6100, 7300: 6123, 7301: 6184, 7302: 6465, 7303: 6533, 7304: 6577, 7305: 6710, 7306: 6748, 7307: 6885, 7308: 6918, 7309: 6981, 7310: 7088, 7311: 7091, 7312: 7102, 7313: 7116, 7314: 7205, 7315: 7301, 7316: 7328, 7317: 7336, 7318: 7386, 7319: 7394, 7320: 7450, 7321: 7581, 7322: 7616, 7323: 7745, 7324: 7749, 7325: 7895, 7326: 7936, 7327: 7938, 7328: 7939, 7329: 7951, 7330: 7987, 7331: 7993, 7332: 8188, 7333: 8195, 7334: 8196, 7335: 8239, 7336: 8270, 7337: 8290, 7338: 8512, 7339: 8542, 7340: 8596, 7341: 8670, 7342: 25898, 7343: 25963, 7344: 26002, 7345: 26052, 7346: 26124, 7347: 26151, 7348: 26231, 7349: 26303, 7350: 26694, 7351: 31590, 7352: 31737, 7353: 32314, 7354: 32392, 7355: 33188, 7356: 40966, 7357: 41617, 7358: 44657, 7359: 44759, 7360: 44864, 7361: 46772, 7362: 47465, 7363: 52462, 7364: 52644, 7365: 6158, 7366: 63239, 7367: 104245, 7368: 6344, 7369: 7208, 7370: 27695, 7371: 44943, 7372: 59995, 7373: 695, 7374: 1150, 7375: 1900, 7376: 2708, 7377: 4237, 7378: 4562, 7379: 4965, 7380: 5470, 7381: 5477, 7382: 5537, 7383: 5575, 7384: 130842, 7385: 1701, 7386: 6408, 7387: 8738, 7388: 26147, 7389: 26631, 7390: 60333, 7391: 42734, 7392: 170939, 7393: 61465, 7394: 61697, 7395: 7134, 7396: 26810, 7397: 27664, 7398: 59814, 7399: 70708, 7400: 77266, 7401: 6776, 7402: 70305, 7403: 85412, 7404: 87785, 7405: 103596, 7406: 136540, 7407: 3590, 7408: 3760, 7409: 389, 7410: 549, 7411: 670, 7412: 824, 7413: 3823, 7414: 3855, 7415: 4077, 7416: 4175, 7417: 4268, 7418: 119, 7419: 386, 7420: 650, 7421: 1040, 7422: 1121, 7423: 1332, 7424: 1484, 7425: 1605, 7426: 1609, 7427: 1656, 7428: 1870, 7429: 1922, 7430: 2007, 7431: 2119, 7432: 2172, 7433: 2260, 7434: 2264, 7435: 2271, 7436: 2472, 7437: 2482, 7438: 2552, 7439: 2570, 7440: 2751, 7441: 2835, 7442: 2884, 7443: 2891, 7444: 2893, 7445: 2928, 7446: 2979, 7447: 3008, 7448: 3111, 7449: 3206, 7450: 3378, 7451: 3391, 7452: 3539, 7453: 3581, 7454: 3625, 7455: 3790, 7456: 3847, 7457: 3898, 7458: 3900, 7459: 3951, 7460: 3953, 7461: 4012, 7462: 4081, 7463: 4089, 7464: 4115, 7465: 4123, 7466: 4125, 7467: 4138, 7468: 4139, 7469: 4147, 7470: 4221, 7471: 4242, 7472: 4290, 7473: 4312, 7474: 4353, 7475: 4451, 7476: 4458, 7477: 4462, 7478: 4463, 7479: 4475, 7480: 4478, 7481: 4488, 7482: 4524, 7483: 4573, 7484: 4583, 7485: 4595, 7486: 4600, 7487: 4610, 7488: 4617, 7489: 4636, 7490: 4666, 7491: 4672, 7492: 4675, 7493: 4721, 7494: 4745, 7495: 4777, 7496: 4780, 7497: 4818, 7498: 4847, 7499: 4926, 7500: 4961, 7501: 4962, 7502: 5068, 7503: 5071, 7504: 5073, 7505: 5081, 7506: 5112, 7507: 5178, 7508: 5209, 7509: 5237, 7510: 5240, 7511: 5278, 7512: 5285, 7513: 5297, 7514: 5321, 7515: 5322, 7516: 5324, 7517: 5328, 7518: 5337, 7519: 5345, 7520: 5390, 7521: 5416, 7522: 5422, 7523: 5424, 7524: 5437, 7525: 5461, 7526: 5471, 7527: 5483, 7528: 5521, 7529: 5562, 7530: 5625, 7531: 5633, 7532: 5635, 7533: 5636, 7534: 5663, 7535: 5678, 7536: 5685, 7537: 5688, 7538: 5817, 7539: 5829, 7540: 5880, 7541: 5896, 7542: 5968, 7543: 5994, 7544: 6033, 7545: 6036, 7546: 6039, 7547: 6078, 7548: 6116, 7549: 6141, 7550: 6159, 7551: 6162, 7552: 6195, 7553: 6216, 7554: 6222, 7555: 6268, 7556: 6269, 7557: 6280, 7558: 6295, 7559: 6308, 7560: 6314, 7561: 6315, 7562: 6349, 7563: 6442, 7564: 6493, 7565: 6510, 7566: 6517, 7567: 6542, 7568: 6547, 7569: 6549, 7570: 6560, 7571: 6563, 7572: 6574, 7573: 6582, 7574: 6598, 7575: 6616, 7576: 6628, 7577: 6631, 7578: 6670, 7579: 6689, 7580: 6696, 7581: 6699, 7582: 6718, 7583: 6720, 7584: 6780, 7585: 6797, 7586: 6809, 7587: 6810, 7588: 6812, 7589: 6816, 7590: 6851, 7591: 6883, 7592: 6898, 7593: 6954, 7594: 7033, 7595: 7165, 7596: 7175, 7597: 7176, 7598: 7193, 7599: 7248, 7600: 7251, 7601: 7315, 7602: 7340, 7603: 7348, 7604: 7364, 7605: 7390, 7606: 8119, 7607: 8587, 7608: 8915, 7609: 8919, 7610: 8952, 7611: 8954, 7612: 25834, 7613: 30820, 7614: 31162, 7615: 32116, 7616: 33725, 7617: 33826, 7618: 33838, 7619: 34540, 7620: 41527, 7621: 42602, 7622: 43912, 7623: 45062, 7624: 45635, 7625: 46347, 7626: 46559, 7627: 48319, 7628: 48560, 7629: 49132, 7630: 49280, 7631: 49957, 7632: 50792, 7633: 51694, 7634: 52299, 7635: 52668, 7636: 52724, 7637: 52784, 7638: 53447, 7639: 54771, 7640: 55110, 7641: 55250, 7642: 56908, 7643: 58879, 7644: 59037, 7645: 60128, 7646: 60141, 7647: 61401, 7648: 70862, 7649: 76763, 7650: 95135, 7651: 112940, 7652: 115828, 7653: 127130, 7654: 154358, 7655: 166024, 7656: 166568, 7657: 167570, 7658: 169992, 7659: 173205, 7660: 173209, 7661: 176423, 7662: 180045, 7663: 90374, 7664: 1412, 7665: 2807, 7666: 4093, 7667: 27704, 7668: 50851, 7669: 69860, 7670: 79677, 7671: 85394, 7672: 86668, 7673: 89580, 7674: 90943, 7675: 97866, 7676: 6210, 7677: 8337, 7678: 8577, 7679: 26693, 7680: 59295, 7681: 2665, 7682: 3447, 7683: 3973, 7684: 4190, 7685: 4802, 7686: 4925, 7687: 4939, 7688: 5063, 7689: 136469, 7690: 91325, 7691: 6055, 7692: 6347, 7693: 6348, 7694: 6597, 7695: 5532, 7696: 7306, 7697: 8588, 7698: 27708, 7699: 33893, 7700: 45503, 7701: 66090, 7702: 68347, 7703: 71902, 7704: 80880, 7705: 89208, 7706: 92348, 7707: 568, 7708: 1675, 7709: 2540, 7710: 4453, 7711: 4743, 7712: 5409, 7713: 5580, 7714: 5675, 7715: 5787, 7716: 6992, 7717: 7017, 7718: 7192, 7719: 8782, 7720: 30898, 7721: 36276, 7722: 43708, 7723: 8690, 7724: 4402, 7725: 96430, 7726: 941, 7727: 1839, 7728: 2368, 7729: 2520, 7730: 2521, 7731: 2523, 7732: 2693, 7733: 2887, 7734: 3057, 7735: 3276, 7736: 3284, 7737: 3390, 7738: 3596, 7739: 3933, 7740: 4051, 7741: 4156, 7742: 4198, 7743: 4212, 7744: 4397, 7745: 4526, 7746: 4630, 7747: 4660, 7748: 4756, 7749: 4775, 7750: 4952, 7751: 4981, 7752: 5250, 7753: 5334, 7754: 5356, 7755: 5490, 7756: 5700, 7757: 5752, 7758: 5779, 7759: 5915, 7760: 6302, 7761: 6424, 7762: 6427, 7763: 6476, 7764: 6514, 7765: 6760, 7766: 6798, 7767: 6814, 7768: 7101, 7769: 7245, 7770: 7372, 7771: 8136, 7772: 8137, 7773: 8447, 7774: 8743, 7775: 26152, 7776: 26386, 7777: 26464, 7778: 26700, 7779: 31000, 7780: 32291, 7781: 34018, 7782: 37211, 7783: 43558, 7784: 48262, 7785: 49688, 7786: 50064, 7787: 53453, 7788: 53808, 7789: 55294, 7790: 58351, 7791: 61123, 7792: 61289, 7793: 63393, 7794: 65135, 7795: 66785, 7796: 67361, 7797: 69118, 7798: 69453, 7799: 69604, 7800: 70545, 7801: 71466, 7802: 71732, 7803: 72224, 7804: 72694, 7805: 73386, 7806: 75803, 7807: 75816, 7808: 77421, 7809: 78034, 7810: 78116, 7811: 79259, 7812: 79590, 7813: 79879, 7814: 79946, 7815: 80241, 7816: 80864, 7817: 81949, 7818: 82093, 7819: 82095, 7820: 82527, 7821: 83374, 7822: 84696, 7823: 84950, 7824: 85025, 7825: 85399, 7826: 86028, 7827: 86593, 7828: 87876, 7829: 88672, 7830: 89305, 7831: 89343, 7832: 89388, 7833: 89427, 7834: 90343, 7835: 90719, 7836: 90738, 7837: 91273, 7838: 91688, 7839: 91873, 7840: 91935, 7841: 92198, 7842: 92665, 7843: 93242, 7844: 93980, 7845: 93982, 7846: 94011, 7847: 94323, 7848: 94494, 7849: 94896, 7850: 94919, 7851: 95201, 7852: 95508, 7853: 95744, 7854: 96114, 7855: 96281, 7856: 96530, 7857: 96726, 7858: 97328, 7859: 97742, 7860: 97858, 7861: 97870, 7862: 97936, 7863: 98160, 7864: 98175, 7865: 98230, 7866: 98296, 7867: 98836, 7868: 98908, 7869: 99005, 7870: 99415, 7871: 99574, 7872: 99846, 7873: 99992, 7874: 100226, 7875: 100304, 7876: 100326, 7877: 100487, 7878: 101360, 7879: 101529, 7880: 101577, 7881: 101884, 7882: 101895, 7883: 102025, 7884: 102165, 7885: 102278, 7886: 102819, 7887: 102880, 7888: 103221, 7889: 103502, 7890: 103543, 7891: 103755, 7892: 103865, 7893: 104078, 7894: 104129, 7895: 104760, 7896: 104906, 7897: 105121, 7898: 105755, 7899: 106330, 7900: 106438, 7901: 106542, 7902: 106883, 7903: 107702, 7904: 107945, 7905: 107962, 7906: 108188, 7907: 108601, 7908: 108715, 7909: 109183, 7910: 109191, 7911: 109295, 7912: 109317, 7913: 109372, 7914: 109416, 7915: 110611, 7916: 110655, 7917: 110826, 7918: 111663, 7919: 111680, 7920: 111795, 7921: 112303, 7922: 112749, 7923: 113186, 7924: 113225, 7925: 113350, 7926: 113416, 7927: 113532, 7928: 114028, 7929: 114601, 7930: 114925, 7931: 115151, 7932: 115170, 7933: 115216, 7934: 116207, 7935: 116413, 7936: 116419, 7937: 116849, 7938: 116985, 7939: 117107, 7940: 117511, 7941: 118248, 7942: 118326, 7943: 118354, 7944: 118512, 7945: 118702, 7946: 118814, 7947: 118924, 7948: 118997, 7949: 119068, 7950: 119655, 7951: 120637, 7952: 120783, 7953: 122490, 7954: 122932, 7955: 124859, 7956: 125221, 7957: 126420, 7958: 127132, 7959: 127136, 7960: 127194, 7961: 127319, 7962: 128592, 7963: 129250, 7964: 129333, 7965: 129657, 7966: 129659, 7967: 130083, 7968: 131480, 7969: 132333, 7970: 132462, 7971: 132488, 7972: 132618, 7973: 133195, 7974: 133281, 7975: 133365, 7976: 133377, 7977: 133545, 7978: 133782, 7979: 133798, 7980: 134021, 7981: 134158, 7982: 134859, 7983: 136654, 7984: 136664, 7985: 136778, 7986: 136786, 7987: 136800, 7988: 136816, 7989: 136859, 7990: 137517, 7991: 138546, 7992: 139052, 7993: 139415, 7994: 139857, 7995: 140237, 7996: 140525, 7997: 140850, 7998: 141422, 7999: 142424, 8000: 143001, 8001: 143255, 8002: 143257, 8003: 143410, 8004: 143472, 8005: 144262, 8006: 144620, 8007: 144714, 8008: 144716, 8009: 145150, 8010: 146688, 8011: 146730, 8012: 148482, 8013: 148592, 8014: 148709, 8015: 149590, 8016: 149612, 8017: 150401, 8018: 150604, 8019: 151315, 8020: 151317, 8021: 151501, 8022: 151559, 8023: 151653, 8024: 151745, 8025: 151777, 8026: 152085, 8027: 152105, 8028: 152658, 8029: 154065, 8030: 155358, 8031: 155659, 8032: 155743, 8033: 155892, 8034: 156553, 8035: 156706, 8036: 157122, 8037: 157130, 8038: 157172, 8039: 157200, 8040: 157270, 8041: 157340, 8042: 157407, 8043: 157432, 8044: 158022, 8045: 158956, 8046: 159077, 8047: 159193, 8048: 159690, 8049: 160440, 8050: 160573, 8051: 160646, 8052: 160730, 8053: 161290, 8054: 161830, 8055: 161918, 8056: 162828, 8057: 164375, 8058: 164647, 8059: 164753, 8060: 165075, 8061: 165139, 8062: 165343, 8063: 165347, 8064: 168350, 8065: 168456, 8066: 169180, 8067: 173751, 8068: 3568, 8069: 2839, 8070: 3240, 8071: 3241, 8072: 3756, 8073: 3787, 8074: 1341, 8075: 706, 8076: 89039, 8077: 1757, 8078: 2677, 8079: 3859, 8080: 3989, 8081: 4236, 8082: 4863, 8083: 4977, 8084: 5205, 8085: 5212, 8086: 5224, 8087: 5239, 8088: 5986, 8089: 6064, 8090: 6466, 8091: 6528, 8092: 6611, 8093: 6775, 8094: 6935, 8095: 6945, 8096: 6966, 8097: 7181, 8098: 7620, 8099: 7767, 8100: 7786, 8101: 7920, 8102: 8620, 8103: 8848, 8104: 26359, 8105: 26838, 8106: 27563, 8107: 32582, 8108: 38198, 8109: 45382, 8110: 46855, 8111: 55156, 8112: 58191, 8113: 67665, 8114: 71640, 8115: 82857, 8116: 89090, 8117: 100556, 8118: 103107, 8119: 105835, 8120: 109161, 8121: 148982, 8122: 151311, 8123: 152711, 8124: 160644, 8125: 162414, 8126: 164655, 8127: 167064, 8128: 179813, 8129: 183199, 8130: 183317, 8131: 184721, 8132: 187717, 8133: 188189, 8134: 189713, 8135: 56169, 8136: 59738, 8137: 60832, 8138: 74530, 8139: 74580, 8140: 90384, 8141: 3723, 8142: 2493, 8143: 451, 8144: 1180, 8145: 3405, 8146: 3619, 8147: 3658, 8148: 3832, 8149: 96, 8150: 488, 8151: 638, 8152: 907, 8153: 929, 8154: 956, 8155: 959, 8156: 970, 8157: 976, 8158: 982, 8159: 993, 8160: 1068, 8161: 1398, 8162: 1413, 8163: 1423, 8164: 1496, 8165: 1507, 8166: 1629, 8167: 1650, 8168: 1893, 8169: 1902, 8170: 1913, 8171: 1926, 8172: 1928, 8173: 1932, 8174: 1933, 8175: 1940, 8176: 2177, 8177: 2179, 8178: 2180, 8179: 2185, 8180: 2187, 8181: 2201, 8182: 2211, 8183: 2611, 8184: 2612, 8185: 2652, 8186: 2697, 8187: 2743, 8188: 2757, 8189: 2801, 8190: 2927, 8191: 2929, 8192: 2930, 8193: 3109, 8194: 3112, 8195: 3125, 8196: 3135, 8197: 3211, 8198: 3281, 8199: 3475, 8200: 3609, 8201: 3641, 8202: 3714, 8203: 3715, 8204: 3739, 8205: 3789, 8206: 3816, 8207: 3870, 8208: 3965, 8209: 3966, 8210: 4046, 8211: 4080, 8212: 4113, 8213: 4129, 8214: 4164, 8215: 4171, 8216: 4184, 8217: 4189, 8218: 4204, 8219: 4218, 8220: 4292, 8221: 4296, 8222: 4433, 8223: 4484, 8224: 4495, 8225: 4521, 8226: 4578, 8227: 4589, 8228: 4635, 8229: 4704, 8230: 4769, 8231: 4796, 8232: 4798, 8233: 4801, 8234: 4804, 8235: 4860, 8236: 4871, 8237: 4970, 8238: 4998, 8239: 5007, 8240: 5012, 8241: 5077, 8242: 5114, 8243: 5116, 8244: 5168, 8245: 5213, 8246: 5231, 8247: 5311, 8248: 5353, 8249: 5375, 8250: 5384, 8251: 5440, 8252: 5455, 8253: 5512, 8254: 5525, 8255: 5581, 8256: 5601, 8257: 5602, 8258: 5604, 8259: 5629, 8260: 5649, 8261: 5694, 8262: 5755, 8263: 5771, 8264: 5799, 8265: 5801, 8266: 5802, 8267: 5826, 8268: 5836, 8269: 5863, 8270: 5875, 8271: 5963, 8272: 6020, 8273: 6031, 8274: 6042, 8275: 6090, 8276: 6101, 8277: 6163, 8278: 6178, 8279: 6181, 8280: 6201, 8281: 6225, 8282: 6228, 8283: 6232, 8284: 6245, 8285: 6273, 8286: 6289, 8287: 6336, 8288: 6357, 8289: 6376, 8290: 6382, 8291: 6390, 8292: 6400, 8293: 6407, 8294: 6422, 8295: 6434, 8296: 6454, 8297: 6477, 8298: 6515, 8299: 6527, 8300: 6545, 8301: 6581, 8302: 6584, 8303: 6592, 8304: 6603, 8305: 6609, 8306: 6614, 8307: 6660, 8308: 6667, 8309: 6732, 8310: 6768, 8311: 6770, 8312: 6772, 8313: 6788, 8314: 6837, 8315: 6909, 8316: 6911, 8317: 6912, 8318: 6948, 8319: 6962, 8320: 6965, 8321: 6970, 8322: 6982, 8323: 6984, 8324: 6990, 8325: 7012, 8326: 7019, 8327: 7049, 8328: 7051, 8329: 7052, 8330: 7053, 8331: 7055, 8332: 7057, 8333: 7058, 8334: 7059, 8335: 7061, 8336: 7062, 8337: 7070, 8338: 7073, 8339: 7074, 8340: 7075, 8341: 7079, 8342: 7082, 8343: 7083, 8344: 7085, 8345: 7086, 8346: 7092, 8347: 7093, 8348: 7141, 8349: 7167, 8350: 7177, 8351: 7190, 8352: 7211, 8353: 7212, 8354: 7217, 8355: 7219, 8356: 7223, 8357: 7326, 8358: 7357, 8359: 7382, 8360: 7414, 8361: 7479, 8362: 7560, 8363: 7572, 8364: 7579, 8365: 7584, 8366: 7618, 8367: 7702, 8368: 7705, 8369: 7713, 8370: 7714, 8371: 7716, 8372: 7727, 8373: 7772, 8374: 7789, 8375: 7822, 8376: 7826, 8377: 7831, 8378: 7832, 8379: 7833, 8380: 7835, 8381: 7839, 8382: 7840, 8383: 7882, 8384: 7883, 8385: 7888, 8386: 7896, 8387: 7900, 8388: 7944, 8389: 8019, 8390: 8057, 8391: 8094, 8392: 8125, 8393: 8153, 8394: 8167, 8395: 8191, 8396: 8232, 8397: 8275, 8398: 8293, 8399: 8302, 8400: 8331, 8401: 8336, 8402: 8338, 8403: 8375, 8404: 8382, 8405: 8385, 8406: 8410, 8407: 8424, 8408: 8446, 8409: 8450, 8410: 8451, 8411: 8458, 8412: 8459, 8413: 8461, 8414: 8462, 8415: 8463, 8416: 8465, 8417: 8481, 8418: 8482, 8419: 8487, 8420: 8492, 8421: 8502, 8422: 8518, 8423: 8521, 8424: 8534, 8425: 8575, 8426: 8591, 8427: 8611, 8428: 8617, 8429: 8650, 8430: 8684, 8431: 8711, 8432: 8712, 8433: 8714, 8434: 8730, 8435: 8753, 8436: 8754, 8437: 8771, 8438: 8773, 8439: 8774, 8440: 8778, 8441: 8809, 8442: 8813, 8443: 8875, 8444: 8920, 8445: 8921, 8446: 8938, 8447: 8943, 8448: 8955, 8449: 8979, 8450: 8987, 8451: 8989, 8452: 25752, 8453: 25753, 8454: 25757, 8455: 25769, 8456: 25795, 8457: 25826, 8458: 25850, 8459: 25865, 8460: 25870, 8461: 25927, 8462: 25940, 8463: 25952, 8464: 25962, 8465: 25996, 8466: 25999, 8467: 26791, 8468: 26965, 8469: 31030, 8470: 31083, 8471: 31260, 8472: 31694, 8473: 31903, 8474: 34359, 8475: 35015, 8476: 42740, 8477: 43333, 8478: 44511, 8479: 48741, 8480: 49666, 8481: 50160, 8482: 50514, 8483: 53921, 8484: 55071, 8485: 55687, 8486: 56563, 8487: 3720, 8488: 4454, 8489: 4557, 8490: 4725, 8491: 5069, 8492: 5348, 8493: 6148, 8494: 7335, 8495: 8126, 8496: 27537, 8497: 31660, 8498: 42422, 8499: 68945, 8500: 72308, 8501: 78746, 8502: 82242, 8503: 2362, 8504: 3428, 8505: 4111, 8506: 4410, 8507: 4831, 8508: 5197, 8509: 5365, 8510: 5389, 8511: 5448, 8512: 5651, 8513: 5773, 8514: 6436, 8515: 6853, 8516: 8131, 8517: 27830, 8518: 32294, 8519: 36477, 8520: 37844, 8521: 43914, 8522: 44197, 8523: 47646, 8524: 2068, 8525: 6320, 8526: 8268, 8527: 2483, 8528: 8632, 8529: 27370, 8530: 31617, 8531: 36397, 8532: 68522, 8533: 72554, 8534: 88448, 8535: 89586, 8536: 90863, 8537: 91890, 8538: 93723, 8539: 94810, 8540: 95939, 8541: 96283, 8542: 97665, 8543: 99087, 8544: 100068, 8545: 101765, 8546: 105325, 8547: 109941, 8548: 109971, 8549: 112316, 8550: 115065, 8551: 4759, 8552: 5786, 8553: 8593, 8554: 71268, 8555: 93320, 8556: 26900, 8557: 40597, 8558: 54796, 8559: 72874, 8560: 73501, 8561: 77881, 8562: 79299, 8563: 79536, 8564: 80454, 8565: 80551, 8566: 84553, 8567: 86000, 8568: 87413, 8569: 91488, 8570: 92730, 8571: 94130, 8572: 50954, 8573: 78160, 8574: 78544, 8575: 180231, 8576: 103, 8577: 467, 8578: 876, 8579: 1170, 8580: 73290, 8581: 140523, 8582: 131739, 8583: 56286, 8584: 449, 8585: 1824, 8586: 1910, 8587: 7455, 8588: 32914, 8589: 46231, 8590: 79798, 8591: 6596, 8592: 6927, 8593: 68269, 8594: 5613, 8595: 50796, 8596: 65193, 8597: 74677, 8598: 80834, 8599: 82088, 8600: 84847, 8601: 89678, 8602: 90809, 8603: 91266, 8604: 91337, 8605: 93134, 8606: 93988, 8607: 94799, 8608: 95193, 8609: 110781, 8610: 117133, 8611: 126142, 8612: 129229, 8613: 130073, 8614: 136838, 8615: 136840, 8616: 34148, 8617: 6145, 8618: 1335, 8619: 1978, 8620: 2878, 8621: 3294, 8622: 4202, 8623: 5041, 8624: 5189, 8625: 5704, 8626: 5797, 8627: 6746, 8628: 6821, 8629: 7477, 8630: 7730, 8631: 7891, 8632: 8894, 8633: 26198, 8634: 31150, 8635: 38583, 8636: 40478, 8637: 62586, 8638: 124484, 8639: 135216, 8640: 136958, 8641: 141994, 8642: 149330, 8643: 158830, 8644: 159510, 8645: 160571, 8646: 167538, 8647: 180263, 8648: 182727, 8649: 184931, 8650: 184987, 8651: 185033, 8652: 185473, 8653: 186587, 8654: 187031, 8655: 188797, 8656: 4646, 8657: 8772, 8658: 26761, 8659: 83270, 8660: 88267, 8661: 91414, 8662: 93740, 8663: 96471, 8664: 96518, 8665: 96520, 8666: 97194, 8667: 107780, 8668: 121099, 8669: 144352, 8670: 152037, 8671: 160422, 8672: 162590, 8673: 165489, 8674: 7266, 8675: 32469, 8676: 27006, 8677: 27369, 8678: 66544, 8679: 79006, 8680: 120130, 8681: 8264, 8682: 91869, 8683: 96150, 8684: 98122, 8685: 106889, 8686: 120807, 8687: 127164, 8688: 134248, 8689: 146682, 8690: 148667, 8691: 159849, 8692: 163653, 8693: 164540, 8694: 39516, 8695: 135198, 8696: 176413, 8697: 176415, 8698: 2742, 8699: 3673, 8700: 3674, 8701: 4445, 8702: 5560, 8703: 4284, 8704: 125914, 8705: 27251, 8706: 36289, 8707: 51024, 8708: 53138, 8709: 53140, 8710: 58297, 8711: 64695, 8712: 69805, 8713: 73804, 8714: 76743, 8715: 83480, 8716: 85179, 8717: 85261, 8718: 91353, 8719: 112580, 8720: 116529, 8721: 116668, 8722: 116724, 8723: 128542, 8724: 134775, 8725: 135885, 8726: 144734, 8727: 150993, 8728: 164367, 8729: 2573, 8730: 55946, 8731: 121129, 8732: 2107, 8733: 626, 8734: 1986, 8735: 1990, 8736: 3626, 8737: 3939, 8738: 3940, 8739: 3941, 8740: 3942, 8741: 3958, 8742: 1477, 8743: 168712, 8744: 142056, 8745: 167296, 8746: 1825, 8747: 5059, 8748: 5513, 8749: 7457, 8750: 43684, 8751: 61257, 8752: 2820, 8753: 633, 8754: 790, 8755: 1336, 8756: 1397, 8757: 1985, 8758: 2256, 8759: 2451, 8760: 2597, 8761: 2862, 8762: 3442, 8763: 3574, 8764: 3577, 8765: 3660, 8766: 3661, 8767: 3663, 8768: 3664, 8769: 3678, 8770: 3691, 8771: 5839, 8772: 5840, 8773: 6119, 8774: 26308, 8775: 31123, 8776: 37495, 8777: 38095, 8778: 48045, 8779: 54617, 8780: 59026, 8781: 68886, 8782: 73681, 8783: 81383, 8784: 96945, 8785: 105246, 8786: 109313, 8787: 111384, 8788: 130498, 8789: 141866, 8790: 142558, 8791: 148238, 8792: 148881, 8793: 154975, 8794: 6800, 8795: 105468, 8796: 168174, 8797: 4135, 8798: 26357, 8799: 27140, 8800: 27667, 8801: 73211, 8802: 99191, 8803: 100306, 8804: 43930, 8805: 44225, 8806: 47516, 8807: 61071, 8808: 62718, 8809: 70932, 8810: 72919, 8811: 74688, 8812: 77414, 8813: 78264, 8814: 80858, 8815: 82152, 8816: 90524, 8817: 94325, 8818: 95199, 8819: 96975, 8820: 100527, 8821: 115667, 8822: 128832, 8823: 139747, 8824: 50942, 8825: 5028, 8826: 8189, 8827: 8335, 8828: 8477, 8829: 25782, 8830: 26717, 8831: 26743, 8832: 40491, 8833: 51573, 8834: 57502, 8835: 70015, 8836: 71438, 8837: 81681, 8838: 82684, 8839: 92234, 8840: 92681, 8841: 99917, 8842: 101070, 8843: 102088, 8844: 102800, 8845: 104337, 8846: 104944, 8847: 109897, 8848: 110603, 8849: 113705, 8850: 114396, 8851: 114554, 8852: 114627, 8853: 117877, 8854: 122246, 8855: 122888, 8856: 132335, 8857: 134246, 8858: 135288, 8859: 136602, 8860: 141668, 8861: 142507, 8862: 150254, 8863: 151687, 8864: 152063, 8865: 152071, 8866: 153070, 8867: 156605, 8868: 166526, 8869: 166705, 8870: 170945, 8871: 176419, 8872: 179491, 8873: 179749, 8874: 179815, 8875: 1331, 8876: 1623, 8877: 1980, 8878: 2655, 8879: 2740, 8880: 2982, 8881: 3021, 8882: 3073, 8883: 430, 8884: 2538, 8885: 2623, 8886: 2629, 8887: 2415, 8888: 3143, 8889: 6751, 8890: 7395, 8891: 56389, 8892: 75446, 8893: 2965, 8894: 5767, 8895: 5828, 8896: 6342, 8897: 6583, 8898: 6692, 8899: 7349, 8900: 8092, 8901: 8236, 8902: 8427, 8903: 8494, 8904: 8800, 8905: 8844, 8906: 26819, 8907: 27373, 8908: 136556, 8909: 2738, 8910: 3403, 8911: 3414, 8912: 3449, 8913: 4710, 8914: 284, 8915: 1652, 8916: 2175, 8917: 2196, 8918: 2589, 8919: 3353, 8920: 4200, 8921: 4374, 8922: 4715, 8923: 4794, 8924: 4827, 8925: 5105, 8926: 5657, 8927: 6140, 8928: 6417, 8929: 6665, 8930: 6723, 8931: 6967, 8932: 6994, 8933: 7023, 8934: 7031, 8935: 7032, 8936: 7114, 8937: 7345, 8938: 7742, 8939: 7782, 8940: 8035, 8941: 8118, 8942: 8727, 8943: 2774, 8944: 3094, 8945: 4342, 8946: 6769, 8947: 7260, 8948: 7615, 8949: 27246, 8950: 32799, 8951: 33649, 8952: 43744, 8953: 55844, 8954: 59549, 8955: 59667, 8956: 68835, 8957: 69495, 8958: 70637, 8959: 92954, 8960: 111800, 8961: 111913, 8962: 113280, 8963: 120919, 8964: 128908, 8965: 129397, 8966: 132454, 8967: 133645, 8968: 141131, 8969: 151557, 8970: 163639, 8971: 168026, 8972: 171917, 8973: 176051, 8974: 178615, 8975: 181719, 8976: 182793, 8977: 183635, 8978: 184997, 8979: 615, 8980: 1112, 8981: 4424, 8982: 113829, 8983: 114265, 8984: 124851, 8985: 478, 8986: 806, 8987: 1114, 8988: 1426, 8989: 1794, 8990: 2281, 8991: 2292, 8992: 2339, 8993: 2586, 8994: 2698, 8995: 3379, 8996: 3571, 8997: 3669, 8998: 3700, 8999: 3709, 9000: 3962, 9001: 4197, 9002: 4240, 9003: 4394, 9004: 4490, 9005: 4504, 9006: 4511, 9007: 4568, 9008: 4574, 9009: 4593, 9010: 4594, 9011: 4597, 9012: 4603, 9013: 4670, 9014: 5053, 9015: 5054, 9016: 5096, 9017: 5111, 9018: 5136, 9019: 5198, 9020: 5221, 9021: 5268, 9022: 5442, 9023: 5591, 9024: 5596, 9025: 5597, 9026: 5689, 9027: 5768, 9028: 5961, 9029: 6204, 9030: 6267, 9031: 6310, 9032: 6506, 9033: 6557, 9034: 6587, 9035: 6691, 9036: 6722, 9037: 6734, 9038: 6804, 9039: 6860, 9040: 6882, 9041: 6998, 9042: 7005, 9043: 7041, 9044: 7047, 9045: 7108, 9046: 7125, 9047: 7191, 9048: 7307, 9049: 7443, 9050: 7657, 9051: 7704, 9052: 7707, 9053: 7986, 9054: 7988, 9055: 8043, 9056: 8045, 9057: 8380, 9058: 8425, 9059: 8500, 9060: 8720, 9061: 8755, 9062: 8905, 9063: 8934, 9064: 9004, 9065: 26142, 9066: 26159, 9067: 26176, 9068: 26195, 9069: 26283, 9070: 26285, 9071: 26344, 9072: 26365, 9073: 26413, 9074: 26453, 9075: 26467, 9076: 26510, 9077: 26539, 9078: 26542, 9079: 26547, 9080: 26562, 9081: 26567, 9082: 26590, 9083: 26593, 9084: 26612, 9085: 26622, 9086: 26630, 9087: 26676, 9088: 26696, 9089: 26701, 9090: 26726, 9091: 26741, 9092: 26745, 9093: 26782, 9094: 26797, 9095: 26828, 9096: 26854, 9097: 26861, 9098: 26913, 9099: 26940, 9100: 26947, 9101: 27002, 9102: 27008, 9103: 27032, 9104: 27074, 9105: 27105, 9106: 27124, 9107: 27155, 9108: 27306, 9109: 27420, 9110: 27441, 9111: 27549, 9112: 27595, 9113: 27722, 9114: 27762, 9115: 27769, 9116: 27784, 9117: 27829, 9118: 31367, 9119: 31553, 9120: 31664, 9121: 31921, 9122: 32058, 9123: 32440, 9124: 32442, 9125: 32515, 9126: 33126, 9127: 33294, 9128: 33435, 9129: 33629, 9130: 33801, 9131: 33966, 9132: 34292, 9133: 34800, 9134: 34811, 9135: 36850, 9136: 39801, 9137: 40578, 9138: 41627, 9139: 42559, 9140: 42638, 9141: 42943, 9142: 42946, 9143: 43419, 9144: 43677, 9145: 43908, 9146: 44238, 9147: 44241, 9148: 44243, 9149: 44849, 9150: 45183, 9151: 45648, 9152: 45969, 9153: 46367, 9154: 46574, 9155: 47721, 9156: 47793, 9157: 49110, 9158: 51545, 9159: 53022, 9160: 53143, 9161: 53161, 9162: 53450, 9163: 54274, 9164: 54908, 9165: 55036, 9166: 55061, 9167: 55205, 9168: 55207, 9169: 56022, 9170: 57499, 9171: 58306, 9172: 59016, 9173: 59336, 9174: 59947, 9175: 60365, 9176: 60803, 9177: 61073, 9178: 62662, 9179: 62970, 9180: 66915, 9181: 67193, 9182: 68552, 9183: 68650, 9184: 69131, 9185: 69227, 9186: 70703, 9187: 71327, 9188: 71484, 9189: 71550, 9190: 71810, 9191: 72479, 9192: 73569, 9193: 73808, 9194: 74095, 9195: 74696, 9196: 75416, 9197: 75947, 9198: 76030, 9199: 77201, 9200: 77709, 9201: 78959, 9202: 79895, 9203: 80083, 9204: 81791, 9205: 82534, 9206: 83086, 9207: 83796, 9208: 84523, 9209: 85438, 9210: 86286, 9211: 86355, 9212: 86864, 9213: 86898, 9214: 87197, 9215: 87960, 9216: 88593, 9217: 88697, 9218: 89085, 9219: 89862, 9220: 90243, 9221: 90428, 9222: 90945, 9223: 91571, 9224: 91981, 9225: 92309, 9226: 92674, 9227: 93208, 9228: 93502, 9229: 94122, 9230: 95145, 9231: 95163, 9232: 95165, 9233: 95499, 9234: 95519, 9235: 95717, 9236: 95771, 9237: 95780, 9238: 95839, 9239: 95965, 9240: 97230, 9241: 97950, 9242: 98499, 9243: 98503, 9244: 98623, 9245: 98697, 9246: 98799, 9247: 99638, 9248: 101074, 9249: 101423, 9250: 102590, 9251: 102735, 9252: 102749, 9253: 102852, 9254: 103027, 9255: 103245, 9256: 103366, 9257: 103609, 9258: 104017, 9259: 104837, 9260: 105020, 9261: 105720, 9262: 107999, 9263: 108090, 9264: 108192, 9265: 110541, 9266: 111785, 9267: 112326, 9268: 113849, 9269: 114126, 9270: 115819, 9271: 116044, 9272: 116169, 9273: 116941, 9274: 116963, 9275: 117630, 9276: 118290, 9277: 119218, 9278: 119828, 9279: 120827, 9280: 121035, 9281: 122260, 9282: 122433, 9283: 122627, 9284: 123310, 9285: 128197, 9286: 128736, 9287: 129779, 9288: 131578, 9289: 132084, 9290: 132362, 9291: 135787, 9292: 136012, 9293: 136297, 9294: 137218, 9295: 137345, 9296: 137859, 9297: 138702, 9298: 139130, 9299: 139859, 9300: 140852, 9301: 144522, 9302: 145724, 9303: 145745, 9304: 151479, 9305: 151781, 9306: 153236, 9307: 156675, 9308: 157865, 9309: 158388, 9310: 158874, 9311: 159061, 9312: 159403, 9313: 160978, 9314: 161008, 9315: 161032, 9316: 161044, 9317: 163809, 9318: 165529, 9319: 167706, 9320: 168608, 9321: 169670, 9322: 169904, 9323: 169958, 9324: 170297, 9325: 170551, 9326: 171695, 9327: 172229, 9328: 172233, 9329: 172253, 9330: 173873, 9331: 174727, 9332: 178129, 9333: 179053, 9334: 181315, 9335: 183301, 9336: 2800, 9337: 25905, 9338: 25923, 9339: 25947, 9340: 46664, 9341: 59131, 9342: 141846, 9343: 77, 9344: 108, 9345: 149, 9346: 184, 9347: 301, 9348: 320, 9349: 495, 9350: 506, 9351: 526, 9352: 602, 9353: 645, 9354: 649, 9355: 803, 9356: 1053, 9357: 1119, 9358: 1310, 9359: 1349, 9360: 1475, 9361: 1514, 9362: 1549, 9363: 1585, 9364: 1612, 9365: 1613, 9366: 1759, 9367: 2008, 9368: 2104, 9369: 2283, 9370: 2304, 9371: 2417, 9372: 2435, 9373: 2512, 9374: 2544, 9375: 2577, 9376: 2609, 9377: 2620, 9378: 2725, 9379: 2727, 9380: 2813, 9381: 2865, 9382: 2885, 9383: 2892, 9384: 2972, 9385: 3002, 9386: 3183, 9387: 3303, 9388: 3344, 9389: 3374, 9390: 3459, 9391: 3514, 9392: 3531, 9393: 3586, 9394: 3637, 9395: 3655, 9396: 3792, 9397: 4420, 9398: 4428, 9399: 4436, 9400: 4690, 9401: 4695, 9402: 4705, 9403: 4766, 9404: 4786, 9405: 4810, 9406: 117, 9407: 220, 9408: 285, 9409: 311, 9410: 636, 9411: 1654, 9412: 27036, 9413: 35347, 9414: 47384, 9415: 54686, 9416: 65359, 9417: 66240, 9418: 71160, 9419: 72165, 9420: 72982, 9421: 202, 9422: 263, 9423: 563, 9424: 573, 9425: 579, 9426: 583, 9427: 632, 9428: 961, 9429: 1117, 9430: 1156, 9431: 1493, 9432: 1857, 9433: 2156, 9434: 2207, 9435: 2388, 9436: 2481, 9437: 2503, 9438: 2897, 9439: 3010, 9440: 3289, 9441: 3295, 9442: 3640, 9443: 3808, 9444: 3920, 9445: 4357, 9446: 4395, 9447: 4615, 9448: 4653, 9449: 4671, 9450: 4689, 9451: 4828, 9452: 4840, 9453: 4883, 9454: 5269, 9455: 5372, 9456: 5503, 9457: 5550, 9458: 5614, 9459: 5720, 9460: 5733, 9461: 5741, 9462: 5742, 9463: 5849, 9464: 5856, 9465: 5922, 9466: 5929, 9467: 5975, 9468: 5990, 9469: 6070, 9470: 6107, 9471: 6111, 9472: 6182, 9473: 6202, 9474: 6237, 9475: 6415, 9476: 6449, 9477: 6516, 9478: 6553, 9479: 6573, 9480: 6578, 9481: 6644, 9482: 6671, 9483: 6782, 9484: 6789, 9485: 6803, 9486: 6961, 9487: 6973, 9488: 7037, 9489: 7109, 9490: 7131, 9491: 7292, 9492: 7344, 9493: 7487, 9494: 7916, 9495: 8391, 9496: 8454, 9497: 8456, 9498: 8601, 9499: 8685, 9500: 8713, 9501: 8933, 9502: 8964, 9503: 25805, 9504: 25833, 9505: 25946, 9506: 26038, 9507: 26394, 9508: 26527, 9509: 26599, 9510: 26777, 9511: 26796, 9512: 26875, 9513: 26985, 9514: 27178, 9515: 27255, 9516: 27627, 9517: 27644, 9518: 27744, 9519: 30890, 9520: 30994, 9521: 31309, 9522: 31973, 9523: 32234, 9524: 32600, 9525: 32620, 9526: 32649, 9527: 32728, 9528: 32862, 9529: 33237, 9530: 33310, 9531: 41014, 9532: 44189, 9533: 44301, 9534: 47202, 9535: 47538, 9536: 47774, 9537: 48032, 9538: 48214, 9539: 50354, 9540: 50356, 9541: 51314, 9542: 55805, 9543: 56333, 9544: 58783, 9545: 68480, 9546: 68872, 9547: 69224, 9548: 72603, 9549: 241, 9550: 2737, 9551: 5901, 9552: 7377, 9553: 8667, 9554: 32302, 9555: 51903, 9556: 137, 9557: 1054, 9558: 3945, 9559: 4497, 9560: 5275, 9561: 5953, 9562: 6009, 9563: 6095, 9564: 7202, 9565: 7562, 9566: 7984, 9567: 8840, 9568: 26169, 9569: 26391, 9570: 26399, 9571: 26401, 9572: 26498, 9573: 26603, 9574: 27426, 9575: 27480, 9576: 27491, 9577: 27746, 9578: 27778, 9579: 27905, 9580: 31086, 9581: 34450, 9582: 36931, 9583: 41712, 9584: 43289, 9585: 44597, 9586: 47937, 9587: 48150, 9588: 51666, 9589: 52831, 9590: 54910, 9591: 55067, 9592: 55492, 9593: 56620, 9594: 57421, 9595: 57637, 9596: 58826, 9597: 58964, 9598: 58975, 9599: 59915, 9600: 60303, 9601: 60471, 9602: 61262, 9603: 61319, 9604: 61692, 9605: 61818, 9606: 63179, 9607: 63768, 9608: 63826, 9609: 64010, 9610: 66310, 9611: 67168, 9612: 70206, 9613: 70208, 9614: 71341, 9615: 71910, 9616: 72142, 9617: 72424, 9618: 73676, 9619: 73741, 9620: 73876, 9621: 74370, 9622: 75389, 9623: 76091, 9624: 77893, 9625: 77931, 9626: 78626, 9627: 79501, 9628: 79868, 9629: 80094, 9630: 80162, 9631: 81520, 9632: 82366, 9633: 82641, 9634: 82765, 9635: 88327, 9636: 89072, 9637: 89281, 9638: 89837, 9639: 91233, 9640: 93193, 9641: 93598, 9642: 93819, 9643: 94867, 9644: 96832, 9645: 97188, 9646: 97285, 9647: 97701, 9648: 97988, 9649: 98061, 9650: 98633, 9651: 99030, 9652: 99721, 9653: 100159, 9654: 100397, 9655: 100579, 9656: 100906, 9657: 102066, 9658: 102070, 9659: 102338, 9660: 102760, 9661: 102802, 9662: 103085, 9663: 103219, 9664: 103483, 9665: 103685, 9666: 105801, 9667: 107436, 9668: 107447, 9669: 107462, 9670: 107771, 9671: 110281, 9672: 110286, 9673: 110591, 9674: 110746, 9675: 111551, 9676: 112727, 9677: 113159, 9678: 113313, 9679: 113565, 9680: 113780, 9681: 113862, 9682: 114044, 9683: 114670, 9684: 114707, 9685: 115727, 9686: 117867, 9687: 118082, 9688: 128838, 9689: 129313, 9690: 130050, 9691: 130052, 9692: 130840, 9693: 133832, 9694: 135534, 9695: 135803, 9696: 135815, 9697: 138610, 9698: 138632, 9699: 139511, 9700: 139655, 9701: 140267, 9702: 141400, 9703: 141799, 9704: 142366, 9705: 142598, 9706: 145951, 9707: 146309, 9708: 147657, 9709: 147662, 9710: 148166, 9711: 149011, 9712: 152372, 9713: 158721, 9714: 160341, 9715: 160527, 9716: 160836, 9717: 163937, 9718: 163981}\n"
     ]
    }
   ],
   "source": [
    "# Mengubah movieId menjadi list tanpa nilai yang sama\n",
    "movie_ids = df_final_collaborative['movieId'].unique().tolist()\n",
    "print('list movieId: ', movie_ids)\n",
    " \n",
    "# Melakukan encoding movieId\n",
    "movie_to_movie_encoded = {x: i for i, x in enumerate(movie_ids)}\n",
    "print('encoded movieId : ', movie_to_movie_encoded)\n",
    " \n",
    "# Melakukan proses encoding angka ke ke movieId\n",
    "movie_encoded_to_movie = {i: x for i, x in enumerate(movie_ids)}\n",
    "print('encoded angka ke movieId: ', movie_encoded_to_movie)"
   ]
  },
  {
   "cell_type": "code",
   "execution_count": 36,
   "id": "fdd07c81",
   "metadata": {},
   "outputs": [],
   "source": [
    "df_final_collaborative['user_encoded'] = df_final_collaborative['userId'].map(user_to_user_encoded)\n",
    "df_final_collaborative['movie_encoded'] = df_final_collaborative['movieId'].map(movie_to_movie_encoded)\n",
    "df_final_collaborative['rating']=df_final_collaborative['rating'].values.astype(np.float64)"
   ]
  },
  {
   "cell_type": "code",
   "execution_count": 37,
   "id": "fa33ddb9",
   "metadata": {},
   "outputs": [
    {
     "data": {
      "text/html": [
       "<div>\n",
       "<style scoped>\n",
       "    .dataframe tbody tr th:only-of-type {\n",
       "        vertical-align: middle;\n",
       "    }\n",
       "\n",
       "    .dataframe tbody tr th {\n",
       "        vertical-align: top;\n",
       "    }\n",
       "\n",
       "    .dataframe thead th {\n",
       "        text-align: right;\n",
       "    }\n",
       "</style>\n",
       "<table border=\"1\" class=\"dataframe\">\n",
       "  <thead>\n",
       "    <tr style=\"text-align: right;\">\n",
       "      <th></th>\n",
       "      <th>userId</th>\n",
       "      <th>movieId</th>\n",
       "      <th>rating</th>\n",
       "      <th>title</th>\n",
       "      <th>genres</th>\n",
       "      <th>user_encoded</th>\n",
       "      <th>movie_encoded</th>\n",
       "    </tr>\n",
       "  </thead>\n",
       "  <tbody>\n",
       "    <tr>\n",
       "      <th>27966</th>\n",
       "      <td>191</td>\n",
       "      <td>235</td>\n",
       "      <td>5.0</td>\n",
       "      <td>Ed Wood (1994)</td>\n",
       "      <td>Comedy|Drama</td>\n",
       "      <td>190</td>\n",
       "      <td>14</td>\n",
       "    </tr>\n",
       "    <tr>\n",
       "      <th>44009</th>\n",
       "      <td>294</td>\n",
       "      <td>387</td>\n",
       "      <td>2.0</td>\n",
       "      <td>Low Down Dirty Shame, A (1994)</td>\n",
       "      <td>Action|Comedy</td>\n",
       "      <td>293</td>\n",
       "      <td>2891</td>\n",
       "    </tr>\n",
       "    <tr>\n",
       "      <th>70872</th>\n",
       "      <td>453</td>\n",
       "      <td>377</td>\n",
       "      <td>4.0</td>\n",
       "      <td>Speed (1994)</td>\n",
       "      <td>Action|Romance|Thriller</td>\n",
       "      <td>452</td>\n",
       "      <td>621</td>\n",
       "    </tr>\n",
       "    <tr>\n",
       "      <th>6187</th>\n",
       "      <td>42</td>\n",
       "      <td>2989</td>\n",
       "      <td>5.0</td>\n",
       "      <td>For Your Eyes Only (1981)</td>\n",
       "      <td>Action|Adventure|Thriller</td>\n",
       "      <td>41</td>\n",
       "      <td>1865</td>\n",
       "    </tr>\n",
       "    <tr>\n",
       "      <th>34899</th>\n",
       "      <td>233</td>\n",
       "      <td>170705</td>\n",
       "      <td>4.0</td>\n",
       "      <td>Band of Brothers (2001)</td>\n",
       "      <td>Action|Drama|War</td>\n",
       "      <td>232</td>\n",
       "      <td>2871</td>\n",
       "    </tr>\n",
       "  </tbody>\n",
       "</table>\n",
       "</div>"
      ],
      "text/plain": [
       "       userId  movieId  rating                           title  \\\n",
       "27966     191      235     5.0                  Ed Wood (1994)   \n",
       "44009     294      387     2.0  Low Down Dirty Shame, A (1994)   \n",
       "70872     453      377     4.0                    Speed (1994)   \n",
       "6187       42     2989     5.0       For Your Eyes Only (1981)   \n",
       "34899     233   170705     4.0         Band of Brothers (2001)   \n",
       "\n",
       "                          genres  user_encoded  movie_encoded  \n",
       "27966               Comedy|Drama           190             14  \n",
       "44009              Action|Comedy           293           2891  \n",
       "70872    Action|Romance|Thriller           452            621  \n",
       "6187   Action|Adventure|Thriller            41           1865  \n",
       "34899           Action|Drama|War           232           2871  "
      ]
     },
     "execution_count": 37,
     "metadata": {},
     "output_type": "execute_result"
    }
   ],
   "source": [
    "# Shuffling data sebelum displit\n",
    "df_final_collaborative = df_final_collaborative.sample(frac=1, random_state=42)\n",
    "df_final_collaborative.head(5)"
   ]
  },
  {
   "cell_type": "code",
   "execution_count": 38,
   "id": "f71ee229",
   "metadata": {},
   "outputs": [],
   "source": [
    "min_rating = df_final_collaborative['rating'].min()\n",
    "max_rating = df_final_collaborative['rating'].max()\n",
    "\n",
    "x = df_final_collaborative[['user_encoded','movie_encoded']].values\n",
    "y = df_final_collaborative['rating'].apply(lambda x: (x - min_rating) / (max_rating - min_rating)).values"
   ]
  },
  {
   "cell_type": "code",
   "execution_count": 39,
   "id": "18c97adb",
   "metadata": {},
   "outputs": [
    {
     "data": {
      "text/plain": [
       "(array([[ 190,   14],\n",
       "        [ 293, 2891],\n",
       "        [ 452,  621],\n",
       "        ...,\n",
       "        [ 479, 3335],\n",
       "        [   5,  712],\n",
       "        [ 102, 2961]], dtype=int64),\n",
       " array([1.        , 0.33333333, 0.77777778, ..., 0.77777778, 0.55555556,\n",
       "        0.77777778]))"
      ]
     },
     "execution_count": 39,
     "metadata": {},
     "output_type": "execute_result"
    }
   ],
   "source": [
    "train_indices = int(0.8 * x.shape[0])\n",
    "x_train, x_val, y_train, y_val = (\n",
    "    x[:train_indices],\n",
    "    x[train_indices:],\n",
    "    y[:train_indices],\n",
    "    y[train_indices:]\n",
    ")\n",
    " \n",
    "x,y"
   ]
  },
  {
   "cell_type": "markdown",
   "id": "90c77b44",
   "metadata": {},
   "source": [
    "# Model Development Content Based Filtering"
   ]
  },
  {
   "cell_type": "markdown",
   "id": "682a07ac",
   "metadata": {},
   "source": [
    "Melakukan perhitungan cosine similiarity antar Film"
   ]
  },
  {
   "cell_type": "code",
   "execution_count": 40,
   "id": "87a170fd",
   "metadata": {},
   "outputs": [],
   "source": [
    "cosine_sim = cosine_similarity(content_based_tfidf_matrix)\n",
    "cosine_sim_df = pd.DataFrame(cosine_sim, index=df_final_content_based['title'], columns=df_final_content_based['title'])"
   ]
  },
  {
   "cell_type": "code",
   "execution_count": 41,
   "id": "a453dc6d",
   "metadata": {},
   "outputs": [
    {
     "data": {
      "text/html": [
       "<div>\n",
       "<style scoped>\n",
       "    .dataframe tbody tr th:only-of-type {\n",
       "        vertical-align: middle;\n",
       "    }\n",
       "\n",
       "    .dataframe tbody tr th {\n",
       "        vertical-align: top;\n",
       "    }\n",
       "\n",
       "    .dataframe thead th {\n",
       "        text-align: right;\n",
       "    }\n",
       "</style>\n",
       "<table border=\"1\" class=\"dataframe\">\n",
       "  <thead>\n",
       "    <tr style=\"text-align: right;\">\n",
       "      <th>title</th>\n",
       "      <th>Step Brothers (2008)</th>\n",
       "      <th>Warrior (2011)</th>\n",
       "      <th>Wolf of Wall Street, The (2013)</th>\n",
       "      <th>Departed, The (2006)</th>\n",
       "      <th>Carlito's Way (1993)</th>\n",
       "      <th>Godfather: Part II, The (1974)</th>\n",
       "      <th>Pianist, The (2002)</th>\n",
       "      <th>Lucky Number Slevin (2006)</th>\n",
       "      <th>Fracture (2007)</th>\n",
       "      <th>Upside Down: The Creation Records Story (2010)</th>\n",
       "      <th>...</th>\n",
       "      <th>Big Lebowski, The (1998)</th>\n",
       "      <th>Fight Club (1999)</th>\n",
       "      <th>Shine (1996)</th>\n",
       "      <th>Tom Jones (1963)</th>\n",
       "      <th>Gladiator (2000)</th>\n",
       "      <th>Staying Alive (1983)</th>\n",
       "      <th>Night of the Shooting Stars (Notte di San Lorenzo, La) (1982)</th>\n",
       "      <th>I'm Not Scared (Io non ho paura) (2003)</th>\n",
       "      <th>Hard-Boiled (Lat sau san taam) (1992)</th>\n",
       "      <th>John Wick: Chapter Two (2017)</th>\n",
       "    </tr>\n",
       "    <tr>\n",
       "      <th>title</th>\n",
       "      <th></th>\n",
       "      <th></th>\n",
       "      <th></th>\n",
       "      <th></th>\n",
       "      <th></th>\n",
       "      <th></th>\n",
       "      <th></th>\n",
       "      <th></th>\n",
       "      <th></th>\n",
       "      <th></th>\n",
       "      <th></th>\n",
       "      <th></th>\n",
       "      <th></th>\n",
       "      <th></th>\n",
       "      <th></th>\n",
       "      <th></th>\n",
       "      <th></th>\n",
       "      <th></th>\n",
       "      <th></th>\n",
       "      <th></th>\n",
       "      <th></th>\n",
       "    </tr>\n",
       "  </thead>\n",
       "  <tbody>\n",
       "    <tr>\n",
       "      <th>Step Brothers (2008)</th>\n",
       "      <td>1.000000</td>\n",
       "      <td>0.000000</td>\n",
       "      <td>0.023563</td>\n",
       "      <td>0.000000</td>\n",
       "      <td>0.000000</td>\n",
       "      <td>0.000000</td>\n",
       "      <td>0.000000</td>\n",
       "      <td>0.000000</td>\n",
       "      <td>0.000000</td>\n",
       "      <td>0.0</td>\n",
       "      <td>...</td>\n",
       "      <td>0.238425</td>\n",
       "      <td>0.006184</td>\n",
       "      <td>0.000000</td>\n",
       "      <td>0.042767</td>\n",
       "      <td>0.000000</td>\n",
       "      <td>0.038146</td>\n",
       "      <td>0.000000</td>\n",
       "      <td>0.000000</td>\n",
       "      <td>0.000000</td>\n",
       "      <td>0.000000</td>\n",
       "    </tr>\n",
       "    <tr>\n",
       "      <th>Warrior (2011)</th>\n",
       "      <td>0.000000</td>\n",
       "      <td>1.000000</td>\n",
       "      <td>0.011768</td>\n",
       "      <td>0.015833</td>\n",
       "      <td>0.012826</td>\n",
       "      <td>0.015035</td>\n",
       "      <td>0.217680</td>\n",
       "      <td>0.019840</td>\n",
       "      <td>0.021313</td>\n",
       "      <td>0.0</td>\n",
       "      <td>...</td>\n",
       "      <td>0.000000</td>\n",
       "      <td>0.003088</td>\n",
       "      <td>0.028682</td>\n",
       "      <td>0.000000</td>\n",
       "      <td>0.019526</td>\n",
       "      <td>0.019051</td>\n",
       "      <td>0.014994</td>\n",
       "      <td>0.019323</td>\n",
       "      <td>0.011362</td>\n",
       "      <td>0.000000</td>\n",
       "    </tr>\n",
       "    <tr>\n",
       "      <th>Wolf of Wall Street, The (2013)</th>\n",
       "      <td>0.023563</td>\n",
       "      <td>0.011768</td>\n",
       "      <td>1.000000</td>\n",
       "      <td>0.068831</td>\n",
       "      <td>0.055759</td>\n",
       "      <td>0.065361</td>\n",
       "      <td>0.015457</td>\n",
       "      <td>0.086253</td>\n",
       "      <td>0.057006</td>\n",
       "      <td>0.0</td>\n",
       "      <td>...</td>\n",
       "      <td>0.108595</td>\n",
       "      <td>0.029145</td>\n",
       "      <td>0.028741</td>\n",
       "      <td>0.037261</td>\n",
       "      <td>0.019567</td>\n",
       "      <td>0.052326</td>\n",
       "      <td>0.015025</td>\n",
       "      <td>0.019362</td>\n",
       "      <td>0.049395</td>\n",
       "      <td>0.050714</td>\n",
       "    </tr>\n",
       "    <tr>\n",
       "      <th>Departed, The (2006)</th>\n",
       "      <td>0.000000</td>\n",
       "      <td>0.015833</td>\n",
       "      <td>0.068831</td>\n",
       "      <td>1.000000</td>\n",
       "      <td>0.075019</td>\n",
       "      <td>0.087938</td>\n",
       "      <td>0.020796</td>\n",
       "      <td>0.116045</td>\n",
       "      <td>0.113876</td>\n",
       "      <td>0.0</td>\n",
       "      <td>...</td>\n",
       "      <td>0.032941</td>\n",
       "      <td>0.053513</td>\n",
       "      <td>0.038668</td>\n",
       "      <td>0.000000</td>\n",
       "      <td>0.026325</td>\n",
       "      <td>0.025684</td>\n",
       "      <td>0.020214</td>\n",
       "      <td>0.093465</td>\n",
       "      <td>0.106098</td>\n",
       "      <td>0.121121</td>\n",
       "    </tr>\n",
       "    <tr>\n",
       "      <th>Carlito's Way (1993)</th>\n",
       "      <td>0.000000</td>\n",
       "      <td>0.012826</td>\n",
       "      <td>0.055759</td>\n",
       "      <td>0.075019</td>\n",
       "      <td>1.000000</td>\n",
       "      <td>0.853094</td>\n",
       "      <td>0.016847</td>\n",
       "      <td>0.094007</td>\n",
       "      <td>0.062131</td>\n",
       "      <td>0.0</td>\n",
       "      <td>...</td>\n",
       "      <td>0.026685</td>\n",
       "      <td>0.025893</td>\n",
       "      <td>0.031325</td>\n",
       "      <td>0.000000</td>\n",
       "      <td>0.021326</td>\n",
       "      <td>0.020806</td>\n",
       "      <td>0.016375</td>\n",
       "      <td>0.021103</td>\n",
       "      <td>0.053836</td>\n",
       "      <td>0.055273</td>\n",
       "    </tr>\n",
       "  </tbody>\n",
       "</table>\n",
       "<p>5 rows × 1635 columns</p>\n",
       "</div>"
      ],
      "text/plain": [
       "title                            Step Brothers (2008)  Warrior (2011)  \\\n",
       "title                                                                   \n",
       "Step Brothers (2008)                         1.000000        0.000000   \n",
       "Warrior (2011)                               0.000000        1.000000   \n",
       "Wolf of Wall Street, The (2013)              0.023563        0.011768   \n",
       "Departed, The (2006)                         0.000000        0.015833   \n",
       "Carlito's Way (1993)                         0.000000        0.012826   \n",
       "\n",
       "title                            Wolf of Wall Street, The (2013)  \\\n",
       "title                                                              \n",
       "Step Brothers (2008)                                    0.023563   \n",
       "Warrior (2011)                                          0.011768   \n",
       "Wolf of Wall Street, The (2013)                         1.000000   \n",
       "Departed, The (2006)                                    0.068831   \n",
       "Carlito's Way (1993)                                    0.055759   \n",
       "\n",
       "title                            Departed, The (2006)  Carlito's Way (1993)  \\\n",
       "title                                                                         \n",
       "Step Brothers (2008)                         0.000000              0.000000   \n",
       "Warrior (2011)                               0.015833              0.012826   \n",
       "Wolf of Wall Street, The (2013)              0.068831              0.055759   \n",
       "Departed, The (2006)                         1.000000              0.075019   \n",
       "Carlito's Way (1993)                         0.075019              1.000000   \n",
       "\n",
       "title                            Godfather: Part II, The (1974)  \\\n",
       "title                                                             \n",
       "Step Brothers (2008)                                   0.000000   \n",
       "Warrior (2011)                                         0.015035   \n",
       "Wolf of Wall Street, The (2013)                        0.065361   \n",
       "Departed, The (2006)                                   0.087938   \n",
       "Carlito's Way (1993)                                   0.853094   \n",
       "\n",
       "title                            Pianist, The (2002)  \\\n",
       "title                                                  \n",
       "Step Brothers (2008)                        0.000000   \n",
       "Warrior (2011)                              0.217680   \n",
       "Wolf of Wall Street, The (2013)             0.015457   \n",
       "Departed, The (2006)                        0.020796   \n",
       "Carlito's Way (1993)                        0.016847   \n",
       "\n",
       "title                            Lucky Number Slevin (2006)  Fracture (2007)  \\\n",
       "title                                                                          \n",
       "Step Brothers (2008)                               0.000000         0.000000   \n",
       "Warrior (2011)                                     0.019840         0.021313   \n",
       "Wolf of Wall Street, The (2013)                    0.086253         0.057006   \n",
       "Departed, The (2006)                               0.116045         0.113876   \n",
       "Carlito's Way (1993)                               0.094007         0.062131   \n",
       "\n",
       "title                            Upside Down: The Creation Records Story (2010)  \\\n",
       "title                                                                             \n",
       "Step Brothers (2008)                                                        0.0   \n",
       "Warrior (2011)                                                              0.0   \n",
       "Wolf of Wall Street, The (2013)                                             0.0   \n",
       "Departed, The (2006)                                                        0.0   \n",
       "Carlito's Way (1993)                                                        0.0   \n",
       "\n",
       "title                            ...  Big Lebowski, The (1998)  \\\n",
       "title                            ...                             \n",
       "Step Brothers (2008)             ...                  0.238425   \n",
       "Warrior (2011)                   ...                  0.000000   \n",
       "Wolf of Wall Street, The (2013)  ...                  0.108595   \n",
       "Departed, The (2006)             ...                  0.032941   \n",
       "Carlito's Way (1993)             ...                  0.026685   \n",
       "\n",
       "title                            Fight Club (1999)  Shine (1996)  \\\n",
       "title                                                              \n",
       "Step Brothers (2008)                      0.006184      0.000000   \n",
       "Warrior (2011)                            0.003088      0.028682   \n",
       "Wolf of Wall Street, The (2013)           0.029145      0.028741   \n",
       "Departed, The (2006)                      0.053513      0.038668   \n",
       "Carlito's Way (1993)                      0.025893      0.031325   \n",
       "\n",
       "title                            Tom Jones (1963)  Gladiator (2000)  \\\n",
       "title                                                                 \n",
       "Step Brothers (2008)                     0.042767          0.000000   \n",
       "Warrior (2011)                           0.000000          0.019526   \n",
       "Wolf of Wall Street, The (2013)          0.037261          0.019567   \n",
       "Departed, The (2006)                     0.000000          0.026325   \n",
       "Carlito's Way (1993)                     0.000000          0.021326   \n",
       "\n",
       "title                            Staying Alive (1983)  \\\n",
       "title                                                   \n",
       "Step Brothers (2008)                         0.038146   \n",
       "Warrior (2011)                               0.019051   \n",
       "Wolf of Wall Street, The (2013)              0.052326   \n",
       "Departed, The (2006)                         0.025684   \n",
       "Carlito's Way (1993)                         0.020806   \n",
       "\n",
       "title                            Night of the Shooting Stars (Notte di San Lorenzo, La) (1982)  \\\n",
       "title                                                                                            \n",
       "Step Brothers (2008)                                                      0.000000               \n",
       "Warrior (2011)                                                            0.014994               \n",
       "Wolf of Wall Street, The (2013)                                           0.015025               \n",
       "Departed, The (2006)                                                      0.020214               \n",
       "Carlito's Way (1993)                                                      0.016375               \n",
       "\n",
       "title                            I'm Not Scared (Io non ho paura) (2003)  \\\n",
       "title                                                                      \n",
       "Step Brothers (2008)                                            0.000000   \n",
       "Warrior (2011)                                                  0.019323   \n",
       "Wolf of Wall Street, The (2013)                                 0.019362   \n",
       "Departed, The (2006)                                            0.093465   \n",
       "Carlito's Way (1993)                                            0.021103   \n",
       "\n",
       "title                            Hard-Boiled (Lat sau san taam) (1992)  \\\n",
       "title                                                                    \n",
       "Step Brothers (2008)                                          0.000000   \n",
       "Warrior (2011)                                                0.011362   \n",
       "Wolf of Wall Street, The (2013)                               0.049395   \n",
       "Departed, The (2006)                                          0.106098   \n",
       "Carlito's Way (1993)                                          0.053836   \n",
       "\n",
       "title                            John Wick: Chapter Two (2017)  \n",
       "title                                                           \n",
       "Step Brothers (2008)                                  0.000000  \n",
       "Warrior (2011)                                        0.000000  \n",
       "Wolf of Wall Street, The (2013)                       0.050714  \n",
       "Departed, The (2006)                                  0.121121  \n",
       "Carlito's Way (1993)                                  0.055273  \n",
       "\n",
       "[5 rows x 1635 columns]"
      ]
     },
     "execution_count": 41,
     "metadata": {},
     "output_type": "execute_result"
    }
   ],
   "source": [
    "cosine_sim_df.head(5)"
   ]
  },
  {
   "cell_type": "code",
   "execution_count": 42,
   "id": "e2ecb290",
   "metadata": {},
   "outputs": [],
   "source": [
    "def recommend_movies(title, cosine_sim_df=cosine_sim_df, top_n=5):\n",
    "    #Fungsi untuk mendapatkan rekomendasi top n dengan similiarity score tertinggi\n",
    "    if title not in cosine_sim_df.index:\n",
    "        return f\"Film '{title}' tidak ditemukan di dalam dataset.\"\n",
    "\n",
    "    sim_scores = cosine_sim_df.loc[title]\n",
    "\n",
    "    sim_scores = sim_scores.sort_values(ascending=False)\n",
    "    return sim_scores.iloc[1:top_n+1]"
   ]
  },
  {
   "cell_type": "code",
   "execution_count": 43,
   "id": "2397ab27",
   "metadata": {},
   "outputs": [],
   "source": [
    "cosine_sim_df.index = cosine_sim_df.index.astype(str)\n",
    "cosine_sim_df.columns = cosine_sim_df.columns.astype(str)"
   ]
  },
  {
   "cell_type": "code",
   "execution_count": 44,
   "id": "38277328",
   "metadata": {},
   "outputs": [],
   "source": [
    "# Mendapatkan rekomendasi film lain saat menyukai film 'Sweet Charity (1969)'\n",
    "recommendation = recommend_movies(\"Sweet Charity (1969)\", top_n=10)"
   ]
  },
  {
   "cell_type": "code",
   "execution_count": 45,
   "id": "4adb4e28",
   "metadata": {},
   "outputs": [
    {
     "data": {
      "text/plain": [
       "title\n",
       "Gigi (1958)                                                          0.898370\n",
       "Pretty Woman (1990)                                                  0.858421\n",
       "Risky Business (1983)                                                0.803002\n",
       "Midnight Cowboy (1969)                                               0.785842\n",
       "Lilya 4-Ever (Lilja 4-ever) (2002)                                   0.717695\n",
       "Mighty Aphrodite (1995)                                              0.621705\n",
       "Umbrellas of Cherbourg, The (Parapluies de Cherbourg, Les) (1964)    0.595976\n",
       "Lagaan: Once Upon a Time in India (2001)                             0.431744\n",
       "White Christmas (1954)                                               0.405152\n",
       "Gentlemen Prefer Blondes (1953)                                      0.394708\n",
       "Name: Sweet Charity (1969), dtype: float64"
      ]
     },
     "execution_count": 45,
     "metadata": {},
     "output_type": "execute_result"
    }
   ],
   "source": [
    "recommendation"
   ]
  },
  {
   "cell_type": "code",
   "execution_count": 46,
   "id": "c25e5233",
   "metadata": {},
   "outputs": [
    {
     "data": {
      "text/html": [
       "<div>\n",
       "<style scoped>\n",
       "    .dataframe tbody tr th:only-of-type {\n",
       "        vertical-align: middle;\n",
       "    }\n",
       "\n",
       "    .dataframe tbody tr th {\n",
       "        vertical-align: top;\n",
       "    }\n",
       "\n",
       "    .dataframe thead th {\n",
       "        text-align: right;\n",
       "    }\n",
       "</style>\n",
       "<table border=\"1\" class=\"dataframe\">\n",
       "  <thead>\n",
       "    <tr style=\"text-align: right;\">\n",
       "      <th></th>\n",
       "      <th>title</th>\n",
       "      <th>extracted_features</th>\n",
       "    </tr>\n",
       "  </thead>\n",
       "  <tbody>\n",
       "    <tr>\n",
       "      <th>1126</th>\n",
       "      <td>Sweet Charity (1969)</td>\n",
       "      <td>comedy drama musical romance prostitution</td>\n",
       "    </tr>\n",
       "  </tbody>\n",
       "</table>\n",
       "</div>"
      ],
      "text/plain": [
       "                     title                         extracted_features\n",
       "1126  Sweet Charity (1969)  comedy drama musical romance prostitution"
      ]
     },
     "execution_count": 46,
     "metadata": {},
     "output_type": "execute_result"
    }
   ],
   "source": [
    "df_final_content_based[df_final_content_based.title=='Sweet Charity (1969)'][['title', 'extracted_features']]"
   ]
  },
  {
   "cell_type": "code",
   "execution_count": 47,
   "id": "8a172c00",
   "metadata": {},
   "outputs": [],
   "source": [
    "def find_tag_genres(title):\n",
    "    result=df_final_content_based[df_final_content_based.title==title].drop_duplicates(subset='title', keep='first')\n",
    "    return (result[['title', 'extracted_features']])"
   ]
  },
  {
   "cell_type": "markdown",
   "id": "24d93349",
   "metadata": {},
   "source": [
    "Memberikan rekomendasi dalam bentuk dataframe"
   ]
  },
  {
   "cell_type": "code",
   "execution_count": 48,
   "id": "ffe91eda",
   "metadata": {},
   "outputs": [],
   "source": [
    "recommendation_df = pd.DataFrame()\n",
    "for p in recommendation.index:\n",
    "    df = find_tag_genres(p)\n",
    "    recommendation_df = pd.concat([recommendation_df, df], ignore_index=True)"
   ]
  },
  {
   "cell_type": "code",
   "execution_count": 49,
   "id": "a89a3b04",
   "metadata": {},
   "outputs": [
    {
     "data": {
      "text/html": [
       "<div>\n",
       "<style scoped>\n",
       "    .dataframe tbody tr th:only-of-type {\n",
       "        vertical-align: middle;\n",
       "    }\n",
       "\n",
       "    .dataframe tbody tr th {\n",
       "        vertical-align: top;\n",
       "    }\n",
       "\n",
       "    .dataframe thead th {\n",
       "        text-align: right;\n",
       "    }\n",
       "</style>\n",
       "<table border=\"1\" class=\"dataframe\">\n",
       "  <thead>\n",
       "    <tr style=\"text-align: right;\">\n",
       "      <th></th>\n",
       "      <th>title</th>\n",
       "      <th>extracted_features</th>\n",
       "    </tr>\n",
       "  </thead>\n",
       "  <tbody>\n",
       "    <tr>\n",
       "      <th>0</th>\n",
       "      <td>Gigi (1958)</td>\n",
       "      <td>musical prostitution</td>\n",
       "    </tr>\n",
       "    <tr>\n",
       "      <th>1</th>\n",
       "      <td>Pretty Woman (1990)</td>\n",
       "      <td>comedy romance prostitution</td>\n",
       "    </tr>\n",
       "    <tr>\n",
       "      <th>2</th>\n",
       "      <td>Risky Business (1983)</td>\n",
       "      <td>comedy prostitution</td>\n",
       "    </tr>\n",
       "    <tr>\n",
       "      <th>3</th>\n",
       "      <td>Midnight Cowboy (1969)</td>\n",
       "      <td>drama prostitution</td>\n",
       "    </tr>\n",
       "    <tr>\n",
       "      <th>4</th>\n",
       "      <td>Lilya 4-Ever (Lilja 4-ever) (2002)</td>\n",
       "      <td>crime drama prostitution</td>\n",
       "    </tr>\n",
       "    <tr>\n",
       "      <th>5</th>\n",
       "      <td>Mighty Aphrodite (1995)</td>\n",
       "      <td>comedy drama romance prostitution adoption</td>\n",
       "    </tr>\n",
       "    <tr>\n",
       "      <th>6</th>\n",
       "      <td>Umbrellas of Cherbourg, The (Parapluies de Che...</td>\n",
       "      <td>drama musical romance made me cry</td>\n",
       "    </tr>\n",
       "    <tr>\n",
       "      <th>7</th>\n",
       "      <td>Lagaan: Once Upon a Time in India (2001)</td>\n",
       "      <td>comedy drama musical romance india</td>\n",
       "    </tr>\n",
       "    <tr>\n",
       "      <th>8</th>\n",
       "      <td>White Christmas (1954)</td>\n",
       "      <td>comedy musical romance christmas</td>\n",
       "    </tr>\n",
       "    <tr>\n",
       "      <th>9</th>\n",
       "      <td>Gentlemen Prefer Blondes (1953)</td>\n",
       "      <td>comedy musical romance in netflix queue</td>\n",
       "    </tr>\n",
       "  </tbody>\n",
       "</table>\n",
       "</div>"
      ],
      "text/plain": [
       "                                               title  \\\n",
       "0                                        Gigi (1958)   \n",
       "1                                Pretty Woman (1990)   \n",
       "2                              Risky Business (1983)   \n",
       "3                             Midnight Cowboy (1969)   \n",
       "4                 Lilya 4-Ever (Lilja 4-ever) (2002)   \n",
       "5                            Mighty Aphrodite (1995)   \n",
       "6  Umbrellas of Cherbourg, The (Parapluies de Che...   \n",
       "7           Lagaan: Once Upon a Time in India (2001)   \n",
       "8                             White Christmas (1954)   \n",
       "9                    Gentlemen Prefer Blondes (1953)   \n",
       "\n",
       "                           extracted_features  \n",
       "0                        musical prostitution  \n",
       "1                 comedy romance prostitution  \n",
       "2                         comedy prostitution  \n",
       "3                          drama prostitution  \n",
       "4                    crime drama prostitution  \n",
       "5  comedy drama romance prostitution adoption  \n",
       "6           drama musical romance made me cry  \n",
       "7          comedy drama musical romance india  \n",
       "8            comedy musical romance christmas  \n",
       "9     comedy musical romance in netflix queue  "
      ]
     },
     "execution_count": 49,
     "metadata": {},
     "output_type": "execute_result"
    }
   ],
   "source": [
    "recommendation_df"
   ]
  },
  {
   "cell_type": "markdown",
   "id": "af145439",
   "metadata": {},
   "source": [
    "### Evaluasi dengan Precision@10"
   ]
  },
  {
   "cell_type": "markdown",
   "id": "2420ed9c",
   "metadata": {},
   "source": [
    "Kita mengambil sampel untuk film \"Sweet Charity (1969)\" dengan genre+tag : comedy drama musical romance prostitution\n",
    "Kita menentukan rekomendasi relevan dengan ketentuan :\n",
    "Apabila terdapat minimal satu bagian dari genre atau tag yang sesuai, maka dianggap relevan.\n",
    "Sehingga, utk K=10 rekomendasi, diperoleh 10 rekomendasi relevan."
   ]
  },
  {
   "cell_type": "code",
   "execution_count": 50,
   "id": "cf623e9d",
   "metadata": {},
   "outputs": [
    {
     "name": "stdout",
     "output_type": "stream",
     "text": [
      "precision@10 =  1.0\n"
     ]
    }
   ],
   "source": [
    "precision10 = 10/10\n",
    "print(f'precision@10 = ', precision10)"
   ]
  },
  {
   "cell_type": "markdown",
   "id": "6ea6826d",
   "metadata": {},
   "source": [
    "Diperoleh precision@10, artinya dari 10 rekomendasi yang diberikan, terdapat 10 rekomendasi yang relevan/sesuai."
   ]
  },
  {
   "cell_type": "markdown",
   "id": "de8a203b",
   "metadata": {},
   "source": [
    "# Model Development Collaborative Filtering"
   ]
  },
  {
   "cell_type": "code",
   "execution_count": 94,
   "id": "6db8d622",
   "metadata": {},
   "outputs": [
    {
     "name": "stdout",
     "output_type": "stream",
     "text": [
      "610\n",
      "9719\n"
     ]
    }
   ],
   "source": [
    "num_users = len(user_to_user_encoded)\n",
    "print(num_users)\n",
    " \n",
    "num_movies = len(movie_encoded_to_movie)\n",
    "print(num_movies)"
   ]
  },
  {
   "cell_type": "markdown",
   "id": "9a85084e",
   "metadata": {},
   "source": [
    "Pembangunan Arsitektur Model"
   ]
  },
  {
   "cell_type": "code",
   "execution_count": 95,
   "id": "3e63c0ec",
   "metadata": {},
   "outputs": [],
   "source": [
    "import tensorflow as tf\n",
    "from tensorflow import keras\n",
    "from tensorflow.keras import layers\n",
    "tf.random.set_seed(SEED)\n",
    "class RecommenderNet(tf.keras.Model):\n",
    " \n",
    "  # Inisialisasi model\n",
    "  def __init__(self, num_users, num_movies, embedding_size, **kwargs):\n",
    "    super(RecommenderNet, self).__init__(**kwargs)\n",
    "    \n",
    "    self.num_users = num_users\n",
    "    self.num_movies = num_movies\n",
    "    self.embedding_size = embedding_size\n",
    "\n",
    "    # Layer embedding untuk user\n",
    "    self.user_embedding = layers.Embedding(\n",
    "        input_dim=num_users,\n",
    "        output_dim=embedding_size,\n",
    "        embeddings_initializer='he_normal',\n",
    "        embeddings_regularizer=keras.regularizers.l2(1e-4)\n",
    "    )\n",
    "\n",
    "    # Layer bias untuk user\n",
    "    self.user_bias = layers.Embedding(\n",
    "        input_dim=num_users,\n",
    "        output_dim=1\n",
    "    )\n",
    "\n",
    "    # Layer embedding untuk film\n",
    "    self.movies_embedding = layers.Embedding(\n",
    "        input_dim=num_movies,\n",
    "        output_dim=embedding_size,\n",
    "        embeddings_initializer='he_normal',\n",
    "        embeddings_regularizer=keras.regularizers.l2(1e-4)\n",
    "    )\n",
    "\n",
    "    # Layer bias untuk film\n",
    "    self.movies_bias = layers.Embedding(\n",
    "        input_dim=num_movies,\n",
    "        output_dim=1\n",
    "    )\n",
    " \n",
    "  # Proses forward (prediksi)\n",
    "  def call(self, inputs):\n",
    "    # Ambil vektor embedding dan bias berdasarkan user dan film\n",
    "    user_vector = self.user_embedding(inputs[:, 0])       # vektor user\n",
    "    user_bias = self.user_bias(inputs[:, 0])              # bias user\n",
    "    movies_vector = self.movies_embedding(inputs[:, 1])   # vektor film\n",
    "    movies_bias = self.movies_bias(inputs[:, 1])          # bias film\n",
    "\n",
    "    # Hitung kecocokan (dot product) antara user dan film\n",
    "    dot_user_movies = tf.tensordot(user_vector, movies_vector, axes=2)\n",
    "\n",
    "    # Tambahkan bias\n",
    "    x = dot_user_movies + user_bias + movies_bias\n",
    "    \n",
    "    # Aktivasi sigmoid untuk mengubah output ke rentang [0, 1]\n",
    "    return tf.nn.sigmoid(x)\n",
    "  \n",
    "model = RecommenderNet(num_users, num_movies, 30) # inisialisasi model\n",
    " \n",
    "# model compile\n",
    "model.compile(\n",
    "    loss=tf.keras.losses.BinaryCrossentropy(),\n",
    "    optimizer = keras.optimizers.Adam(learning_rate=0.001),\n",
    "    metrics=[tf.keras.metrics.RootMeanSquaredError()]\n",
    ")"
   ]
  },
  {
   "cell_type": "code",
   "execution_count": 96,
   "id": "b01e9dd6",
   "metadata": {},
   "outputs": [
    {
     "name": "stdout",
     "output_type": "stream",
     "text": [
      "Epoch 1/100\n",
      "\u001b[1m2521/2521\u001b[0m \u001b[32m━━━━━━━━━━━━━━━━━━━━\u001b[0m\u001b[37m\u001b[0m \u001b[1m6s\u001b[0m 2ms/step - loss: 0.6596 - root_mean_squared_error: 0.2498 - val_loss: 0.6218 - val_root_mean_squared_error: 0.2100\n",
      "Epoch 2/100\n",
      "\u001b[1m2521/2521\u001b[0m \u001b[32m━━━━━━━━━━━━━━━━━━━━\u001b[0m\u001b[37m\u001b[0m \u001b[1m5s\u001b[0m 2ms/step - loss: 0.6163 - root_mean_squared_error: 0.2058 - val_loss: 0.6139 - val_root_mean_squared_error: 0.2022\n",
      "Epoch 3/100\n",
      "\u001b[1m2521/2521\u001b[0m \u001b[32m━━━━━━━━━━━━━━━━━━━━\u001b[0m\u001b[37m\u001b[0m \u001b[1m5s\u001b[0m 2ms/step - loss: 0.6079 - root_mean_squared_error: 0.1969 - val_loss: 0.6100 - val_root_mean_squared_error: 0.1985\n",
      "Epoch 4/100\n",
      "\u001b[1m2521/2521\u001b[0m \u001b[32m━━━━━━━━━━━━━━━━━━━━\u001b[0m\u001b[37m\u001b[0m \u001b[1m5s\u001b[0m 2ms/step - loss: 0.6027 - root_mean_squared_error: 0.1918 - val_loss: 0.6077 - val_root_mean_squared_error: 0.1966\n",
      "Epoch 5/100\n",
      "\u001b[1m2521/2521\u001b[0m \u001b[32m━━━━━━━━━━━━━━━━━━━━\u001b[0m\u001b[37m\u001b[0m \u001b[1m5s\u001b[0m 2ms/step - loss: 0.5992 - root_mean_squared_error: 0.1885 - val_loss: 0.6062 - val_root_mean_squared_error: 0.1955\n",
      "Epoch 6/100\n",
      "\u001b[1m2521/2521\u001b[0m \u001b[32m━━━━━━━━━━━━━━━━━━━━\u001b[0m\u001b[37m\u001b[0m \u001b[1m5s\u001b[0m 2ms/step - loss: 0.5966 - root_mean_squared_error: 0.1861 - val_loss: 0.6051 - val_root_mean_squared_error: 0.1948\n",
      "Epoch 7/100\n",
      "\u001b[1m2521/2521\u001b[0m \u001b[32m━━━━━━━━━━━━━━━━━━━━\u001b[0m\u001b[37m\u001b[0m \u001b[1m5s\u001b[0m 2ms/step - loss: 0.5946 - root_mean_squared_error: 0.1842 - val_loss: 0.6043 - val_root_mean_squared_error: 0.1944\n",
      "Epoch 8/100\n",
      "\u001b[1m2521/2521\u001b[0m \u001b[32m━━━━━━━━━━━━━━━━━━━━\u001b[0m\u001b[37m\u001b[0m \u001b[1m5s\u001b[0m 2ms/step - loss: 0.5930 - root_mean_squared_error: 0.1827 - val_loss: 0.6037 - val_root_mean_squared_error: 0.1941\n",
      "Epoch 9/100\n",
      "\u001b[1m2521/2521\u001b[0m \u001b[32m━━━━━━━━━━━━━━━━━━━━\u001b[0m\u001b[37m\u001b[0m \u001b[1m5s\u001b[0m 2ms/step - loss: 0.5916 - root_mean_squared_error: 0.1815 - val_loss: 0.6033 - val_root_mean_squared_error: 0.1939\n",
      "Epoch 10/100\n",
      "\u001b[1m2521/2521\u001b[0m \u001b[32m━━━━━━━━━━━━━━━━━━━━\u001b[0m\u001b[37m\u001b[0m \u001b[1m5s\u001b[0m 2ms/step - loss: 0.5905 - root_mean_squared_error: 0.1805 - val_loss: 0.6029 - val_root_mean_squared_error: 0.1937\n",
      "Epoch 11/100\n",
      "\u001b[1m2521/2521\u001b[0m \u001b[32m━━━━━━━━━━━━━━━━━━━━\u001b[0m\u001b[37m\u001b[0m \u001b[1m5s\u001b[0m 2ms/step - loss: 0.5896 - root_mean_squared_error: 0.1796 - val_loss: 0.6027 - val_root_mean_squared_error: 0.1937\n",
      "Epoch 12/100\n",
      "\u001b[1m2521/2521\u001b[0m \u001b[32m━━━━━━━━━━━━━━━━━━━━\u001b[0m\u001b[37m\u001b[0m \u001b[1m5s\u001b[0m 2ms/step - loss: 0.5888 - root_mean_squared_error: 0.1789 - val_loss: 0.6024 - val_root_mean_squared_error: 0.1936\n",
      "Epoch 13/100\n",
      "\u001b[1m2521/2521\u001b[0m \u001b[32m━━━━━━━━━━━━━━━━━━━━\u001b[0m\u001b[37m\u001b[0m \u001b[1m5s\u001b[0m 2ms/step - loss: 0.5881 - root_mean_squared_error: 0.1783 - val_loss: 0.6023 - val_root_mean_squared_error: 0.1936\n",
      "Epoch 14/100\n",
      "\u001b[1m2521/2521\u001b[0m \u001b[32m━━━━━━━━━━━━━━━━━━━━\u001b[0m\u001b[37m\u001b[0m \u001b[1m5s\u001b[0m 2ms/step - loss: 0.5875 - root_mean_squared_error: 0.1778 - val_loss: 0.6021 - val_root_mean_squared_error: 0.1936\n",
      "Epoch 15/100\n",
      "\u001b[1m2521/2521\u001b[0m \u001b[32m━━━━━━━━━━━━━━━━━━━━\u001b[0m\u001b[37m\u001b[0m \u001b[1m5s\u001b[0m 2ms/step - loss: 0.5870 - root_mean_squared_error: 0.1773 - val_loss: 0.6020 - val_root_mean_squared_error: 0.1937\n",
      "Epoch 16/100\n",
      "\u001b[1m2521/2521\u001b[0m \u001b[32m━━━━━━━━━━━━━━━━━━━━\u001b[0m\u001b[37m\u001b[0m \u001b[1m5s\u001b[0m 2ms/step - loss: 0.5865 - root_mean_squared_error: 0.1769 - val_loss: 0.6019 - val_root_mean_squared_error: 0.1937\n",
      "Epoch 17/100\n",
      "\u001b[1m2521/2521\u001b[0m \u001b[32m━━━━━━━━━━━━━━━━━━━━\u001b[0m\u001b[37m\u001b[0m \u001b[1m5s\u001b[0m 2ms/step - loss: 0.5861 - root_mean_squared_error: 0.1766 - val_loss: 0.6019 - val_root_mean_squared_error: 0.1937\n",
      "Epoch 18/100\n",
      "\u001b[1m2521/2521\u001b[0m \u001b[32m━━━━━━━━━━━━━━━━━━━━\u001b[0m\u001b[37m\u001b[0m \u001b[1m5s\u001b[0m 2ms/step - loss: 0.5857 - root_mean_squared_error: 0.1763 - val_loss: 0.6019 - val_root_mean_squared_error: 0.1938\n",
      "Epoch 19/100\n",
      "\u001b[1m2521/2521\u001b[0m \u001b[32m━━━━━━━━━━━━━━━━━━━━\u001b[0m\u001b[37m\u001b[0m \u001b[1m5s\u001b[0m 2ms/step - loss: 0.5854 - root_mean_squared_error: 0.1760 - val_loss: 0.6019 - val_root_mean_squared_error: 0.1938\n",
      "Epoch 20/100\n",
      "\u001b[1m2521/2521\u001b[0m \u001b[32m━━━━━━━━━━━━━━━━━━━━\u001b[0m\u001b[37m\u001b[0m \u001b[1m5s\u001b[0m 2ms/step - loss: 0.5852 - root_mean_squared_error: 0.1758 - val_loss: 0.6020 - val_root_mean_squared_error: 0.1939\n",
      "Epoch 21/100\n",
      "\u001b[1m2521/2521\u001b[0m \u001b[32m━━━━━━━━━━━━━━━━━━━━\u001b[0m\u001b[37m\u001b[0m \u001b[1m5s\u001b[0m 2ms/step - loss: 0.5850 - root_mean_squared_error: 0.1756 - val_loss: 0.6020 - val_root_mean_squared_error: 0.1939\n",
      "Epoch 22/100\n",
      "\u001b[1m2521/2521\u001b[0m \u001b[32m━━━━━━━━━━━━━━━━━━━━\u001b[0m\u001b[37m\u001b[0m \u001b[1m5s\u001b[0m 2ms/step - loss: 0.5848 - root_mean_squared_error: 0.1754 - val_loss: 0.6020 - val_root_mean_squared_error: 0.1940\n",
      "Epoch 23/100\n",
      "\u001b[1m2521/2521\u001b[0m \u001b[32m━━━━━━━━━━━━━━━━━━━━\u001b[0m\u001b[37m\u001b[0m \u001b[1m5s\u001b[0m 2ms/step - loss: 0.5846 - root_mean_squared_error: 0.1752 - val_loss: 0.6021 - val_root_mean_squared_error: 0.1941\n"
     ]
    }
   ],
   "source": [
    "callbacks = [\n",
    "    tf.keras.callbacks.EarlyStopping(\n",
    "        monitor='val_root_mean_squared_error',\n",
    "        patience=10, \n",
    "        restore_best_weights=True\n",
    "    )\n",
    "] # callbacks untuk menghentikan training saat tidak ada perubahan signifikan terhadap validation rmse\n",
    "\n",
    "history = model.fit(\n",
    "    x=x_train,\n",
    "    y=y_train,\n",
    "    batch_size=32, \n",
    "    epochs=100,    # Set ke angka yang cukup besar, early stopping akan menghentikan\n",
    "    verbose=1,\n",
    "    validation_data=(x_val, y_val),\n",
    "    callbacks=callbacks\n",
    ")"
   ]
  },
  {
   "cell_type": "code",
   "execution_count": 97,
   "id": "85509aec",
   "metadata": {},
   "outputs": [],
   "source": [
    "# Mendapatkan rekomendasi untuk user dengan nomor unik 483\n",
    "user_id = df_final_collaborative.userId.sample(1, random_state=42).iloc[0]"
   ]
  },
  {
   "cell_type": "code",
   "execution_count": 98,
   "id": "65d51ab4",
   "metadata": {},
   "outputs": [],
   "source": [
    "# Mengambil film yang belum ditonton oleh user 483\n",
    "movies_watched = df_final2[df_final2.userId == user_id]\n",
    "movies_not_watched = df_final2[~df_final2['movieId'].isin(movies_watched.movieId.values)]['movieId']\n",
    "movies_not_watched = list(\n",
    "    set(movies_not_watched)\n",
    "    .intersection(set(movie_to_movie_encoded.keys()))\n",
    ")"
   ]
  },
  {
   "cell_type": "code",
   "execution_count": 99,
   "id": "339a95b9",
   "metadata": {},
   "outputs": [],
   "source": [
    "movies_not_watched = [[movie_to_movie_encoded.get(x)] for x in movies_not_watched]\n",
    "user_encoder = user_to_user_encoded.get(user_id)"
   ]
  },
  {
   "cell_type": "code",
   "execution_count": 100,
   "id": "54e5cbaa",
   "metadata": {},
   "outputs": [],
   "source": [
    "user_movie_array = np.hstack(\n",
    "    ([[user_encoder]] * len(movies_not_watched), movies_not_watched)\n",
    ")"
   ]
  },
  {
   "cell_type": "code",
   "execution_count": 101,
   "id": "30af00f6",
   "metadata": {},
   "outputs": [
    {
     "name": "stdout",
     "output_type": "stream",
     "text": [
      "\u001b[1m281/281\u001b[0m \u001b[32m━━━━━━━━━━━━━━━━━━━━\u001b[0m\u001b[37m\u001b[0m \u001b[1m0s\u001b[0m 859us/step\n"
     ]
    }
   ],
   "source": [
    "ratings = model.predict(user_movie_array).flatten() #melakukan prediksi rating yang dinormalisasi"
   ]
  },
  {
   "cell_type": "code",
   "execution_count": 102,
   "id": "a17bb281",
   "metadata": {},
   "outputs": [],
   "source": [
    "top_ratings_indices = ratings.argsort()[-10:][::-1] # mengambil film dengan nilai prediksi rating tertinggi"
   ]
  },
  {
   "cell_type": "code",
   "execution_count": 103,
   "id": "a3d2718d",
   "metadata": {},
   "outputs": [
    {
     "data": {
      "text/plain": [
       "array([ 846,  591,  799, 2616,  906,  941,  716,  691,  922,  909],\n",
       "      dtype=int64)"
      ]
     },
     "execution_count": 103,
     "metadata": {},
     "output_type": "execute_result"
    }
   ],
   "source": [
    "top_ratings_indices"
   ]
  },
  {
   "cell_type": "code",
   "execution_count": 104,
   "id": "532e8a3a",
   "metadata": {},
   "outputs": [],
   "source": [
    "recommended_movies_ids = [\n",
    "    movie_encoded_to_movie.get(movies_not_watched[x][0]) for x in top_ratings_indices\n",
    "]"
   ]
  },
  {
   "cell_type": "code",
   "execution_count": 105,
   "id": "24c17a7f",
   "metadata": {},
   "outputs": [
    {
     "data": {
      "text/plain": [
       "[1104, 750, 1041, 3451, 1204, 1248, 933, 904, 1225, 1208]"
      ]
     },
     "execution_count": 105,
     "metadata": {},
     "output_type": "execute_result"
    }
   ],
   "source": [
    "recommended_movies_ids"
   ]
  },
  {
   "cell_type": "code",
   "execution_count": 106,
   "id": "c3be6405",
   "metadata": {},
   "outputs": [
    {
     "name": "stdout",
     "output_type": "stream",
     "text": [
      "Showing recommendations for users: 483\n",
      "===========================\n",
      "Movies with high ratings from user\n",
      "--------------------------------\n",
      "Apartment, The (1960) : Comedy|Drama|Romance 5.0\n",
      "12 Angry Men (1957) : Drama 5.0\n",
      "Spirited Away (Sen to Chihiro no kamikakushi) (2001) : Adventure|Animation|Fantasy 5.0\n",
      "My Neighbor Totoro (Tonari no Totoro) (1988) : Animation|Children|Drama|Fantasy 5.0\n",
      "Chorus, The (Choristes, Les) (2004) : Drama 5.0\n",
      "--------------------------------\n",
      "Top 10 movie recommendation\n",
      "--------------------------------\n",
      "Lawrence of Arabia (1962) : Adventure|Drama|War\n",
      "Amadeus (1984) : Drama\n",
      "Guess Who's Coming to Dinner (1967) : Drama\n",
      "Dr. Strangelove or: How I Learned to Stop Worrying and Love the Bomb (1964) : Comedy|War\n",
      "Apocalypse Now (1979) : Action|Drama|War\n",
      "Rear Window (1954) : Mystery|Thriller\n",
      "Streetcar Named Desire, A (1951) : Drama\n",
      "To Catch a Thief (1955) : Crime|Mystery|Romance|Thriller\n",
      "Secrets & Lies (1996) : Drama\n",
      "Touch of Evil (1958) : Crime|Film-Noir|Thriller\n"
     ]
    }
   ],
   "source": [
    "print('Showing recommendations for users: {}'.format(user_id))\n",
    "print('===' * 9)\n",
    "print('Movies with high ratings from user')\n",
    "print('----' * 8)\n",
    "\n",
    "top_movie_user = (\n",
    "    movies_watched.sort_values(\n",
    "        by = 'rating',\n",
    "        ascending=False\n",
    "    )\n",
    "    .head(5)\n",
    "    .movieId.unique()\n",
    ")\n",
    "movie_df_rows = movies_watched[movies_watched['movieId'].isin(top_movie_user)]\n",
    "for row in movie_df_rows.itertuples():\n",
    "    print(row.title, ':', row.genres, row.rating)\n",
    "    \n",
    "print('----' * 8)\n",
    "print('Top 10 movie recommendation')\n",
    "print('----' * 8)\n",
    " \n",
    "recommended_movie = df_final_collaborative[df_final_collaborative['movieId'].isin(recommended_movies_ids)].drop_duplicates(subset=['title'])\n",
    "for row in recommended_movie.itertuples():\n",
    "    print(row.title, ':', row.genres)"
   ]
  },
  {
   "cell_type": "markdown",
   "id": "054604bb",
   "metadata": {},
   "source": [
    "### Evaluation dengan RMSE"
   ]
  },
  {
   "cell_type": "code",
   "execution_count": 107,
   "id": "3c0dafbf",
   "metadata": {},
   "outputs": [
    {
     "data": {
      "image/png": "[encoded data removed]",
      "text/plain": [
       "<Figure size 640x480 with 1 Axes>"
      ]
     },
     "metadata": {},
     "output_type": "display_data"
    }
   ],
   "source": [
    "plt.plot(history.history['root_mean_squared_error'], label='training')\n",
    "plt.plot(history.history['val_root_mean_squared_error'], label='validation')\n",
    "plt.legend()\n",
    "plt.title('RMSE Training vs Validation')\n",
    "plt.xlabel('Epoch')\n",
    "plt.ylabel(('RMSE'))\n",
    "plt.grid(True)\n",
    "plt.show()"
   ]
  },
  {
   "cell_type": "code",
   "execution_count": 108,
   "id": "6ee75fbd",
   "metadata": {},
   "outputs": [
    {
     "name": "stdout",
     "output_type": "stream",
     "text": [
      "\u001b[1m631/631\u001b[0m \u001b[32m━━━━━━━━━━━━━━━━━━━━\u001b[0m\u001b[37m\u001b[0m \u001b[1m1s\u001b[0m 716us/step\n",
      "RMSE: 0.19362283014672288\n"
     ]
    }
   ],
   "source": [
    "y_true = y_val\n",
    "y_pred = model.predict(x_val)\n",
    "\n",
    "rmse = np.sqrt(mean_squared_error(y_true, y_pred))\n",
    "print(\"RMSE:\", rmse)"
   ]
  },
  {
   "cell_type": "markdown",
   "id": "f87125cc",
   "metadata": {},
   "source": [
    "Berdasarkan grafik RMSE, terlihat bahwa ada indikasi overfitting yang bisa jadi disebabkan oleh kurang banyaknya data yang diperoleh.\n",
    "Nilai RMSE sangat baik yaitu sekitar 0.1936, untuk skala 0-1 rating yang dinormalisasi."
   ]
  }
 ],
 "metadata": {
  "kernelspec": {
   "display_name": "waruds",
   "language": "python",
   "name": "python3"
  },
  "language_info": {
   "codemirror_mode": {
    "name": "ipython",
    "version": 3
   },
   "file_extension": ".py",
   "mimetype": "text/x-python",
   "name": "python",
   "nbconvert_exporter": "python",
   "pygments_lexer": "ipython3",
   "version": "3.9.21"
  }
 },
 "nbformat": 4,
 "nbformat_minor": 5
}
